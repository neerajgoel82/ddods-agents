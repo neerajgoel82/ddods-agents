{
 "cells": [
  {
   "cell_type": "markdown",
   "id": "800f7c9c",
   "metadata": {},
   "source": [
    "# Daily-Dose-of-Data-Science\n",
    "\n",
    "[Daily Dose of Data Science](https://avichawla.substack.com) is a publication on Substack that brings together intriguing frameworks, libraries, technologies, and tips that make the life cycle of a Data Science project effortless. \n",
    "\n",
    "Author: Avi Chawla\n",
    "\n",
    "[Medium](https://medium.com/@avi_chawla) | [LinkedIn](https://www.linkedin.com/in/avi-chawla/)"
   ]
  },
  {
   "cell_type": "markdown",
   "id": "56b0ee4d",
   "metadata": {},
   "source": [
    "# Find Unused Python Code With Ease\n",
    "\n",
    "\n",
    "Post Link: [Substack](https://avichawla.substack.com/p/find-unused-python-code-with-ease)\n",
    "\n",
    "LinkedIn Post: [LinkedIn](https://www.linkedin.com/posts/avi-chawla_datascience-python-activity-6984417889764184064-7c7u?utm_source=share&utm_medium=member_desktop)"
   ]
  },
  {
   "cell_type": "code",
   "execution_count": 1,
   "id": "629d9400",
   "metadata": {
    "ExecuteTime": {
     "end_time": "2022-12-01T19:00:08.797679Z",
     "start_time": "2022-12-01T19:00:05.397007Z"
    }
   },
   "outputs": [
    {
     "name": "stdout",
     "output_type": "stream",
     "text": [
      "Requirement already satisfied: vulture in /Users/avi/anaconda3/lib/python3.9/site-packages (2.6)\r\n",
      "Requirement already satisfied: toml in /Users/avi/anaconda3/lib/python3.9/site-packages (from vulture) (0.10.2)\r\n"
     ]
    }
   ],
   "source": [
    "!pip install vulture"
   ]
  },
  {
   "cell_type": "code",
   "execution_count": 2,
   "id": "62efe508",
   "metadata": {
    "ExecuteTime": {
     "end_time": "2022-12-01T19:00:12.861067Z",
     "start_time": "2022-12-01T19:00:12.849850Z"
    }
   },
   "outputs": [],
   "source": [
    "import dead_code"
   ]
  },
  {
   "cell_type": "code",
   "execution_count": 3,
   "id": "858be537",
   "metadata": {
    "ExecuteTime": {
     "end_time": "2022-12-01T19:00:22.895637Z",
     "start_time": "2022-12-01T19:00:22.632254Z"
    }
   },
   "outputs": [
    {
     "name": "stdout",
     "output_type": "stream",
     "text": [
      "dead_code.py:1: unused function 'sum_func' (60% confidence)\r\n",
      "dead_code.py:4: unused function 'max_func' (60% confidence)\r\n",
      "dead_code.py:9: unused variable 'flag' (60% confidence)\r\n"
     ]
    }
   ],
   "source": [
    "!vulture dead_code.py"
   ]
  },
  {
   "cell_type": "code",
   "execution_count": null,
   "id": "3181bde9",
   "metadata": {},
   "outputs": [],
   "source": []
  }
 ],
 "metadata": {
  "kernelspec": {
   "display_name": "Python 3 (ipykernel)",
   "language": "python",
   "name": "python3"
  },
  "language_info": {
   "codemirror_mode": {
    "name": "ipython",
    "version": 3
   },
   "file_extension": ".py",
   "mimetype": "text/x-python",
   "name": "python",
   "nbconvert_exporter": "python",
   "pygments_lexer": "ipython3",
   "version": "3.9.12"
  }
 },
 "nbformat": 4,
 "nbformat_minor": 5
}

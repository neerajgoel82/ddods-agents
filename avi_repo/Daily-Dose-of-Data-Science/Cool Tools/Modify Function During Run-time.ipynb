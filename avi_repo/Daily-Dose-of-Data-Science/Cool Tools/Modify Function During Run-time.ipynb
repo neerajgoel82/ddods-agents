{
 "cells": [
  {
   "cell_type": "markdown",
   "id": "049c9477",
   "metadata": {},
   "source": [
    "# Daily-Dose-of-Data-Science\n",
    "\n",
    "\n",
    "[Daily Dose of Data Science](https://avichawla.substack.com) is a publication on Substack that brings together intriguing frameworks, libraries, technologies, and tips that make the life cycle of a Data Science project effortless. \n",
    "\n",
    "Author: Avi Chawla\n",
    "\n",
    "[Medium](https://medium.com/@avi_chawla) | [LinkedIn](https://www.linkedin.com/in/avi-chawla/)"
   ]
  },
  {
   "cell_type": "markdown",
   "id": "c1a90e3e",
   "metadata": {},
   "source": [
    "# Modify Python Code During Run-Time\n",
    "\n",
    "Post Link: [Substack](https://avichawla.substack.com/p/modify-a-function-during-run-time)\n",
    "\n",
    "LinkedIn Post: [LinkedIn](https://www.linkedin.com/posts/avi-chawla_python-datascience-machinelearning-activity-6987719196998578177-Zfy3?utm_source=share&utm_medium=member_desktop)"
   ]
  },
  {
   "cell_type": "code",
   "execution_count": 1,
   "id": "43730220",
   "metadata": {
    "ExecuteTime": {
     "end_time": "2022-12-01T19:52:05.744644Z",
     "start_time": "2022-12-01T19:52:05.668948Z"
    }
   },
   "outputs": [
    {
     "data": {
      "text/html": [
       "<video src=\"../_Extras/reloading video function.mp4\" controls  >\n",
       "      Your browser does not support the <code>video</code> element.\n",
       "    </video>"
      ],
      "text/plain": [
       "<IPython.core.display.Video object>"
      ]
     },
     "execution_count": 1,
     "metadata": {},
     "output_type": "execute_result"
    }
   ],
   "source": [
    "from IPython.display import Video\n",
    "\n",
    "Video(\"../_Extras/reloading video function.mp4\")"
   ]
  },
  {
   "cell_type": "markdown",
   "id": "d94ba0ce",
   "metadata": {},
   "source": [
    "### Read More In My Medium Article: [Introducing Reloading: Never Re-Run Your Python Code Again To Print More Details](https://medium.com/@avi_chawla/374bee33473d)"
   ]
  },
  {
   "cell_type": "code",
   "execution_count": null,
   "id": "dd432d89",
   "metadata": {},
   "outputs": [],
   "source": []
  }
 ],
 "metadata": {
  "kernelspec": {
   "display_name": "Python 3 (ipykernel)",
   "language": "python",
   "name": "python3"
  },
  "language_info": {
   "codemirror_mode": {
    "name": "ipython",
    "version": 3
   },
   "file_extension": ".py",
   "mimetype": "text/x-python",
   "name": "python",
   "nbconvert_exporter": "python",
   "pygments_lexer": "ipython3",
   "version": "3.9.12"
  }
 },
 "nbformat": 4,
 "nbformat_minor": 5
}

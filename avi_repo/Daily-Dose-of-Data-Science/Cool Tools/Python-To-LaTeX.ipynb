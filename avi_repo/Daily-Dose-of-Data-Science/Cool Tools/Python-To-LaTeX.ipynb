{
 "cells": [
  {
   "cell_type": "markdown",
   "id": "713fc07d",
   "metadata": {},
   "source": [
    "# Daily-Dose-of-Data-Science\n",
    "\n",
    "[Daily Dose of Data Science](https://avichawla.substack.com) is a publication on Substack that brings together intriguing frameworks, libraries, technologies, and tips that make the life cycle of a Data Science project effortless. \n",
    "\n",
    "Author: Avi Chawla\n",
    "\n",
    "[Medium](https://medium.com/@avi_chawla) | [LinkedIn](https://www.linkedin.com/in/avi-chawla/)\n",
    "\n",
    "# Converting Python To LaTeX Has Possibly Never Been So Simple\n",
    "\n",
    "Post Link: [Substack](https://avichawla.substack.com/p/converting-python-to-latex-has-possibly)\n",
    "\n",
    "LinkedIn Post: [LinkedIn](https://www.linkedin.com/feed/update/urn:li:activity:7021425050293575681/)"
   ]
  },
  {
   "cell_type": "code",
   "execution_count": 1,
   "id": "39685af9",
   "metadata": {},
   "outputs": [
    {
     "name": "stdout",
     "output_type": "stream",
     "text": [
      "Requirement already satisfied: latexify-py in /Users/avi/anaconda3/lib/python3.9/site-packages (0.2.0)\r\n",
      "Requirement already satisfied: dill>=0.3.2 in /Users/avi/anaconda3/lib/python3.9/site-packages (from latexify-py) (0.3.6)\r\n"
     ]
    }
   ],
   "source": [
    "!pip install latexify-py"
   ]
  },
  {
   "cell_type": "code",
   "execution_count": 2,
   "id": "ca604784",
   "metadata": {},
   "outputs": [],
   "source": [
    "import latexify\n",
    "import math"
   ]
  },
  {
   "cell_type": "code",
   "execution_count": 3,
   "id": "58be80af",
   "metadata": {},
   "outputs": [
    {
     "data": {
      "text/latex": [
       "$$ \\displaystyle \\mathrm{roots}(a, b, c) = \\frac{-b + \\sqrt{b^{{2}} - {4} a c}}{{2} a} $$"
      ],
      "text/plain": [
       "<latexify.frontend.LatexifiedFunction at 0x7fb8385d0cd0>"
      ]
     },
     "execution_count": 3,
     "metadata": {},
     "output_type": "execute_result"
    }
   ],
   "source": [
    "@latexify.function\n",
    "def roots(a, b, c):\n",
    "    return (-b + math.sqrt(b**2 - 4*a*c)) / (2*a)\n",
    "\n",
    "roots"
   ]
  },
  {
   "cell_type": "code",
   "execution_count": 4,
   "id": "036185a4",
   "metadata": {},
   "outputs": [
    {
     "data": {
      "text/latex": [
       "$$ \\displaystyle \\mathrm{fib}(n) = \\left\\{ \\begin{array}{ll} {1}, & \\mathrm{if} \\ {n < {2}} \\\\ \\mathrm{fib}\\left(n - {1}\\right) + \\mathrm{fib}\\left(n - {2}\\right), & \\mathrm{otherwise} \\end{array} \\right. $$"
      ],
      "text/plain": [
       "<latexify.frontend.LatexifiedFunction at 0x7fb83858fdf0>"
      ]
     },
     "execution_count": 4,
     "metadata": {},
     "output_type": "execute_result"
    }
   ],
   "source": [
    "@latexify.function\n",
    "def fib(n):\n",
    "    if n<2:\n",
    "        return 1\n",
    "    else:\n",
    "        return fib(n-1) + fib(n-2)\n",
    "\n",
    "fib"
   ]
  },
  {
   "cell_type": "code",
   "execution_count": 5,
   "id": "8dd2c1f4",
   "metadata": {},
   "outputs": [
    {
     "data": {
      "text/plain": [
       "'\\\\mathrm{solve}(a, b, c) = \\\\frac{-b + \\\\sqrt{b^{{2}} - {4} a c}}{{2} a}'"
      ]
     },
     "execution_count": 5,
     "metadata": {},
     "output_type": "execute_result"
    }
   ],
   "source": [
    "def solve(a, b, c):\n",
    "    return (-b + math.sqrt(b**2 - 4 * a * c)) / (2 * a)\n",
    "\n",
    "latexify.get_latex(solve)"
   ]
  },
  {
   "cell_type": "markdown",
   "id": "2b3bad4f",
   "metadata": {},
   "source": [
    "Convert a cell to markdown and paste the above output. Replace all double backslash with single"
   ]
  },
  {
   "cell_type": "markdown",
   "id": "5769d8b3",
   "metadata": {},
   "source": [
    "$\\mathrm{solve}(a, b, c) = \\frac{-b + \\sqrt{b^{{2}} - {4} a c}}{{2} a}$"
   ]
  },
  {
   "cell_type": "code",
   "execution_count": null,
   "id": "3686327a",
   "metadata": {},
   "outputs": [],
   "source": []
  }
 ],
 "metadata": {
  "kernelspec": {
   "display_name": "Python 3 (ipykernel)",
   "language": "python",
   "name": "python3"
  },
  "language_info": {
   "codemirror_mode": {
    "name": "ipython",
    "version": 3
   },
   "file_extension": ".py",
   "mimetype": "text/x-python",
   "name": "python",
   "nbconvert_exporter": "python",
   "pygments_lexer": "ipython3",
   "version": "3.9.12"
  }
 },
 "nbformat": 4,
 "nbformat_minor": 5
}

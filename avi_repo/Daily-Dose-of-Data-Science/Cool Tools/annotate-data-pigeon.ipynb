{
 "cells": [
  {
   "cell_type": "markdown",
   "id": "620cd842",
   "metadata": {},
   "source": [
    "# Daily-Dose-of-Data-Science\n",
    "\n",
    "[Daily Dose of Data Science](https://avichawla.substack.com) is a publication on Substack that brings together intriguing frameworks, libraries, technologies, and tips that make the life cycle of a Data Science project effortless. \n",
    "\n",
    "Author: Avi Chawla\n",
    "\n",
    "[Medium](https://medium.com/@avi_chawla) | [LinkedIn](https://www.linkedin.com/in/avi-chawla/)\n",
    "\n",
    "# Annotate Data With The Click Of A Button Using Pigeon\n",
    "\n",
    "Post Link: [Substack](https://avichawla.substack.com/p/annotate-data-with-the-click-of-a)\n",
    "\n",
    "LinkedIn Post: [LinkedIn](https://www.linkedin.com/feed/update/urn:li:ugcPost:7060895441273372672/)\n",
    "\n",
    "Twitter Post: [Twitter](https://twitter.com/_avichawla/status/1655129759951495169)"
   ]
  },
  {
   "cell_type": "code",
   "execution_count": 1,
   "id": "394d5595",
   "metadata": {},
   "outputs": [],
   "source": [
    "from pigeon import annotate\n",
    "from IPython.display import display, Image"
   ]
  },
  {
   "cell_type": "code",
   "execution_count": 2,
   "id": "52e41d34",
   "metadata": {},
   "outputs": [],
   "source": [
    "images_list = ['../_Datasets/cats-dogs-images/image1.jpeg',\n",
    "               '../_Datasets/cats-dogs-images/image2.jpeg',\n",
    "               '../_Datasets/cats-dogs-images/image3.jpeg',\n",
    "               '../_Datasets/cats-dogs-images/image4.jpeg']"
   ]
  },
  {
   "cell_type": "code",
   "execution_count": 3,
   "id": "1ccf9281",
   "metadata": {},
   "outputs": [
    {
     "data": {
      "application/vnd.jupyter.widget-view+json": {
       "model_id": "39eaa9dba42a4f57a91100cd43a71438",
       "version_major": 2,
       "version_minor": 0
      },
      "text/plain": [
       "HTML(value='0 examples annotated, 5 examples left')"
      ]
     },
     "metadata": {},
     "output_type": "display_data"
    },
    {
     "data": {
      "application/vnd.jupyter.widget-view+json": {
       "model_id": "554bb1bb7f01409a98ce093f134b0028",
       "version_major": 2,
       "version_minor": 0
      },
      "text/plain": [
       "HBox(children=(Button(description='cat', style=ButtonStyle()), Button(description='dog', style=ButtonStyle()),…"
      ]
     },
     "metadata": {},
     "output_type": "display_data"
    },
    {
     "data": {
      "application/vnd.jupyter.widget-view+json": {
       "model_id": "9836222ac3994c0490fb181a765f3c8f",
       "version_major": 2,
       "version_minor": 0
      },
      "text/plain": [
       "Output()"
      ]
     },
     "metadata": {},
     "output_type": "display_data"
    },
    {
     "name": "stdout",
     "output_type": "stream",
     "text": [
      "Annotation done.\n"
     ]
    }
   ],
   "source": [
    "annotations = annotate(images_list,                      ## file names list\n",
    "                       options=['cat', 'dog'],           ## annotation options\n",
    "                       display_fn=lambda image_file: display(Image(image_file)) ## display each example\n",
    "                      )"
   ]
  },
  {
   "cell_type": "code",
   "execution_count": 5,
   "id": "dc2031d0",
   "metadata": {},
   "outputs": [
    {
     "data": {
      "text/plain": [
       "[('../_Datasets/cats-dogs-images/image1.jpeg', 'cat'),\n",
       " ('../_Datasets/cats-dogs-images/image2.jpeg', 'dog'),\n",
       " ('../_Datasets/cats-dogs-images/image3.jpeg', 'cat'),\n",
       " ('../_Datasets/cats-dogs-images/image4.jpeg', 'dog')]"
      ]
     },
     "execution_count": 5,
     "metadata": {},
     "output_type": "execute_result"
    }
   ],
   "source": [
    "annotations ## get labels"
   ]
  }
 ],
 "metadata": {
  "kernelspec": {
   "display_name": "Python 3 (ipykernel)",
   "language": "python",
   "name": "python3"
  },
  "language_info": {
   "codemirror_mode": {
    "name": "ipython",
    "version": 3
   },
   "file_extension": ".py",
   "mimetype": "text/x-python",
   "name": "python",
   "nbconvert_exporter": "python",
   "pygments_lexer": "ipython3",
   "version": "3.9.12"
  },
  "toc": {
   "base_numbering": 1,
   "nav_menu": {},
   "number_sections": true,
   "sideBar": true,
   "skip_h1_title": false,
   "title_cell": "Table of Contents",
   "title_sidebar": "Contents",
   "toc_cell": false,
   "toc_position": {},
   "toc_section_display": true,
   "toc_window_display": false
  }
 },
 "nbformat": 4,
 "nbformat_minor": 5
}

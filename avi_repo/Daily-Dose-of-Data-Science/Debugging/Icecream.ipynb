{
 "cells": [
  {
   "cell_type": "markdown",
   "id": "a3e9c61e",
   "metadata": {},
   "source": [
    "# Daily-Dose-of-Data-Science\n",
    "\n",
    "[Daily Dose of Data Science](https://avichawla.substack.com) is a publication on Substack that brings together intriguing frameworks, libraries, technologies, and tips that make the life cycle of a Data Science project effortless. \n",
    "\n",
    "Author: Avi Chawla\n",
    "\n",
    "[Medium](https://medium.com/@avi_chawla) | [LinkedIn](https://www.linkedin.com/in/avi-chawla/)"
   ]
  },
  {
   "cell_type": "markdown",
   "id": "c86620fc",
   "metadata": {},
   "source": [
    "# Don't use print() to debug your code.\n",
    "\n",
    "Post Link: [Substack](https://avichawla.substack.com/p/dont-use-print-to-debug-your-code)\n",
    "\n",
    "LinkedIn Post: [LinkedIn](https://www.linkedin.com/posts/avi-chawla_datascience-python-activity-6984820436802908160-QlU6?utm_source=share&utm_medium=member_desktop)"
   ]
  },
  {
   "cell_type": "code",
   "execution_count": 1,
   "id": "5f149a01",
   "metadata": {
    "ExecuteTime": {
     "end_time": "2022-12-01T19:03:02.307509Z",
     "start_time": "2022-12-01T19:02:59.043785Z"
    }
   },
   "outputs": [
    {
     "name": "stdout",
     "output_type": "stream",
     "text": [
      "Requirement already satisfied: icecream in /Users/avi/anaconda3/lib/python3.9/site-packages (2.1.3)\r\n",
      "Requirement already satisfied: colorama>=0.3.9 in /Users/avi/anaconda3/lib/python3.9/site-packages (from icecream) (0.4.4)\r\n",
      "Requirement already satisfied: asttokens>=2.0.1 in /Users/avi/anaconda3/lib/python3.9/site-packages (from icecream) (2.0.5)\r\n",
      "Requirement already satisfied: pygments>=2.2.0 in /Users/avi/anaconda3/lib/python3.9/site-packages (from icecream) (2.11.2)\r\n",
      "Requirement already satisfied: executing>=0.3.1 in /Users/avi/anaconda3/lib/python3.9/site-packages (from icecream) (0.8.3)\r\n",
      "Requirement already satisfied: six in /Users/avi/anaconda3/lib/python3.9/site-packages (from asttokens>=2.0.1->icecream) (1.16.0)\r\n"
     ]
    }
   ],
   "source": [
    "!pip install icecream"
   ]
  },
  {
   "cell_type": "markdown",
   "id": "cb10b2ba",
   "metadata": {},
   "source": [
    "### Print()"
   ]
  },
  {
   "cell_type": "code",
   "execution_count": 2,
   "id": "0eae123f",
   "metadata": {
    "ExecuteTime": {
     "end_time": "2022-12-01T19:03:31.172682Z",
     "start_time": "2022-12-01T19:03:31.164305Z"
    }
   },
   "outputs": [
    {
     "name": "stdout",
     "output_type": "stream",
     "text": [
      "arr =  [1, 2, 3] n =  2\n"
     ]
    }
   ],
   "source": [
    "def func(arr, n):\n",
    "    print(\"arr = \", arr, \"n = \", n)\n",
    "\n",
    "func([1,2,3], 2)"
   ]
  },
  {
   "cell_type": "markdown",
   "id": "a3d37b64",
   "metadata": {},
   "source": [
    "### Icecream"
   ]
  },
  {
   "cell_type": "code",
   "execution_count": 3,
   "id": "72782706",
   "metadata": {
    "ExecuteTime": {
     "end_time": "2022-12-01T19:03:33.433812Z",
     "start_time": "2022-12-01T19:03:33.342584Z"
    }
   },
   "outputs": [
    {
     "name": "stderr",
     "output_type": "stream",
     "text": [
      "ic| arr: [1, 2, 3], n: 2\n"
     ]
    }
   ],
   "source": [
    "from icecream import ic\n",
    "\n",
    "def func(arr, n):\n",
    "    ic(arr, n)\n",
    "\n",
    "func([1,2,3], 2)"
   ]
  }
 ],
 "metadata": {
  "kernelspec": {
   "display_name": "Python 3 (ipykernel)",
   "language": "python",
   "name": "python3"
  },
  "language_info": {
   "codemirror_mode": {
    "name": "ipython",
    "version": 3
   },
   "file_extension": ".py",
   "mimetype": "text/x-python",
   "name": "python",
   "nbconvert_exporter": "python",
   "pygments_lexer": "ipython3",
   "version": "3.9.12"
  }
 },
 "nbformat": 4,
 "nbformat_minor": 5
}

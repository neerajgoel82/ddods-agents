{
 "cells": [
  {
   "cell_type": "markdown",
   "id": "bce5fb68",
   "metadata": {},
   "source": [
    "# Daily-Dose-of-Data-Science\n",
    "\n",
    "[Daily Dose of Data Science](https://avichawla.substack.com) is a publication on Substack that brings together intriguing frameworks, libraries, technologies, and tips that make the life cycle of a Data Science project effortless. \n",
    "\n",
    "Author: Avi Chawla\n",
    "\n",
    "[Medium](https://medium.com/@avi_chawla) | [LinkedIn](https://www.linkedin.com/in/avi-chawla/)\n",
    "\n",
    "# Inspect Program Flow with IceCream\n",
    "\n",
    "\n",
    "Post Link: [Substack](https://avichawla.substack.com/p/inspect-program-flow-with-icecream)\n",
    "\n",
    "LinkedIn Post: [LinkedIn](https://www.linkedin.com/posts/avi-chawla_python-datascience-activity-6992070071615426561-e5Dl?utm_source=share&utm_medium=member_desktop)"
   ]
  },
  {
   "cell_type": "markdown",
   "id": "43adf259",
   "metadata": {},
   "source": [
    "## Using Print"
   ]
  },
  {
   "cell_type": "code",
   "execution_count": 1,
   "id": "9f3eaf92",
   "metadata": {
    "ExecuteTime": {
     "end_time": "2022-12-01T20:33:48.588470Z",
     "start_time": "2022-12-01T20:33:48.542224Z"
    },
    "scrolled": true
   },
   "outputs": [
    {
     "name": "stdout",
     "output_type": "stream",
     "text": [
      "0\n",
      "1\n"
     ]
    }
   ],
   "source": [
    "def func(number):\n",
    "    print(0)\n",
    "    ...\n",
    "    \n",
    "    if number:\n",
    "        print(1)\n",
    "        ...\n",
    "    else:\n",
    "        print(2)\n",
    "        ...\n",
    "        \n",
    "func(2)"
   ]
  },
  {
   "cell_type": "markdown",
   "id": "5f7566db",
   "metadata": {},
   "source": [
    "## Icecream"
   ]
  },
  {
   "cell_type": "code",
   "execution_count": 2,
   "id": "e5346154",
   "metadata": {
    "ExecuteTime": {
     "end_time": "2022-12-01T20:34:11.022910Z",
     "start_time": "2022-12-01T20:34:07.719311Z"
    }
   },
   "outputs": [
    {
     "name": "stdout",
     "output_type": "stream",
     "text": [
      "Requirement already satisfied: icecream in /Users/avi/anaconda3/lib/python3.9/site-packages (2.1.3)\r\n",
      "Requirement already satisfied: executing>=0.3.1 in /Users/avi/anaconda3/lib/python3.9/site-packages (from icecream) (0.8.3)\r\n",
      "Requirement already satisfied: pygments>=2.2.0 in /Users/avi/anaconda3/lib/python3.9/site-packages (from icecream) (2.11.2)\r\n",
      "Requirement already satisfied: asttokens>=2.0.1 in /Users/avi/anaconda3/lib/python3.9/site-packages (from icecream) (2.0.5)\r\n",
      "Requirement already satisfied: colorama>=0.3.9 in /Users/avi/anaconda3/lib/python3.9/site-packages (from icecream) (0.4.4)\r\n",
      "Requirement already satisfied: six in /Users/avi/anaconda3/lib/python3.9/site-packages (from asttokens>=2.0.1->icecream) (1.16.0)\r\n"
     ]
    }
   ],
   "source": [
    "!pip install icecream"
   ]
  },
  {
   "cell_type": "code",
   "execution_count": 3,
   "id": "c5d9e630",
   "metadata": {
    "ExecuteTime": {
     "end_time": "2022-12-01T20:34:22.708543Z",
     "start_time": "2022-12-01T20:34:22.635845Z"
    }
   },
   "outputs": [],
   "source": [
    "from icecream import ic"
   ]
  },
  {
   "cell_type": "code",
   "execution_count": 4,
   "id": "cae6f24d",
   "metadata": {
    "ExecuteTime": {
     "end_time": "2022-12-01T20:34:28.708392Z",
     "start_time": "2022-12-01T20:34:28.664446Z"
    }
   },
   "outputs": [
    {
     "name": "stderr",
     "output_type": "stream",
     "text": [
      "ic| 1996313497.py:2 in func() at 02:04:28.686\n",
      "ic| 1996313497.py:6 in func() at 02:04:28.699\n"
     ]
    }
   ],
   "source": [
    "def func(number):\n",
    "    ic()\n",
    "    ...\n",
    "    \n",
    "    if number:\n",
    "        ic()\n",
    "        ...\n",
    "    else:\n",
    "        ic()\n",
    "        ...\n",
    "        \n",
    "func(2)"
   ]
  },
  {
   "cell_type": "code",
   "execution_count": null,
   "id": "a3d6684d",
   "metadata": {},
   "outputs": [],
   "source": []
  }
 ],
 "metadata": {
  "kernelspec": {
   "display_name": "Python 3 (ipykernel)",
   "language": "python",
   "name": "python3"
  },
  "language_info": {
   "codemirror_mode": {
    "name": "ipython",
    "version": 3
   },
   "file_extension": ".py",
   "mimetype": "text/x-python",
   "name": "python",
   "nbconvert_exporter": "python",
   "pygments_lexer": "ipython3",
   "version": "3.9.12"
  }
 },
 "nbformat": 4,
 "nbformat_minor": 5
}

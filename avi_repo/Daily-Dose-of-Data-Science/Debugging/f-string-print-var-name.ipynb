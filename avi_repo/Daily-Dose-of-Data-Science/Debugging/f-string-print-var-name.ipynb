{
 "cells": [
  {
   "cell_type": "markdown",
   "id": "9e9f9a7a",
   "metadata": {
    "ExecuteTime": {
     "end_time": "2022-12-01T20:57:02.364731Z",
     "start_time": "2022-12-01T20:57:02.320414Z"
    }
   },
   "source": [
    "# Daily-Dose-of-Data-Science\n",
    "\n",
    "[Daily Dose of Data Science](https://avichawla.substack.com) is a publication on Substack that brings together intriguing frameworks, libraries, technologies, and tips that make the life cycle of a Data Science project effortless. \n",
    "\n",
    "Author: Avi Chawla\n",
    "\n",
    "[Medium](https://medium.com/@avi_chawla) | [LinkedIn](https://www.linkedin.com/in/avi-chawla/)\n",
    "\n",
    "# Lesser-known Feature of f-strings in Python\n",
    "\n",
    "Post Link: [Substack](https://avichawla.substack.com/p/lesser-known-feature-of-f-strings)\n",
    "\n",
    "LinkedIn Post: [LinkedIn](https://www.linkedin.com/posts/avi-chawla_python-pythonprogramming-activity-6994998781003874304-Zp3B?utm_source=share&utm_medium=member_desktop)"
   ]
  },
  {
   "cell_type": "code",
   "execution_count": 3,
   "id": "37f824c0",
   "metadata": {
    "ExecuteTime": {
     "end_time": "2022-12-01T20:57:38.097336Z",
     "start_time": "2022-12-01T20:57:38.088497Z"
    }
   },
   "outputs": [
    {
     "name": "stdout",
     "output_type": "stream",
     "text": [
      "Count = 2\n",
      "Fruit = Apple\n"
     ]
    }
   ],
   "source": [
    "Count = 2\n",
    "Fruit = \"Apple\"\n",
    "\n",
    "print(f\"Count = {Count}\")\n",
    "print(f\"Fruit = {Fruit}\")"
   ]
  },
  {
   "cell_type": "code",
   "execution_count": 4,
   "id": "1e2b154d",
   "metadata": {
    "ExecuteTime": {
     "end_time": "2022-12-01T20:57:49.413314Z",
     "start_time": "2022-12-01T20:57:49.406000Z"
    }
   },
   "outputs": [
    {
     "name": "stdout",
     "output_type": "stream",
     "text": [
      "Count = 2\n",
      "Fruit = 'Apple'\n"
     ]
    }
   ],
   "source": [
    "Count = 2\n",
    "Fruit = \"Apple\"\n",
    "\n",
    "print(f\"{Count = }\")\n",
    "print(f\"{Fruit = }\")"
   ]
  },
  {
   "cell_type": "code",
   "execution_count": null,
   "id": "b7b5a049",
   "metadata": {},
   "outputs": [],
   "source": []
  }
 ],
 "metadata": {
  "kernelspec": {
   "display_name": "Python 3 (ipykernel)",
   "language": "python",
   "name": "python3"
  },
  "language_info": {
   "codemirror_mode": {
    "name": "ipython",
    "version": 3
   },
   "file_extension": ".py",
   "mimetype": "text/x-python",
   "name": "python",
   "nbconvert_exporter": "python",
   "pygments_lexer": "ipython3",
   "version": "3.9.12"
  }
 },
 "nbformat": 4,
 "nbformat_minor": 5
}

{
 "cells": [
  {
   "cell_type": "markdown",
   "id": "769b8b69",
   "metadata": {},
   "source": [
    "# Daily-Dose-of-Data-Science\n",
    "\n",
    "[Daily Dose of Data Science](https://avichawla.substack.com) is a publication on Substack that brings together intriguing frameworks, libraries, technologies, and tips that make the life cycle of a Data Science project effortless. \n",
    "\n",
    "Author: Avi Chawla\n",
    "\n",
    "[Medium](https://medium.com/@avi_chawla) | [LinkedIn](https://www.linkedin.com/in/avi-chawla/)\n",
    "\n",
    "# Debugging Made Easy With PySnooper\n",
    "\n",
    "\n",
    "Post Link: [Substack](https://avichawla.substack.com/p/debugging-made-easy-with-pysnooper)\n",
    "\n",
    "LinkedIn Post: [LinkedIn](https://www.linkedin.com/posts/avi-chawla_python-activity-7008022551469699072-hys9?utm_source=share&utm_medium=member_desktop)"
   ]
  },
  {
   "cell_type": "code",
   "execution_count": 1,
   "id": "f112f693",
   "metadata": {
    "ExecuteTime": {
     "end_time": "2022-12-12T11:16:19.627089Z",
     "start_time": "2022-12-12T11:16:16.097742Z"
    }
   },
   "outputs": [
    {
     "name": "stdout",
     "output_type": "stream",
     "text": [
      "Requirement already satisfied: PySnooper in /Users/avi/anaconda3/lib/python3.9/site-packages (1.1.1)\r\n"
     ]
    }
   ],
   "source": [
    "!pip install PySnooper"
   ]
  },
  {
   "cell_type": "code",
   "execution_count": 3,
   "id": "57d03c9f",
   "metadata": {
    "ExecuteTime": {
     "end_time": "2022-12-12T11:17:50.453339Z",
     "start_time": "2022-12-12T11:17:50.279439Z"
    }
   },
   "outputs": [
    {
     "name": "stdout",
     "output_type": "stream",
     "text": [
      "import pysnooper\r\n",
      "\r\n",
      "@pysnooper.snoop()\r\n",
      "def add_sub(a, b):\r\n",
      "    \r\n",
      "    add = a+b\r\n",
      "    sub = a-b\r\n",
      "    \r\n",
      "    return (add, sub)\r\n",
      "    \r\n",
      "add_sub(18, 10)"
     ]
    }
   ],
   "source": [
    "!cat pysnooper_expt.py"
   ]
  },
  {
   "cell_type": "code",
   "execution_count": 4,
   "id": "e374ee56",
   "metadata": {
    "ExecuteTime": {
     "end_time": "2022-12-12T11:17:58.797211Z",
     "start_time": "2022-12-12T11:17:58.558917Z"
    }
   },
   "outputs": [
    {
     "name": "stdout",
     "output_type": "stream",
     "text": [
      "\u001b[33m\u001b[2mSource path:... \u001b[22m/Users/avi/Desktop/Daily Dose of Data Science/Debugging/pysnooper_expt.py\u001b[0m\r\n",
      "\u001b[32m\u001b[2mStarting var:.. \u001b[22ma = 18\u001b[0m\r\n",
      "\u001b[32m\u001b[2mStarting var:.. \u001b[22mb = 10\u001b[0m\r\n",
      "\u001b[2m16:47:58.685385 call         4\u001b[0m def add_sub(a, b):\r\n",
      "\u001b[2m16:47:58.686243 line         6\u001b[0m     add = a+b\r\n",
      "\u001b[32m\u001b[2mNew var:....... \u001b[22madd = 28\u001b[0m\r\n",
      "\u001b[2m16:47:58.686275 line         7\u001b[0m     sub = a-b\r\n",
      "\u001b[32m\u001b[2mNew var:....... \u001b[22msub = 8\u001b[0m\r\n",
      "\u001b[2m16:47:58.686302 line         9\u001b[0m     return (add, sub)\r\n",
      "\u001b[2m16:47:58.686328 return       9\u001b[0m     return (add, sub)\r\n",
      "\u001b[36m\u001b[2mReturn value:.. \u001b[22m(28, 8)\u001b[0m\r\n",
      "\u001b[33m\u001b[2mElapsed time: \u001b[22m00:00:00.001276\u001b[0m\r\n"
     ]
    }
   ],
   "source": [
    "!python pysnooper_expt.py"
   ]
  }
 ],
 "metadata": {
  "kernelspec": {
   "display_name": "Python 3 (ipykernel)",
   "language": "python",
   "name": "python3"
  },
  "language_info": {
   "codemirror_mode": {
    "name": "ipython",
    "version": 3
   },
   "file_extension": ".py",
   "mimetype": "text/x-python",
   "name": "python",
   "nbconvert_exporter": "python",
   "pygments_lexer": "ipython3",
   "version": "3.9.12"
  }
 },
 "nbformat": 4,
 "nbformat_minor": 5
}

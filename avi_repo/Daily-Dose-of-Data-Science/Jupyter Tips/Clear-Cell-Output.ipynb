{
 "cells": [
  {
   "cell_type": "markdown",
   "id": "e019354b",
   "metadata": {},
   "source": [
    "# Daily-Dose-of-Data-Science\n",
    "\n",
    "[Daily Dose of Data Science](https://avichawla.substack.com) is a publication on Substack that brings together intriguing frameworks, libraries, technologies, and tips that make the life cycle of a Data Science project effortless. \n",
    "\n",
    "Author: Avi Chawla\n",
    "\n",
    "[Medium](https://medium.com/@avi_chawla) | [LinkedIn](https://www.linkedin.com/in/avi-chawla/)\n",
    "\n",
    "# Clear Cell Output In Jupyter Notebook During Run-time\n",
    "\n",
    "Post Link: [Substack](https://avichawla.substack.com/p/clear-cell-output-in-jupyter-notebook)\n",
    "\n",
    "LinkedIn Post: [LinkedIn](https://www.linkedin.com/posts/avi-chawla_python-datascience-jupyternotebook-activity-6999686599718383616-u3nC?utm_source=share&utm_medium=member_desktop)"
   ]
  },
  {
   "cell_type": "code",
   "execution_count": 1,
   "id": "be8ac583",
   "metadata": {
    "ExecuteTime": {
     "end_time": "2022-12-02T07:36:17.563411Z",
     "start_time": "2022-12-02T07:36:17.507008Z"
    }
   },
   "outputs": [],
   "source": [
    "import time\n",
    "from IPython.display import clear_output"
   ]
  },
  {
   "cell_type": "code",
   "execution_count": 3,
   "id": "71f938e6",
   "metadata": {
    "ExecuteTime": {
     "end_time": "2022-12-02T07:36:32.765160Z",
     "start_time": "2022-12-02T07:36:28.730902Z"
    }
   },
   "outputs": [
    {
     "name": "stdout",
     "output_type": "stream",
     "text": [
      "Output Number 4\n"
     ]
    }
   ],
   "source": [
    "for i in range(4):\n",
    "\n",
    "    ## Wait for the next \n",
    "    ## output before clearing\n",
    "    clear_output(wait=True) \n",
    "    \n",
    "    print(f'Output Number {i+1}')\n",
    "    time.sleep(1)"
   ]
  },
  {
   "cell_type": "code",
   "execution_count": null,
   "id": "dd4d8329",
   "metadata": {},
   "outputs": [],
   "source": []
  }
 ],
 "metadata": {
  "kernelspec": {
   "display_name": "Python 3 (ipykernel)",
   "language": "python",
   "name": "python3"
  },
  "language_info": {
   "codemirror_mode": {
    "name": "ipython",
    "version": 3
   },
   "file_extension": ".py",
   "mimetype": "text/x-python",
   "name": "python",
   "nbconvert_exporter": "python",
   "pygments_lexer": "ipython3",
   "version": "3.9.12"
  }
 },
 "nbformat": 4,
 "nbformat_minor": 5
}

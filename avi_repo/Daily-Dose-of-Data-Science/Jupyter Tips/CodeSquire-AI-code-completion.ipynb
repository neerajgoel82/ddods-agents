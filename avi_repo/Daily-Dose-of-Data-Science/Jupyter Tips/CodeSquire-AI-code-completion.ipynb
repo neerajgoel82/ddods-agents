{
 "cells": [
  {
   "cell_type": "markdown",
   "id": "ded4dbb3",
   "metadata": {},
   "source": [
    "# Daily-Dose-of-Data-Science\n",
    "\n",
    "[Daily Dose of Data Science](https://avichawla.substack.com) is a publication on Substack that brings together intriguing frameworks, libraries, technologies, and tips that make the life cycle of a Data Science project effortless. \n",
    "\n",
    "Author: Avi Chawla\n",
    "\n",
    "[Medium](https://medium.com/@avi_chawla) | [LinkedIn](https://www.linkedin.com/in/avi-chawla/)\n",
    "\n",
    "# CodeSquire: The AI Coding Assistant You Should Use Over GitHub Copilot\n",
    "\n",
    "\n",
    "Post Link: [Substack](https://avichawla.substack.com/p/codesquire-the-ai-coding-assistant)\n",
    "\n",
    "LinkedIn Post: [LinkedIn](https://www.linkedin.com/posts/avi-chawla_python-datascience-jupyternotebook-activity-7002580340825288704-c7jw?utm_source=share&utm_medium=member_desktop)"
   ]
  },
  {
   "cell_type": "markdown",
   "id": "a9299396",
   "metadata": {},
   "source": [
    "## Check Out: https://codesquire.ai/"
   ]
  },
  {
   "cell_type": "code",
   "execution_count": 1,
   "id": "89d248d4",
   "metadata": {
    "ExecuteTime": {
     "end_time": "2022-12-02T07:58:35.937811Z",
     "start_time": "2022-12-02T07:58:35.901975Z"
    }
   },
   "outputs": [
    {
     "data": {
      "text/html": [
       "<video src=\"../_Extras/CodeSquire Video.mp4\" controls  >\n",
       "      Your browser does not support the <code>video</code> element.\n",
       "    </video>"
      ],
      "text/plain": [
       "<IPython.core.display.Video object>"
      ]
     },
     "execution_count": 1,
     "metadata": {},
     "output_type": "execute_result"
    }
   ],
   "source": [
    "from IPython.display import Video\n",
    "Video(\"../_Extras/CodeSquire Video.mp4\")"
   ]
  }
 ],
 "metadata": {
  "kernelspec": {
   "display_name": "Python 3 (ipykernel)",
   "language": "python",
   "name": "python3"
  },
  "language_info": {
   "codemirror_mode": {
    "name": "ipython",
    "version": 3
   },
   "file_extension": ".py",
   "mimetype": "text/x-python",
   "name": "python",
   "nbconvert_exporter": "python",
   "pygments_lexer": "ipython3",
   "version": "3.9.12"
  }
 },
 "nbformat": 4,
 "nbformat_minor": 5
}

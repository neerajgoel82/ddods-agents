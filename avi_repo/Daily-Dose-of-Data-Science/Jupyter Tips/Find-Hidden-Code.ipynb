{
 "cells": [
  {
   "cell_type": "markdown",
   "id": "7fb74314",
   "metadata": {},
   "source": [
    "# Daily-Dose-of-Data-Science\n",
    "\n",
    "[Daily Dose of Data Science](https://avichawla.substack.com) is a publication on Substack that brings together intriguing frameworks, libraries, technologies, and tips that make the life cycle of a Data Science project effortless. \n",
    "\n",
    "Author: Avi Chawla\n",
    "\n",
    "[Medium](https://medium.com/@avi_chawla) | [LinkedIn](https://www.linkedin.com/in/avi-chawla/)"
   ]
  },
  {
   "cell_type": "markdown",
   "id": "7e66a81f",
   "metadata": {},
   "source": [
    "# Find Your Code Hiding In Some Jupyter Notebook With Ease\n",
    "\n",
    "Post Link: [Substack](https://avichawla.substack.com/p/find-your-code-hiding-in-some-jupyter)\n",
    "\n",
    "LinkedIn Post: [LinkedIn](https://www.linkedin.com/posts/avi-chawla_python-datascience-jupyternotebook-activity-6990253489071263744-awBF?utm_source=share&utm_medium=member_desktop)"
   ]
  },
  {
   "cell_type": "markdown",
   "id": "f7457c83",
   "metadata": {},
   "source": [
    "### In Command Line:"
   ]
  },
  {
   "cell_type": "code",
   "execution_count": null,
   "id": "95843728",
   "metadata": {},
   "outputs": [],
   "source": [
    "grep \"polyfit\" ../*/*.ipynb"
   ]
  },
  {
   "cell_type": "markdown",
   "id": "dfc6770a",
   "metadata": {},
   "source": [
    "### In Notebook"
   ]
  },
  {
   "cell_type": "code",
   "execution_count": 2,
   "id": "eddb6043",
   "metadata": {
    "ExecuteTime": {
     "end_time": "2022-12-01T20:17:08.455820Z",
     "start_time": "2022-12-01T20:17:08.200565Z"
    }
   },
   "outputs": [
    {
     "name": "stdout",
     "output_type": "stream",
     "text": [
      "../Machine Learning/LinearReg NumPy vs Sklearn.ipynb:    \"coeff = np.polyfit(x, y, deg = 2) ## specify degree\"\n",
      "../NumPy/LinearReg NumPy.ipynb:    \"coeff = np.polyfit(x, y, deg = 2) ## specify degree\"\n",
      "../Sklearn/LinearReg NumPy vs Sklearn.ipynb:    \"coeff = np.polyfit(x, y, deg = 2) ## specify degree\"\n"
     ]
    }
   ],
   "source": [
    "!grep \"polyfit\" ../*/*.ipynb"
   ]
  },
  {
   "cell_type": "code",
   "execution_count": null,
   "id": "b9981f65",
   "metadata": {},
   "outputs": [],
   "source": []
  }
 ],
 "metadata": {
  "kernelspec": {
   "display_name": "Python 3 (ipykernel)",
   "language": "python",
   "name": "python3"
  },
  "language_info": {
   "codemirror_mode": {
    "name": "ipython",
    "version": 3
   },
   "file_extension": ".py",
   "mimetype": "text/x-python",
   "name": "python",
   "nbconvert_exporter": "python",
   "pygments_lexer": "ipython3",
   "version": "3.9.12"
  }
 },
 "nbformat": 4,
 "nbformat_minor": 5
}

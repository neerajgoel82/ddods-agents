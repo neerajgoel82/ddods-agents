{
 "cells": [
  {
   "cell_type": "markdown",
   "id": "1125dc85",
   "metadata": {},
   "source": [
    "# Daily-Dose-of-Data-Science\n",
    "\n",
    "[Daily Dose of Data Science](https://avichawla.substack.com) is a publication on Substack that brings together intriguing frameworks, libraries, technologies, and tips that make the life cycle of a Data Science project effortless. \n",
    "\n",
    "Author: Avi Chawla\n",
    "\n",
    "[Medium](https://medium.com/@avi_chawla) | [LinkedIn](https://www.linkedin.com/in/avi-chawla/)\n",
    "\n",
    "# Enrich Your Notebook With Interactive Controls\n",
    "\n",
    "\n",
    "Post Link: [Substack](https://avichawla.substack.com/p/enrich-your-notebook-with-interactive)\n",
    "\n",
    "LinkedIn Post: [LinkedIn](https://www.linkedin.com/posts/avi-chawla_python-datascience-jupyternotebook-activity-7001499142493495296-4aeM?utm_source=share&utm_medium=member_desktop)"
   ]
  },
  {
   "cell_type": "code",
   "execution_count": 1,
   "id": "6c2d7326",
   "metadata": {
    "ExecuteTime": {
     "end_time": "2022-12-02T07:49:50.555150Z",
     "start_time": "2022-12-02T07:49:49.218506Z"
    }
   },
   "outputs": [],
   "source": [
    "from ipywidgets import interact\n",
    "import pandas as pd\n",
    "\n",
    "pd.options.plotting.backend = 'plotly'"
   ]
  },
  {
   "cell_type": "code",
   "execution_count": 3,
   "id": "88d8d349",
   "metadata": {
    "ExecuteTime": {
     "end_time": "2022-12-02T07:50:18.884360Z",
     "start_time": "2022-12-02T07:50:18.823326Z"
    }
   },
   "outputs": [
    {
     "data": {
      "text/html": [
       "<div>\n",
       "<style scoped>\n",
       "    .dataframe tbody tr th:only-of-type {\n",
       "        vertical-align: middle;\n",
       "    }\n",
       "\n",
       "    .dataframe tbody tr th {\n",
       "        vertical-align: top;\n",
       "    }\n",
       "\n",
       "    .dataframe thead th {\n",
       "        text-align: right;\n",
       "    }\n",
       "</style>\n",
       "<table border=\"1\" class=\"dataframe\">\n",
       "  <thead>\n",
       "    <tr style=\"text-align: right;\">\n",
       "      <th></th>\n",
       "      <th>Name</th>\n",
       "      <th>Company_Name</th>\n",
       "      <th>Employee_Job_Title</th>\n",
       "      <th>Employee_City</th>\n",
       "      <th>Employee_Country</th>\n",
       "      <th>Employee_Salary</th>\n",
       "      <th>Employment_Status</th>\n",
       "      <th>Employee_Rating</th>\n",
       "      <th>Credits</th>\n",
       "    </tr>\n",
       "  </thead>\n",
       "  <tbody>\n",
       "    <tr>\n",
       "      <th>0</th>\n",
       "      <td>Johnny Maynard</td>\n",
       "      <td>White, Mcclain and Cobb</td>\n",
       "      <td>Equities trader</td>\n",
       "      <td>New Cindychester</td>\n",
       "      <td>Mongolia</td>\n",
       "      <td>764340</td>\n",
       "      <td>Full Time</td>\n",
       "      <td>3.3</td>\n",
       "      <td>1</td>\n",
       "    </tr>\n",
       "    <tr>\n",
       "      <th>1</th>\n",
       "      <td>Michael Williams</td>\n",
       "      <td>Scott Inc</td>\n",
       "      <td>Patent examiner</td>\n",
       "      <td>Ricardomouth</td>\n",
       "      <td>Guinea-Bissau</td>\n",
       "      <td>929230</td>\n",
       "      <td>Full Time</td>\n",
       "      <td>4.6</td>\n",
       "      <td>4</td>\n",
       "    </tr>\n",
       "  </tbody>\n",
       "</table>\n",
       "</div>"
      ],
      "text/plain": [
       "               Name             Company_Name Employee_Job_Title  \\\n",
       "0    Johnny Maynard  White, Mcclain and Cobb    Equities trader   \n",
       "1  Michael Williams                Scott Inc    Patent examiner   \n",
       "\n",
       "      Employee_City Employee_Country  Employee_Salary Employment_Status  \\\n",
       "0  New Cindychester         Mongolia           764340         Full Time   \n",
       "1      Ricardomouth    Guinea-Bissau           929230         Full Time   \n",
       "\n",
       "   Employee_Rating  Credits  \n",
       "0              3.3        1  \n",
       "1              4.6        4  "
      ]
     },
     "execution_count": 3,
     "metadata": {},
     "output_type": "execute_result"
    }
   ],
   "source": [
    "df = pd.read_csv(\"../_Datasets/employee_dataset.csv\")\n",
    "df.head(2)"
   ]
  },
  {
   "cell_type": "code",
   "execution_count": 4,
   "id": "41f28eef",
   "metadata": {
    "ExecuteTime": {
     "end_time": "2022-12-02T07:50:22.981118Z",
     "start_time": "2022-12-02T07:50:22.938998Z"
    }
   },
   "outputs": [
    {
     "data": {
      "application/vnd.jupyter.widget-view+json": {
       "model_id": "3328a906b0784c13bfb2635d26b305fd",
       "version_major": 2,
       "version_minor": 0
      },
      "text/plain": [
       "interactive(children=(Dropdown(description='company', options=('White, Mcclain and Cobb', 'Scott Inc', 'Andrad…"
      ]
     },
     "metadata": {},
     "output_type": "display_data"
    }
   ],
   "source": [
    "@interact\n",
    "def filter_company(company = list(df.Company_Name.unique())):\n",
    "\n",
    "    return df[df.Company_Name == company].head()"
   ]
  },
  {
   "cell_type": "code",
   "execution_count": 5,
   "id": "7d95aaa4",
   "metadata": {
    "ExecuteTime": {
     "end_time": "2022-12-02T07:50:26.648444Z",
     "start_time": "2022-12-02T07:50:26.593208Z"
    }
   },
   "outputs": [
    {
     "data": {
      "application/vnd.jupyter.widget-view+json": {
       "model_id": "c41beb264ccb4a4fb6b6a6a24d1a6363",
       "version_major": 2,
       "version_minor": 0
      },
      "text/plain": [
       "interactive(children=(FloatSlider(value=2.0, description='rating', max=5.0, step=0.5), Output()), _dom_classes…"
      ]
     },
     "metadata": {},
     "output_type": "display_data"
    }
   ],
   "source": [
    "@interact\n",
    "def filter_rating(rating = (0, 5, 0.5)):\n",
    "\n",
    "    return df[df.Employee_Rating>rating].head()"
   ]
  },
  {
   "cell_type": "code",
   "execution_count": 6,
   "id": "67a1e24c",
   "metadata": {
    "ExecuteTime": {
     "end_time": "2022-12-02T07:50:32.436389Z",
     "start_time": "2022-12-02T07:50:30.851752Z"
    }
   },
   "outputs": [
    {
     "data": {
      "application/vnd.jupyter.widget-view+json": {
       "model_id": "a8afead1696d412391743ab562993117",
       "version_major": 2,
       "version_minor": 0
      },
      "text/plain": [
       "interactive(children=(Dropdown(description='city', options=('New Cindychester', 'Ricardomouth', 'North Melissa…"
      ]
     },
     "metadata": {},
     "output_type": "display_data"
    }
   ],
   "source": [
    "@interact\n",
    "def plot_city(city = list(df.Employee_City.unique())):\n",
    "\n",
    "    filtered_df = df[df.Employee_City == city]\n",
    "    \n",
    "    ## create the plot on filtered data\n",
    "    fig = filtered_df.plot(kind = \"scatter\", \n",
    "                           x = \"Employee_Salary\", \n",
    "                           y = \"Employee_Rating\", \n",
    "                           color = \"Employment_Status\",\n",
    "                           size = \"Credits\")\n",
    "    fig.show()"
   ]
  },
  {
   "cell_type": "code",
   "execution_count": null,
   "id": "49b47614",
   "metadata": {},
   "outputs": [],
   "source": []
  }
 ],
 "metadata": {
  "kernelspec": {
   "display_name": "Python 3 (ipykernel)",
   "language": "python",
   "name": "python3"
  },
  "language_info": {
   "codemirror_mode": {
    "name": "ipython",
    "version": 3
   },
   "file_extension": ".py",
   "mimetype": "text/x-python",
   "name": "python",
   "nbconvert_exporter": "python",
   "pygments_lexer": "ipython3",
   "version": "3.9.12"
  }
 },
 "nbformat": 4,
 "nbformat_minor": 5
}

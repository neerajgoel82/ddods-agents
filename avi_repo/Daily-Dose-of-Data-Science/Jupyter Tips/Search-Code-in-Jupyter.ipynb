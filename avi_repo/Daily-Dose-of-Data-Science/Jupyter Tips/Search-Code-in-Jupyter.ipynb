{
 "cells": [
  {
   "cell_type": "markdown",
   "id": "f75f8b86",
   "metadata": {},
   "source": [
    "# Daily-Dose-of-Data-Science\n",
    "\n",
    "[Daily Dose of Data Science](https://avichawla.substack.com) is a publication on Substack that brings together intriguing frameworks, libraries, technologies, and tips that make the life cycle of a Data Science project effortless. \n",
    "\n",
    "Author: Avi Chawla\n",
    "\n",
    "[Medium](https://medium.com/@avi_chawla) | [LinkedIn](https://www.linkedin.com/in/avi-chawla/)\n",
    "\n",
    "# Never Search Jupyter Notebooks Manually Again To Find Your Code\n",
    "\n",
    "Post Link: [Substack](https://avichawla.substack.com/p/never-search-jupyter-notebooks-manually)\n",
    "\n",
    "LinkedIn Post: [LinkedIn](https://www.linkedin.com/feed/update/urn:li:activity:7028685642804912128/)"
   ]
  },
  {
   "cell_type": "code",
   "execution_count": 1,
   "id": "beedf6ef",
   "metadata": {
    "collapsed": true
   },
   "outputs": [
    {
     "name": "stdout",
     "output_type": "stream",
     "text": [
      "Requirement already satisfied: nbcommands in /Users/avi/anaconda3/lib/python3.9/site-packages (0.5.1)\n",
      "Requirement already satisfied: colorama>=0.4.1 in /Users/avi/anaconda3/lib/python3.9/site-packages (from nbcommands) (0.4.4)\n",
      "Requirement already satisfied: Pygments>=2.4.2 in /Users/avi/anaconda3/lib/python3.9/site-packages (from nbcommands) (2.11.2)\n",
      "Requirement already satisfied: Click>=7.0 in /Users/avi/anaconda3/lib/python3.9/site-packages (from nbcommands) (8.0.4)\n",
      "Requirement already satisfied: nbformat>=4.4.0 in /Users/avi/anaconda3/lib/python3.9/site-packages (from nbcommands) (5.3.0)\n",
      "Requirement already satisfied: black>=19.10b0 in /Users/avi/anaconda3/lib/python3.9/site-packages (from nbcommands) (19.10b0)\n",
      "Requirement already satisfied: regex in /Users/avi/anaconda3/lib/python3.9/site-packages (from black>=19.10b0->nbcommands) (2022.3.15)\n",
      "Requirement already satisfied: toml>=0.9.4 in /Users/avi/anaconda3/lib/python3.9/site-packages (from black>=19.10b0->nbcommands) (0.10.2)\n",
      "Requirement already satisfied: pathspec<1,>=0.6 in /Users/avi/anaconda3/lib/python3.9/site-packages (from black>=19.10b0->nbcommands) (0.7.0)\n",
      "Requirement already satisfied: appdirs in /Users/avi/anaconda3/lib/python3.9/site-packages (from black>=19.10b0->nbcommands) (1.4.4)\n",
      "Requirement already satisfied: typed-ast>=1.4.0 in /Users/avi/anaconda3/lib/python3.9/site-packages (from black>=19.10b0->nbcommands) (1.4.3)\n",
      "Requirement already satisfied: attrs>=18.1.0 in /Users/avi/anaconda3/lib/python3.9/site-packages (from black>=19.10b0->nbcommands) (21.4.0)\n",
      "Requirement already satisfied: jsonschema>=2.6 in /Users/avi/anaconda3/lib/python3.9/site-packages (from nbformat>=4.4.0->nbcommands) (3.2.0)\n",
      "Requirement already satisfied: jupyter-core in /Users/avi/anaconda3/lib/python3.9/site-packages (from nbformat>=4.4.0->nbcommands) (4.9.2)\n",
      "Requirement already satisfied: fastjsonschema in /Users/avi/anaconda3/lib/python3.9/site-packages (from nbformat>=4.4.0->nbcommands) (2.15.1)\n",
      "Requirement already satisfied: traitlets>=4.1 in /Users/avi/anaconda3/lib/python3.9/site-packages (from nbformat>=4.4.0->nbcommands) (5.1.1)\n",
      "Requirement already satisfied: six>=1.11.0 in /Users/avi/anaconda3/lib/python3.9/site-packages (from jsonschema>=2.6->nbformat>=4.4.0->nbcommands) (1.16.0)\n",
      "Requirement already satisfied: setuptools in /Users/avi/anaconda3/lib/python3.9/site-packages (from jsonschema>=2.6->nbformat>=4.4.0->nbcommands) (61.2.0)\n",
      "Requirement already satisfied: pyrsistent>=0.14.0 in /Users/avi/anaconda3/lib/python3.9/site-packages (from jsonschema>=2.6->nbformat>=4.4.0->nbcommands) (0.18.0)\n"
     ]
    }
   ],
   "source": [
    "!pip install nbcommands"
   ]
  },
  {
   "cell_type": "code",
   "execution_count": 2,
   "id": "3597f74e",
   "metadata": {},
   "outputs": [],
   "source": [
    "## Run in command line\n",
    "nbgrep \"import os\" ./"
   ]
  },
  {
   "cell_type": "markdown",
   "id": "d6849713",
   "metadata": {},
   "source": [
    "More info: https://bit.ly/nbcommands"
   ]
  }
 ],
 "metadata": {
  "kernelspec": {
   "display_name": "Python 3 (ipykernel)",
   "language": "python",
   "name": "python3"
  },
  "language_info": {
   "codemirror_mode": {
    "name": "ipython",
    "version": 3
   },
   "file_extension": ".py",
   "mimetype": "text/x-python",
   "name": "python",
   "nbconvert_exporter": "python",
   "pygments_lexer": "ipython3",
   "version": "3.9.12"
  }
 },
 "nbformat": 4,
 "nbformat_minor": 5
}

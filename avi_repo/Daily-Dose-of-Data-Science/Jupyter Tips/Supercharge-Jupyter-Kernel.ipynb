{
 "cells": [
  {
   "cell_type": "markdown",
   "id": "23250de2",
   "metadata": {},
   "source": [
    "# Daily-Dose-of-Data-Science\n",
    "\n",
    "[Daily Dose of Data Science](https://avichawla.substack.com) is a publication on Substack that brings together intriguing frameworks, libraries, technologies, and tips that make the life cycle of a Data Science project effortless. \n",
    "\n",
    "Author: Avi Chawla\n",
    "\n",
    "[Medium](https://medium.com/@avi_chawla) | [LinkedIn](https://www.linkedin.com/in/avi-chawla/)\n",
    "\n",
    "# Supercharge Your Jupyter Kernel With ipyflow\n",
    "\n",
    "Post Link: [Substack](https://avichawla.substack.com/p/supercharge-your-jupyter-kernel-with)\n",
    "\n",
    "LinkedIn Post: [LinkedIn](https://www.linkedin.com/feed/update/urn:li:activity:7051118743208292352/)"
   ]
  },
  {
   "cell_type": "code",
   "execution_count": 2,
   "id": "55b75cdc",
   "metadata": {},
   "outputs": [
    {
     "data": {
      "text/html": [
       "<video src=\"../_Extras/ipyflow demo.mp4\" controls  width=\"700\" >\n",
       "      Your browser does not support the <code>video</code> element.\n",
       "    </video>"
      ],
      "text/plain": [
       "<IPython.core.display.Video object>"
      ]
     },
     "execution_count": 2,
     "metadata": {},
     "output_type": "execute_result"
    }
   ],
   "source": [
    "from IPython.display import Video\n",
    "Video(\"../_Extras/ipyflow demo.mp4\", width = 700)"
   ]
  },
  {
   "cell_type": "markdown",
   "id": "dc6655de",
   "metadata": {},
   "source": [
    "Read more: https://github.com/ipyflow/ipyflow"
   ]
  }
 ],
 "metadata": {
  "finalized": {
   "timestamp": 1681122023820,
   "trusted": true
  },
  "kernelspec": {
   "display_name": "Python 3 (ipyflow)",
   "language": "python",
   "name": "ipyflow"
  },
  "language_info": {
   "codemirror_mode": {
    "name": "ipython",
    "version": 3
   },
   "file_extension": ".py",
   "mimetype": "text/x-python",
   "name": "python",
   "nbconvert_exporter": "python",
   "pygments_lexer": "ipython3",
   "version": "3.9.12"
  }
 },
 "nbformat": 4,
 "nbformat_minor": 5
}

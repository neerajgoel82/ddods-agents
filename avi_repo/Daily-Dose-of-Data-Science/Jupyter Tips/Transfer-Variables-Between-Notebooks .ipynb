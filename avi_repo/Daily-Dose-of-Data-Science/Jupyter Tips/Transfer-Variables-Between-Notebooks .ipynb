{
 "cells": [
  {
   "cell_type": "markdown",
   "id": "21a1d5cf",
   "metadata": {},
   "source": [
    "# Daily-Dose-of-Data-Science\n",
    "\n",
    "[Daily Dose of Data Science](https://avichawla.substack.com) is a publication on Substack that brings together intriguing frameworks, libraries, technologies, and tips that make the life cycle of a Data Science project effortless. \n",
    "\n",
    "Author: Avi Chawla\n",
    "\n",
    "[Medium](https://medium.com/@avi_chawla) | [LinkedIn](https://www.linkedin.com/in/avi-chawla/)"
   ]
  },
  {
   "cell_type": "markdown",
   "id": "53c872a4",
   "metadata": {},
   "source": [
    "# Transfer Variables Between Jupyter Notebooks\n",
    "\n",
    "Post Link: [Substack](https://avichawla.substack.com/p/transfer-variables-between-jupyter)\n",
    "\n",
    "LinkedIn Post: [LinkedIn](https://www.linkedin.com/posts/avi-chawla_datascience-python-activity-6983680208075677696-jBx4?utm_source=share&utm_medium=member_desktop)"
   ]
  },
  {
   "cell_type": "code",
   "execution_count": 1,
   "id": "76199fa1",
   "metadata": {
    "ExecuteTime": {
     "end_time": "2022-12-01T18:49:22.264720Z",
     "start_time": "2022-12-01T18:49:22.222306Z"
    }
   },
   "outputs": [],
   "source": [
    "value = 10"
   ]
  },
  {
   "cell_type": "code",
   "execution_count": 2,
   "id": "d49e2145",
   "metadata": {
    "ExecuteTime": {
     "end_time": "2022-12-01T18:49:29.393913Z",
     "start_time": "2022-12-01T18:49:29.384026Z"
    }
   },
   "outputs": [
    {
     "name": "stdout",
     "output_type": "stream",
     "text": [
      "Stored 'value' (int)\n"
     ]
    }
   ],
   "source": [
    "%store value"
   ]
  },
  {
   "cell_type": "markdown",
   "id": "d2d62b11",
   "metadata": {},
   "source": [
    "Now open a new notebook and type the following:\n",
    "\n",
    "%store -r value\n",
    "print(value)\n",
    "\n",
    "You can access the variable 'value' there."
   ]
  },
  {
   "cell_type": "code",
   "execution_count": null,
   "id": "4a8205b6",
   "metadata": {},
   "outputs": [],
   "source": []
  }
 ],
 "metadata": {
  "kernelspec": {
   "display_name": "Python 3 (ipykernel)",
   "language": "python",
   "name": "python3"
  },
  "language_info": {
   "codemirror_mode": {
    "name": "ipython",
    "version": 3
   },
   "file_extension": ".py",
   "mimetype": "text/x-python",
   "name": "python",
   "nbconvert_exporter": "python",
   "pygments_lexer": "ipython3",
   "version": "3.9.12"
  }
 },
 "nbformat": 4,
 "nbformat_minor": 5
}

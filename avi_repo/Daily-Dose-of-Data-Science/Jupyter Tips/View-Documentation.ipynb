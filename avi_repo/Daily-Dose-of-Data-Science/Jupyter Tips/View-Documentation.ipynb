{
 "cells": [
  {
   "cell_type": "code",
   "execution_count": 1,
   "id": "0b5eacf0",
   "metadata": {
    "ExecuteTime": {
     "end_time": "2022-12-06T09:54:30.994561Z",
     "start_time": "2022-12-06T09:54:29.714033Z"
    }
   },
   "outputs": [],
   "source": [
    "import pandas as pd"
   ]
  },
  {
   "cell_type": "code",
   "execution_count": null,
   "id": "825859ed",
   "metadata": {},
   "outputs": [],
   "source": [
    "pd.DataFrame() # Press Shift-Tab in cell"
   ]
  },
  {
   "cell_type": "code",
   "execution_count": 1,
   "id": "fed8daec",
   "metadata": {
    "ExecuteTime": {
     "end_time": "2022-12-06T10:49:31.312789Z",
     "start_time": "2022-12-06T10:49:31.284596Z"
    }
   },
   "outputs": [
    {
     "data": {
      "text/html": [
       "<video src=\"../_Extras/view documentation.mp4\" controls  >\n",
       "      Your browser does not support the <code>video</code> element.\n",
       "    </video>"
      ],
      "text/plain": [
       "<IPython.core.display.Video object>"
      ]
     },
     "execution_count": 1,
     "metadata": {},
     "output_type": "execute_result"
    }
   ],
   "source": [
    "from IPython.display import Video\n",
    "Video(\"../_Extras/view documentation.mp4\")"
   ]
  },
  {
   "cell_type": "code",
   "execution_count": null,
   "id": "fee16eec",
   "metadata": {},
   "outputs": [],
   "source": []
  }
 ],
 "metadata": {
  "kernelspec": {
   "display_name": "Python 3 (ipykernel)",
   "language": "python",
   "name": "python3"
  },
  "language_info": {
   "codemirror_mode": {
    "name": "ipython",
    "version": 3
   },
   "file_extension": ".py",
   "mimetype": "text/x-python",
   "name": "python",
   "nbconvert_exporter": "python",
   "pygments_lexer": "ipython3",
   "version": "3.9.12"
  }
 },
 "nbformat": 4,
 "nbformat_minor": 5
}

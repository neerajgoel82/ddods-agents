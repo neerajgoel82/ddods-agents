{
 "cells": [
  {
   "cell_type": "markdown",
   "id": "47c25a0d",
   "metadata": {},
   "source": [
    "# Daily-Dose-of-Data-Science\n",
    "\n",
    "[Daily Dose of Data Science](https://avichawla.substack.com) is a publication on Substack that brings together intriguing frameworks, libraries, technologies, and tips that make the life cycle of a Data Science project effortless. \n",
    "\n",
    "Author: Avi Chawla\n",
    "\n",
    "[Medium](https://medium.com/@avi_chawla) | [LinkedIn](https://www.linkedin.com/in/avi-chawla/)\n",
    "\n",
    "# Label Your Data With The Click Of A Button\n",
    "\n",
    "Post Link: [Substack](https://avichawla.substack.com/p/label-your-data-with-the-click-of)\n",
    "\n",
    "LinkedIn Post: [LinkedIn](https://www.linkedin.com/feed/update/urn:li:activity:7019972628652122112/)"
   ]
  },
  {
   "cell_type": "code",
   "execution_count": 1,
   "id": "0f113410",
   "metadata": {},
   "outputs": [],
   "source": [
    "from glob import glob\n",
    "from PIL import Image\n",
    "\n",
    "images_data = [Image.open(_) for _ in glob('../_Datasets/cats-dogs-images/*jpeg')]"
   ]
  },
  {
   "cell_type": "code",
   "execution_count": 2,
   "id": "7ec0a569",
   "metadata": {
    "collapsed": true
   },
   "outputs": [
    {
     "name": "stdout",
     "output_type": "stream",
     "text": [
      "Requirement already satisfied: ipyannotate in /Users/avi/anaconda3/lib/python3.9/site-packages (0.1.0b0)\n",
      "Requirement already satisfied: ipywidgets>=7.0.0 in /Users/avi/anaconda3/lib/python3.9/site-packages (from ipyannotate) (7.6.5)\n",
      "Requirement already satisfied: nbformat>=4.2.0 in /Users/avi/anaconda3/lib/python3.9/site-packages (from ipywidgets>=7.0.0->ipyannotate) (5.3.0)\n",
      "Requirement already satisfied: widgetsnbextension~=3.5.0 in /Users/avi/anaconda3/lib/python3.9/site-packages (from ipywidgets>=7.0.0->ipyannotate) (3.5.2)\n",
      "Requirement already satisfied: jupyterlab-widgets>=1.0.0 in /Users/avi/anaconda3/lib/python3.9/site-packages (from ipywidgets>=7.0.0->ipyannotate) (1.0.0)\n",
      "Requirement already satisfied: ipykernel>=4.5.1 in /Users/avi/anaconda3/lib/python3.9/site-packages (from ipywidgets>=7.0.0->ipyannotate) (6.9.1)\n",
      "Requirement already satisfied: ipython-genutils~=0.2.0 in /Users/avi/anaconda3/lib/python3.9/site-packages (from ipywidgets>=7.0.0->ipyannotate) (0.2.0)\n",
      "Requirement already satisfied: traitlets>=4.3.1 in /Users/avi/anaconda3/lib/python3.9/site-packages (from ipywidgets>=7.0.0->ipyannotate) (5.1.1)\n",
      "Requirement already satisfied: ipython>=4.0.0 in /Users/avi/anaconda3/lib/python3.9/site-packages (from ipywidgets>=7.0.0->ipyannotate) (8.2.0)\n",
      "Requirement already satisfied: nest-asyncio in /Users/avi/anaconda3/lib/python3.9/site-packages (from ipykernel>=4.5.1->ipywidgets>=7.0.0->ipyannotate) (1.5.5)\n",
      "Requirement already satisfied: appnope in /Users/avi/anaconda3/lib/python3.9/site-packages (from ipykernel>=4.5.1->ipywidgets>=7.0.0->ipyannotate) (0.1.2)\n",
      "Requirement already satisfied: matplotlib-inline<0.2.0,>=0.1.0 in /Users/avi/anaconda3/lib/python3.9/site-packages (from ipykernel>=4.5.1->ipywidgets>=7.0.0->ipyannotate) (0.1.2)\n",
      "Requirement already satisfied: tornado<7.0,>=4.2 in /Users/avi/anaconda3/lib/python3.9/site-packages (from ipykernel>=4.5.1->ipywidgets>=7.0.0->ipyannotate) (6.1)\n",
      "Requirement already satisfied: jupyter-client<8.0 in /Users/avi/anaconda3/lib/python3.9/site-packages (from ipykernel>=4.5.1->ipywidgets>=7.0.0->ipyannotate) (6.1.12)\n",
      "Requirement already satisfied: debugpy<2.0,>=1.0.0 in /Users/avi/anaconda3/lib/python3.9/site-packages (from ipykernel>=4.5.1->ipywidgets>=7.0.0->ipyannotate) (1.5.1)\n",
      "Requirement already satisfied: decorator in /Users/avi/anaconda3/lib/python3.9/site-packages (from ipython>=4.0.0->ipywidgets>=7.0.0->ipyannotate) (5.1.1)\n",
      "Requirement already satisfied: pickleshare in /Users/avi/anaconda3/lib/python3.9/site-packages (from ipython>=4.0.0->ipywidgets>=7.0.0->ipyannotate) (0.7.5)\n",
      "Requirement already satisfied: backcall in /Users/avi/anaconda3/lib/python3.9/site-packages (from ipython>=4.0.0->ipywidgets>=7.0.0->ipyannotate) (0.2.0)\n",
      "Requirement already satisfied: jedi>=0.16 in /Users/avi/anaconda3/lib/python3.9/site-packages (from ipython>=4.0.0->ipywidgets>=7.0.0->ipyannotate) (0.18.1)\n",
      "Requirement already satisfied: pexpect>4.3 in /Users/avi/anaconda3/lib/python3.9/site-packages (from ipython>=4.0.0->ipywidgets>=7.0.0->ipyannotate) (4.8.0)\n",
      "Requirement already satisfied: prompt-toolkit!=3.0.0,!=3.0.1,<3.1.0,>=2.0.0 in /Users/avi/anaconda3/lib/python3.9/site-packages (from ipython>=4.0.0->ipywidgets>=7.0.0->ipyannotate) (3.0.20)\n",
      "Requirement already satisfied: setuptools>=18.5 in /Users/avi/anaconda3/lib/python3.9/site-packages (from ipython>=4.0.0->ipywidgets>=7.0.0->ipyannotate) (61.2.0)\n",
      "Requirement already satisfied: stack-data in /Users/avi/anaconda3/lib/python3.9/site-packages (from ipython>=4.0.0->ipywidgets>=7.0.0->ipyannotate) (0.2.0)\n",
      "Requirement already satisfied: pygments>=2.4.0 in /Users/avi/anaconda3/lib/python3.9/site-packages (from ipython>=4.0.0->ipywidgets>=7.0.0->ipyannotate) (2.11.2)\n",
      "Requirement already satisfied: parso<0.9.0,>=0.8.0 in /Users/avi/anaconda3/lib/python3.9/site-packages (from jedi>=0.16->ipython>=4.0.0->ipywidgets>=7.0.0->ipyannotate) (0.8.3)\n",
      "Requirement already satisfied: pyzmq>=13 in /Users/avi/anaconda3/lib/python3.9/site-packages (from jupyter-client<8.0->ipykernel>=4.5.1->ipywidgets>=7.0.0->ipyannotate) (22.3.0)\n",
      "Requirement already satisfied: python-dateutil>=2.1 in /Users/avi/anaconda3/lib/python3.9/site-packages (from jupyter-client<8.0->ipykernel>=4.5.1->ipywidgets>=7.0.0->ipyannotate) (2.8.2)\n",
      "Requirement already satisfied: jupyter-core>=4.6.0 in /Users/avi/anaconda3/lib/python3.9/site-packages (from jupyter-client<8.0->ipykernel>=4.5.1->ipywidgets>=7.0.0->ipyannotate) (4.9.2)\n",
      "Requirement already satisfied: jsonschema>=2.6 in /Users/avi/anaconda3/lib/python3.9/site-packages (from nbformat>=4.2.0->ipywidgets>=7.0.0->ipyannotate) (3.2.0)\n",
      "Requirement already satisfied: fastjsonschema in /Users/avi/anaconda3/lib/python3.9/site-packages (from nbformat>=4.2.0->ipywidgets>=7.0.0->ipyannotate) (2.15.1)\n",
      "Requirement already satisfied: attrs>=17.4.0 in /Users/avi/anaconda3/lib/python3.9/site-packages (from jsonschema>=2.6->nbformat>=4.2.0->ipywidgets>=7.0.0->ipyannotate) (21.4.0)\n",
      "Requirement already satisfied: six>=1.11.0 in /Users/avi/anaconda3/lib/python3.9/site-packages (from jsonschema>=2.6->nbformat>=4.2.0->ipywidgets>=7.0.0->ipyannotate) (1.16.0)\n",
      "Requirement already satisfied: pyrsistent>=0.14.0 in /Users/avi/anaconda3/lib/python3.9/site-packages (from jsonschema>=2.6->nbformat>=4.2.0->ipywidgets>=7.0.0->ipyannotate) (0.18.0)\n",
      "Requirement already satisfied: ptyprocess>=0.5 in /Users/avi/anaconda3/lib/python3.9/site-packages (from pexpect>4.3->ipython>=4.0.0->ipywidgets>=7.0.0->ipyannotate) (0.7.0)\n",
      "Requirement already satisfied: wcwidth in /Users/avi/anaconda3/lib/python3.9/site-packages (from prompt-toolkit!=3.0.0,!=3.0.1,<3.1.0,>=2.0.0->ipython>=4.0.0->ipywidgets>=7.0.0->ipyannotate) (0.2.5)\n",
      "Requirement already satisfied: notebook>=4.4.1 in /Users/avi/anaconda3/lib/python3.9/site-packages (from widgetsnbextension~=3.5.0->ipywidgets>=7.0.0->ipyannotate) (6.4.8)\n",
      "Requirement already satisfied: jinja2 in /Users/avi/anaconda3/lib/python3.9/site-packages (from notebook>=4.4.1->widgetsnbextension~=3.5.0->ipywidgets>=7.0.0->ipyannotate) (3.0.0)\n",
      "Requirement already satisfied: nbconvert in /Users/avi/anaconda3/lib/python3.9/site-packages (from notebook>=4.4.1->widgetsnbextension~=3.5.0->ipywidgets>=7.0.0->ipyannotate) (7.2.3)\n",
      "Requirement already satisfied: prometheus-client in /Users/avi/anaconda3/lib/python3.9/site-packages (from notebook>=4.4.1->widgetsnbextension~=3.5.0->ipywidgets>=7.0.0->ipyannotate) (0.13.1)\n",
      "Requirement already satisfied: argon2-cffi in /Users/avi/anaconda3/lib/python3.9/site-packages (from notebook>=4.4.1->widgetsnbextension~=3.5.0->ipywidgets>=7.0.0->ipyannotate) (21.3.0)\n",
      "Requirement already satisfied: terminado>=0.8.3 in /Users/avi/anaconda3/lib/python3.9/site-packages (from notebook>=4.4.1->widgetsnbextension~=3.5.0->ipywidgets>=7.0.0->ipyannotate) (0.13.1)\n",
      "Requirement already satisfied: Send2Trash>=1.8.0 in /Users/avi/anaconda3/lib/python3.9/site-packages (from notebook>=4.4.1->widgetsnbextension~=3.5.0->ipywidgets>=7.0.0->ipyannotate) (1.8.0)\n",
      "Requirement already satisfied: argon2-cffi-bindings in /Users/avi/anaconda3/lib/python3.9/site-packages (from argon2-cffi->notebook>=4.4.1->widgetsnbextension~=3.5.0->ipywidgets>=7.0.0->ipyannotate) (21.2.0)\n",
      "Requirement already satisfied: cffi>=1.0.1 in /Users/avi/anaconda3/lib/python3.9/site-packages (from argon2-cffi-bindings->argon2-cffi->notebook>=4.4.1->widgetsnbextension~=3.5.0->ipywidgets>=7.0.0->ipyannotate) (1.15.0)\n",
      "Requirement already satisfied: pycparser in /Users/avi/anaconda3/lib/python3.9/site-packages (from cffi>=1.0.1->argon2-cffi-bindings->argon2-cffi->notebook>=4.4.1->widgetsnbextension~=3.5.0->ipywidgets>=7.0.0->ipyannotate) (2.21)\n",
      "Requirement already satisfied: MarkupSafe>=2.0.0rc2 in /Users/avi/anaconda3/lib/python3.9/site-packages (from jinja2->notebook>=4.4.1->widgetsnbextension~=3.5.0->ipywidgets>=7.0.0->ipyannotate) (2.0.1)\n",
      "Requirement already satisfied: jupyterlab-pygments in /Users/avi/anaconda3/lib/python3.9/site-packages (from nbconvert->notebook>=4.4.1->widgetsnbextension~=3.5.0->ipywidgets>=7.0.0->ipyannotate) (0.1.2)\n",
      "Requirement already satisfied: mistune<3,>=2.0.3 in /Users/avi/anaconda3/lib/python3.9/site-packages (from nbconvert->notebook>=4.4.1->widgetsnbextension~=3.5.0->ipywidgets>=7.0.0->ipyannotate) (2.0.4)\n",
      "Requirement already satisfied: importlib-metadata>=3.6 in /Users/avi/anaconda3/lib/python3.9/site-packages (from nbconvert->notebook>=4.4.1->widgetsnbextension~=3.5.0->ipywidgets>=7.0.0->ipyannotate) (4.11.3)\n",
      "Requirement already satisfied: tinycss2 in /Users/avi/anaconda3/lib/python3.9/site-packages (from nbconvert->notebook>=4.4.1->widgetsnbextension~=3.5.0->ipywidgets>=7.0.0->ipyannotate) (1.2.1)\n",
      "Requirement already satisfied: defusedxml in /Users/avi/anaconda3/lib/python3.9/site-packages (from nbconvert->notebook>=4.4.1->widgetsnbextension~=3.5.0->ipywidgets>=7.0.0->ipyannotate) (0.7.1)\n",
      "Requirement already satisfied: beautifulsoup4 in /Users/avi/anaconda3/lib/python3.9/site-packages (from nbconvert->notebook>=4.4.1->widgetsnbextension~=3.5.0->ipywidgets>=7.0.0->ipyannotate) (4.11.1)\n",
      "Requirement already satisfied: nbclient>=0.5.0 in /Users/avi/anaconda3/lib/python3.9/site-packages (from nbconvert->notebook>=4.4.1->widgetsnbextension~=3.5.0->ipywidgets>=7.0.0->ipyannotate) (0.5.13)\n",
      "Requirement already satisfied: pandocfilters>=1.4.1 in /Users/avi/anaconda3/lib/python3.9/site-packages (from nbconvert->notebook>=4.4.1->widgetsnbextension~=3.5.0->ipywidgets>=7.0.0->ipyannotate) (1.5.0)\n",
      "Requirement already satisfied: bleach in /Users/avi/anaconda3/lib/python3.9/site-packages (from nbconvert->notebook>=4.4.1->widgetsnbextension~=3.5.0->ipywidgets>=7.0.0->ipyannotate) (4.1.0)\n",
      "Requirement already satisfied: packaging in /Users/avi/anaconda3/lib/python3.9/site-packages (from nbconvert->notebook>=4.4.1->widgetsnbextension~=3.5.0->ipywidgets>=7.0.0->ipyannotate) (21.3)\n",
      "Requirement already satisfied: zipp>=0.5 in /Users/avi/anaconda3/lib/python3.9/site-packages (from importlib-metadata>=3.6->nbconvert->notebook>=4.4.1->widgetsnbextension~=3.5.0->ipywidgets>=7.0.0->ipyannotate) (3.7.0)\n"
     ]
    },
    {
     "name": "stdout",
     "output_type": "stream",
     "text": [
      "Requirement already satisfied: soupsieve>1.2 in /Users/avi/anaconda3/lib/python3.9/site-packages (from beautifulsoup4->nbconvert->notebook>=4.4.1->widgetsnbextension~=3.5.0->ipywidgets>=7.0.0->ipyannotate) (2.3.1)\r\n",
      "Requirement already satisfied: webencodings in /Users/avi/anaconda3/lib/python3.9/site-packages (from bleach->nbconvert->notebook>=4.4.1->widgetsnbextension~=3.5.0->ipywidgets>=7.0.0->ipyannotate) (0.5.1)\r\n",
      "Requirement already satisfied: pyparsing!=3.0.5,>=2.0.2 in /Users/avi/anaconda3/lib/python3.9/site-packages (from packaging->nbconvert->notebook>=4.4.1->widgetsnbextension~=3.5.0->ipywidgets>=7.0.0->ipyannotate) (3.0.4)\r\n",
      "Requirement already satisfied: executing in /Users/avi/anaconda3/lib/python3.9/site-packages (from stack-data->ipython>=4.0.0->ipywidgets>=7.0.0->ipyannotate) (0.8.3)\r\n",
      "Requirement already satisfied: pure-eval in /Users/avi/anaconda3/lib/python3.9/site-packages (from stack-data->ipython>=4.0.0->ipywidgets>=7.0.0->ipyannotate) (0.2.2)\r\n",
      "Requirement already satisfied: asttokens in /Users/avi/anaconda3/lib/python3.9/site-packages (from stack-data->ipython>=4.0.0->ipywidgets>=7.0.0->ipyannotate) (2.0.5)\r\n"
     ]
    }
   ],
   "source": [
    "!pip install ipyannotate"
   ]
  },
  {
   "cell_type": "code",
   "execution_count": 3,
   "id": "481d9fa7",
   "metadata": {},
   "outputs": [],
   "source": [
    "from ipyannotate import annotate\n",
    "\n",
    "from ipyannotate.buttons import ValueButton as Button"
   ]
  },
  {
   "cell_type": "code",
   "execution_count": 4,
   "id": "471c2045",
   "metadata": {},
   "outputs": [
    {
     "data": {
      "application/vnd.jupyter.widget-view+json": {
       "model_id": "e4fabce974b34394a36b12364a3db3b2",
       "version_major": 2,
       "version_minor": 0
      },
      "text/plain": [
       "Annotation(canvas=OutputCanvas(), progress=Progress(atoms=[<ipyannotate.progress.Atom object at 0x7f9171684e50…"
      ]
     },
     "metadata": {},
     "output_type": "display_data"
    }
   ],
   "source": [
    "annotation = annotate(images_data,            # data\n",
    "                      buttons=[Button('Dog'), # label buttons list\n",
    "                               Button('Cat')])\n",
    "annotation"
   ]
  },
  {
   "cell_type": "code",
   "execution_count": 5,
   "id": "a3717053",
   "metadata": {},
   "outputs": [
    {
     "data": {
      "text/plain": [
       "['Cat', 'Dog', 'Dog', 'Cat']"
      ]
     },
     "execution_count": 5,
     "metadata": {},
     "output_type": "execute_result"
    }
   ],
   "source": [
    "labels = [task.value for task in annotation.tasks] # get labels\n",
    "labels"
   ]
  }
 ],
 "metadata": {
  "kernelspec": {
   "display_name": "Python 3 (ipykernel)",
   "language": "python",
   "name": "python3"
  },
  "language_info": {
   "codemirror_mode": {
    "name": "ipython",
    "version": 3
   },
   "file_extension": ".py",
   "mimetype": "text/x-python",
   "name": "python",
   "nbconvert_exporter": "python",
   "pygments_lexer": "ipython3",
   "version": "3.9.12"
  }
 },
 "nbformat": 4,
 "nbformat_minor": 5
}

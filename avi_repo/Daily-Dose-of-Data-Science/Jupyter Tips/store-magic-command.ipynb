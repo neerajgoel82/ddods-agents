{
 "cells": [
  {
   "cell_type": "markdown",
   "id": "f818437b",
   "metadata": {},
   "source": [
    "# Daily-Dose-of-Data-Science\n",
    "\n",
    "[Daily Dose of Data Science](https://avichawla.substack.com) is a publication on Substack that brings together intriguing frameworks, libraries, technologies, and tips that make the life cycle of a Data Science project effortless. \n",
    "\n",
    "Author: Avi Chawla\n",
    "\n",
    "[Medium](https://medium.com/@avi_chawla) | [LinkedIn](https://www.linkedin.com/in/avi-chawla/)\n",
    "\n",
    "# Restart Jupyter Kernel Without Losing Variables\n",
    "\n",
    "Post Link: [Substack](https://avichawla.substack.com/p/restart-jupyter-kernel-without-losing)\n",
    "\n",
    "LinkedIn Post: [LinkedIn](https://www.linkedin.com/feed/update/urn:li:activity:7062345757181247488/)\n",
    "\n",
    "Twitter Post: [Twitter](https://twitter.com/_avichawla/status/1656579990886969346)"
   ]
  },
  {
   "cell_type": "code",
   "execution_count": 1,
   "id": "35b8e8ca",
   "metadata": {},
   "outputs": [],
   "source": [
    "# Define variable\n",
    "value = 2"
   ]
  },
  {
   "cell_type": "code",
   "execution_count": 2,
   "id": "dbb236e5",
   "metadata": {},
   "outputs": [
    {
     "name": "stdout",
     "output_type": "stream",
     "text": [
      "Stored 'value' (int)\n"
     ]
    }
   ],
   "source": [
    "# Store it using magic command\n",
    "%store value"
   ]
  },
  {
   "cell_type": "markdown",
   "id": "90a7602b",
   "metadata": {},
   "source": [
    "### Restart Kernel"
   ]
  },
  {
   "cell_type": "code",
   "execution_count": 1,
   "id": "72688f64",
   "metadata": {},
   "outputs": [],
   "source": [
    "# Restore variable\n",
    "%store -r value"
   ]
  },
  {
   "cell_type": "code",
   "execution_count": 2,
   "id": "dd2c9800",
   "metadata": {},
   "outputs": [
    {
     "data": {
      "text/plain": [
       "2"
      ]
     },
     "execution_count": 2,
     "metadata": {},
     "output_type": "execute_result"
    }
   ],
   "source": [
    "value"
   ]
  }
 ],
 "metadata": {
  "kernelspec": {
   "display_name": "Python 3 (ipykernel)",
   "language": "python",
   "name": "python3"
  },
  "language_info": {
   "codemirror_mode": {
    "name": "ipython",
    "version": 3
   },
   "file_extension": ".py",
   "mimetype": "text/x-python",
   "name": "python",
   "nbconvert_exporter": "python",
   "pygments_lexer": "ipython3",
   "version": "3.9.12"
  },
  "toc": {
   "base_numbering": 1,
   "nav_menu": {},
   "number_sections": false,
   "sideBar": true,
   "skip_h1_title": false,
   "title_cell": "Table of Contents",
   "title_sidebar": "Contents",
   "toc_cell": false,
   "toc_position": {},
   "toc_section_display": true,
   "toc_window_display": false
  }
 },
 "nbformat": 4,
 "nbformat_minor": 5
}

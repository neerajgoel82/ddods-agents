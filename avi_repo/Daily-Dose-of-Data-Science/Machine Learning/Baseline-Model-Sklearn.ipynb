{
 "cells": [
  {
   "cell_type": "markdown",
   "id": "bcd8faf1",
   "metadata": {},
   "source": [
    "# Daily-Dose-of-Data-Science\n",
    "\n",
    "[Daily Dose of Data Science](https://avichawla.substack.com) is a publication on Substack that brings together intriguing frameworks, libraries, technologies, and tips that make the life cycle of a Data Science project effortless. \n",
    "\n",
    "Author: Avi Chawla\n",
    "\n",
    "[Medium](https://medium.com/@avi_chawla) | [LinkedIn](https://www.linkedin.com/in/avi-chawla/)"
   ]
  },
  {
   "cell_type": "markdown",
   "id": "6caa2428",
   "metadata": {},
   "source": [
    "# Build Baseline Models Effortlessly With Sklearn\n",
    "\n",
    "Post Link: [Substack](https://avichawla.substack.com/p/build-baseline-models-effortlessly)\n",
    "\n",
    "LinkedIn Post: [LinkedIn](https://www.linkedin.com/posts/avi-chawla_python-datascience-sklearn-activity-6990975647615488000-XcVM?utm_source=share&utm_medium=member_desktop)"
   ]
  },
  {
   "cell_type": "code",
   "execution_count": 1,
   "id": "b16ec279",
   "metadata": {
    "ExecuteTime": {
     "end_time": "2022-12-01T20:21:46.080536Z",
     "start_time": "2022-12-01T20:21:44.774009Z"
    }
   },
   "outputs": [],
   "source": [
    "import numpy as np\n",
    "from sklearn.dummy import DummyClassifier"
   ]
  },
  {
   "cell_type": "code",
   "execution_count": 2,
   "id": "42d46bea",
   "metadata": {
    "ExecuteTime": {
     "end_time": "2022-12-01T20:21:49.064505Z",
     "start_time": "2022-12-01T20:21:49.058304Z"
    }
   },
   "outputs": [],
   "source": [
    "X = np.array([-1, 1, 1, 1])\n",
    "y = np.array([0, 1, 1, 1])"
   ]
  },
  {
   "cell_type": "code",
   "execution_count": 5,
   "id": "8ef599c6",
   "metadata": {
    "ExecuteTime": {
     "end_time": "2022-12-01T20:22:21.572921Z",
     "start_time": "2022-12-01T20:22:21.564137Z"
    }
   },
   "outputs": [],
   "source": [
    "dummy_clf = DummyClassifier(strategy=\"most_frequent\").fit(X, y)"
   ]
  },
  {
   "cell_type": "code",
   "execution_count": 6,
   "id": "8ac1a081",
   "metadata": {
    "ExecuteTime": {
     "end_time": "2022-12-01T20:22:22.198513Z",
     "start_time": "2022-12-01T20:22:22.180290Z"
    }
   },
   "outputs": [
    {
     "data": {
      "text/plain": [
       "array([1, 1, 1, 1])"
      ]
     },
     "execution_count": 6,
     "metadata": {},
     "output_type": "execute_result"
    }
   ],
   "source": [
    "dummy_clf.predict([4,5,1,4])"
   ]
  },
  {
   "cell_type": "code",
   "execution_count": 7,
   "id": "66c1f6ba",
   "metadata": {
    "ExecuteTime": {
     "end_time": "2022-12-01T20:22:42.341515Z",
     "start_time": "2022-12-01T20:22:42.257556Z"
    }
   },
   "outputs": [
    {
     "data": {
      "text/plain": [
       "0.5"
      ]
     },
     "execution_count": 7,
     "metadata": {},
     "output_type": "execute_result"
    }
   ],
   "source": [
    "dummy_clf.score([4,5,1,4], [0,1,0,1])"
   ]
  }
 ],
 "metadata": {
  "kernelspec": {
   "display_name": "Python 3 (ipykernel)",
   "language": "python",
   "name": "python3"
  },
  "language_info": {
   "codemirror_mode": {
    "name": "ipython",
    "version": 3
   },
   "file_extension": ".py",
   "mimetype": "text/x-python",
   "name": "python",
   "nbconvert_exporter": "python",
   "pygments_lexer": "ipython3",
   "version": "3.9.12"
  }
 },
 "nbformat": 4,
 "nbformat_minor": 5
}

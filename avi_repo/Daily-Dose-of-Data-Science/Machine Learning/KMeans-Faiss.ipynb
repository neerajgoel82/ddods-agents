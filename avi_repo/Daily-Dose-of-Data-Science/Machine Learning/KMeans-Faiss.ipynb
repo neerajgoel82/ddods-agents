{
 "cells": [
  {
   "cell_type": "markdown",
   "id": "41ddaf4b",
   "metadata": {},
   "source": [
    "# Daily-Dose-of-Data-Science\n",
    "\n",
    "[Daily Dose of Data Science](https://avichawla.substack.com) is a publication on Substack that brings together intriguing frameworks, libraries, technologies, and tips that make the life cycle of a Data Science project effortless. \n",
    "\n",
    "Author: Avi Chawla\n",
    "\n",
    "[Medium](https://medium.com/@avi_chawla) | [LinkedIn](https://www.linkedin.com/in/avi-chawla/)\n",
    "\n",
    "# The Limitation of KMeans Which Is Often Overlooked by Many\n",
    "\n",
    "Post Link: [Substack](https://www.blog.dailydoseofds.com/p/the-limitation-of-kmeans-which-is)\n",
    "\n",
    "LinkedIn Post: [LinkedIn](https://www.linkedin.com/feed/update/urn:li:activity:7073214581266915328/)\n",
    "\n",
    "Twitter Post: [Twitter](https://twitter.com/_avichawla/status/1667449023891128322)"
   ]
  },
  {
   "cell_type": "code",
   "execution_count": 1,
   "id": "91412bc5",
   "metadata": {},
   "outputs": [
    {
     "name": "stdout",
     "output_type": "stream",
     "text": [
      "Requirement already satisfied: faiss-cpu in /Users/avi/anaconda3/lib/python3.9/site-packages (1.7.3)\r\n"
     ]
    }
   ],
   "source": [
    "!pip install faiss-cpu"
   ]
  },
  {
   "cell_type": "code",
   "execution_count": 2,
   "id": "68c1cd08",
   "metadata": {},
   "outputs": [],
   "source": [
    "import pandas as pd\n",
    "import faiss\n",
    "from sklearn.cluster import KMeans"
   ]
  },
  {
   "cell_type": "markdown",
   "id": "dc247ce9",
   "metadata": {},
   "source": [
    "### Load Data"
   ]
  },
  {
   "cell_type": "code",
   "execution_count": 3,
   "id": "5c1d7739",
   "metadata": {},
   "outputs": [],
   "source": [
    "data = pd.read_csv(\"mnist_train.csv\")\n",
    "\n",
    "x = data.drop(columns = [\"label\"]).values\n",
    "y = data[\"label\"].values"
   ]
  },
  {
   "cell_type": "markdown",
   "id": "c787a333",
   "metadata": {},
   "source": [
    "### KMeans Sklearn"
   ]
  },
  {
   "cell_type": "code",
   "execution_count": 7,
   "id": "d43e2bde",
   "metadata": {},
   "outputs": [
    {
     "name": "stdout",
     "output_type": "stream",
     "text": [
      "18.5 s ± 1.03 s per loop (mean ± std. dev. of 5 runs, 1 loop each)\n"
     ]
    }
   ],
   "source": [
    "%%timeit -n1 -r5\n",
    "\n",
    "kmeans = KMeans(n_clusters=10).fit(x)"
   ]
  },
  {
   "cell_type": "markdown",
   "id": "6b82dec3",
   "metadata": {},
   "source": [
    "### KMeans Faiss"
   ]
  },
  {
   "cell_type": "code",
   "execution_count": 18,
   "id": "d29b48d2",
   "metadata": {},
   "outputs": [
    {
     "name": "stdout",
     "output_type": "stream",
     "text": [
      "874 ms ± 48.2 ms per loop (mean ± std. dev. of 5 runs, 1 loop each)\n"
     ]
    }
   ],
   "source": [
    "%%timeit -n1 -r5\n",
    "\n",
    "kmeans = faiss.Kmeans(d, k=10)\n",
    "kmeans.train(x)"
   ]
  }
 ],
 "metadata": {
  "kernelspec": {
   "display_name": "Python 3 (ipykernel)",
   "language": "python",
   "name": "python3"
  },
  "language_info": {
   "codemirror_mode": {
    "name": "ipython",
    "version": 3
   },
   "file_extension": ".py",
   "mimetype": "text/x-python",
   "name": "python",
   "nbconvert_exporter": "python",
   "pygments_lexer": "ipython3",
   "version": "3.9.12"
  },
  "toc": {
   "base_numbering": 1,
   "nav_menu": {},
   "number_sections": true,
   "sideBar": true,
   "skip_h1_title": false,
   "title_cell": "Table of Contents",
   "title_sidebar": "Contents",
   "toc_cell": false,
   "toc_position": {},
   "toc_section_display": true,
   "toc_window_display": false
  }
 },
 "nbformat": 4,
 "nbformat_minor": 5
}

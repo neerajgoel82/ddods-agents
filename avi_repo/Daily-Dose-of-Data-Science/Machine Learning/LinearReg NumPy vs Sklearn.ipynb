{
 "cells": [
  {
   "cell_type": "markdown",
   "id": "06d2c0f7",
   "metadata": {},
   "source": [
    "# Daily-Dose-of-Data-Science\n",
    "\n",
    "[Daily Dose of Data Science](https://avichawla.substack.com) is a publication on Substack that brings together intriguing frameworks, libraries, technologies, and tips that make the life cycle of a Data Science project effortless. \n",
    "\n",
    "Author: Avi Chawla\n",
    "\n",
    "[Medium](https://medium.com/@avi_chawla) | [LinkedIn](https://www.linkedin.com/in/avi-chawla/)"
   ]
  },
  {
   "cell_type": "markdown",
   "id": "36296e56",
   "metadata": {},
   "source": [
    "# Polynomial Linear Regression with NumPy\n",
    "\n",
    "Post Link: [Substack](https://avichawla.substack.com/p/polynomial-linear-regression-with)\n",
    "\n",
    "LinkedIn Post: [LinkedIn](https://www.linkedin.com/posts/avi-chawla_machinelearning-python-numpy-activity-6987016246042988544-XMXM?utm_source=share&utm_medium=member_desktop)"
   ]
  },
  {
   "cell_type": "code",
   "execution_count": 2,
   "id": "9a3fb098",
   "metadata": {
    "ExecuteTime": {
     "end_time": "2022-12-01T19:42:00.140102Z",
     "start_time": "2022-12-01T19:41:59.923501Z"
    }
   },
   "outputs": [],
   "source": [
    "import numpy as np\n",
    "from sklearn.linear_model import LinearRegression"
   ]
  },
  {
   "cell_type": "markdown",
   "id": "bca876dd",
   "metadata": {},
   "source": [
    "## Sklearn"
   ]
  },
  {
   "cell_type": "code",
   "execution_count": 7,
   "id": "0d56b702",
   "metadata": {
    "ExecuteTime": {
     "end_time": "2022-12-01T19:44:39.911764Z",
     "start_time": "2022-12-01T19:44:39.899113Z"
    }
   },
   "outputs": [],
   "source": [
    "## train\n",
    "\n",
    "## x\n",
    "x = np.array([8, 13, 14, 15, 15, 20, 25, 30, 38, 40]).reshape(-1, 1)\n",
    "\n",
    "## create features\n",
    "x = np.hstack((x, x**2))\n",
    "\n",
    "## y\n",
    "y = np.array([5, 4, 18, 14, 20, 24, 28, 33, 30, 37]).reshape(-1, 1)\n",
    "\n",
    "## model\n",
    "model = LinearRegression().fit(x, y)"
   ]
  },
  {
   "cell_type": "code",
   "execution_count": 5,
   "id": "7c594224",
   "metadata": {
    "ExecuteTime": {
     "end_time": "2022-12-01T19:44:08.273249Z",
     "start_time": "2022-12-01T19:44:08.263255Z"
    }
   },
   "outputs": [
    {
     "data": {
      "text/plain": [
       "array([[-10.4187261]])"
      ]
     },
     "execution_count": 5,
     "metadata": {},
     "output_type": "execute_result"
    }
   ],
   "source": [
    "## test\n",
    "\n",
    "x = 2\n",
    "\n",
    "## again create feature\n",
    "inp = np.array([[x, x**2]])\n",
    "\n",
    "## predict\n",
    "model.predict(inp)"
   ]
  },
  {
   "cell_type": "markdown",
   "id": "c7e93cdf",
   "metadata": {},
   "source": [
    "## NumPy"
   ]
  },
  {
   "cell_type": "code",
   "execution_count": 9,
   "id": "798ced4b",
   "metadata": {
    "ExecuteTime": {
     "end_time": "2022-12-01T19:45:07.565431Z",
     "start_time": "2022-12-01T19:45:07.554243Z"
    }
   },
   "outputs": [],
   "source": [
    "## x and y\n",
    "x = np.array([8, 13, 14, 15, 15, 20, 25, 30, 38, 40])\n",
    "y = np.array([5, 4, 18, 14, 20, 24, 28, 33, 30, 37])\n",
    "\n",
    "coeff = np.polyfit(x, y, deg = 2) ## specify degree"
   ]
  },
  {
   "cell_type": "code",
   "execution_count": 12,
   "id": "b10468c5",
   "metadata": {
    "ExecuteTime": {
     "end_time": "2022-12-01T19:45:27.025914Z",
     "start_time": "2022-12-01T19:45:27.017328Z"
    }
   },
   "outputs": [
    {
     "data": {
      "text/plain": [
       "array([ -0.03417752,   2.60449633, -15.49100871])"
      ]
     },
     "execution_count": 12,
     "metadata": {},
     "output_type": "execute_result"
    }
   ],
   "source": [
    "coeff"
   ]
  },
  {
   "cell_type": "code",
   "execution_count": 10,
   "id": "9c4a9c5f",
   "metadata": {
    "ExecuteTime": {
     "end_time": "2022-12-01T19:45:19.282443Z",
     "start_time": "2022-12-01T19:45:19.276467Z"
    }
   },
   "outputs": [],
   "source": [
    "model = np.poly1d(coeff)"
   ]
  },
  {
   "cell_type": "code",
   "execution_count": 11,
   "id": "e13583a7",
   "metadata": {
    "ExecuteTime": {
     "end_time": "2022-12-01T19:45:21.301988Z",
     "start_time": "2022-12-01T19:45:21.292907Z"
    }
   },
   "outputs": [
    {
     "data": {
      "text/plain": [
       "poly1d([ -0.03417752,   2.60449633, -15.49100871])"
      ]
     },
     "execution_count": 11,
     "metadata": {},
     "output_type": "execute_result"
    }
   ],
   "source": [
    "model"
   ]
  },
  {
   "cell_type": "code",
   "execution_count": 14,
   "id": "ff9e5ab0",
   "metadata": {
    "ExecuteTime": {
     "end_time": "2022-12-01T19:45:49.186499Z",
     "start_time": "2022-12-01T19:45:49.176978Z"
    }
   },
   "outputs": [
    {
     "data": {
      "text/plain": [
       "-10.418726101325214"
      ]
     },
     "execution_count": 14,
     "metadata": {},
     "output_type": "execute_result"
    }
   ],
   "source": [
    "inp = 2 \n",
    "model(inp) ## it creates the features"
   ]
  },
  {
   "cell_type": "code",
   "execution_count": null,
   "id": "593a16e7",
   "metadata": {},
   "outputs": [],
   "source": []
  }
 ],
 "metadata": {
  "kernelspec": {
   "display_name": "Python 3 (ipykernel)",
   "language": "python",
   "name": "python3"
  },
  "language_info": {
   "codemirror_mode": {
    "name": "ipython",
    "version": 3
   },
   "file_extension": ".py",
   "mimetype": "text/x-python",
   "name": "python",
   "nbconvert_exporter": "python",
   "pygments_lexer": "ipython3",
   "version": "3.9.12"
  }
 },
 "nbformat": 4,
 "nbformat_minor": 5
}

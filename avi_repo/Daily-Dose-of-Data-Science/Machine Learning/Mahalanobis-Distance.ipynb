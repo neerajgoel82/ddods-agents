{
 "cells": [
  {
   "cell_type": "markdown",
   "id": "460a23bd",
   "metadata": {},
   "source": [
    "# Daily-Dose-of-Data-Science\n",
    "\n",
    "[Daily Dose of Data Science](https://avichawla.substack.com) is a publication on Substack that brings together intriguing frameworks, libraries, technologies, and tips that make the life cycle of a Data Science project effortless. \n",
    "\n",
    "Author: Avi Chawla\n",
    "\n",
    "[Medium](https://medium.com/@avi_chawla) | [LinkedIn](https://www.linkedin.com/in/avi-chawla/)\n",
    "\n",
    "# The Limitation Of Euclidean Distance Which Many Often Ignore\n",
    "\n",
    "Post Link: [Substack](https://avichawla.substack.com/p/the-limitation-of-euclidean-distance)\n",
    "\n",
    "LinkedIn Post: [LinkedIn](https://www.linkedin.com/feed/update/urn:li:activity:7050431405348012032/)\n",
    "\n",
    "Twitter Post: [Twitter]()"
   ]
  },
  {
   "cell_type": "code",
   "execution_count": 1,
   "id": "203b5c74",
   "metadata": {},
   "outputs": [],
   "source": [
    "import numpy as np\n",
    "from scipy.spatial.distance import mahalanobis\n",
    "import matplotlib.pyplot as plt"
   ]
  },
  {
   "cell_type": "code",
   "execution_count": 2,
   "id": "aa93de57",
   "metadata": {},
   "outputs": [
    {
     "data": {
      "image/png": "[encoded data removed]",
      "text/plain": [
       "<Figure size 432x288 with 1 Axes>"
      ]
     },
     "metadata": {
      "needs_background": "light"
     },
     "output_type": "display_data"
    }
   ],
   "source": [
    "# Generate the linear data with added noise\n",
    "n=50\n",
    "x = np.linspace(1, 5, n)\n",
    "y = 2 * x + 3 + np.random.normal(size=n)\n",
    "\n",
    "# Plot the data\n",
    "plt.plot(x, y, 'o', label='data')\n",
    "\n",
    "# Add axis labels and legend\n",
    "plt.xlabel('x')\n",
    "plt.ylabel('y')\n",
    "plt.legend()\n",
    "plt.grid()\n",
    "# Show the plot\n",
    "plt.show()\n"
   ]
  },
  {
   "cell_type": "code",
   "execution_count": 3,
   "id": "1b7f3935",
   "metadata": {},
   "outputs": [],
   "source": [
    "# Compute the mean and covariance matrix of the data\n",
    "data = np.column_stack((x, y))\n",
    "mean = np.mean(data, axis=0)\n",
    "cov = np.cov(data.T)"
   ]
  },
  {
   "cell_type": "code",
   "execution_count": 4,
   "id": "95262837",
   "metadata": {},
   "outputs": [
    {
     "data": {
      "text/plain": [
       "1.6873539624856015"
      ]
     },
     "execution_count": 4,
     "metadata": {},
     "output_type": "execute_result"
    }
   ],
   "source": [
    "p1 = np.array([5, 13])\n",
    "mahalanobis(p1, mean, np.linalg.inv(cov))"
   ]
  },
  {
   "cell_type": "code",
   "execution_count": 5,
   "id": "80880b32",
   "metadata": {},
   "outputs": [
    {
     "data": {
      "text/plain": [
       "9.459712631964905"
      ]
     },
     "execution_count": 5,
     "metadata": {},
     "output_type": "execute_result"
    }
   ],
   "source": [
    "p2 = np.array([0, 11]) ## line connecting p2 and mean is perpendicular to the line connecting p1 and mean \n",
    "mahalanobis(np.array(p2), mean, np.linalg.inv(cov))"
   ]
  }
 ],
 "metadata": {
  "kernelspec": {
   "display_name": "Python 3 (ipykernel)",
   "language": "python",
   "name": "python3"
  },
  "language_info": {
   "codemirror_mode": {
    "name": "ipython",
    "version": 3
   },
   "file_extension": ".py",
   "mimetype": "text/x-python",
   "name": "python",
   "nbconvert_exporter": "python",
   "pygments_lexer": "ipython3",
   "version": "3.9.12"
  }
 },
 "nbformat": 4,
 "nbformat_minor": 5
}

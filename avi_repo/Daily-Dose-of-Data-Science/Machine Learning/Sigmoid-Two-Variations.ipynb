{
 "cells": [
  {
   "cell_type": "markdown",
   "id": "f198e19f",
   "metadata": {},
   "source": [
    "# Daily-Dose-of-Data-Science\n",
    "\n",
    "[Daily Dose of Data Science](https://avichawla.substack.com) is a publication on Substack that brings together intriguing frameworks, libraries, technologies, and tips that make the life cycle of a Data Science project effortless. \n",
    "\n",
    "Author: Avi Chawla\n",
    "\n",
    "[Medium](https://medium.com/@avi_chawla) | [LinkedIn](https://www.linkedin.com/in/avi-chawla/)\n",
    "\n",
    "# A Highly Overlooked Point In The Implementation of Sigmoid Function\n",
    "\n",
    "Post Link: [Substack](https://www.blog.dailydoseofds.com/p/a-highly-overlooked-point-in-the)\n",
    "\n",
    "LinkedIn Post: [LinkedIn](https://www.linkedin.com/feed/update/urn:li:share:7066347948770570240/)\n",
    "\n",
    "Twitter Post: [Twitter](https://twitter.com/_avichawla/status/1660582275766005761)"
   ]
  },
  {
   "cell_type": "markdown",
   "id": "1bde64c7",
   "metadata": {},
   "source": [
    "### Standard Sigmoid"
   ]
  },
  {
   "cell_type": "code",
   "execution_count": 1,
   "id": "095bcabd",
   "metadata": {},
   "outputs": [],
   "source": [
    "def sigmoid(x):\n",
    "    z = np.exp(-x)\n",
    "    return 1/(1+z)"
   ]
  },
  {
   "cell_type": "code",
   "execution_count": 2,
   "id": "93a61435",
   "metadata": {},
   "outputs": [
    {
     "data": {
      "application/javascript": [
       "\n",
       "        if (window._pyforest_update_imports_cell) { window._pyforest_update_imports_cell('import numpy as np'); }\n",
       "    "
      ],
      "text/plain": [
       "<IPython.core.display.Javascript object>"
      ]
     },
     "metadata": {},
     "output_type": "display_data"
    },
    {
     "name": "stdout",
     "output_type": "stream",
     "text": [
      "Sigmoid of 800 =  1.0\n"
     ]
    }
   ],
   "source": [
    "print(\"Sigmoid of 800 = \",sigmoid(800)) ## works"
   ]
  },
  {
   "cell_type": "code",
   "execution_count": 3,
   "id": "e9d1a51d",
   "metadata": {},
   "outputs": [
    {
     "data": {
      "application/javascript": [
       "\n",
       "        if (window._pyforest_update_imports_cell) { window._pyforest_update_imports_cell('import numpy as np'); }\n",
       "    "
      ],
      "text/plain": [
       "<IPython.core.display.Javascript object>"
      ]
     },
     "metadata": {},
     "output_type": "display_data"
    },
    {
     "name": "stderr",
     "output_type": "stream",
     "text": [
      "2023-05-22 19:13:29,987 [1419] WARNING  py.warnings:109: [JupyterRequire] /var/folders/3w/0h9rv7rx7zq40g17g_bqrxvc0000gn/T/ipykernel_1419/889672314.py:2: RuntimeWarning: overflow encountered in exp\n",
      "  z = np.exp(-x)\n",
      "\n"
     ]
    },
    {
     "name": "stdout",
     "output_type": "stream",
     "text": [
      "Sigmoid of -800 =  0.0\n"
     ]
    }
   ],
   "source": [
    "print(\"Sigmoid of -800 = \",sigmoid(-800)) ## warning"
   ]
  },
  {
   "cell_type": "markdown",
   "id": "07fe7bde",
   "metadata": {},
   "source": [
    "### Rearranged Sigmoid"
   ]
  },
  {
   "cell_type": "code",
   "execution_count": 4,
   "id": "a714fbc8",
   "metadata": {},
   "outputs": [],
   "source": [
    "def sigmoid(x):\n",
    "    z = np.exp(x)\n",
    "    return z/(1+z)"
   ]
  },
  {
   "cell_type": "code",
   "execution_count": 5,
   "id": "f08011cc",
   "metadata": {},
   "outputs": [
    {
     "data": {
      "application/javascript": [
       "\n",
       "        if (window._pyforest_update_imports_cell) { window._pyforest_update_imports_cell('import numpy as np'); }\n",
       "    "
      ],
      "text/plain": [
       "<IPython.core.display.Javascript object>"
      ]
     },
     "metadata": {},
     "output_type": "display_data"
    },
    {
     "name": "stdout",
     "output_type": "stream",
     "text": [
      "Sigmoid of -800 =  0.0\n"
     ]
    }
   ],
   "source": [
    "print(\"Sigmoid of -800 = \",sigmoid(-800)) ## works"
   ]
  },
  {
   "cell_type": "code",
   "execution_count": 6,
   "id": "8a190e8e",
   "metadata": {},
   "outputs": [
    {
     "data": {
      "application/javascript": [
       "\n",
       "        if (window._pyforest_update_imports_cell) { window._pyforest_update_imports_cell('import numpy as np'); }\n",
       "    "
      ],
      "text/plain": [
       "<IPython.core.display.Javascript object>"
      ]
     },
     "metadata": {},
     "output_type": "display_data"
    },
    {
     "name": "stderr",
     "output_type": "stream",
     "text": [
      "2023-05-22 19:13:31,048 [1419] WARNING  py.warnings:109: [JupyterRequire] /var/folders/3w/0h9rv7rx7zq40g17g_bqrxvc0000gn/T/ipykernel_1419/691491693.py:2: RuntimeWarning: overflow encountered in exp\n",
      "  z = np.exp(x)\n",
      "\n",
      "2023-05-22 19:13:31,049 [1419] WARNING  py.warnings:109: [JupyterRequire] /var/folders/3w/0h9rv7rx7zq40g17g_bqrxvc0000gn/T/ipykernel_1419/691491693.py:3: RuntimeWarning: invalid value encountered in double_scalars\n",
      "  return z/(1+z)\n",
      "\n"
     ]
    },
    {
     "name": "stdout",
     "output_type": "stream",
     "text": [
      "Sigmoid of 800 =  nan\n"
     ]
    }
   ],
   "source": [
    "print(\"Sigmoid of 800 = \",sigmoid(800)) ## warning and nan output"
   ]
  },
  {
   "cell_type": "markdown",
   "id": "d5735cad",
   "metadata": {},
   "source": [
    "### Standard + Rearranged Sigmoid"
   ]
  },
  {
   "cell_type": "code",
   "execution_count": 7,
   "id": "ed1ac460",
   "metadata": {},
   "outputs": [],
   "source": [
    "def sigmoid(x):\n",
    "    \n",
    "    if x>0:\n",
    "        z = np.exp(-x)\n",
    "        return 1/(1+z)\n",
    "    \n",
    "    else:\n",
    "        z = np.exp(x)\n",
    "        return z/(1+z)"
   ]
  },
  {
   "cell_type": "code",
   "execution_count": 8,
   "id": "926e5886",
   "metadata": {},
   "outputs": [
    {
     "data": {
      "application/javascript": [
       "\n",
       "        if (window._pyforest_update_imports_cell) { window._pyforest_update_imports_cell('import numpy as np'); }\n",
       "    "
      ],
      "text/plain": [
       "<IPython.core.display.Javascript object>"
      ]
     },
     "metadata": {},
     "output_type": "display_data"
    },
    {
     "name": "stdout",
     "output_type": "stream",
     "text": [
      "Sigmoid of -800 =  0.0\n"
     ]
    }
   ],
   "source": [
    "print(\"Sigmoid of -800 = \",sigmoid(-800)) ## works"
   ]
  },
  {
   "cell_type": "code",
   "execution_count": 9,
   "id": "08fbd89d",
   "metadata": {},
   "outputs": [
    {
     "data": {
      "application/javascript": [
       "\n",
       "        if (window._pyforest_update_imports_cell) { window._pyforest_update_imports_cell('import numpy as np'); }\n",
       "    "
      ],
      "text/plain": [
       "<IPython.core.display.Javascript object>"
      ]
     },
     "metadata": {},
     "output_type": "display_data"
    },
    {
     "name": "stdout",
     "output_type": "stream",
     "text": [
      "Sigmoid of 800 =  1.0\n"
     ]
    }
   ],
   "source": [
    "print(\"Sigmoid of 800 = \",sigmoid(800)) ## works"
   ]
  }
 ],
 "metadata": {
  "kernelspec": {
   "display_name": "Python 3 (ipykernel)",
   "language": "python",
   "name": "python3"
  },
  "language_info": {
   "codemirror_mode": {
    "name": "ipython",
    "version": 3
   },
   "file_extension": ".py",
   "mimetype": "text/x-python",
   "name": "python",
   "nbconvert_exporter": "python",
   "pygments_lexer": "ipython3",
   "version": "3.9.12"
  },
  "toc": {
   "base_numbering": 1,
   "nav_menu": {},
   "number_sections": true,
   "sideBar": true,
   "skip_h1_title": false,
   "title_cell": "Table of Contents",
   "title_sidebar": "Contents",
   "toc_cell": false,
   "toc_position": {},
   "toc_section_display": true,
   "toc_window_display": false
  }
 },
 "nbformat": 4,
 "nbformat_minor": 5
}

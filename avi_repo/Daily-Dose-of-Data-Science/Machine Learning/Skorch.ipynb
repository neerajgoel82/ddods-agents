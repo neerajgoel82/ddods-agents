{
 "cells": [
  {
   "cell_type": "markdown",
   "id": "1de10f60",
   "metadata": {},
   "source": [
    "# Daily-Dose-of-Data-Science\n",
    "\n",
    "[Daily Dose of Data Science](https://avichawla.substack.com) is a publication on Substack that brings together intriguing frameworks, libraries, technologies, and tips that make the life cycle of a Data Science project effortless. \n",
    "\n",
    "Author: Avi Chawla\n",
    "\n",
    "[Medium](https://medium.com/@avi_chawla) | [LinkedIn](https://www.linkedin.com/in/avi-chawla/)\n",
    "\n",
    "# Skorch: Use Scikit-learn API on PyTorch Models\n",
    "\n",
    "Post Link: [Substack](https://avichawla.substack.com/p/skorch-use-scikit-learn-api-on-pytorch)\n",
    "\n",
    "LinkedIn Post: [LinkedIn](https://www.linkedin.com/posts/avi-chawla_python-sklearn-pytorch-activity-7017074093598420992-4UON?utm_source=share&utm_medium=member_desktop)"
   ]
  },
  {
   "cell_type": "code",
   "execution_count": 1,
   "id": "dbbe36ed",
   "metadata": {},
   "outputs": [
    {
     "name": "stdout",
     "output_type": "stream",
     "text": [
      "Requirement already satisfied: skorch in /Users/avi/anaconda3/lib/python3.9/site-packages (0.12.1)\n",
      "Requirement already satisfied: tqdm>=4.14.0 in /Users/avi/anaconda3/lib/python3.9/site-packages (from skorch) (4.64.0)\n",
      "Requirement already satisfied: scipy>=1.1.0 in /Users/avi/anaconda3/lib/python3.9/site-packages (from skorch) (1.7.3)\n",
      "Requirement already satisfied: numpy>=1.13.3 in /Users/avi/anaconda3/lib/python3.9/site-packages (from skorch) (1.21.5)\n",
      "Requirement already satisfied: scikit-learn>=0.22.0 in /Users/avi/anaconda3/lib/python3.9/site-packages (from skorch) (1.1.3)\n",
      "Requirement already satisfied: tabulate>=0.7.7 in /Users/avi/anaconda3/lib/python3.9/site-packages (from skorch) (0.8.9)\n",
      "Requirement already satisfied: threadpoolctl>=2.0.0 in /Users/avi/anaconda3/lib/python3.9/site-packages (from scikit-learn>=0.22.0->skorch) (2.2.0)\n",
      "Requirement already satisfied: joblib>=1.0.0 in /Users/avi/anaconda3/lib/python3.9/site-packages (from scikit-learn>=0.22.0->skorch) (1.1.0)\n"
     ]
    }
   ],
   "source": [
    "!pip install skorch"
   ]
  },
  {
   "cell_type": "code",
   "execution_count": 2,
   "id": "3e8047e6",
   "metadata": {},
   "outputs": [],
   "source": [
    "import torch\n",
    "import numpy as np\n",
    "from skorch import NeuralNetClassifier"
   ]
  },
  {
   "cell_type": "code",
   "execution_count": 3,
   "id": "a8ea2168",
   "metadata": {},
   "outputs": [],
   "source": [
    "# Generate some synthetic data\n",
    "X = np.random.randn(10, 3).astype(np.float32)\n",
    "y = np.random.randint(0, 2, (10,)).astype(np.float32)\n",
    "\n",
    "X = torch.from_numpy(X) # convert to tensors\n",
    "y = torch.from_numpy(y).type(torch.LongTensor)"
   ]
  },
  {
   "cell_type": "code",
   "execution_count": 4,
   "id": "f952363f",
   "metadata": {},
   "outputs": [],
   "source": [
    "# Define a simple PyTorch model\n",
    "class MyModel(torch.nn.Module):\n",
    "    def __init__(self):\n",
    "        super(MyModel, self).__init__()\n",
    "        self.fc1 = torch.nn.Linear(3, 20)\n",
    "        self.fc2 = torch.nn.Linear(20, 2)\n",
    "    \n",
    "    def forward(self, x):\n",
    "        x = self.fc1(x)\n",
    "        x = torch.nn.functional.relu(x)\n",
    "        x = self.fc2(x)\n",
    "        return x"
   ]
  },
  {
   "cell_type": "code",
   "execution_count": 5,
   "id": "adba31fe",
   "metadata": {},
   "outputs": [],
   "source": [
    "# Create a NeuralNetClassifier using skorch\n",
    "model = NeuralNetClassifier(\n",
    "    MyModel,\n",
    "    max_epochs=10,\n",
    "    lr=0.1,\n",
    "    criterion=torch.nn.CrossEntropyLoss,\n",
    ")"
   ]
  },
  {
   "cell_type": "code",
   "execution_count": 6,
   "id": "d46a8a1a",
   "metadata": {},
   "outputs": [
    {
     "name": "stdout",
     "output_type": "stream",
     "text": [
      "  epoch    train_loss    valid_acc    valid_loss     dur\n",
      "-------  ------------  -----------  ------------  ------\n",
      "      1        \u001b[36m0.6895\u001b[0m       \u001b[32m0.5000\u001b[0m        \u001b[35m0.6860\u001b[0m  0.0573\n",
      "      2        \u001b[36m0.6542\u001b[0m       0.5000        0.7084  0.0020\n",
      "      3        \u001b[36m0.6283\u001b[0m       0.5000        0.7278  0.0015\n",
      "      4        \u001b[36m0.6084\u001b[0m       0.5000        0.7445  0.0016\n",
      "      5        \u001b[36m0.5924\u001b[0m       0.5000        0.7595  0.0014\n",
      "      6        \u001b[36m0.5793\u001b[0m       0.5000        0.7729  0.0014\n",
      "      7        \u001b[36m0.5683\u001b[0m       0.5000        0.7856  0.0011\n",
      "      8        \u001b[36m0.5590\u001b[0m       0.5000        0.7970  0.0013\n",
      "      9        \u001b[36m0.5506\u001b[0m       0.5000        0.8073  0.0015\n",
      "     10        \u001b[36m0.5430\u001b[0m       0.5000        0.8170  0.0019\n"
     ]
    },
    {
     "name": "stderr",
     "output_type": "stream",
     "text": [
      "/Users/avi/anaconda3/lib/python3.9/site-packages/sklearn/model_selection/_split.py:684: UserWarning: The least populated class in y has only 4 members, which is less than n_splits=5.\n",
      "  warnings.warn(\n"
     ]
    }
   ],
   "source": [
    "# Use the familiar scikit-learn API to fit and predict\n",
    "model.fit(X, y)\n",
    "predictions = model.predict(X)"
   ]
  },
  {
   "cell_type": "code",
   "execution_count": null,
   "id": "57665a59",
   "metadata": {},
   "outputs": [],
   "source": []
  }
 ],
 "metadata": {
  "kernelspec": {
   "display_name": "Python 3 (ipykernel)",
   "language": "python",
   "name": "python3"
  },
  "language_info": {
   "codemirror_mode": {
    "name": "ipython",
    "version": 3
   },
   "file_extension": ".py",
   "mimetype": "text/x-python",
   "name": "python",
   "nbconvert_exporter": "python",
   "pygments_lexer": "ipython3",
   "version": "3.9.12"
  }
 },
 "nbformat": 4,
 "nbformat_minor": 5
}

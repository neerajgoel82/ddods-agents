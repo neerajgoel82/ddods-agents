{
 "cells": [
  {
   "cell_type": "markdown",
   "id": "7a2d7603",
   "metadata": {},
   "source": [
    "# Daily-Dose-of-Data-Science\n",
    "\n",
    "[Daily Dose of Data Science](https://avichawla.substack.com) is a publication on Substack that brings together intriguing frameworks, libraries, technologies, and tips that make the life cycle of a Data Science project effortless. \n",
    "\n",
    "Author: Avi Chawla\n",
    "\n",
    "[Medium](https://medium.com/@avi_chawla) | [LinkedIn](https://www.linkedin.com/in/avi-chawla/)"
   ]
  },
  {
   "cell_type": "markdown",
   "id": "a2349eb2",
   "metadata": {},
   "source": [
    "# Save Memory with Python Generators\n",
    "\n",
    "Post Link: [Substack](https://avichawla.substack.com/p/save-memory-with-python-generators)\n",
    "\n",
    "LinkedIn Post: [LinkedIn](https://www.linkedin.com/posts/avi-chawla_python-pythonprogramming-activity-6985125440680005632-bQYA?utm_source=share&utm_medium=member_desktop)"
   ]
  },
  {
   "cell_type": "code",
   "execution_count": 1,
   "id": "dd335a49",
   "metadata": {
    "ExecuteTime": {
     "end_time": "2022-12-01T19:08:55.882543Z",
     "start_time": "2022-12-01T19:08:55.836081Z"
    }
   },
   "outputs": [],
   "source": [
    "from sys import getsizeof"
   ]
  },
  {
   "cell_type": "markdown",
   "id": "afe1c57c",
   "metadata": {},
   "source": [
    "## Iterable (List)"
   ]
  },
  {
   "cell_type": "code",
   "execution_count": 2,
   "id": "4047ce79",
   "metadata": {
    "ExecuteTime": {
     "end_time": "2022-12-01T19:09:09.928995Z",
     "start_time": "2022-12-01T19:09:09.516717Z"
    }
   },
   "outputs": [],
   "source": [
    "my_list = [i for i in range(10**7)]"
   ]
  },
  {
   "cell_type": "code",
   "execution_count": 3,
   "id": "02cbd868",
   "metadata": {
    "ExecuteTime": {
     "end_time": "2022-12-01T19:09:14.394153Z",
     "start_time": "2022-12-01T19:09:14.373424Z"
    }
   },
   "outputs": [
    {
     "data": {
      "text/plain": [
       "89095160"
      ]
     },
     "execution_count": 3,
     "metadata": {},
     "output_type": "execute_result"
    }
   ],
   "source": [
    "getsizeof(my_list)"
   ]
  },
  {
   "cell_type": "code",
   "execution_count": 5,
   "id": "3f360101",
   "metadata": {
    "ExecuteTime": {
     "end_time": "2022-12-01T19:09:47.547211Z",
     "start_time": "2022-12-01T19:09:47.451296Z"
    }
   },
   "outputs": [
    {
     "data": {
      "text/plain": [
       "49999995000000"
      ]
     },
     "execution_count": 5,
     "metadata": {},
     "output_type": "execute_result"
    }
   ],
   "source": [
    "sum(my_list)"
   ]
  },
  {
   "cell_type": "markdown",
   "id": "fd83907e",
   "metadata": {},
   "source": [
    "## Generator"
   ]
  },
  {
   "cell_type": "code",
   "execution_count": 4,
   "id": "1446b2a0",
   "metadata": {
    "ExecuteTime": {
     "end_time": "2022-12-01T19:09:40.058503Z",
     "start_time": "2022-12-01T19:09:40.048978Z"
    }
   },
   "outputs": [
    {
     "data": {
      "text/plain": [
       "112"
      ]
     },
     "execution_count": 4,
     "metadata": {},
     "output_type": "execute_result"
    }
   ],
   "source": [
    "my_gen = (i for i in range(10**7)) ## use () to create a generator\n",
    "getsizeof(my_gen)"
   ]
  },
  {
   "cell_type": "code",
   "execution_count": 6,
   "id": "6447ea62",
   "metadata": {
    "ExecuteTime": {
     "end_time": "2022-12-01T19:09:52.185854Z",
     "start_time": "2022-12-01T19:09:51.704294Z"
    }
   },
   "outputs": [
    {
     "data": {
      "text/plain": [
       "49999995000000"
      ]
     },
     "execution_count": 6,
     "metadata": {},
     "output_type": "execute_result"
    }
   ],
   "source": [
    "sum(my_gen)"
   ]
  },
  {
   "cell_type": "code",
   "execution_count": null,
   "id": "5d0ff7be",
   "metadata": {},
   "outputs": [],
   "source": []
  }
 ],
 "metadata": {
  "kernelspec": {
   "display_name": "Python 3 (ipykernel)",
   "language": "python",
   "name": "python3"
  },
  "language_info": {
   "codemirror_mode": {
    "name": "ipython",
    "version": 3
   },
   "file_extension": ".py",
   "mimetype": "text/x-python",
   "name": "python",
   "nbconvert_exporter": "python",
   "pygments_lexer": "ipython3",
   "version": "3.9.12"
  }
 },
 "nbformat": 4,
 "nbformat_minor": 5
}

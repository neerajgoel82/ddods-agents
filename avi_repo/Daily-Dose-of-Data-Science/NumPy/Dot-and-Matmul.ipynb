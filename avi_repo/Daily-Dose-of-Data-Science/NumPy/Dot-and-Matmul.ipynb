{
 "cells": [
  {
   "cell_type": "markdown",
   "id": "9da42ada",
   "metadata": {},
   "source": [
    "# Daily-Dose-of-Data-Science\n",
    "\n",
    "[Daily Dose of Data Science](https://avichawla.substack.com) is a publication on Substack that brings together intriguing frameworks, libraries, technologies, and tips that make the life cycle of a Data Science project effortless. \n",
    "\n",
    "Author: Avi Chawla\n",
    "\n",
    "[Medium](https://medium.com/@avi_chawla) | [LinkedIn](https://www.linkedin.com/in/avi-chawla/)\n",
    "\n",
    "# Difference Between Dot and Matmul in NumPy\n",
    "\n",
    "Post Link: [Substack](https://avichawla.substack.com/p/dot-and-matmul-difference)"
   ]
  },
  {
   "cell_type": "code",
   "execution_count": 1,
   "id": "4bf2225f",
   "metadata": {
    "ExecuteTime": {
     "end_time": "2022-12-15T11:54:51.332261Z",
     "start_time": "2022-12-15T11:54:50.510059Z"
    }
   },
   "outputs": [],
   "source": [
    "import numpy as np"
   ]
  },
  {
   "cell_type": "markdown",
   "id": "5f5df132",
   "metadata": {},
   "source": [
    "## Dot"
   ]
  },
  {
   "cell_type": "code",
   "execution_count": 2,
   "id": "81e717f7",
   "metadata": {
    "ExecuteTime": {
     "end_time": "2022-12-15T11:55:22.016761Z",
     "start_time": "2022-12-15T11:55:22.001404Z"
    }
   },
   "outputs": [],
   "source": [
    "a = np.random.rand(4,5,3,4)\n",
    "b = np.random.rand(2,6,4,6)"
   ]
  },
  {
   "cell_type": "code",
   "execution_count": 4,
   "id": "128be3e2",
   "metadata": {
    "ExecuteTime": {
     "end_time": "2022-12-15T11:55:30.814365Z",
     "start_time": "2022-12-15T11:55:30.806210Z"
    }
   },
   "outputs": [
    {
     "data": {
      "text/plain": [
       "(4, 5, 3, 2, 6, 6)"
      ]
     },
     "execution_count": 4,
     "metadata": {},
     "output_type": "execute_result"
    }
   ],
   "source": [
    "np.dot(a, b).shape"
   ]
  },
  {
   "cell_type": "markdown",
   "id": "268e2ac6",
   "metadata": {},
   "source": [
    "## Matmul"
   ]
  },
  {
   "cell_type": "code",
   "execution_count": 5,
   "id": "60797f4d",
   "metadata": {
    "ExecuteTime": {
     "end_time": "2022-12-15T11:56:08.036664Z",
     "start_time": "2022-12-15T11:56:08.017833Z"
    }
   },
   "outputs": [],
   "source": [
    "a = np.random.rand(4,5,3,4)\n",
    "b = np.random.rand(4,5,4,6)"
   ]
  },
  {
   "cell_type": "code",
   "execution_count": 6,
   "id": "bde3625d",
   "metadata": {
    "ExecuteTime": {
     "end_time": "2022-12-15T11:56:14.448783Z",
     "start_time": "2022-12-15T11:56:14.434794Z"
    }
   },
   "outputs": [
    {
     "data": {
      "text/plain": [
       "(4, 5, 3, 6)"
      ]
     },
     "execution_count": 6,
     "metadata": {},
     "output_type": "execute_result"
    }
   ],
   "source": [
    "np.matmul(a, b).shape"
   ]
  }
 ],
 "metadata": {
  "kernelspec": {
   "display_name": "Python 3 (ipykernel)",
   "language": "python",
   "name": "python3"
  },
  "language_info": {
   "codemirror_mode": {
    "name": "ipython",
    "version": 3
   },
   "file_extension": ".py",
   "mimetype": "text/x-python",
   "name": "python",
   "nbconvert_exporter": "python",
   "pygments_lexer": "ipython3",
   "version": "3.9.12"
  }
 },
 "nbformat": 4,
 "nbformat_minor": 5
}

{
 "cells": [
  {
   "cell_type": "markdown",
   "id": "d1cf4cd0",
   "metadata": {},
   "source": [
    "# Daily-Dose-of-Data-Science\n",
    "\n",
    "[Daily Dose of Data Science](https://avichawla.substack.com) is a publication on Substack that brings together intriguing frameworks, libraries, technologies, and tips that make the life cycle of a Data Science project effortless. \n",
    "\n",
    "Author: Avi Chawla\n",
    "\n",
    "[Medium](https://medium.com/@avi_chawla) | [LinkedIn](https://www.linkedin.com/in/avi-chawla/)\n",
    "\n",
    "# Don't Print NumPy Arrays! Use Lovely-NumPy Instead.\n",
    "\n",
    "Post Link: [Substack](https://avichawla.substack.com/p/dont-print-numpy-arrays-use-lovely)\n",
    "\n",
    "LinkedIn Post: [LinkedIn](https://www.linkedin.com/posts/avi-chawla_python-datascience-numpy-activity-7006579500020871168-RtV1?utm_source=share&utm_medium=member_desktop)"
   ]
  },
  {
   "cell_type": "code",
   "execution_count": 1,
   "id": "99cfa4bb",
   "metadata": {
    "ExecuteTime": {
     "end_time": "2022-12-08T12:08:33.362625Z",
     "start_time": "2022-12-08T12:08:29.885987Z"
    },
    "collapsed": true
   },
   "outputs": [
    {
     "name": "stdout",
     "output_type": "stream",
     "text": [
      "Requirement already satisfied: lovely-numpy in /Users/avi/anaconda3/lib/python3.9/site-packages (0.2.2)\n",
      "Requirement already satisfied: ipython in /Users/avi/anaconda3/lib/python3.9/site-packages (from lovely-numpy) (8.2.0)\n",
      "Requirement already satisfied: pillow in /Users/avi/anaconda3/lib/python3.9/site-packages (from lovely-numpy) (9.0.1)\n",
      "Requirement already satisfied: numpy>=1.17 in /Users/avi/anaconda3/lib/python3.9/site-packages (from lovely-numpy) (1.21.5)\n",
      "Requirement already satisfied: fastcore in /Users/avi/anaconda3/lib/python3.9/site-packages (from lovely-numpy) (1.5.27)\n",
      "Requirement already satisfied: matplotlib in /Users/avi/anaconda3/lib/python3.9/site-packages (from lovely-numpy) (3.5.3)\n",
      "Requirement already satisfied: pip in /Users/avi/anaconda3/lib/python3.9/site-packages (from fastcore->lovely-numpy) (21.2.4)\n",
      "Requirement already satisfied: packaging in /Users/avi/anaconda3/lib/python3.9/site-packages (from fastcore->lovely-numpy) (21.3)\n",
      "Requirement already satisfied: traitlets>=5 in /Users/avi/anaconda3/lib/python3.9/site-packages (from ipython->lovely-numpy) (5.1.1)\n",
      "Requirement already satisfied: pexpect>4.3 in /Users/avi/anaconda3/lib/python3.9/site-packages (from ipython->lovely-numpy) (4.8.0)\n",
      "Requirement already satisfied: matplotlib-inline in /Users/avi/anaconda3/lib/python3.9/site-packages (from ipython->lovely-numpy) (0.1.2)\n",
      "Requirement already satisfied: backcall in /Users/avi/anaconda3/lib/python3.9/site-packages (from ipython->lovely-numpy) (0.2.0)\n",
      "Requirement already satisfied: pygments>=2.4.0 in /Users/avi/anaconda3/lib/python3.9/site-packages (from ipython->lovely-numpy) (2.11.2)\n",
      "Requirement already satisfied: prompt-toolkit!=3.0.0,!=3.0.1,<3.1.0,>=2.0.0 in /Users/avi/anaconda3/lib/python3.9/site-packages (from ipython->lovely-numpy) (3.0.20)\n",
      "Requirement already satisfied: appnope in /Users/avi/anaconda3/lib/python3.9/site-packages (from ipython->lovely-numpy) (0.1.2)\n",
      "Requirement already satisfied: stack-data in /Users/avi/anaconda3/lib/python3.9/site-packages (from ipython->lovely-numpy) (0.2.0)\n",
      "Requirement already satisfied: jedi>=0.16 in /Users/avi/anaconda3/lib/python3.9/site-packages (from ipython->lovely-numpy) (0.18.1)\n",
      "Requirement already satisfied: pickleshare in /Users/avi/anaconda3/lib/python3.9/site-packages (from ipython->lovely-numpy) (0.7.5)\n",
      "Requirement already satisfied: setuptools>=18.5 in /Users/avi/anaconda3/lib/python3.9/site-packages (from ipython->lovely-numpy) (61.2.0)\n",
      "Requirement already satisfied: decorator in /Users/avi/anaconda3/lib/python3.9/site-packages (from ipython->lovely-numpy) (5.1.1)\n",
      "Requirement already satisfied: parso<0.9.0,>=0.8.0 in /Users/avi/anaconda3/lib/python3.9/site-packages (from jedi>=0.16->ipython->lovely-numpy) (0.8.3)\n",
      "Requirement already satisfied: ptyprocess>=0.5 in /Users/avi/anaconda3/lib/python3.9/site-packages (from pexpect>4.3->ipython->lovely-numpy) (0.7.0)\n",
      "Requirement already satisfied: wcwidth in /Users/avi/anaconda3/lib/python3.9/site-packages (from prompt-toolkit!=3.0.0,!=3.0.1,<3.1.0,>=2.0.0->ipython->lovely-numpy) (0.2.5)\n",
      "Requirement already satisfied: fonttools>=4.22.0 in /Users/avi/anaconda3/lib/python3.9/site-packages (from matplotlib->lovely-numpy) (4.25.0)\n",
      "Requirement already satisfied: cycler>=0.10 in /Users/avi/anaconda3/lib/python3.9/site-packages (from matplotlib->lovely-numpy) (0.11.0)\n",
      "Requirement already satisfied: python-dateutil>=2.7 in /Users/avi/anaconda3/lib/python3.9/site-packages (from matplotlib->lovely-numpy) (2.8.2)\n",
      "Requirement already satisfied: pyparsing>=2.2.1 in /Users/avi/anaconda3/lib/python3.9/site-packages (from matplotlib->lovely-numpy) (3.0.4)\n",
      "Requirement already satisfied: kiwisolver>=1.0.1 in /Users/avi/anaconda3/lib/python3.9/site-packages (from matplotlib->lovely-numpy) (1.3.2)\n",
      "Requirement already satisfied: six>=1.5 in /Users/avi/anaconda3/lib/python3.9/site-packages (from python-dateutil>=2.7->matplotlib->lovely-numpy) (1.16.0)\n",
      "Requirement already satisfied: asttokens in /Users/avi/anaconda3/lib/python3.9/site-packages (from stack-data->ipython->lovely-numpy) (2.0.5)\n",
      "Requirement already satisfied: executing in /Users/avi/anaconda3/lib/python3.9/site-packages (from stack-data->ipython->lovely-numpy) (0.8.3)\n",
      "Requirement already satisfied: pure-eval in /Users/avi/anaconda3/lib/python3.9/site-packages (from stack-data->ipython->lovely-numpy) (0.2.2)\n"
     ]
    }
   ],
   "source": [
    "!pip install lovely-numpy"
   ]
  },
  {
   "cell_type": "code",
   "execution_count": 3,
   "id": "c18077ce",
   "metadata": {
    "ExecuteTime": {
     "end_time": "2022-12-08T12:10:05.889525Z",
     "start_time": "2022-12-08T12:10:05.883655Z"
    }
   },
   "outputs": [],
   "source": [
    "from lovely_numpy import lo\n",
    "import numpy as np"
   ]
  },
  {
   "cell_type": "code",
   "execution_count": 5,
   "id": "d0c5ae76",
   "metadata": {
    "ExecuteTime": {
     "end_time": "2022-12-08T12:10:23.780512Z",
     "start_time": "2022-12-08T12:10:23.755744Z"
    },
    "collapsed": true
   },
   "outputs": [
    {
     "data": {
      "text/plain": [
       "array([[0.7825538 , 0.03468897, 0.60560899, 0.1112418 , 0.11379352,\n",
       "        0.77653324, 0.07219857, 0.14266336, 0.42170489, 0.94197953,\n",
       "        0.1163893 , 0.03979435, 0.53238406, 0.2886156 , 0.61201695,\n",
       "        0.26746269, 0.86675238, 0.937104  , 0.70898117, 0.970105  ],\n",
       "       [0.286576  , 0.38695029, 0.63579087, 0.56247154, 0.66264822,\n",
       "        0.04657824, 0.0300126 , 0.34933322, 0.95163243, 0.4042622 ,\n",
       "        0.57722724, 0.41567907, 0.45849025, 0.8393211 , 0.40895841,\n",
       "        0.1855814 , 0.25498183, 0.6993805 , 0.66717592, 0.29277838],\n",
       "       [0.08214664, 0.05530189, 0.43363352, 0.67930436, 0.43200408,\n",
       "        0.27366088, 0.31510929, 0.19817803, 0.75312173, 0.07138781,\n",
       "        0.00375304, 0.93956002, 0.65417136, 0.4767402 , 0.49998907,\n",
       "        0.96183594, 0.37083648, 0.08598749, 0.48758906, 0.62792518],\n",
       "       [0.77763814, 0.71098669, 0.16033633, 0.6043179 , 0.56263572,\n",
       "        0.1235459 , 0.6264092 , 0.11539257, 0.26619407, 0.5416674 ,\n",
       "        0.80852321, 0.71813764, 0.72018871, 0.62334222, 0.38413318,\n",
       "        0.36208253, 0.3897712 , 0.10929778, 0.4631826 , 0.18127798],\n",
       "       [0.47612524, 0.63835188, 0.31848024, 0.05226514, 0.70329263,\n",
       "        0.10439144, 0.04604594, 0.1734542 , 0.14612523, 0.7175333 ,\n",
       "        0.85054796, 0.68576905, 0.24563309, 0.30770866, 0.51111255,\n",
       "        0.76785535, 0.07865893, 0.26063647, 0.70806999, 0.66216556],\n",
       "       [0.46904393, 0.72668273, 0.11942642, 0.24665504, 0.1794936 ,\n",
       "        0.13041872, 0.76386692, 0.6617802 , 0.93001708, 0.91173162,\n",
       "        0.92462186, 0.07655432, 0.46012534, 0.23658961, 0.11779819,\n",
       "        0.33861597, 0.64748266, 0.06151634, 0.41460047, 0.63993159],\n",
       "       [0.87407682, 0.53385309, 0.37711332, 0.44262506, 0.86179527,\n",
       "        0.55594236, 0.11166723, 0.77513297, 0.45897116, 0.46066002,\n",
       "        0.90097757, 0.02422343, 0.03694968, 0.56507908, 0.87954194,\n",
       "        0.28020419, 0.9863946 , 0.6660896 , 0.28161952, 0.88152882],\n",
       "       [0.4542995 , 0.90697216, 0.9343432 , 0.8058395 , 0.65133305,\n",
       "        0.17189134, 0.01305983, 0.94969203, 0.86763288, 0.07672378,\n",
       "        0.10259915, 0.3725093 , 0.82018516, 0.82400224, 0.56253088,\n",
       "        0.56350607, 0.63936186, 0.86350389, 0.62921076, 0.24849802],\n",
       "       [0.93610403, 0.79615245, 0.10030564, 0.52448442, 0.16391641,\n",
       "        0.33216402, 0.60569818, 0.31661538, 0.64124823, 0.32336885,\n",
       "        0.23713429, 0.11894201, 0.1976213 , 0.16700821, 0.87532084,\n",
       "        0.11160533, 0.21064168, 0.23863788, 0.54407748, 0.79036343],\n",
       "       [0.36655614, 0.18107803, 0.87663961, 0.53457486, 0.948456  ,\n",
       "        0.66649312, 0.99550618, 0.52126453, 0.72456203, 0.79473004,\n",
       "        0.85638112, 0.87233816, 0.56233622, 0.97079654, 0.16751212,\n",
       "        0.00479139, 0.79592089, 0.02415836, 0.64053395, 0.58688107]])"
      ]
     },
     "execution_count": 5,
     "metadata": {},
     "output_type": "execute_result"
    }
   ],
   "source": [
    "array = np.random.rand(10,20)\n",
    "array ## not very useful"
   ]
  },
  {
   "cell_type": "code",
   "execution_count": 6,
   "id": "0d1b1198",
   "metadata": {
    "ExecuteTime": {
     "end_time": "2022-12-08T12:10:34.587176Z",
     "start_time": "2022-12-08T12:10:34.577367Z"
    }
   },
   "outputs": [
    {
     "data": {
      "text/plain": [
       "array[10, 20] n=200 x∈[0.004, 0.996] μ=0.482 σ=0.291"
      ]
     },
     "execution_count": 6,
     "metadata": {},
     "output_type": "execute_result"
    }
   ],
   "source": [
    "lo(array)"
   ]
  },
  {
   "cell_type": "code",
   "execution_count": 9,
   "id": "b2554fbc",
   "metadata": {
    "ExecuteTime": {
     "end_time": "2022-12-08T12:11:00.365521Z",
     "start_time": "2022-12-08T12:11:00.356105Z"
    }
   },
   "outputs": [
    {
     "data": {
      "text/plain": [
       "array[10, 20] \u001b[38;2;127;127;127mall_zeros\u001b[0m"
      ]
     },
     "execution_count": 9,
     "metadata": {},
     "output_type": "execute_result"
    }
   ],
   "source": [
    "array = np.zeros((10,20))\n",
    "lo(array)"
   ]
  },
  {
   "cell_type": "code",
   "execution_count": 14,
   "id": "8ace2fc5",
   "metadata": {
    "ExecuteTime": {
     "end_time": "2022-12-08T12:11:58.562108Z",
     "start_time": "2022-12-08T12:11:58.548402Z"
    }
   },
   "outputs": [
    {
     "data": {
      "text/plain": [
       "array[10, 20] n=200 x∈[0.001, 0.991] μ=0.494 σ=0.301 \u001b[31m+Inf!\u001b[0m \u001b[31m-Inf!\u001b[0m \u001b[31mNaN!\u001b[0m"
      ]
     },
     "execution_count": 14,
     "metadata": {},
     "output_type": "execute_result"
    }
   ],
   "source": [
    "array = np.random.rand(10,20)\n",
    "array[1,3] = np.NaN\n",
    "array[1,5] = np.inf\n",
    "array[4,6] = -np.inf\n",
    "lo(array)"
   ]
  },
  {
   "cell_type": "code",
   "execution_count": null,
   "id": "53388963",
   "metadata": {},
   "outputs": [],
   "source": []
  }
 ],
 "metadata": {
  "kernelspec": {
   "display_name": "Python 3 (ipykernel)",
   "language": "python",
   "name": "python3"
  },
  "language_info": {
   "codemirror_mode": {
    "name": "ipython",
    "version": 3
   },
   "file_extension": ".py",
   "mimetype": "text/x-python",
   "name": "python",
   "nbconvert_exporter": "python",
   "pygments_lexer": "ipython3",
   "version": "3.9.12"
  }
 },
 "nbformat": 4,
 "nbformat_minor": 5
}

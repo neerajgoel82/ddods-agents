{
 "cells": [
  {
   "cell_type": "markdown",
   "id": "8c916f89",
   "metadata": {},
   "source": [
    "# Daily-Dose-of-Data-Science\n",
    "\n",
    "[Daily Dose of Data Science](https://avichawla.substack.com) is a publication on Substack that brings together intriguing frameworks, libraries, technologies, and tips that make the life cycle of a Data Science project effortless. \n",
    "\n",
    "Author: Avi Chawla\n",
    "\n",
    "[Medium](https://medium.com/@avi_chawla) | [LinkedIn](https://www.linkedin.com/in/avi-chawla/)\n",
    "\n",
    "# An Elegant Way To Perform Matrix Multiplication\n",
    "\n",
    "Post Link: [Substack](https://avichawla.substack.com/p/an-elegant-way-to-perform-matrix)"
   ]
  },
  {
   "cell_type": "code",
   "execution_count": 2,
   "id": "26d7929a",
   "metadata": {
    "ExecuteTime": {
     "end_time": "2022-12-15T17:21:48.464553Z",
     "start_time": "2022-12-15T17:21:47.744161Z"
    }
   },
   "outputs": [],
   "source": [
    "import numpy as np"
   ]
  },
  {
   "cell_type": "code",
   "execution_count": 3,
   "id": "65b0304d",
   "metadata": {
    "ExecuteTime": {
     "end_time": "2022-12-15T17:22:18.552968Z",
     "start_time": "2022-12-15T17:22:18.544609Z"
    }
   },
   "outputs": [],
   "source": [
    "a = np.random.random((10, 4))\n",
    "b = np.random.random((4, 5))\n",
    "c = np.random.random((5, 6))"
   ]
  },
  {
   "cell_type": "code",
   "execution_count": 4,
   "id": "b1d7c3b0",
   "metadata": {
    "ExecuteTime": {
     "end_time": "2022-12-15T17:22:29.207161Z",
     "start_time": "2022-12-15T17:22:29.191458Z"
    }
   },
   "outputs": [
    {
     "data": {
      "text/plain": [
       "(10, 6)"
      ]
     },
     "execution_count": 4,
     "metadata": {},
     "output_type": "execute_result"
    }
   ],
   "source": [
    "np.matmul(a, np.matmul(b, c)).shape"
   ]
  },
  {
   "cell_type": "code",
   "execution_count": 6,
   "id": "ba61a3ad",
   "metadata": {
    "ExecuteTime": {
     "end_time": "2022-12-15T17:22:39.616591Z",
     "start_time": "2022-12-15T17:22:39.607978Z"
    }
   },
   "outputs": [
    {
     "data": {
      "text/plain": [
       "(10, 6)"
      ]
     },
     "execution_count": 6,
     "metadata": {},
     "output_type": "execute_result"
    }
   ],
   "source": [
    "(a @ b @ c).shape"
   ]
  }
 ],
 "metadata": {
  "kernelspec": {
   "display_name": "Python 3 (ipykernel)",
   "language": "python",
   "name": "python3"
  },
  "language_info": {
   "codemirror_mode": {
    "name": "ipython",
    "version": 3
   },
   "file_extension": ".py",
   "mimetype": "text/x-python",
   "name": "python",
   "nbconvert_exporter": "python",
   "pygments_lexer": "ipython3",
   "version": "3.9.12"
  }
 },
 "nbformat": 4,
 "nbformat_minor": 5
}

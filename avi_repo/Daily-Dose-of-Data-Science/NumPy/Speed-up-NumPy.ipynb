{
 "cells": [
  {
   "cell_type": "markdown",
   "id": "9ec5df07",
   "metadata": {},
   "source": [
    "# Daily-Dose-of-Data-Science\n",
    "\n",
    "[Daily Dose of Data Science](https://avichawla.substack.com) is a publication on Substack that brings together intriguing frameworks, libraries, technologies, and tips that make the life cycle of a Data Science project effortless. \n",
    "\n",
    "Author: Avi Chawla\n",
    "\n",
    "[Medium](https://medium.com/@avi_chawla) | [LinkedIn](https://www.linkedin.com/in/avi-chawla/)\n",
    "\n",
    "# Speed-up NumPy 20x with Numexpr\n",
    "\n",
    "Post Link: [Substack](https://www.blog.dailydoseofds.com/p/a-major-limitation-of-numpy-which)\n",
    "\n",
    "LinkedIn Post: [LinkedIn](https://www.linkedin.com/feed/update/urn:li:share:7075778020199833600/)\n",
    "\n",
    "Twitter Post: [Twitter](https://twitter.com/_avichawla/status/1670012340073267202)"
   ]
  },
  {
   "cell_type": "code",
   "execution_count": 1,
   "id": "7c23ebc9",
   "metadata": {},
   "outputs": [
    {
     "name": "stdout",
     "output_type": "stream",
     "text": [
      "Requirement already satisfied: numexpr in /Users/avi/anaconda3/lib/python3.9/site-packages (2.8.1)\r\n",
      "Requirement already satisfied: packaging in /Users/avi/anaconda3/lib/python3.9/site-packages (from numexpr) (21.3)\r\n",
      "Requirement already satisfied: numpy>=1.13.3 in /Users/avi/anaconda3/lib/python3.9/site-packages (from numexpr) (1.21.5)\r\n",
      "Requirement already satisfied: pyparsing!=3.0.5,>=2.0.2 in /Users/avi/anaconda3/lib/python3.9/site-packages (from packaging->numexpr) (3.0.4)\r\n"
     ]
    }
   ],
   "source": [
    "!pip install numexpr"
   ]
  },
  {
   "cell_type": "code",
   "execution_count": 1,
   "id": "aee6dde0",
   "metadata": {},
   "outputs": [],
   "source": [
    "import numpy as np\n",
    "import numexpr as ne"
   ]
  },
  {
   "cell_type": "code",
   "execution_count": 2,
   "id": "8009f92d",
   "metadata": {},
   "outputs": [],
   "source": [
    "a = np.random.random(10**7) \n",
    "b = np.random.random(10**7)"
   ]
  },
  {
   "cell_type": "code",
   "execution_count": 3,
   "id": "0931d392",
   "metadata": {},
   "outputs": [
    {
     "name": "stdout",
     "output_type": "stream",
     "text": [
      "158 ms ± 2.69 ms per loop (mean ± std. dev. of 7 runs, 1 loop each)\n"
     ]
    }
   ],
   "source": [
    "%timeit np.cos(a) + np.sin(b)"
   ]
  },
  {
   "cell_type": "code",
   "execution_count": 4,
   "id": "3484faca",
   "metadata": {},
   "outputs": [
    {
     "name": "stdout",
     "output_type": "stream",
     "text": [
      "26 ms ± 396 µs per loop (mean ± std. dev. of 7 runs, 10 loops each)\n"
     ]
    }
   ],
   "source": [
    "%timeit ne.evaluate(\"cos(a) + sin(b)\")"
   ]
  }
 ],
 "metadata": {
  "kernelspec": {
   "display_name": "Python 3 (ipykernel)",
   "language": "python",
   "name": "python3"
  },
  "language_info": {
   "codemirror_mode": {
    "name": "ipython",
    "version": 3
   },
   "file_extension": ".py",
   "mimetype": "text/x-python",
   "name": "python",
   "nbconvert_exporter": "python",
   "pygments_lexer": "ipython3",
   "version": "3.9.12"
  },
  "toc": {
   "base_numbering": 1,
   "nav_menu": {},
   "number_sections": true,
   "sideBar": true,
   "skip_h1_title": false,
   "title_cell": "Table of Contents",
   "title_sidebar": "Contents",
   "toc_cell": false,
   "toc_position": {},
   "toc_section_display": true,
   "toc_window_display": false
  }
 },
 "nbformat": 4,
 "nbformat_minor": 5
}

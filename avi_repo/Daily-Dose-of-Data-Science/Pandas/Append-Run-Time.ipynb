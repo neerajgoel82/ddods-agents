{
 "cells": [
  {
   "cell_type": "markdown",
   "id": "7461b3a1",
   "metadata": {},
   "source": [
    "# Daily-Dose-of-Data-Science\n",
    "\n",
    "[Daily Dose of Data Science](https://avichawla.substack.com) is a publication on Substack that brings together intriguing frameworks, libraries, technologies, and tips that make the life cycle of a Data Science project effortless. \n",
    "\n",
    "Author: Avi Chawla\n",
    "\n",
    "[Medium](https://medium.com/@avi_chawla) | [LinkedIn](https://www.linkedin.com/in/avi-chawla/)\n",
    "\n",
    "# Why You Should Avoid Appending Rows To A DataFrame\n",
    "\n",
    "Post Link: [Substack](https://avichawla.substack.com/p/why-you-should-avoid-appending-rows)\n",
    "\n",
    "LinkedIn Post: [LinkedIn](https://www.linkedin.com/feed/update/urn:li:activity:7047162873323659264/)\n",
    "\n",
    "Twitter Post: [Twitter](https://twitter.com/_avichawla/status/1641399230773223426)"
   ]
  },
  {
   "cell_type": "code",
   "execution_count": 1,
   "id": "e07ffa9c",
   "metadata": {},
   "outputs": [],
   "source": [
    "import pandas as pd\n",
    "from time import time\n",
    "import seaborn as sns\n",
    "from tqdm import tqdm\n",
    "sns.set()"
   ]
  },
  {
   "cell_type": "code",
   "execution_count": 2,
   "id": "a20f3122",
   "metadata": {},
   "outputs": [
    {
     "data": {
      "text/html": [
       "<div><div id=040942cd-4d29-4cad-b515-8ad39589cb68 style=\"display:none; background-color:#9D6CFF; color:white; width:200px; height:30px; padding-left:5px; border-radius:4px; flex-direction:row; justify-content:space-around; align-items:center;\" onmouseover=\"this.style.backgroundColor='#BA9BF8'\" onmouseout=\"this.style.backgroundColor='#9D6CFF'\" onclick=\"window.commands?.execute('create-mitosheet-from-dataframe-output');\">See Full Dataframe in Mito</div> <script> if (window.commands?.hasCommand('create-mitosheet-from-dataframe-output')) document.getElementById('040942cd-4d29-4cad-b515-8ad39589cb68').style.display = 'flex' </script> <table border=\"1\" class=\"dataframe\">\n",
       "  <thead>\n",
       "    <tr style=\"text-align: right;\">\n",
       "      <th></th>\n",
       "      <th>Name</th>\n",
       "      <th>Company_Name</th>\n",
       "      <th>Employee_Job_Title</th>\n",
       "      <th>Employee_City</th>\n",
       "      <th>Employee_Country</th>\n",
       "      <th>Employee_Salary</th>\n",
       "      <th>Employment_Status</th>\n",
       "      <th>Employee_Rating</th>\n",
       "      <th>Credits</th>\n",
       "    </tr>\n",
       "  </thead>\n",
       "  <tbody>\n",
       "    <tr>\n",
       "      <th>0</th>\n",
       "      <td>Johnny Maynard</td>\n",
       "      <td>White, Mcclain and Cobb</td>\n",
       "      <td>Equities trader</td>\n",
       "      <td>New Cindychester</td>\n",
       "      <td>Mongolia</td>\n",
       "      <td>764340</td>\n",
       "      <td>Full Time</td>\n",
       "      <td>3.3</td>\n",
       "      <td>1</td>\n",
       "    </tr>\n",
       "    <tr>\n",
       "      <th>1</th>\n",
       "      <td>Michael Williams</td>\n",
       "      <td>Scott Inc</td>\n",
       "      <td>Patent examiner</td>\n",
       "      <td>Ricardomouth</td>\n",
       "      <td>Guinea-Bissau</td>\n",
       "      <td>929230</td>\n",
       "      <td>Full Time</td>\n",
       "      <td>4.6</td>\n",
       "      <td>4</td>\n",
       "    </tr>\n",
       "    <tr>\n",
       "      <th>2</th>\n",
       "      <td>Laura Flynn</td>\n",
       "      <td>Andrade LLC</td>\n",
       "      <td>Equities trader</td>\n",
       "      <td>North Melissafurt</td>\n",
       "      <td>Tonga</td>\n",
       "      <td>606900</td>\n",
       "      <td>Intern</td>\n",
       "      <td>0.3</td>\n",
       "      <td>3</td>\n",
       "    </tr>\n",
       "    <tr>\n",
       "      <th>3</th>\n",
       "      <td>Stefanie Archer</td>\n",
       "      <td>James and Sons</td>\n",
       "      <td>Retail merchandiser</td>\n",
       "      <td>Ricardomouth</td>\n",
       "      <td>San Marino</td>\n",
       "      <td>775380</td>\n",
       "      <td>Full Time</td>\n",
       "      <td>2.8</td>\n",
       "      <td>5</td>\n",
       "    </tr>\n",
       "    <tr>\n",
       "      <th>4</th>\n",
       "      <td>Sierra Garcia</td>\n",
       "      <td>Matthews Inc</td>\n",
       "      <td>Armed forces logistics/support/administrative officer</td>\n",
       "      <td>Whitakerbury</td>\n",
       "      <td>Nepal</td>\n",
       "      <td>944480</td>\n",
       "      <td>Full Time</td>\n",
       "      <td>4.5</td>\n",
       "      <td>4</td>\n",
       "    </tr>\n",
       "  </tbody>\n",
       "</table></div>"
      ],
      "text/plain": [
       "               Name             Company_Name  \\\n",
       "0    Johnny Maynard  White, Mcclain and Cobb   \n",
       "1  Michael Williams                Scott Inc   \n",
       "2       Laura Flynn              Andrade LLC   \n",
       "3   Stefanie Archer           James and Sons   \n",
       "4     Sierra Garcia             Matthews Inc   \n",
       "\n",
       "                                  Employee_Job_Title      Employee_City  \\\n",
       "0                                    Equities trader   New Cindychester   \n",
       "1                                    Patent examiner       Ricardomouth   \n",
       "2                                    Equities trader  North Melissafurt   \n",
       "3                                Retail merchandiser       Ricardomouth   \n",
       "4  Armed forces logistics/support/administrative ...       Whitakerbury   \n",
       "\n",
       "  Employee_Country  Employee_Salary Employment_Status  Employee_Rating  \\\n",
       "0         Mongolia           764340         Full Time              3.3   \n",
       "1    Guinea-Bissau           929230         Full Time              4.6   \n",
       "2            Tonga           606900            Intern              0.3   \n",
       "3       San Marino           775380         Full Time              2.8   \n",
       "4            Nepal           944480         Full Time              4.5   \n",
       "\n",
       "   Credits  \n",
       "0        1  \n",
       "1        4  \n",
       "2        3  \n",
       "3        5  \n",
       "4        4  "
      ]
     },
     "execution_count": 2,
     "metadata": {},
     "output_type": "execute_result"
    }
   ],
   "source": [
    "df = pd.read_csv(\"../_Datasets/employee_dataset.csv\")\n",
    "df.head()"
   ]
  },
  {
   "cell_type": "code",
   "execution_count": 4,
   "id": "f256cbe7",
   "metadata": {},
   "outputs": [],
   "source": [
    "row = list(df.iloc[999].values)"
   ]
  },
  {
   "cell_type": "code",
   "execution_count": 5,
   "id": "dfe0746a",
   "metadata": {},
   "outputs": [
    {
     "name": "stderr",
     "output_type": "stream",
     "text": [
      "100%|██████████████████████████████████| 50000/50000 [01:43<00:00, 483.35it/s]\n"
     ]
    }
   ],
   "source": [
    "time_list = []\n",
    "for i in tqdm(range(50000)):\n",
    "    \n",
    "    start = time()\n",
    "    df.loc[df.shape[0]] = row\n",
    "    end = time()-start\n",
    "    time_list.append((df.shape[0],end))"
   ]
  },
  {
   "cell_type": "code",
   "execution_count": 7,
   "id": "f29ab935",
   "metadata": {
    "scrolled": true
   },
   "outputs": [],
   "source": [
    "time_list1 = time_df.iloc[10::101, :].values"
   ]
  },
  {
   "cell_type": "code",
   "execution_count": 8,
   "id": "feb6a194",
   "metadata": {},
   "outputs": [
    {
     "data": {
      "application/javascript": [
       "\n",
       "        if (window._pyforest_update_imports_cell) { window._pyforest_update_imports_cell('import matplotlib.pyplot as plt'); }\n",
       "    "
      ],
      "text/plain": [
       "<IPython.core.display.Javascript object>"
      ]
     },
     "metadata": {},
     "output_type": "display_data"
    },
    {
     "data": {
      "application/javascript": [
       "\n",
       "        if (window._pyforest_update_imports_cell) { window._pyforest_update_imports_cell('import matplotlib.pyplot as plt'); }\n",
       "    "
      ],
      "text/plain": [
       "<IPython.core.display.Javascript object>"
      ]
     },
     "metadata": {},
     "output_type": "display_data"
    },
    {
     "data": {
      "application/javascript": [
       "\n",
       "        if (window._pyforest_update_imports_cell) { window._pyforest_update_imports_cell('import matplotlib.pyplot as plt'); }\n",
       "    "
      ],
      "text/plain": [
       "<IPython.core.display.Javascript object>"
      ]
     },
     "metadata": {},
     "output_type": "display_data"
    },
    {
     "data": {
      "application/javascript": [
       "\n",
       "        if (window._pyforest_update_imports_cell) { window._pyforest_update_imports_cell('import matplotlib.pyplot as plt'); }\n",
       "    "
      ],
      "text/plain": [
       "<IPython.core.display.Javascript object>"
      ]
     },
     "metadata": {},
     "output_type": "display_data"
    },
    {
     "data": {
      "application/javascript": [
       "\n",
       "        if (window._pyforest_update_imports_cell) { window._pyforest_update_imports_cell('import matplotlib.pyplot as plt'); }\n",
       "    "
      ],
      "text/plain": [
       "<IPython.core.display.Javascript object>"
      ]
     },
     "metadata": {},
     "output_type": "display_data"
    },
    {
     "data": {
      "application/javascript": [
       "\n",
       "        if (window._pyforest_update_imports_cell) { window._pyforest_update_imports_cell('import matplotlib.pyplot as plt'); }\n",
       "    "
      ],
      "text/plain": [
       "<IPython.core.display.Javascript object>"
      ]
     },
     "metadata": {},
     "output_type": "display_data"
    },
    {
     "data": {
      "application/javascript": [
       "\n",
       "        if (window._pyforest_update_imports_cell) { window._pyforest_update_imports_cell('import matplotlib.pyplot as plt'); }\n",
       "    "
      ],
      "text/plain": [
       "<IPython.core.display.Javascript object>"
      ]
     },
     "metadata": {},
     "output_type": "display_data"
    },
    {
     "data": {
      "application/javascript": [
       "\n",
       "        if (window._pyforest_update_imports_cell) { window._pyforest_update_imports_cell('import matplotlib.pyplot as plt'); }\n",
       "    "
      ],
      "text/plain": [
       "<IPython.core.display.Javascript object>"
      ]
     },
     "metadata": {},
     "output_type": "display_data"
    },
    {
     "data": {
      "image/png": "[encoded data removed]",
      "text/plain": [
       "<Figure size 1080x648 with 1 Axes>"
      ]
     },
     "metadata": {
      "needs_background": "light"
     },
     "output_type": "display_data"
    }
   ],
   "source": [
    "x_vals, y_vals = time_list1[:, 0], 1000*time_list1[:, 1]\n",
    "    \n",
    "# Create the scatter plot\n",
    "plt.subplots(figsize = (15, 9))\n",
    "plt.plot(x_vals, y_vals, lw = 2)\n",
    "plt.ylim(0, 51000)\n",
    "plt.ylim(1000*0.0007, 1000*0.0045)\n",
    "plt.xlabel(\"Total Rows\", fontweight =\"bold\", fontsize = 20)\n",
    "plt.ylabel(\"Append Time (in ms)\", fontweight =\"bold\", fontsize = 20)\n",
    "plt.title(\"DataFrame Size vs Row Append Time\", fontweight =\"bold\", fontsize = 25)\n",
    "plt.show()"
   ]
  }
 ],
 "metadata": {
  "kernelspec": {
   "display_name": "Python 3 (ipykernel)",
   "language": "python",
   "name": "python3"
  },
  "language_info": {
   "codemirror_mode": {
    "name": "ipython",
    "version": 3
   },
   "file_extension": ".py",
   "mimetype": "text/x-python",
   "name": "python",
   "nbconvert_exporter": "python",
   "pygments_lexer": "ipython3",
   "version": "3.9.12"
  }
 },
 "nbformat": 4,
 "nbformat_minor": 5
}

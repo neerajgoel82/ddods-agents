{
 "cells": [
  {
   "cell_type": "markdown",
   "id": "055183e4",
   "metadata": {},
   "source": [
    "# Daily-Dose-of-Data-Science\n",
    "\n",
    "[Daily Dose of Data Science](https://avichawla.substack.com) is a publication on Substack that brings together intriguing frameworks, libraries, technologies, and tips that make the life cycle of a Data Science project effortless. \n",
    "\n",
    "Author: Avi Chawla\n",
    "\n",
    "[Medium](https://medium.com/@avi_chawla) | [LinkedIn](https://www.linkedin.com/in/avi-chawla/)\n"
   ]
  },
  {
   "cell_type": "markdown",
   "id": "019b127c",
   "metadata": {},
   "source": [
    "# Display Progress Bar With Apply() in Pandas\n",
    "\n",
    "Post Link: [Substack](https://avichawla.substack.com/p/display-progress-bar-with-apply-in)\n",
    "\n",
    "LinkedIn Post: [LinkedIn](https://www.linkedin.com/posts/avi-chawla_python-datascience-pandas-activity-6988097183090663424-0bhw?utm_source=share&utm_medium=member_desktop)"
   ]
  },
  {
   "cell_type": "code",
   "execution_count": 1,
   "id": "2fae9796",
   "metadata": {
    "ExecuteTime": {
     "end_time": "2022-12-01T19:54:37.444480Z",
     "start_time": "2022-12-01T19:54:33.939136Z"
    }
   },
   "outputs": [
    {
     "name": "stdout",
     "output_type": "stream",
     "text": [
      "Requirement already satisfied: tqdm in /Users/avi/anaconda3/lib/python3.9/site-packages (4.64.0)\r\n"
     ]
    }
   ],
   "source": [
    "!pip install tqdm"
   ]
  },
  {
   "cell_type": "code",
   "execution_count": 2,
   "id": "2d520851",
   "metadata": {
    "ExecuteTime": {
     "end_time": "2022-12-01T19:55:20.975329Z",
     "start_time": "2022-12-01T19:55:19.768493Z"
    }
   },
   "outputs": [],
   "source": [
    "import pandas as pd\n",
    "import numpy as np"
   ]
  },
  {
   "cell_type": "code",
   "execution_count": 3,
   "id": "c531d7f5",
   "metadata": {
    "ExecuteTime": {
     "end_time": "2022-12-01T19:55:25.586300Z",
     "start_time": "2022-12-01T19:55:25.523536Z"
    }
   },
   "outputs": [],
   "source": [
    "df = pd.DataFrame(np.random.randint(low = 1, high = 100, size = (10**6, 2)), columns = [\"col1\", \"col2\"])"
   ]
  },
  {
   "cell_type": "code",
   "execution_count": 5,
   "id": "d0ee86a0",
   "metadata": {
    "ExecuteTime": {
     "end_time": "2022-12-01T19:55:37.782692Z",
     "start_time": "2022-12-01T19:55:37.776570Z"
    }
   },
   "outputs": [],
   "source": [
    "def func(row):\n",
    "    return sum(row)"
   ]
  },
  {
   "cell_type": "code",
   "execution_count": 7,
   "id": "debf5b06",
   "metadata": {
    "ExecuteTime": {
     "end_time": "2022-12-01T19:55:51.142828Z",
     "start_time": "2022-12-01T19:55:47.099031Z"
    }
   },
   "outputs": [
    {
     "data": {
      "application/vnd.jupyter.widget-view+json": {
       "model_id": "6fd9cf7d56924533b26aa664c276b0b3",
       "version_major": 2,
       "version_minor": 0
      },
      "text/plain": [
       "  0%|          | 0/1000000 [00:00<?, ?it/s]"
      ]
     },
     "metadata": {},
     "output_type": "display_data"
    }
   ],
   "source": [
    "from tqdm.notebook import tqdm\n",
    "tqdm.pandas()\n",
    "\n",
    "a = df.progress_apply(func, axis = 1)"
   ]
  },
  {
   "cell_type": "code",
   "execution_count": null,
   "id": "2954d25c",
   "metadata": {},
   "outputs": [],
   "source": []
  }
 ],
 "metadata": {
  "kernelspec": {
   "display_name": "Python 3 (ipykernel)",
   "language": "python",
   "name": "python3"
  },
  "language_info": {
   "codemirror_mode": {
    "name": "ipython",
    "version": 3
   },
   "file_extension": ".py",
   "mimetype": "text/x-python",
   "name": "python",
   "nbconvert_exporter": "python",
   "pygments_lexer": "ipython3",
   "version": "3.9.12"
  }
 },
 "nbformat": 4,
 "nbformat_minor": 5
}

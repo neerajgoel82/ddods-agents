{
 "cells": [
  {
   "cell_type": "markdown",
   "id": "eac8d336",
   "metadata": {},
   "source": [
    "# Daily-Dose-of-Data-Science\n",
    "\n",
    "[Daily Dose of Data Science](https://avichawla.substack.com) is a publication on Substack that brings together intriguing frameworks, libraries, technologies, and tips that make the life cycle of a Data Science project effortless. \n",
    "\n",
    "Author: Avi Chawla\n",
    "\n",
    "[Medium](https://medium.com/@avi_chawla) | [LinkedIn](https://www.linkedin.com/in/avi-chawla/)\n",
    "\n",
    "# Write Your Own Flavor Of Pandas\n",
    "\n",
    "\n",
    "Post Link: [Substack](https://avichawla.substack.com/p/write-your-own-flavor-of-pandas)\n",
    "\n",
    "LinkedIn Post: [LinkedIn](https://www.linkedin.com/posts/avi-chawla_python-datascience-pandas-activity-7002952103019048960-xdCC?utm_source=share&utm_medium=member_desktop)"
   ]
  },
  {
   "cell_type": "code",
   "execution_count": 2,
   "id": "0d7c14ef",
   "metadata": {
    "ExecuteTime": {
     "end_time": "2022-12-02T08:00:47.338703Z",
     "start_time": "2022-12-02T08:00:44.145151Z"
    }
   },
   "outputs": [
    {
     "name": "stdout",
     "output_type": "stream",
     "text": [
      "Requirement already satisfied: pandas-flavor in /Users/avi/anaconda3/lib/python3.9/site-packages (0.3.0)\r\n",
      "Requirement already satisfied: lazy-loader==0.1rc2 in /Users/avi/anaconda3/lib/python3.9/site-packages (from pandas-flavor) (0.1rc2)\r\n",
      "Requirement already satisfied: pandas>=0.23 in /Users/avi/anaconda3/lib/python3.9/site-packages (from pandas-flavor) (1.5.0)\r\n",
      "Requirement already satisfied: xarray in /Users/avi/anaconda3/lib/python3.9/site-packages (from pandas-flavor) (0.20.1)\r\n",
      "Requirement already satisfied: numpy>=1.20.3 in /Users/avi/anaconda3/lib/python3.9/site-packages (from pandas>=0.23->pandas-flavor) (1.21.5)\r\n",
      "Requirement already satisfied: pytz>=2020.1 in /Users/avi/anaconda3/lib/python3.9/site-packages (from pandas>=0.23->pandas-flavor) (2021.3)\r\n",
      "Requirement already satisfied: python-dateutil>=2.8.1 in /Users/avi/anaconda3/lib/python3.9/site-packages (from pandas>=0.23->pandas-flavor) (2.8.2)\r\n",
      "Requirement already satisfied: six>=1.5 in /Users/avi/anaconda3/lib/python3.9/site-packages (from python-dateutil>=2.8.1->pandas>=0.23->pandas-flavor) (1.16.0)\r\n"
     ]
    }
   ],
   "source": [
    "!pip install pandas-flavor"
   ]
  },
  {
   "cell_type": "code",
   "execution_count": 3,
   "id": "77c8d1ec",
   "metadata": {
    "ExecuteTime": {
     "end_time": "2022-12-02T08:01:14.594170Z",
     "start_time": "2022-12-02T08:01:13.322117Z"
    }
   },
   "outputs": [],
   "source": [
    "import pandas as pd\n",
    "import pandas_flavor as pf"
   ]
  },
  {
   "cell_type": "code",
   "execution_count": 4,
   "id": "bfd34a8e",
   "metadata": {
    "ExecuteTime": {
     "end_time": "2022-12-02T08:01:21.127238Z",
     "start_time": "2022-12-02T08:01:21.058452Z"
    }
   },
   "outputs": [
    {
     "data": {
      "text/html": [
       "<div>\n",
       "<style scoped>\n",
       "    .dataframe tbody tr th:only-of-type {\n",
       "        vertical-align: middle;\n",
       "    }\n",
       "\n",
       "    .dataframe tbody tr th {\n",
       "        vertical-align: top;\n",
       "    }\n",
       "\n",
       "    .dataframe thead th {\n",
       "        text-align: right;\n",
       "    }\n",
       "</style>\n",
       "<table border=\"1\" class=\"dataframe\">\n",
       "  <thead>\n",
       "    <tr style=\"text-align: right;\">\n",
       "      <th></th>\n",
       "      <th>Planets</th>\n",
       "      <th>Position</th>\n",
       "    </tr>\n",
       "  </thead>\n",
       "  <tbody>\n",
       "    <tr>\n",
       "      <th>0</th>\n",
       "      <td>Mercury</td>\n",
       "      <td>1</td>\n",
       "    </tr>\n",
       "    <tr>\n",
       "      <th>1</th>\n",
       "      <td>Venus</td>\n",
       "      <td>2</td>\n",
       "    </tr>\n",
       "  </tbody>\n",
       "</table>\n",
       "</div>"
      ],
      "text/plain": [
       "   Planets  Position\n",
       "0  Mercury         1\n",
       "1    Venus         2"
      ]
     },
     "execution_count": 4,
     "metadata": {},
     "output_type": "execute_result"
    }
   ],
   "source": [
    "df = pd.DataFrame([[\"Mercury\", 1],\n",
    "                   [\"Venus\", 2]], \n",
    "                  columns = [\"Planets\", \"Position\"])\n",
    "\n",
    "df"
   ]
  },
  {
   "cell_type": "code",
   "execution_count": 5,
   "id": "2233d69c",
   "metadata": {
    "ExecuteTime": {
     "end_time": "2022-12-02T08:01:26.004734Z",
     "start_time": "2022-12-02T08:01:25.995422Z"
    }
   },
   "outputs": [],
   "source": [
    "@pf.register_dataframe_method\n",
    "def add_rows(df, rows):\n",
    "\n",
    "    for row in rows:\n",
    "        df.loc[df.shape[0]] = row"
   ]
  },
  {
   "cell_type": "code",
   "execution_count": 6,
   "id": "9c8d228a",
   "metadata": {
    "ExecuteTime": {
     "end_time": "2022-12-02T08:01:38.766605Z",
     "start_time": "2022-12-02T08:01:38.755903Z"
    }
   },
   "outputs": [],
   "source": [
    "new_rows = [[\"Earth\", 3], \n",
    "            [\"Mars\" , 4]]"
   ]
  },
  {
   "cell_type": "code",
   "execution_count": 7,
   "id": "419f8244",
   "metadata": {
    "ExecuteTime": {
     "end_time": "2022-12-02T08:01:47.061809Z",
     "start_time": "2022-12-02T08:01:47.049423Z"
    }
   },
   "outputs": [],
   "source": [
    "df.add_rows(new_rows)"
   ]
  },
  {
   "cell_type": "code",
   "execution_count": 8,
   "id": "ee638600",
   "metadata": {
    "ExecuteTime": {
     "end_time": "2022-12-02T08:01:49.182538Z",
     "start_time": "2022-12-02T08:01:49.168786Z"
    }
   },
   "outputs": [
    {
     "data": {
      "text/html": [
       "<div>\n",
       "<style scoped>\n",
       "    .dataframe tbody tr th:only-of-type {\n",
       "        vertical-align: middle;\n",
       "    }\n",
       "\n",
       "    .dataframe tbody tr th {\n",
       "        vertical-align: top;\n",
       "    }\n",
       "\n",
       "    .dataframe thead th {\n",
       "        text-align: right;\n",
       "    }\n",
       "</style>\n",
       "<table border=\"1\" class=\"dataframe\">\n",
       "  <thead>\n",
       "    <tr style=\"text-align: right;\">\n",
       "      <th></th>\n",
       "      <th>Planets</th>\n",
       "      <th>Position</th>\n",
       "    </tr>\n",
       "  </thead>\n",
       "  <tbody>\n",
       "    <tr>\n",
       "      <th>0</th>\n",
       "      <td>Mercury</td>\n",
       "      <td>1</td>\n",
       "    </tr>\n",
       "    <tr>\n",
       "      <th>1</th>\n",
       "      <td>Venus</td>\n",
       "      <td>2</td>\n",
       "    </tr>\n",
       "    <tr>\n",
       "      <th>2</th>\n",
       "      <td>Earth</td>\n",
       "      <td>3</td>\n",
       "    </tr>\n",
       "    <tr>\n",
       "      <th>3</th>\n",
       "      <td>Mars</td>\n",
       "      <td>4</td>\n",
       "    </tr>\n",
       "  </tbody>\n",
       "</table>\n",
       "</div>"
      ],
      "text/plain": [
       "   Planets  Position\n",
       "0  Mercury         1\n",
       "1    Venus         2\n",
       "2    Earth         3\n",
       "3     Mars         4"
      ]
     },
     "execution_count": 8,
     "metadata": {},
     "output_type": "execute_result"
    }
   ],
   "source": [
    "df"
   ]
  },
  {
   "cell_type": "code",
   "execution_count": null,
   "id": "7779c7ce",
   "metadata": {},
   "outputs": [],
   "source": []
  }
 ],
 "metadata": {
  "kernelspec": {
   "display_name": "Python 3 (ipykernel)",
   "language": "python",
   "name": "python3"
  },
  "language_info": {
   "codemirror_mode": {
    "name": "ipython",
    "version": 3
   },
   "file_extension": ".py",
   "mimetype": "text/x-python",
   "name": "python",
   "nbconvert_exporter": "python",
   "pygments_lexer": "ipython3",
   "version": "3.9.12"
  }
 },
 "nbformat": 4,
 "nbformat_minor": 5
}

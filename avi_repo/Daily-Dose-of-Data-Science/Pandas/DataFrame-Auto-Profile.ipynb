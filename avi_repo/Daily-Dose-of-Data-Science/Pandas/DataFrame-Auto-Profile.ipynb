{
 "cells": [
  {
   "cell_type": "markdown",
   "id": "41dbdd7d",
   "metadata": {},
   "source": [
    "# Daily-Dose-of-Data-Science\n",
    "\n",
    "[Daily Dose of Data Science](https://avichawla.substack.com) is a publication on Substack that brings together intriguing frameworks, libraries, technologies, and tips that make the life cycle of a Data Science project effortless. \n",
    "\n",
    "Author: Avi Chawla\n",
    "\n",
    "[Medium](https://medium.com/@avi_chawla) | [LinkedIn](https://www.linkedin.com/in/avi-chawla/)\n",
    "\n",
    "# AutoProfiler: Automatically Profile Your DataFrame As You Work\n",
    "\n",
    "Post Link: [Substack](https://avichawla.substack.com/p/autoprofiler-automatically-profile)\n",
    "\n",
    "LinkedIn Post: [LinkedIn](https://www.linkedin.com/feed/update/urn:li:activity:7049690502593417217/)\n",
    "\n",
    "Twitter Post: [Twitter](https://twitter.com/_avichawla/status/1643926846092836865)"
   ]
  },
  {
   "cell_type": "code",
   "execution_count": 2,
   "id": "f8dcfbc7",
   "metadata": {},
   "outputs": [
    {
     "data": {
      "text/html": [
       "<video src=\"../_Extras/autoprofiler.mp4\" controls  width=\"700\" >\n",
       "      Your browser does not support the <code>video</code> element.\n",
       "    </video>"
      ],
      "text/plain": [
       "<IPython.core.display.Video object>"
      ]
     },
     "execution_count": 2,
     "metadata": {},
     "output_type": "execute_result"
    }
   ],
   "source": [
    "from IPython.display import Video\n",
    "Video(\"../_Extras/autoprofiler.mp4\", width = 700)"
   ]
  }
 ],
 "metadata": {
  "kernelspec": {
   "display_name": "Python 3 (ipykernel)",
   "language": "python",
   "name": "python3"
  },
  "language_info": {
   "codemirror_mode": {
    "name": "ipython",
    "version": 3
   },
   "file_extension": ".py",
   "mimetype": "text/x-python",
   "name": "python",
   "nbconvert_exporter": "python",
   "pygments_lexer": "ipython3",
   "version": "3.9.12"
  }
 },
 "nbformat": 4,
 "nbformat_minor": 5
}

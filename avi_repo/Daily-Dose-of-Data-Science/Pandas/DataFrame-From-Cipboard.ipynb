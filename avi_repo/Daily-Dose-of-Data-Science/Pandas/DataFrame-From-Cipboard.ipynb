{
 "cells": [
  {
   "cell_type": "markdown",
   "id": "be4bf64c",
   "metadata": {
    "ExecuteTime": {
     "end_time": "2022-12-01T20:38:15.583181Z",
     "start_time": "2022-12-01T20:38:15.534611Z"
    }
   },
   "source": [
    "# Daily-Dose-of-Data-Science\n",
    "\n",
    "[Daily Dose of Data Science](https://avichawla.substack.com) is a publication on Substack that brings together intriguing frameworks, libraries, technologies, and tips that make the life cycle of a Data Science project effortless. \n",
    "\n",
    "Author: Avi Chawla\n",
    "\n",
    "[Medium](https://medium.com/@avi_chawla) | [LinkedIn](https://www.linkedin.com/in/avi-chawla/)\n",
    "\n",
    "# Create DataFrame Hassle-free By Using Clipboard\n",
    "\n",
    "Post Link: [Substack](https://avichawla.substack.com/p/create-dataframe-hassle-free-by-using)\n",
    "\n",
    "LinkedIn Post: [LinkedIn](https://www.linkedin.com/posts/avi-chawla_python-datascience-pandas-activity-6992800247588503554-F1AN?utm_source=share&utm_medium=member_desktop)"
   ]
  },
  {
   "cell_type": "code",
   "execution_count": 2,
   "id": "788b91e1",
   "metadata": {
    "ExecuteTime": {
     "end_time": "2022-12-01T20:39:54.756609Z",
     "start_time": "2022-12-01T20:39:54.735719Z"
    }
   },
   "outputs": [
    {
     "data": {
      "text/html": [
       "<video src=\"../_Extras/dataframe from clipboard.mp4\" controls  >\n",
       "      Your browser does not support the <code>video</code> element.\n",
       "    </video>"
      ],
      "text/plain": [
       "<IPython.core.display.Video object>"
      ]
     },
     "execution_count": 2,
     "metadata": {},
     "output_type": "execute_result"
    }
   ],
   "source": [
    "from IPython.display import Video\n",
    "\n",
    "Video(\"../_Extras/dataframe from clipboard.mp4\")"
   ]
  },
  {
   "cell_type": "code",
   "execution_count": null,
   "id": "c4a52b00",
   "metadata": {},
   "outputs": [],
   "source": []
  }
 ],
 "metadata": {
  "kernelspec": {
   "display_name": "Python 3 (ipykernel)",
   "language": "python",
   "name": "python3"
  },
  "language_info": {
   "codemirror_mode": {
    "name": "ipython",
    "version": 3
   },
   "file_extension": ".py",
   "mimetype": "text/x-python",
   "name": "python",
   "nbconvert_exporter": "python",
   "pygments_lexer": "ipython3",
   "version": "3.9.12"
  }
 },
 "nbformat": 4,
 "nbformat_minor": 5
}

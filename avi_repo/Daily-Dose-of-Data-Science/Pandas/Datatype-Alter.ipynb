{
 "cells": [
  {
   "cell_type": "markdown",
   "id": "7bbac25d",
   "metadata": {},
   "source": [
    "# Daily-Dose-of-Data-Science\n",
    "\n",
    "[Daily Dose of Data Science](https://avichawla.substack.com) is a publication on Substack that brings together intriguing frameworks, libraries, technologies, and tips that make the life cycle of a Data Science project effortless. \n",
    "\n",
    "Author: Avi Chawla\n",
    "\n",
    "[Medium](https://medium.com/@avi_chawla) | [LinkedIn](https://www.linkedin.com/in/avi-chawla/)"
   ]
  },
  {
   "cell_type": "markdown",
   "id": "535d7261",
   "metadata": {},
   "source": [
    "# Alter the Datatype of Multiple Columns at Once\n",
    "\n",
    "Post Link: [Substack](https://avichawla.substack.com/p/alter-the-datatype-of-multiple-columns)\n",
    "\n",
    "LinkedIn Post: [LinkedIn](https://www.linkedin.com/posts/avi-chawla_datascience-python-pandas-activity-6986648774618038272-kS7E?utm_source=share&utm_medium=member_desktop)"
   ]
  },
  {
   "cell_type": "code",
   "execution_count": 1,
   "id": "c775f896",
   "metadata": {
    "ExecuteTime": {
     "end_time": "2022-12-01T19:34:35.156436Z",
     "start_time": "2022-12-01T19:34:34.026560Z"
    }
   },
   "outputs": [],
   "source": [
    "import pandas as pd\n",
    "import numpy as np"
   ]
  },
  {
   "cell_type": "code",
   "execution_count": 2,
   "id": "c93a995d",
   "metadata": {
    "ExecuteTime": {
     "end_time": "2022-12-01T19:36:47.814269Z",
     "start_time": "2022-12-01T19:36:47.801687Z"
    }
   },
   "outputs": [],
   "source": [
    "df = pd.DataFrame([[1,7,\"4\",\"A\"], \n",
    "                   [3,9,\"6\",\"B\"], \n",
    "                   [6,2,\"5\",\"A\"], \n",
    "                   [5,4,\"1\",\"C\"], \n",
    "                   [10,2,\"9\",\"D\"]], \n",
    "                 columns = [\"col1\",\"col2\",\"col3\",\"col4\"])"
   ]
  },
  {
   "cell_type": "markdown",
   "id": "77bb0f7e",
   "metadata": {},
   "source": [
    "### One column at a time"
   ]
  },
  {
   "cell_type": "code",
   "execution_count": 3,
   "id": "03ab06cb",
   "metadata": {
    "ExecuteTime": {
     "end_time": "2022-12-01T19:37:14.397258Z",
     "start_time": "2022-12-01T19:37:14.368026Z"
    }
   },
   "outputs": [
    {
     "data": {
      "application/javascript": [
       "\n",
       "        if (window._pyforest_update_imports_cell) { window._pyforest_update_imports_cell('import numpy as np'); }\n",
       "    "
      ],
      "text/plain": [
       "<IPython.core.display.Javascript object>"
      ]
     },
     "metadata": {},
     "output_type": "display_data"
    },
    {
     "data": {
      "application/javascript": [
       "\n",
       "        if (window._pyforest_update_imports_cell) { window._pyforest_update_imports_cell('import numpy as np'); }\n",
       "    "
      ],
      "text/plain": [
       "<IPython.core.display.Javascript object>"
      ]
     },
     "metadata": {},
     "output_type": "display_data"
    },
    {
     "data": {
      "application/javascript": [
       "\n",
       "        if (window._pyforest_update_imports_cell) { window._pyforest_update_imports_cell('import numpy as np'); }\n",
       "    "
      ],
      "text/plain": [
       "<IPython.core.display.Javascript object>"
      ]
     },
     "metadata": {},
     "output_type": "display_data"
    }
   ],
   "source": [
    "df[\"col1\"] = df.col1.astype(np.int32)\n",
    "df[\"col2\"] = df.col2.astype(np.int16)\n",
    "df[\"col3\"] = df.col3.astype(np.float16)"
   ]
  },
  {
   "cell_type": "markdown",
   "id": "7dd218e8",
   "metadata": {},
   "source": [
    "### Multiple columns at once"
   ]
  },
  {
   "cell_type": "code",
   "execution_count": 4,
   "id": "184ebd0a",
   "metadata": {
    "ExecuteTime": {
     "end_time": "2022-12-01T19:37:37.915544Z",
     "start_time": "2022-12-01T19:37:37.905384Z"
    }
   },
   "outputs": [],
   "source": [
    "df = pd.DataFrame([[1,7,\"4\",\"A\"], \n",
    "                   [3,9,\"6\",\"B\"], \n",
    "                   [6,2,\"5\",\"A\"], \n",
    "                   [5,4,\"1\",\"C\"], \n",
    "                   [10,2,\"9\",\"D\"]], \n",
    "                 columns = [\"col1\",\"col2\",\"col3\",\"col4\"])"
   ]
  },
  {
   "cell_type": "code",
   "execution_count": 5,
   "id": "f0cde804",
   "metadata": {
    "ExecuteTime": {
     "end_time": "2022-12-01T19:37:45.600943Z",
     "start_time": "2022-12-01T19:37:45.573456Z"
    }
   },
   "outputs": [
    {
     "data": {
      "application/javascript": [
       "\n",
       "        if (window._pyforest_update_imports_cell) { window._pyforest_update_imports_cell('import numpy as np'); }\n",
       "    "
      ],
      "text/plain": [
       "<IPython.core.display.Javascript object>"
      ]
     },
     "metadata": {},
     "output_type": "display_data"
    },
    {
     "data": {
      "application/javascript": [
       "\n",
       "        if (window._pyforest_update_imports_cell) { window._pyforest_update_imports_cell('import numpy as np'); }\n",
       "    "
      ],
      "text/plain": [
       "<IPython.core.display.Javascript object>"
      ]
     },
     "metadata": {},
     "output_type": "display_data"
    },
    {
     "data": {
      "application/javascript": [
       "\n",
       "        if (window._pyforest_update_imports_cell) { window._pyforest_update_imports_cell('import numpy as np'); }\n",
       "    "
      ],
      "text/plain": [
       "<IPython.core.display.Javascript object>"
      ]
     },
     "metadata": {},
     "output_type": "display_data"
    }
   ],
   "source": [
    "df = df.astype({\"col1\":np.int32, \n",
    "                \"col2\":np.int16, \n",
    "                \"col3\":np.float16})"
   ]
  },
  {
   "cell_type": "code",
   "execution_count": null,
   "id": "cd74cf8e",
   "metadata": {},
   "outputs": [],
   "source": []
  }
 ],
 "metadata": {
  "kernelspec": {
   "display_name": "Python 3 (ipykernel)",
   "language": "python",
   "name": "python3"
  },
  "language_info": {
   "codemirror_mode": {
    "name": "ipython",
    "version": 3
   },
   "file_extension": ".py",
   "mimetype": "text/x-python",
   "name": "python",
   "nbconvert_exporter": "python",
   "pygments_lexer": "ipython3",
   "version": "3.9.12"
  }
 },
 "nbformat": 4,
 "nbformat_minor": 5
}

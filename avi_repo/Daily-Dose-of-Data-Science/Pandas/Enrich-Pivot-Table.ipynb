{
 "cells": [
  {
   "cell_type": "markdown",
   "id": "179f0596",
   "metadata": {},
   "source": [
    "# Daily-Dose-of-Data-Science\n",
    "\n",
    "[Daily Dose of Data Science](https://avichawla.substack.com) is a publication on Substack that brings together intriguing frameworks, libraries, technologies, and tips that make the life cycle of a Data Science project effortless. \n",
    "\n",
    "Author: Avi Chawla\n",
    "\n",
    "[Medium](https://medium.com/@avi_chawla) | [LinkedIn](https://www.linkedin.com/in/avi-chawla/)\n",
    "\n",
    "# A Simple Trick to Make The Most Out of Pivot Tables in Pandas\n",
    "\n",
    "Post Link: [Substack](https://avichawla.substack.com/p/a-simple-trick-to-make-the-most-out)\n",
    "\n",
    "LinkedIn Post: [LinkedIn](https://www.linkedin.com/feed/update/urn:li:activity:7035194488901840896/)"
   ]
  },
  {
   "cell_type": "code",
   "execution_count": 2,
   "id": "84e6eada",
   "metadata": {},
   "outputs": [],
   "source": [
    "import pandas as pd\n",
    "import numpy as np\n",
    "import random\n",
    "import seaborn as sns"
   ]
  },
  {
   "cell_type": "markdown",
   "id": "18c71dac",
   "metadata": {},
   "source": [
    "### Create data"
   ]
  },
  {
   "cell_type": "code",
   "execution_count": 3,
   "id": "169ece19",
   "metadata": {},
   "outputs": [],
   "source": [
    "city_list = [\"New York\", \"Munich\", \"Bombay\", \n",
    "             \"Sydeny\", \"London\", \"Moscow\", \"Dubai\", \"Tokyo\"]\n",
    "\n",
    "job_list = [\"Software Development Engineer\", \"Research Engineer\", \n",
    "            \"Test Engineer\", \"Software Development Engineer-II\", \n",
    "            \"Python Developer\", \"Back End Developer\", \n",
    "            \"Front End Developer\", \"Data Scientist\", \n",
    "            \"IOS Developer\", \"Android Developer\"]\n",
    "\n",
    "cmp_list = [\"Amazon\", \"Google\", \"Microsoft\", \n",
    "            \"Uber\", \"IBM\", \"Apple\"]\n",
    "\n",
    "data = []\n",
    "for i in range(1000):\n",
    "  \n",
    "    company = random.choice(cmp_list)\n",
    "    job = random.choice(job_list)\n",
    "    city = random.choice(city_list)\n",
    "    salary = int(round(np.random.rand(), 3)*10**6)\n",
    "    employment = random.choices([\"Full Time\", \"Intern\"], weights=(80, 20))[0]\n",
    "    rating = round((np.random.rand()*5), 1)\n",
    "    \n",
    "    data.append([company, job, city, salary, employment, rating])\n",
    "    \n",
    "data = pd.DataFrame(data, columns=[\"Company Name\", \"Employee Job Title\",\n",
    "                                   \"Employee Work Location\",  \"Employee Salary\", \n",
    "                                   \"Employment Status\", \"Employee Rating\"])"
   ]
  },
  {
   "cell_type": "code",
   "execution_count": 5,
   "id": "8f8d3c09",
   "metadata": {},
   "outputs": [
    {
     "data": {
      "application/javascript": [
       "\n",
       "        if (window._pyforest_update_imports_cell) { window._pyforest_update_imports_cell('import matplotlib.pyplot as plt'); }\n",
       "    "
      ],
      "text/plain": [
       "<IPython.core.display.Javascript object>"
      ]
     },
     "metadata": {},
     "output_type": "display_data"
    },
    {
     "data": {
      "application/javascript": [
       "\n",
       "        if (window._pyforest_update_imports_cell) { window._pyforest_update_imports_cell('import matplotlib.pyplot as plt'); }\n",
       "    "
      ],
      "text/plain": [
       "<IPython.core.display.Javascript object>"
      ]
     },
     "metadata": {},
     "output_type": "display_data"
    },
    {
     "data": {
      "application/javascript": [
       "\n",
       "        if (window._pyforest_update_imports_cell) { window._pyforest_update_imports_cell('import matplotlib.pyplot as plt'); }\n",
       "    "
      ],
      "text/plain": [
       "<IPython.core.display.Javascript object>"
      ]
     },
     "metadata": {},
     "output_type": "display_data"
    },
    {
     "data": {
      "application/javascript": [
       "\n",
       "        if (window._pyforest_update_imports_cell) { window._pyforest_update_imports_cell('import matplotlib.pyplot as plt'); }\n",
       "    "
      ],
      "text/plain": [
       "<IPython.core.display.Javascript object>"
      ]
     },
     "metadata": {},
     "output_type": "display_data"
    },
    {
     "data": {
      "text/plain": [
       "Text(33.0, 0.5, 'Company')"
      ]
     },
     "execution_count": 5,
     "metadata": {},
     "output_type": "execute_result"
    },
    {
     "data": {
      "image/png": "[encoded data removed]",
      "text/plain": [
       "<Figure size 432x288 with 2 Axes>"
      ]
     },
     "metadata": {
      "needs_background": "light"
     },
     "output_type": "display_data"
    }
   ],
   "source": [
    "result_pivot = pd.pivot_table(data, index = \"Company Name\", columns = \"Employee Work Location\", values = \"Employee Rating\", aggfunc=\"count\" )\n",
    "ticks=np.arange(15, 36, 2)\n",
    "plot_ = sns.heatmap(result_pivot, annot=True, cmap = \"Blues\", fmt='d', cbar_kws={\"ticks\":ticks})\n",
    "plot_.collections[0].colorbar.set_label(\"Count\")\n",
    "fig = plot_.get_figure()\n",
    "plt.yticks(rotation=0)\n",
    "plt.xticks(rotation=45)\n",
    "plt.xlabel(\"Location\", weight='bold')\n",
    "plt.ylabel(\"Company\", weight='bold')"
   ]
  },
  {
   "cell_type": "code",
   "execution_count": 7,
   "id": "410ae3e8",
   "metadata": {},
   "outputs": [
    {
     "data": {
      "text/html": [
       "<div>\n",
       "<style scoped>\n",
       "    .dataframe tbody tr th:only-of-type {\n",
       "        vertical-align: middle;\n",
       "    }\n",
       "\n",
       "    .dataframe tbody tr th {\n",
       "        vertical-align: top;\n",
       "    }\n",
       "\n",
       "    .dataframe thead th {\n",
       "        text-align: right;\n",
       "    }\n",
       "</style>\n",
       "<table border=\"1\" class=\"dataframe\">\n",
       "  <thead>\n",
       "    <tr style=\"text-align: right;\">\n",
       "      <th>Employee Work Location</th>\n",
       "      <th>Bombay</th>\n",
       "      <th>Dubai</th>\n",
       "      <th>London</th>\n",
       "      <th>Moscow</th>\n",
       "      <th>Munich</th>\n",
       "      <th>New York</th>\n",
       "      <th>Sydeny</th>\n",
       "      <th>Tokyo</th>\n",
       "    </tr>\n",
       "    <tr>\n",
       "      <th>Company Name</th>\n",
       "      <th></th>\n",
       "      <th></th>\n",
       "      <th></th>\n",
       "      <th></th>\n",
       "      <th></th>\n",
       "      <th></th>\n",
       "      <th></th>\n",
       "      <th></th>\n",
       "    </tr>\n",
       "  </thead>\n",
       "  <tbody>\n",
       "    <tr>\n",
       "      <th>Amazon</th>\n",
       "      <td>24</td>\n",
       "      <td>13</td>\n",
       "      <td>25</td>\n",
       "      <td>24</td>\n",
       "      <td>18</td>\n",
       "      <td>21</td>\n",
       "      <td>19</td>\n",
       "      <td>16</td>\n",
       "    </tr>\n",
       "    <tr>\n",
       "      <th>Apple</th>\n",
       "      <td>18</td>\n",
       "      <td>21</td>\n",
       "      <td>22</td>\n",
       "      <td>11</td>\n",
       "      <td>22</td>\n",
       "      <td>20</td>\n",
       "      <td>14</td>\n",
       "      <td>17</td>\n",
       "    </tr>\n",
       "    <tr>\n",
       "      <th>Google</th>\n",
       "      <td>18</td>\n",
       "      <td>19</td>\n",
       "      <td>19</td>\n",
       "      <td>21</td>\n",
       "      <td>22</td>\n",
       "      <td>30</td>\n",
       "      <td>28</td>\n",
       "      <td>27</td>\n",
       "    </tr>\n",
       "    <tr>\n",
       "      <th>IBM</th>\n",
       "      <td>22</td>\n",
       "      <td>21</td>\n",
       "      <td>23</td>\n",
       "      <td>26</td>\n",
       "      <td>21</td>\n",
       "      <td>14</td>\n",
       "      <td>27</td>\n",
       "      <td>17</td>\n",
       "    </tr>\n",
       "    <tr>\n",
       "      <th>Microsoft</th>\n",
       "      <td>27</td>\n",
       "      <td>22</td>\n",
       "      <td>23</td>\n",
       "      <td>18</td>\n",
       "      <td>24</td>\n",
       "      <td>25</td>\n",
       "      <td>16</td>\n",
       "      <td>22</td>\n",
       "    </tr>\n",
       "    <tr>\n",
       "      <th>Uber</th>\n",
       "      <td>15</td>\n",
       "      <td>19</td>\n",
       "      <td>21</td>\n",
       "      <td>17</td>\n",
       "      <td>20</td>\n",
       "      <td>18</td>\n",
       "      <td>25</td>\n",
       "      <td>28</td>\n",
       "    </tr>\n",
       "  </tbody>\n",
       "</table>\n",
       "</div>"
      ],
      "text/plain": [
       "Employee Work Location  Bombay  Dubai  London  Moscow  Munich  New York  \\\n",
       "Company Name                                                              \n",
       "Amazon                      24     13      25      24      18        21   \n",
       "Apple                       18     21      22      11      22        20   \n",
       "Google                      18     19      19      21      22        30   \n",
       "IBM                         22     21      23      26      21        14   \n",
       "Microsoft                   27     22      23      18      24        25   \n",
       "Uber                        15     19      21      17      20        18   \n",
       "\n",
       "Employee Work Location  Sydeny  Tokyo  \n",
       "Company Name                           \n",
       "Amazon                      19     16  \n",
       "Apple                       14     17  \n",
       "Google                      28     27  \n",
       "IBM                         27     17  \n",
       "Microsoft                   16     22  \n",
       "Uber                        25     28  "
      ]
     },
     "execution_count": 7,
     "metadata": {},
     "output_type": "execute_result"
    }
   ],
   "source": [
    "pd.pivot_table(data, index = \"Company Name\", columns = \"Employee Work Location\", values = \"Employee Rating\", aggfunc=\"count\" )"
   ]
  },
  {
   "cell_type": "code",
   "execution_count": null,
   "id": "df684557",
   "metadata": {},
   "outputs": [],
   "source": []
  }
 ],
 "metadata": {
  "kernelspec": {
   "display_name": "Python 3 (ipykernel)",
   "language": "python",
   "name": "python3"
  },
  "language_info": {
   "codemirror_mode": {
    "name": "ipython",
    "version": 3
   },
   "file_extension": ".py",
   "mimetype": "text/x-python",
   "name": "python",
   "nbconvert_exporter": "python",
   "pygments_lexer": "ipython3",
   "version": "3.9.12"
  }
 },
 "nbformat": 4,
 "nbformat_minor": 5
}

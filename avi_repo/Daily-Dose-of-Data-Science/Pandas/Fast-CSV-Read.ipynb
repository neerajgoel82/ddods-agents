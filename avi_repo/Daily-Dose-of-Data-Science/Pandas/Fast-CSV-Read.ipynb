{
 "cells": [
  {
   "cell_type": "markdown",
   "id": "a8b7939e",
   "metadata": {},
   "source": [
    "# Daily-Dose-of-Data-Science\n",
    "\n",
    "[Daily Dose of Data Science](https://avichawla.substack.com) is a publication on Substack that brings together intriguing frameworks, libraries, technologies, and tips that make the life cycle of a Data Science project effortless. \n",
    "\n",
    "Author: Avi Chawla\n",
    "\n",
    "[Medium](https://medium.com/@avi_chawla) | [LinkedIn](https://www.linkedin.com/in/avi-chawla/)"
   ]
  },
  {
   "cell_type": "markdown",
   "id": "02d9a415",
   "metadata": {},
   "source": [
    "# Why You Should Not Read CSVs with Pandas\n",
    "\n",
    "Post Link: [Substack](https://avichawla.substack.com/p/why-you-should-not-read-csvs-with)\n",
    "\n",
    "LinkedIn Post: [LinkedIn](https://www.linkedin.com/posts/avi-chawla_datascience-python-pythonprogramming-activity-6982986877062533121-GVZc?utm_source=share&utm_medium=member_desktop)"
   ]
  },
  {
   "cell_type": "code",
   "execution_count": 1,
   "id": "41ba3ddd",
   "metadata": {
    "ExecuteTime": {
     "end_time": "2022-12-01T18:40:52.596738Z",
     "start_time": "2022-12-01T18:40:49.265603Z"
    }
   },
   "outputs": [
    {
     "name": "stdout",
     "output_type": "stream",
     "text": [
      "Requirement already satisfied: datatable in /Users/avi/anaconda3/lib/python3.9/site-packages (1.0.0)\r\n"
     ]
    }
   ],
   "source": [
    "!pip install datatable"
   ]
  },
  {
   "cell_type": "code",
   "execution_count": 4,
   "id": "d5613cd5",
   "metadata": {
    "ExecuteTime": {
     "end_time": "2022-12-01T18:44:46.406744Z",
     "start_time": "2022-12-01T18:44:46.177010Z"
    }
   },
   "outputs": [
    {
     "data": {
      "text/html": [
       "<style type='text/css'>\n",
       ".datatable table.frame { margin-bottom: 0; }\n",
       ".datatable table.frame thead { border-bottom: none; }\n",
       ".datatable table.frame tr.coltypes td {  color: #FFFFFF;  line-height: 6px;  padding: 0 0.5em;}\n",
       ".datatable .bool    { background: #DDDD99; }\n",
       ".datatable .object  { background: #565656; }\n",
       ".datatable .int     { background: #5D9E5D; }\n",
       ".datatable .float   { background: #4040CC; }\n",
       ".datatable .str     { background: #CC4040; }\n",
       ".datatable .time    { background: #40CC40; }\n",
       ".datatable .row_index {  background: var(--jp-border-color3);  border-right: 1px solid var(--jp-border-color0);  color: var(--jp-ui-font-color3);  font-size: 9px;}\n",
       ".datatable .frame tbody td { text-align: left; }\n",
       ".datatable .frame tr.coltypes .row_index {  background: var(--jp-border-color0);}\n",
       ".datatable th:nth-child(2) { padding-left: 12px; }\n",
       ".datatable .hellipsis {  color: var(--jp-cell-editor-border-color);}\n",
       ".datatable .vellipsis {  background: var(--jp-layout-color0);  color: var(--jp-cell-editor-border-color);}\n",
       ".datatable .na {  color: var(--jp-cell-editor-border-color);  font-size: 80%;}\n",
       ".datatable .sp {  opacity: 0.25;}\n",
       ".datatable .footer { font-size: 9px; }\n",
       ".datatable .frame_dimensions {  background: var(--jp-border-color3);  border-top: 1px solid var(--jp-border-color0);  color: var(--jp-ui-font-color3);  display: inline-block;  opacity: 0.6;  padding: 1px 10px 1px 5px;}\n",
       ".datatable .frame thead tr.colnames {  background-image: url('data:image/png;base64,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');  background-repeat: repeat-x;  background-size: 14px;  height: 28px;}\n",
       "</style>\n"
      ],
      "text/plain": [
       "<IPython.core.display.HTML object>"
      ]
     },
     "metadata": {},
     "output_type": "display_data"
    }
   ],
   "source": [
    "import pandas as pd\n",
    "import datatable as dt"
   ]
  },
  {
   "cell_type": "code",
   "execution_count": 2,
   "id": "0b170c2d",
   "metadata": {
    "ExecuteTime": {
     "end_time": "2022-12-01T18:44:03.952755Z",
     "start_time": "2022-12-01T18:44:03.934165Z"
    }
   },
   "outputs": [],
   "source": [
    "file = \"../_Datasets/random_data.csv\""
   ]
  },
  {
   "cell_type": "markdown",
   "id": "5682499d",
   "metadata": {},
   "source": [
    "### Pandas"
   ]
  },
  {
   "cell_type": "code",
   "execution_count": 11,
   "id": "4f4edddf",
   "metadata": {
    "ExecuteTime": {
     "end_time": "2022-12-01T18:46:15.642410Z",
     "start_time": "2022-12-01T18:46:08.178754Z"
    }
   },
   "outputs": [
    {
     "name": "stdout",
     "output_type": "stream",
     "text": [
      "CPU times: user 5.14 s, sys: 1.57 s, total: 6.71 s\n",
      "Wall time: 7.45 s\n"
     ]
    }
   ],
   "source": [
    "%time df = pd.read_csv(file)"
   ]
  },
  {
   "cell_type": "code",
   "execution_count": 12,
   "id": "99624add",
   "metadata": {
    "ExecuteTime": {
     "end_time": "2022-12-01T18:46:18.332658Z",
     "start_time": "2022-12-01T18:46:18.285367Z"
    }
   },
   "outputs": [
    {
     "data": {
      "text/html": [
       "<div>\n",
       "<style scoped>\n",
       "    .dataframe tbody tr th:only-of-type {\n",
       "        vertical-align: middle;\n",
       "    }\n",
       "\n",
       "    .dataframe tbody tr th {\n",
       "        vertical-align: top;\n",
       "    }\n",
       "\n",
       "    .dataframe thead th {\n",
       "        text-align: right;\n",
       "    }\n",
       "</style>\n",
       "<table border=\"1\" class=\"dataframe\">\n",
       "  <thead>\n",
       "    <tr style=\"text-align: right;\">\n",
       "      <th></th>\n",
       "      <th>C0</th>\n",
       "      <th>intcol_1</th>\n",
       "      <th>intcol_2</th>\n",
       "      <th>intcol_3</th>\n",
       "      <th>intcol_4</th>\n",
       "      <th>intcol_5</th>\n",
       "      <th>intcol_6</th>\n",
       "      <th>intcol_7</th>\n",
       "      <th>intcol_8</th>\n",
       "      <th>intcol_9</th>\n",
       "      <th>...</th>\n",
       "      <th>strcol6</th>\n",
       "      <th>strcol7</th>\n",
       "      <th>strcol8</th>\n",
       "      <th>strcol9</th>\n",
       "      <th>strcol10</th>\n",
       "      <th>strcol11</th>\n",
       "      <th>strcol12</th>\n",
       "      <th>strcol13</th>\n",
       "      <th>strcol14</th>\n",
       "      <th>strcol15</th>\n",
       "    </tr>\n",
       "  </thead>\n",
       "  <tbody>\n",
       "    <tr>\n",
       "      <th>0</th>\n",
       "      <td>0</td>\n",
       "      <td>629546</td>\n",
       "      <td>442260</td>\n",
       "      <td>389214</td>\n",
       "      <td>635686</td>\n",
       "      <td>289129</td>\n",
       "      <td>912029</td>\n",
       "      <td>715590</td>\n",
       "      <td>79558</td>\n",
       "      <td>506208</td>\n",
       "      <td>...</td>\n",
       "      <td>nt4WFLERleixBSDZhhKBfY5</td>\n",
       "      <td>DiR3Uzqjx3KqaT</td>\n",
       "      <td>NKxyoi49WYB3Y1NbVDg</td>\n",
       "      <td>3AdhkV4uSm3g2ECw</td>\n",
       "      <td>k9RDt0q0YnFFI7TXeuKCa</td>\n",
       "      <td>6GvE15L</td>\n",
       "      <td>CcxD11kUuzpk5NHae</td>\n",
       "      <td>MwDpki41</td>\n",
       "      <td>Oy7YfDUteW1QN</td>\n",
       "      <td>pe5Fs9DioMG1kw6g14A</td>\n",
       "    </tr>\n",
       "    <tr>\n",
       "      <th>1</th>\n",
       "      <td>1</td>\n",
       "      <td>650169</td>\n",
       "      <td>445749</td>\n",
       "      <td>665159</td>\n",
       "      <td>386977</td>\n",
       "      <td>382261</td>\n",
       "      <td>283381</td>\n",
       "      <td>916643</td>\n",
       "      <td>712778</td>\n",
       "      <td>132990</td>\n",
       "      <td>...</td>\n",
       "      <td>Rj9vugo2cf</td>\n",
       "      <td>lUmC6Aii0dStE1q7x</td>\n",
       "      <td>aN5hZqWBoa8jYn</td>\n",
       "      <td>cMz8tJMGWa23Ikca</td>\n",
       "      <td>8VRxFdhAB0gvhiv4qAZQtQvv</td>\n",
       "      <td>vfzobXtQl3ViAF</td>\n",
       "      <td>05KMiuFCDRgE1ZwRQhL</td>\n",
       "      <td>yaSZQMaidxvo</td>\n",
       "      <td>NADZS</td>\n",
       "      <td>U7Ww8Vgez6Fk2jtyz</td>\n",
       "    </tr>\n",
       "    <tr>\n",
       "      <th>2</th>\n",
       "      <td>2</td>\n",
       "      <td>188568</td>\n",
       "      <td>26298</td>\n",
       "      <td>415460</td>\n",
       "      <td>204051</td>\n",
       "      <td>800327</td>\n",
       "      <td>660064</td>\n",
       "      <td>852586</td>\n",
       "      <td>866171</td>\n",
       "      <td>606723</td>\n",
       "      <td>...</td>\n",
       "      <td>RZ2fd1</td>\n",
       "      <td>kBWGlOKn</td>\n",
       "      <td>YFXtpGNyl3C</td>\n",
       "      <td>Dpyr5OBWpdAn</td>\n",
       "      <td>n9JoLiIalcqF</td>\n",
       "      <td>5a7XJ</td>\n",
       "      <td>vVw3UOen6XCBVyA2kDDkG</td>\n",
       "      <td>K1FGaqEZ</td>\n",
       "      <td>5WEH71bxioEYbZB2FwGc</td>\n",
       "      <td>FwfpE7avCPyxzcE3bAN</td>\n",
       "    </tr>\n",
       "    <tr>\n",
       "      <th>3</th>\n",
       "      <td>3</td>\n",
       "      <td>47146</td>\n",
       "      <td>452421</td>\n",
       "      <td>883946</td>\n",
       "      <td>348592</td>\n",
       "      <td>515162</td>\n",
       "      <td>303613</td>\n",
       "      <td>532671</td>\n",
       "      <td>457386</td>\n",
       "      <td>943242</td>\n",
       "      <td>...</td>\n",
       "      <td>eMdjaMZqS7RzHvkBjw1wCNH</td>\n",
       "      <td>zhLiHy1G340g4eG6QY</td>\n",
       "      <td>dXLBwxNNoPKEwByCsD</td>\n",
       "      <td>Fe9ZK4d1MiC</td>\n",
       "      <td>EBoQTfq0TJLOrf</td>\n",
       "      <td>TG2CiMJp28hN70MwjDC</td>\n",
       "      <td>r09J4Ggf7</td>\n",
       "      <td>lAauOtgmB</td>\n",
       "      <td>x0kPSjKLRNjN2Z</td>\n",
       "      <td>kuFw3pv1tC</td>\n",
       "    </tr>\n",
       "    <tr>\n",
       "      <th>4</th>\n",
       "      <td>4</td>\n",
       "      <td>105256</td>\n",
       "      <td>805383</td>\n",
       "      <td>455437</td>\n",
       "      <td>817518</td>\n",
       "      <td>356905</td>\n",
       "      <td>943969</td>\n",
       "      <td>448293</td>\n",
       "      <td>106369</td>\n",
       "      <td>411058</td>\n",
       "      <td>...</td>\n",
       "      <td>dHx4iF448bf8ysjb16p</td>\n",
       "      <td>nWzpVaasHfy5jsFPm6J2A3Z</td>\n",
       "      <td>5YOmzm8zjdctq</td>\n",
       "      <td>WNHknW6u8SRx6EfjWAyau2AS</td>\n",
       "      <td>lYzzC58USXSTtIdkkBfIU</td>\n",
       "      <td>vRSUnlK21nq03O8rtBvG3Dw</td>\n",
       "      <td>PfMTEfIS0zikE5DfwEBzHApq</td>\n",
       "      <td>ZycMvu</td>\n",
       "      <td>KG9YFYkP3V</td>\n",
       "      <td>bmjW9fLX4DEv</td>\n",
       "    </tr>\n",
       "  </tbody>\n",
       "</table>\n",
       "<p>5 rows × 31 columns</p>\n",
       "</div>"
      ],
      "text/plain": [
       "   C0  intcol_1  intcol_2  intcol_3  intcol_4  intcol_5  intcol_6  intcol_7  \\\n",
       "0   0    629546    442260    389214    635686    289129    912029    715590   \n",
       "1   1    650169    445749    665159    386977    382261    283381    916643   \n",
       "2   2    188568     26298    415460    204051    800327    660064    852586   \n",
       "3   3     47146    452421    883946    348592    515162    303613    532671   \n",
       "4   4    105256    805383    455437    817518    356905    943969    448293   \n",
       "\n",
       "   intcol_8  intcol_9  ...                  strcol6                  strcol7  \\\n",
       "0     79558    506208  ...  nt4WFLERleixBSDZhhKBfY5           DiR3Uzqjx3KqaT   \n",
       "1    712778    132990  ...               Rj9vugo2cf        lUmC6Aii0dStE1q7x   \n",
       "2    866171    606723  ...                   RZ2fd1                 kBWGlOKn   \n",
       "3    457386    943242  ...  eMdjaMZqS7RzHvkBjw1wCNH       zhLiHy1G340g4eG6QY   \n",
       "4    106369    411058  ...      dHx4iF448bf8ysjb16p  nWzpVaasHfy5jsFPm6J2A3Z   \n",
       "\n",
       "               strcol8                   strcol9                  strcol10  \\\n",
       "0  NKxyoi49WYB3Y1NbVDg          3AdhkV4uSm3g2ECw     k9RDt0q0YnFFI7TXeuKCa   \n",
       "1       aN5hZqWBoa8jYn          cMz8tJMGWa23Ikca  8VRxFdhAB0gvhiv4qAZQtQvv   \n",
       "2          YFXtpGNyl3C              Dpyr5OBWpdAn              n9JoLiIalcqF   \n",
       "3   dXLBwxNNoPKEwByCsD               Fe9ZK4d1MiC            EBoQTfq0TJLOrf   \n",
       "4        5YOmzm8zjdctq  WNHknW6u8SRx6EfjWAyau2AS     lYzzC58USXSTtIdkkBfIU   \n",
       "\n",
       "                  strcol11                  strcol12      strcol13  \\\n",
       "0                  6GvE15L         CcxD11kUuzpk5NHae      MwDpki41   \n",
       "1           vfzobXtQl3ViAF       05KMiuFCDRgE1ZwRQhL  yaSZQMaidxvo   \n",
       "2                    5a7XJ     vVw3UOen6XCBVyA2kDDkG      K1FGaqEZ   \n",
       "3      TG2CiMJp28hN70MwjDC                 r09J4Ggf7     lAauOtgmB   \n",
       "4  vRSUnlK21nq03O8rtBvG3Dw  PfMTEfIS0zikE5DfwEBzHApq        ZycMvu   \n",
       "\n",
       "               strcol14             strcol15  \n",
       "0         Oy7YfDUteW1QN  pe5Fs9DioMG1kw6g14A  \n",
       "1                 NADZS    U7Ww8Vgez6Fk2jtyz  \n",
       "2  5WEH71bxioEYbZB2FwGc  FwfpE7avCPyxzcE3bAN  \n",
       "3        x0kPSjKLRNjN2Z           kuFw3pv1tC  \n",
       "4            KG9YFYkP3V         bmjW9fLX4DEv  \n",
       "\n",
       "[5 rows x 31 columns]"
      ]
     },
     "execution_count": 12,
     "metadata": {},
     "output_type": "execute_result"
    }
   ],
   "source": [
    "df.head()"
   ]
  },
  {
   "cell_type": "markdown",
   "id": "b0795cb1",
   "metadata": {},
   "source": [
    "### Datatable"
   ]
  },
  {
   "cell_type": "code",
   "execution_count": 5,
   "id": "b31b79f7",
   "metadata": {
    "ExecuteTime": {
     "end_time": "2022-12-01T18:45:29.795516Z",
     "start_time": "2022-12-01T18:45:26.168928Z"
    }
   },
   "outputs": [
    {
     "name": "stdout",
     "output_type": "stream",
     "text": [
      "CPU times: user 2.95 s, sys: 1.29 s, total: 4.24 s\n",
      "Wall time: 3.61 s\n"
     ]
    }
   ],
   "source": [
    "%%time \n",
    "df = dt.fread(file)\n",
    "df = df.to_pandas()"
   ]
  },
  {
   "cell_type": "code",
   "execution_count": 7,
   "id": "dda50a6f",
   "metadata": {
    "ExecuteTime": {
     "end_time": "2022-12-01T18:45:44.052810Z",
     "start_time": "2022-12-01T18:45:44.028126Z"
    }
   },
   "outputs": [
    {
     "data": {
      "text/html": [
       "<div>\n",
       "<style scoped>\n",
       "    .dataframe tbody tr th:only-of-type {\n",
       "        vertical-align: middle;\n",
       "    }\n",
       "\n",
       "    .dataframe tbody tr th {\n",
       "        vertical-align: top;\n",
       "    }\n",
       "\n",
       "    .dataframe thead th {\n",
       "        text-align: right;\n",
       "    }\n",
       "</style>\n",
       "<table border=\"1\" class=\"dataframe\">\n",
       "  <thead>\n",
       "    <tr style=\"text-align: right;\">\n",
       "      <th></th>\n",
       "      <th>C0</th>\n",
       "      <th>intcol_1</th>\n",
       "      <th>intcol_2</th>\n",
       "      <th>intcol_3</th>\n",
       "      <th>intcol_4</th>\n",
       "      <th>intcol_5</th>\n",
       "      <th>intcol_6</th>\n",
       "      <th>intcol_7</th>\n",
       "      <th>intcol_8</th>\n",
       "      <th>intcol_9</th>\n",
       "      <th>...</th>\n",
       "      <th>strcol6</th>\n",
       "      <th>strcol7</th>\n",
       "      <th>strcol8</th>\n",
       "      <th>strcol9</th>\n",
       "      <th>strcol10</th>\n",
       "      <th>strcol11</th>\n",
       "      <th>strcol12</th>\n",
       "      <th>strcol13</th>\n",
       "      <th>strcol14</th>\n",
       "      <th>strcol15</th>\n",
       "    </tr>\n",
       "  </thead>\n",
       "  <tbody>\n",
       "    <tr>\n",
       "      <th>0</th>\n",
       "      <td>0</td>\n",
       "      <td>629546</td>\n",
       "      <td>442260</td>\n",
       "      <td>389214</td>\n",
       "      <td>635686</td>\n",
       "      <td>289129</td>\n",
       "      <td>912029</td>\n",
       "      <td>715590</td>\n",
       "      <td>79558</td>\n",
       "      <td>506208</td>\n",
       "      <td>...</td>\n",
       "      <td>nt4WFLERleixBSDZhhKBfY5</td>\n",
       "      <td>DiR3Uzqjx3KqaT</td>\n",
       "      <td>NKxyoi49WYB3Y1NbVDg</td>\n",
       "      <td>3AdhkV4uSm3g2ECw</td>\n",
       "      <td>k9RDt0q0YnFFI7TXeuKCa</td>\n",
       "      <td>6GvE15L</td>\n",
       "      <td>CcxD11kUuzpk5NHae</td>\n",
       "      <td>MwDpki41</td>\n",
       "      <td>Oy7YfDUteW1QN</td>\n",
       "      <td>pe5Fs9DioMG1kw6g14A</td>\n",
       "    </tr>\n",
       "    <tr>\n",
       "      <th>1</th>\n",
       "      <td>1</td>\n",
       "      <td>650169</td>\n",
       "      <td>445749</td>\n",
       "      <td>665159</td>\n",
       "      <td>386977</td>\n",
       "      <td>382261</td>\n",
       "      <td>283381</td>\n",
       "      <td>916643</td>\n",
       "      <td>712778</td>\n",
       "      <td>132990</td>\n",
       "      <td>...</td>\n",
       "      <td>Rj9vugo2cf</td>\n",
       "      <td>lUmC6Aii0dStE1q7x</td>\n",
       "      <td>aN5hZqWBoa8jYn</td>\n",
       "      <td>cMz8tJMGWa23Ikca</td>\n",
       "      <td>8VRxFdhAB0gvhiv4qAZQtQvv</td>\n",
       "      <td>vfzobXtQl3ViAF</td>\n",
       "      <td>05KMiuFCDRgE1ZwRQhL</td>\n",
       "      <td>yaSZQMaidxvo</td>\n",
       "      <td>NADZS</td>\n",
       "      <td>U7Ww8Vgez6Fk2jtyz</td>\n",
       "    </tr>\n",
       "    <tr>\n",
       "      <th>2</th>\n",
       "      <td>2</td>\n",
       "      <td>188568</td>\n",
       "      <td>26298</td>\n",
       "      <td>415460</td>\n",
       "      <td>204051</td>\n",
       "      <td>800327</td>\n",
       "      <td>660064</td>\n",
       "      <td>852586</td>\n",
       "      <td>866171</td>\n",
       "      <td>606723</td>\n",
       "      <td>...</td>\n",
       "      <td>RZ2fd1</td>\n",
       "      <td>kBWGlOKn</td>\n",
       "      <td>YFXtpGNyl3C</td>\n",
       "      <td>Dpyr5OBWpdAn</td>\n",
       "      <td>n9JoLiIalcqF</td>\n",
       "      <td>5a7XJ</td>\n",
       "      <td>vVw3UOen6XCBVyA2kDDkG</td>\n",
       "      <td>K1FGaqEZ</td>\n",
       "      <td>5WEH71bxioEYbZB2FwGc</td>\n",
       "      <td>FwfpE7avCPyxzcE3bAN</td>\n",
       "    </tr>\n",
       "    <tr>\n",
       "      <th>3</th>\n",
       "      <td>3</td>\n",
       "      <td>47146</td>\n",
       "      <td>452421</td>\n",
       "      <td>883946</td>\n",
       "      <td>348592</td>\n",
       "      <td>515162</td>\n",
       "      <td>303613</td>\n",
       "      <td>532671</td>\n",
       "      <td>457386</td>\n",
       "      <td>943242</td>\n",
       "      <td>...</td>\n",
       "      <td>eMdjaMZqS7RzHvkBjw1wCNH</td>\n",
       "      <td>zhLiHy1G340g4eG6QY</td>\n",
       "      <td>dXLBwxNNoPKEwByCsD</td>\n",
       "      <td>Fe9ZK4d1MiC</td>\n",
       "      <td>EBoQTfq0TJLOrf</td>\n",
       "      <td>TG2CiMJp28hN70MwjDC</td>\n",
       "      <td>r09J4Ggf7</td>\n",
       "      <td>lAauOtgmB</td>\n",
       "      <td>x0kPSjKLRNjN2Z</td>\n",
       "      <td>kuFw3pv1tC</td>\n",
       "    </tr>\n",
       "    <tr>\n",
       "      <th>4</th>\n",
       "      <td>4</td>\n",
       "      <td>105256</td>\n",
       "      <td>805383</td>\n",
       "      <td>455437</td>\n",
       "      <td>817518</td>\n",
       "      <td>356905</td>\n",
       "      <td>943969</td>\n",
       "      <td>448293</td>\n",
       "      <td>106369</td>\n",
       "      <td>411058</td>\n",
       "      <td>...</td>\n",
       "      <td>dHx4iF448bf8ysjb16p</td>\n",
       "      <td>nWzpVaasHfy5jsFPm6J2A3Z</td>\n",
       "      <td>5YOmzm8zjdctq</td>\n",
       "      <td>WNHknW6u8SRx6EfjWAyau2AS</td>\n",
       "      <td>lYzzC58USXSTtIdkkBfIU</td>\n",
       "      <td>vRSUnlK21nq03O8rtBvG3Dw</td>\n",
       "      <td>PfMTEfIS0zikE5DfwEBzHApq</td>\n",
       "      <td>ZycMvu</td>\n",
       "      <td>KG9YFYkP3V</td>\n",
       "      <td>bmjW9fLX4DEv</td>\n",
       "    </tr>\n",
       "  </tbody>\n",
       "</table>\n",
       "<p>5 rows × 31 columns</p>\n",
       "</div>"
      ],
      "text/plain": [
       "   C0  intcol_1  intcol_2  intcol_3  intcol_4  intcol_5  intcol_6  intcol_7  \\\n",
       "0   0    629546    442260    389214    635686    289129    912029    715590   \n",
       "1   1    650169    445749    665159    386977    382261    283381    916643   \n",
       "2   2    188568     26298    415460    204051    800327    660064    852586   \n",
       "3   3     47146    452421    883946    348592    515162    303613    532671   \n",
       "4   4    105256    805383    455437    817518    356905    943969    448293   \n",
       "\n",
       "   intcol_8  intcol_9  ...                  strcol6                  strcol7  \\\n",
       "0     79558    506208  ...  nt4WFLERleixBSDZhhKBfY5           DiR3Uzqjx3KqaT   \n",
       "1    712778    132990  ...               Rj9vugo2cf        lUmC6Aii0dStE1q7x   \n",
       "2    866171    606723  ...                   RZ2fd1                 kBWGlOKn   \n",
       "3    457386    943242  ...  eMdjaMZqS7RzHvkBjw1wCNH       zhLiHy1G340g4eG6QY   \n",
       "4    106369    411058  ...      dHx4iF448bf8ysjb16p  nWzpVaasHfy5jsFPm6J2A3Z   \n",
       "\n",
       "               strcol8                   strcol9                  strcol10  \\\n",
       "0  NKxyoi49WYB3Y1NbVDg          3AdhkV4uSm3g2ECw     k9RDt0q0YnFFI7TXeuKCa   \n",
       "1       aN5hZqWBoa8jYn          cMz8tJMGWa23Ikca  8VRxFdhAB0gvhiv4qAZQtQvv   \n",
       "2          YFXtpGNyl3C              Dpyr5OBWpdAn              n9JoLiIalcqF   \n",
       "3   dXLBwxNNoPKEwByCsD               Fe9ZK4d1MiC            EBoQTfq0TJLOrf   \n",
       "4        5YOmzm8zjdctq  WNHknW6u8SRx6EfjWAyau2AS     lYzzC58USXSTtIdkkBfIU   \n",
       "\n",
       "                  strcol11                  strcol12      strcol13  \\\n",
       "0                  6GvE15L         CcxD11kUuzpk5NHae      MwDpki41   \n",
       "1           vfzobXtQl3ViAF       05KMiuFCDRgE1ZwRQhL  yaSZQMaidxvo   \n",
       "2                    5a7XJ     vVw3UOen6XCBVyA2kDDkG      K1FGaqEZ   \n",
       "3      TG2CiMJp28hN70MwjDC                 r09J4Ggf7     lAauOtgmB   \n",
       "4  vRSUnlK21nq03O8rtBvG3Dw  PfMTEfIS0zikE5DfwEBzHApq        ZycMvu   \n",
       "\n",
       "               strcol14             strcol15  \n",
       "0         Oy7YfDUteW1QN  pe5Fs9DioMG1kw6g14A  \n",
       "1                 NADZS    U7Ww8Vgez6Fk2jtyz  \n",
       "2  5WEH71bxioEYbZB2FwGc  FwfpE7avCPyxzcE3bAN  \n",
       "3        x0kPSjKLRNjN2Z           kuFw3pv1tC  \n",
       "4            KG9YFYkP3V         bmjW9fLX4DEv  \n",
       "\n",
       "[5 rows x 31 columns]"
      ]
     },
     "execution_count": 7,
     "metadata": {},
     "output_type": "execute_result"
    }
   ],
   "source": [
    "df.head()"
   ]
  }
 ],
 "metadata": {
  "kernelspec": {
   "display_name": "Python 3 (ipykernel)",
   "language": "python",
   "name": "python3"
  },
  "language_info": {
   "codemirror_mode": {
    "name": "ipython",
    "version": 3
   },
   "file_extension": ".py",
   "mimetype": "text/x-python",
   "name": "python",
   "nbconvert_exporter": "python",
   "pygments_lexer": "ipython3",
   "version": "3.9.12"
  }
 },
 "nbformat": 4,
 "nbformat_minor": 5
}

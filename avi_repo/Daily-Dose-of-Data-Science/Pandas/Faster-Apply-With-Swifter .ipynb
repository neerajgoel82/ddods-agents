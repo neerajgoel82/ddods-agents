{
 "cells": [
  {
   "cell_type": "markdown",
   "id": "6ed2c6dd",
   "metadata": {},
   "source": [
    "# Daily-Dose-of-Data-Science\n",
    "\n",
    "[Daily Dose of Data Science](https://avichawla.substack.com) is a publication on Substack that brings together intriguing frameworks, libraries, technologies, and tips that make the life cycle of a Data Science project effortless. \n",
    "\n",
    "Author: Avi Chawla\n",
    "\n",
    "[Medium](https://medium.com/@avi_chawla) | [LinkedIn](https://www.linkedin.com/in/avi-chawla/)\n",
    "\n",
    "# Parallelize Pandas Apply() With Swifter\n",
    "\n",
    "Post Link: [Substack](https://avichawla.substack.com/p/parallelize-pandas-apply-with-swifter)\n",
    "\n",
    "LinkedIn Post: [LinkedIn](https://www.linkedin.com/posts/avi-chawla_python-pandas-datascience-activity-6993156609103269888-36jd?utm_source=share&utm_medium=member_desktop)"
   ]
  },
  {
   "cell_type": "code",
   "execution_count": 1,
   "id": "e2d36b64",
   "metadata": {
    "ExecuteTime": {
     "end_time": "2022-12-01T20:41:47.023948Z",
     "start_time": "2022-12-01T20:41:43.523261Z"
    },
    "collapsed": true
   },
   "outputs": [
    {
     "name": "stdout",
     "output_type": "stream",
     "text": [
      "Requirement already satisfied: swifter in /Users/avi/anaconda3/lib/python3.9/site-packages (1.3.4)\n",
      "Requirement already satisfied: dask[dataframe]>=2.10.0 in /Users/avi/anaconda3/lib/python3.9/site-packages (from swifter) (2022.2.1)\n",
      "Requirement already satisfied: psutil>=5.6.6 in /Users/avi/anaconda3/lib/python3.9/site-packages (from swifter) (5.8.0)\n",
      "Requirement already satisfied: ipywidgets>=7.0.0 in /Users/avi/anaconda3/lib/python3.9/site-packages (from swifter) (7.6.5)\n",
      "Requirement already satisfied: parso>0.4.0 in /Users/avi/anaconda3/lib/python3.9/site-packages (from swifter) (0.8.3)\n",
      "Requirement already satisfied: bleach>=3.1.1 in /Users/avi/anaconda3/lib/python3.9/site-packages (from swifter) (4.1.0)\n",
      "Requirement already satisfied: pandas>=1.0.0 in /Users/avi/anaconda3/lib/python3.9/site-packages (from swifter) (1.5.0)\n",
      "Requirement already satisfied: tqdm>=4.33.0 in /Users/avi/anaconda3/lib/python3.9/site-packages (from swifter) (4.64.0)\n",
      "Requirement already satisfied: cloudpickle>=0.2.2 in /Users/avi/anaconda3/lib/python3.9/site-packages (from swifter) (2.0.0)\n",
      "Requirement already satisfied: packaging in /Users/avi/anaconda3/lib/python3.9/site-packages (from bleach>=3.1.1->swifter) (21.3)\n",
      "Requirement already satisfied: six>=1.9.0 in /Users/avi/anaconda3/lib/python3.9/site-packages (from bleach>=3.1.1->swifter) (1.16.0)\n",
      "Requirement already satisfied: webencodings in /Users/avi/anaconda3/lib/python3.9/site-packages (from bleach>=3.1.1->swifter) (0.5.1)\n",
      "Requirement already satisfied: partd>=0.3.10 in /Users/avi/anaconda3/lib/python3.9/site-packages (from dask[dataframe]>=2.10.0->swifter) (1.2.0)\n",
      "Requirement already satisfied: toolz>=0.8.2 in /Users/avi/anaconda3/lib/python3.9/site-packages (from dask[dataframe]>=2.10.0->swifter) (0.11.2)\n",
      "Requirement already satisfied: pyyaml>=5.3.1 in /Users/avi/anaconda3/lib/python3.9/site-packages (from dask[dataframe]>=2.10.0->swifter) (5.4.1)\n",
      "Requirement already satisfied: fsspec>=0.6.0 in /Users/avi/anaconda3/lib/python3.9/site-packages (from dask[dataframe]>=2.10.0->swifter) (2022.2.0)\n",
      "Requirement already satisfied: numpy>=1.18 in /Users/avi/anaconda3/lib/python3.9/site-packages (from dask[dataframe]>=2.10.0->swifter) (1.21.5)\n",
      "Requirement already satisfied: ipython-genutils~=0.2.0 in /Users/avi/anaconda3/lib/python3.9/site-packages (from ipywidgets>=7.0.0->swifter) (0.2.0)\n",
      "Requirement already satisfied: ipykernel>=4.5.1 in /Users/avi/anaconda3/lib/python3.9/site-packages (from ipywidgets>=7.0.0->swifter) (6.9.1)\n",
      "Requirement already satisfied: nbformat>=4.2.0 in /Users/avi/anaconda3/lib/python3.9/site-packages (from ipywidgets>=7.0.0->swifter) (5.3.0)\n",
      "Requirement already satisfied: widgetsnbextension~=3.5.0 in /Users/avi/anaconda3/lib/python3.9/site-packages (from ipywidgets>=7.0.0->swifter) (3.5.2)\n",
      "Requirement already satisfied: ipython>=4.0.0 in /Users/avi/anaconda3/lib/python3.9/site-packages (from ipywidgets>=7.0.0->swifter) (8.2.0)\n",
      "Requirement already satisfied: jupyterlab-widgets>=1.0.0 in /Users/avi/anaconda3/lib/python3.9/site-packages (from ipywidgets>=7.0.0->swifter) (1.0.0)\n",
      "Requirement already satisfied: traitlets>=4.3.1 in /Users/avi/anaconda3/lib/python3.9/site-packages (from ipywidgets>=7.0.0->swifter) (5.1.1)\n",
      "Requirement already satisfied: debugpy<2.0,>=1.0.0 in /Users/avi/anaconda3/lib/python3.9/site-packages (from ipykernel>=4.5.1->ipywidgets>=7.0.0->swifter) (1.5.1)\n",
      "Requirement already satisfied: appnope in /Users/avi/anaconda3/lib/python3.9/site-packages (from ipykernel>=4.5.1->ipywidgets>=7.0.0->swifter) (0.1.2)\n",
      "Requirement already satisfied: tornado<7.0,>=4.2 in /Users/avi/anaconda3/lib/python3.9/site-packages (from ipykernel>=4.5.1->ipywidgets>=7.0.0->swifter) (6.1)\n",
      "Requirement already satisfied: jupyter-client<8.0 in /Users/avi/anaconda3/lib/python3.9/site-packages (from ipykernel>=4.5.1->ipywidgets>=7.0.0->swifter) (6.1.12)\n",
      "Requirement already satisfied: nest-asyncio in /Users/avi/anaconda3/lib/python3.9/site-packages (from ipykernel>=4.5.1->ipywidgets>=7.0.0->swifter) (1.5.5)\n",
      "Requirement already satisfied: matplotlib-inline<0.2.0,>=0.1.0 in /Users/avi/anaconda3/lib/python3.9/site-packages (from ipykernel>=4.5.1->ipywidgets>=7.0.0->swifter) (0.1.2)\n",
      "Requirement already satisfied: backcall in /Users/avi/anaconda3/lib/python3.9/site-packages (from ipython>=4.0.0->ipywidgets>=7.0.0->swifter) (0.2.0)\n",
      "Requirement already satisfied: setuptools>=18.5 in /Users/avi/anaconda3/lib/python3.9/site-packages (from ipython>=4.0.0->ipywidgets>=7.0.0->swifter) (61.2.0)\n",
      "Requirement already satisfied: prompt-toolkit!=3.0.0,!=3.0.1,<3.1.0,>=2.0.0 in /Users/avi/anaconda3/lib/python3.9/site-packages (from ipython>=4.0.0->ipywidgets>=7.0.0->swifter) (3.0.20)\n",
      "Requirement already satisfied: pygments>=2.4.0 in /Users/avi/anaconda3/lib/python3.9/site-packages (from ipython>=4.0.0->ipywidgets>=7.0.0->swifter) (2.11.2)\n",
      "Requirement already satisfied: stack-data in /Users/avi/anaconda3/lib/python3.9/site-packages (from ipython>=4.0.0->ipywidgets>=7.0.0->swifter) (0.2.0)\n",
      "Requirement already satisfied: pexpect>4.3 in /Users/avi/anaconda3/lib/python3.9/site-packages (from ipython>=4.0.0->ipywidgets>=7.0.0->swifter) (4.8.0)\n",
      "Requirement already satisfied: jedi>=0.16 in /Users/avi/anaconda3/lib/python3.9/site-packages (from ipython>=4.0.0->ipywidgets>=7.0.0->swifter) (0.18.1)\n",
      "Requirement already satisfied: pickleshare in /Users/avi/anaconda3/lib/python3.9/site-packages (from ipython>=4.0.0->ipywidgets>=7.0.0->swifter) (0.7.5)\n",
      "Requirement already satisfied: decorator in /Users/avi/anaconda3/lib/python3.9/site-packages (from ipython>=4.0.0->ipywidgets>=7.0.0->swifter) (5.1.1)\n",
      "Requirement already satisfied: jupyter-core>=4.6.0 in /Users/avi/anaconda3/lib/python3.9/site-packages (from jupyter-client<8.0->ipykernel>=4.5.1->ipywidgets>=7.0.0->swifter) (4.9.2)\n",
      "Requirement already satisfied: pyzmq>=13 in /Users/avi/anaconda3/lib/python3.9/site-packages (from jupyter-client<8.0->ipykernel>=4.5.1->ipywidgets>=7.0.0->swifter) (22.3.0)\n",
      "Requirement already satisfied: python-dateutil>=2.1 in /Users/avi/anaconda3/lib/python3.9/site-packages (from jupyter-client<8.0->ipykernel>=4.5.1->ipywidgets>=7.0.0->swifter) (2.8.2)\n",
      "Requirement already satisfied: fastjsonschema in /Users/avi/anaconda3/lib/python3.9/site-packages (from nbformat>=4.2.0->ipywidgets>=7.0.0->swifter) (2.15.1)\n",
      "Requirement already satisfied: jsonschema>=2.6 in /Users/avi/anaconda3/lib/python3.9/site-packages (from nbformat>=4.2.0->ipywidgets>=7.0.0->swifter) (3.2.0)\n",
      "Requirement already satisfied: pyrsistent>=0.14.0 in /Users/avi/anaconda3/lib/python3.9/site-packages (from jsonschema>=2.6->nbformat>=4.2.0->ipywidgets>=7.0.0->swifter) (0.18.0)\n",
      "Requirement already satisfied: attrs>=17.4.0 in /Users/avi/anaconda3/lib/python3.9/site-packages (from jsonschema>=2.6->nbformat>=4.2.0->ipywidgets>=7.0.0->swifter) (21.4.0)\n",
      "Requirement already satisfied: pyparsing!=3.0.5,>=2.0.2 in /Users/avi/anaconda3/lib/python3.9/site-packages (from packaging->bleach>=3.1.1->swifter) (3.0.4)\n",
      "Requirement already satisfied: pytz>=2020.1 in /Users/avi/anaconda3/lib/python3.9/site-packages (from pandas>=1.0.0->swifter) (2021.3)\n",
      "Requirement already satisfied: locket in /Users/avi/anaconda3/lib/python3.9/site-packages (from partd>=0.3.10->dask[dataframe]>=2.10.0->swifter) (0.2.1)\n",
      "Requirement already satisfied: ptyprocess>=0.5 in /Users/avi/anaconda3/lib/python3.9/site-packages (from pexpect>4.3->ipython>=4.0.0->ipywidgets>=7.0.0->swifter) (0.7.0)\n",
      "Requirement already satisfied: wcwidth in /Users/avi/anaconda3/lib/python3.9/site-packages (from prompt-toolkit!=3.0.0,!=3.0.1,<3.1.0,>=2.0.0->ipython>=4.0.0->ipywidgets>=7.0.0->swifter) (0.2.5)\n",
      "Requirement already satisfied: notebook>=4.4.1 in /Users/avi/anaconda3/lib/python3.9/site-packages (from widgetsnbextension~=3.5.0->ipywidgets>=7.0.0->swifter) (6.4.8)\n",
      "Requirement already satisfied: nbconvert in /Users/avi/anaconda3/lib/python3.9/site-packages (from notebook>=4.4.1->widgetsnbextension~=3.5.0->ipywidgets>=7.0.0->swifter) (7.2.3)\n",
      "Requirement already satisfied: prometheus-client in /Users/avi/anaconda3/lib/python3.9/site-packages (from notebook>=4.4.1->widgetsnbextension~=3.5.0->ipywidgets>=7.0.0->swifter) (0.13.1)\n",
      "Requirement already satisfied: terminado>=0.8.3 in /Users/avi/anaconda3/lib/python3.9/site-packages (from notebook>=4.4.1->widgetsnbextension~=3.5.0->ipywidgets>=7.0.0->swifter) (0.13.1)\n",
      "Requirement already satisfied: argon2-cffi in /Users/avi/anaconda3/lib/python3.9/site-packages (from notebook>=4.4.1->widgetsnbextension~=3.5.0->ipywidgets>=7.0.0->swifter) (21.3.0)\n",
      "Requirement already satisfied: Send2Trash>=1.8.0 in /Users/avi/anaconda3/lib/python3.9/site-packages (from notebook>=4.4.1->widgetsnbextension~=3.5.0->ipywidgets>=7.0.0->swifter) (1.8.0)\n",
      "Requirement already satisfied: jinja2 in /Users/avi/anaconda3/lib/python3.9/site-packages (from notebook>=4.4.1->widgetsnbextension~=3.5.0->ipywidgets>=7.0.0->swifter) (3.0.0)\n"
     ]
    },
    {
     "name": "stdout",
     "output_type": "stream",
     "text": [
      "Requirement already satisfied: argon2-cffi-bindings in /Users/avi/anaconda3/lib/python3.9/site-packages (from argon2-cffi->notebook>=4.4.1->widgetsnbextension~=3.5.0->ipywidgets>=7.0.0->swifter) (21.2.0)\n",
      "Requirement already satisfied: cffi>=1.0.1 in /Users/avi/anaconda3/lib/python3.9/site-packages (from argon2-cffi-bindings->argon2-cffi->notebook>=4.4.1->widgetsnbextension~=3.5.0->ipywidgets>=7.0.0->swifter) (1.15.0)\n",
      "Requirement already satisfied: pycparser in /Users/avi/anaconda3/lib/python3.9/site-packages (from cffi>=1.0.1->argon2-cffi-bindings->argon2-cffi->notebook>=4.4.1->widgetsnbextension~=3.5.0->ipywidgets>=7.0.0->swifter) (2.21)\n",
      "Requirement already satisfied: MarkupSafe>=2.0.0rc2 in /Users/avi/anaconda3/lib/python3.9/site-packages (from jinja2->notebook>=4.4.1->widgetsnbextension~=3.5.0->ipywidgets>=7.0.0->swifter) (2.1.1)\n",
      "Requirement already satisfied: mistune<3,>=2.0.3 in /Users/avi/anaconda3/lib/python3.9/site-packages (from nbconvert->notebook>=4.4.1->widgetsnbextension~=3.5.0->ipywidgets>=7.0.0->swifter) (2.0.4)\n",
      "Requirement already satisfied: beautifulsoup4 in /Users/avi/anaconda3/lib/python3.9/site-packages (from nbconvert->notebook>=4.4.1->widgetsnbextension~=3.5.0->ipywidgets>=7.0.0->swifter) (4.11.1)\n",
      "Requirement already satisfied: nbclient>=0.5.0 in /Users/avi/anaconda3/lib/python3.9/site-packages (from nbconvert->notebook>=4.4.1->widgetsnbextension~=3.5.0->ipywidgets>=7.0.0->swifter) (0.5.13)\n",
      "Requirement already satisfied: defusedxml in /Users/avi/anaconda3/lib/python3.9/site-packages (from nbconvert->notebook>=4.4.1->widgetsnbextension~=3.5.0->ipywidgets>=7.0.0->swifter) (0.7.1)\n",
      "Requirement already satisfied: importlib-metadata>=3.6 in /Users/avi/anaconda3/lib/python3.9/site-packages (from nbconvert->notebook>=4.4.1->widgetsnbextension~=3.5.0->ipywidgets>=7.0.0->swifter) (4.11.3)\n",
      "Requirement already satisfied: pandocfilters>=1.4.1 in /Users/avi/anaconda3/lib/python3.9/site-packages (from nbconvert->notebook>=4.4.1->widgetsnbextension~=3.5.0->ipywidgets>=7.0.0->swifter) (1.5.0)\n",
      "Requirement already satisfied: tinycss2 in /Users/avi/anaconda3/lib/python3.9/site-packages (from nbconvert->notebook>=4.4.1->widgetsnbextension~=3.5.0->ipywidgets>=7.0.0->swifter) (1.2.1)\n",
      "Requirement already satisfied: jupyterlab-pygments in /Users/avi/anaconda3/lib/python3.9/site-packages (from nbconvert->notebook>=4.4.1->widgetsnbextension~=3.5.0->ipywidgets>=7.0.0->swifter) (0.1.2)\n",
      "Requirement already satisfied: zipp>=0.5 in /Users/avi/anaconda3/lib/python3.9/site-packages (from importlib-metadata>=3.6->nbconvert->notebook>=4.4.1->widgetsnbextension~=3.5.0->ipywidgets>=7.0.0->swifter) (3.7.0)\n",
      "Requirement already satisfied: soupsieve>1.2 in /Users/avi/anaconda3/lib/python3.9/site-packages (from beautifulsoup4->nbconvert->notebook>=4.4.1->widgetsnbextension~=3.5.0->ipywidgets>=7.0.0->swifter) (2.3.1)\n",
      "Requirement already satisfied: executing in /Users/avi/anaconda3/lib/python3.9/site-packages (from stack-data->ipython>=4.0.0->ipywidgets>=7.0.0->swifter) (0.8.3)\n",
      "Requirement already satisfied: asttokens in /Users/avi/anaconda3/lib/python3.9/site-packages (from stack-data->ipython>=4.0.0->ipywidgets>=7.0.0->swifter) (2.0.5)\n",
      "Requirement already satisfied: pure-eval in /Users/avi/anaconda3/lib/python3.9/site-packages (from stack-data->ipython>=4.0.0->ipywidgets>=7.0.0->swifter) (0.2.2)\n"
     ]
    }
   ],
   "source": [
    "!pip install swifter"
   ]
  },
  {
   "cell_type": "code",
   "execution_count": 2,
   "id": "6272d5b3",
   "metadata": {
    "ExecuteTime": {
     "end_time": "2022-12-01T20:41:56.876881Z",
     "start_time": "2022-12-01T20:41:53.913680Z"
    }
   },
   "outputs": [],
   "source": [
    "import pandas as pd\n",
    "import swifter\n",
    "import numpy as np\n",
    "from time import time"
   ]
  },
  {
   "cell_type": "code",
   "execution_count": 3,
   "id": "c8d8e4af",
   "metadata": {
    "ExecuteTime": {
     "end_time": "2022-12-01T20:41:58.764541Z",
     "start_time": "2022-12-01T20:41:58.234530Z"
    }
   },
   "outputs": [
    {
     "data": {
      "text/html": [
       "<div>\n",
       "<style scoped>\n",
       "    .dataframe tbody tr th:only-of-type {\n",
       "        vertical-align: middle;\n",
       "    }\n",
       "\n",
       "    .dataframe tbody tr th {\n",
       "        vertical-align: top;\n",
       "    }\n",
       "\n",
       "    .dataframe thead th {\n",
       "        text-align: right;\n",
       "    }\n",
       "</style>\n",
       "<table border=\"1\" class=\"dataframe\">\n",
       "  <thead>\n",
       "    <tr style=\"text-align: right;\">\n",
       "      <th></th>\n",
       "      <th>A</th>\n",
       "      <th>B</th>\n",
       "      <th>C</th>\n",
       "      <th>D</th>\n",
       "    </tr>\n",
       "  </thead>\n",
       "  <tbody>\n",
       "    <tr>\n",
       "      <th>0</th>\n",
       "      <td>382393</td>\n",
       "      <td>872583</td>\n",
       "      <td>31924</td>\n",
       "      <td>342394</td>\n",
       "    </tr>\n",
       "    <tr>\n",
       "      <th>1</th>\n",
       "      <td>689286</td>\n",
       "      <td>739734</td>\n",
       "      <td>758600</td>\n",
       "      <td>640238</td>\n",
       "    </tr>\n",
       "    <tr>\n",
       "      <th>2</th>\n",
       "      <td>730919</td>\n",
       "      <td>94961</td>\n",
       "      <td>346384</td>\n",
       "      <td>717290</td>\n",
       "    </tr>\n",
       "    <tr>\n",
       "      <th>3</th>\n",
       "      <td>124019</td>\n",
       "      <td>841205</td>\n",
       "      <td>867351</td>\n",
       "      <td>468913</td>\n",
       "    </tr>\n",
       "    <tr>\n",
       "      <th>4</th>\n",
       "      <td>77446</td>\n",
       "      <td>30139</td>\n",
       "      <td>164652</td>\n",
       "      <td>693895</td>\n",
       "    </tr>\n",
       "  </tbody>\n",
       "</table>\n",
       "</div>"
      ],
      "text/plain": [
       "        A       B       C       D\n",
       "0  382393  872583   31924  342394\n",
       "1  689286  739734  758600  640238\n",
       "2  730919   94961  346384  717290\n",
       "3  124019  841205  867351  468913\n",
       "4   77446   30139  164652  693895"
      ]
     },
     "execution_count": 3,
     "metadata": {},
     "output_type": "execute_result"
    }
   ],
   "source": [
    "df = pd.DataFrame(np.random.randint(1, 10**6, size = (10**7, 4)), columns = list(\"ABCD\"))\n",
    "df.head()"
   ]
  },
  {
   "cell_type": "code",
   "execution_count": 4,
   "id": "3bcf71de",
   "metadata": {
    "ExecuteTime": {
     "end_time": "2022-12-01T20:42:02.291656Z",
     "start_time": "2022-12-01T20:42:02.285302Z"
    }
   },
   "outputs": [],
   "source": [
    "def sum_row(row):\n",
    "    return sum(row)"
   ]
  },
  {
   "cell_type": "markdown",
   "id": "a3215edb",
   "metadata": {},
   "source": [
    "## Pandas Apply"
   ]
  },
  {
   "cell_type": "code",
   "execution_count": 5,
   "id": "1a4e2064",
   "metadata": {
    "ExecuteTime": {
     "end_time": "2022-12-01T20:42:38.677159Z",
     "start_time": "2022-12-01T20:42:05.413500Z"
    }
   },
   "outputs": [
    {
     "name": "stdout",
     "output_type": "stream",
     "text": [
      "33.2577748298645\n"
     ]
    }
   ],
   "source": [
    "start = time()\n",
    "a = df.apply(sum_row, axis = 1) \n",
    "print(time() - start)"
   ]
  },
  {
   "cell_type": "markdown",
   "id": "910961d9",
   "metadata": {},
   "source": [
    "## Swifter Apply"
   ]
  },
  {
   "cell_type": "code",
   "execution_count": 6,
   "id": "77bdc1ca",
   "metadata": {
    "ExecuteTime": {
     "end_time": "2022-12-01T20:43:04.692995Z",
     "start_time": "2022-12-01T20:42:43.258227Z"
    }
   },
   "outputs": [
    {
     "data": {
      "application/vnd.jupyter.widget-view+json": {
       "model_id": "7e2ef490d1e745cd92e93f00c510fc1a",
       "version_major": 2,
       "version_minor": 0
      },
      "text/plain": [
       "Dask Apply:   0%|          | 0/16 [00:00<?, ?it/s]"
      ]
     },
     "metadata": {},
     "output_type": "display_data"
    },
    {
     "name": "stdout",
     "output_type": "stream",
     "text": [
      "21.427505016326904\n"
     ]
    }
   ],
   "source": [
    "start = time()\n",
    "a = df.swifter.apply(sum_row, axis = 1) \n",
    "print(time() - start)"
   ]
  },
  {
   "cell_type": "code",
   "execution_count": null,
   "id": "85296ac6",
   "metadata": {},
   "outputs": [],
   "source": []
  }
 ],
 "metadata": {
  "kernelspec": {
   "display_name": "Python 3 (ipykernel)",
   "language": "python",
   "name": "python3"
  },
  "language_info": {
   "codemirror_mode": {
    "name": "ipython",
    "version": 3
   },
   "file_extension": ".py",
   "mimetype": "text/x-python",
   "name": "python",
   "nbconvert_exporter": "python",
   "pygments_lexer": "ipython3",
   "version": "3.9.12"
  }
 },
 "nbformat": 4,
 "nbformat_minor": 5
}

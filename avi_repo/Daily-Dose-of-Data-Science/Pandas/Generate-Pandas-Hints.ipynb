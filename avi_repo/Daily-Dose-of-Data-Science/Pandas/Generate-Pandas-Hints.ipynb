{
 "cells": [
  {
   "cell_type": "markdown",
   "id": "de4ba2c5",
   "metadata": {},
   "source": [
    "# Daily-Dose-of-Data-Science\n",
    "\n",
    "[Daily Dose of Data Science](https://avichawla.substack.com) is a publication on Substack that brings together intriguing frameworks, libraries, technologies, and tips that make the life cycle of a Data Science project effortless. \n",
    "\n",
    "Author: Avi Chawla\n",
    "\n",
    "[Medium](https://medium.com/@avi_chawla) | [LinkedIn](https://www.linkedin.com/in/avi-chawla/)\n",
    "\n",
    "# Generate Helpful Hints As You Write Your Pandas Code\n",
    "\n",
    "Post Link: [Substack](https://avichawla.substack.com/p/generate-helpful-hints-as-you-write)\n",
    "\n",
    "LinkedIn Post: [LinkedIn](https://www.linkedin.com/feed/update/urn:li:activity:7033024376195137536/)"
   ]
  },
  {
   "cell_type": "code",
   "execution_count": 1,
   "id": "d8dc6e8e",
   "metadata": {
    "collapsed": true
   },
   "outputs": [
    {
     "name": "stdout",
     "output_type": "stream",
     "text": [
      "Requirement already satisfied: dovpanda in /Users/avi/anaconda3/lib/python3.9/site-packages (0.0.5)\r\n",
      "Requirement already satisfied: pandas in /Users/avi/anaconda3/lib/python3.9/site-packages (from dovpanda) (1.5.0)\r\n",
      "Requirement already satisfied: numpy>=1.20.3 in /Users/avi/anaconda3/lib/python3.9/site-packages (from pandas->dovpanda) (1.24.2)\r\n",
      "Requirement already satisfied: python-dateutil>=2.8.1 in /Users/avi/anaconda3/lib/python3.9/site-packages (from pandas->dovpanda) (2.8.2)\r\n",
      "Requirement already satisfied: pytz>=2020.1 in /Users/avi/anaconda3/lib/python3.9/site-packages (from pandas->dovpanda) (2021.3)\r\n",
      "Requirement already satisfied: six>=1.5 in /Users/avi/anaconda3/lib/python3.9/site-packages (from python-dateutil>=2.8.1->pandas->dovpanda) (1.16.0)\r\n"
     ]
    }
   ],
   "source": [
    "!pip install dovpanda"
   ]
  },
  {
   "cell_type": "code",
   "execution_count": 2,
   "id": "17b94cb8",
   "metadata": {
    "collapsed": true
   },
   "outputs": [
    {
     "name": "stderr",
     "output_type": "stream",
     "text": [
      "2023-02-19 17:44:40,336 [42870] WARNING  py.warnings:109: [JupyterRequire] /Users/avi/anaconda3/lib/python3.9/inspect.py:351: FutureWarning: pandas.Float64Index is deprecated and will be removed from pandas in a future version. Use pandas.Index with the appropriate dtype instead.\n",
      "  value = getattr(object, key)\n",
      "\n",
      "2023-02-19 17:44:40,336 [42870] WARNING  py.warnings:109: [JupyterRequire] /Users/avi/anaconda3/lib/python3.9/inspect.py:351: FutureWarning: pandas.Int64Index is deprecated and will be removed from pandas in a future version. Use pandas.Index with the appropriate dtype instead.\n",
      "  value = getattr(object, key)\n",
      "\n",
      "2023-02-19 17:44:40,337 [42870] WARNING  py.warnings:109: [JupyterRequire] /Users/avi/anaconda3/lib/python3.9/inspect.py:351: FutureWarning: pandas.UInt64Index is deprecated and will be removed from pandas in a future version. Use pandas.Index with the appropriate dtype instead.\n",
      "  value = getattr(object, key)\n",
      "\n"
     ]
    },
    {
     "ename": "AttributeError",
     "evalue": "module 'pandas.core.indexing' has no attribute '_NDFrameIndexer'",
     "output_type": "error",
     "traceback": [
      "\u001b[0;31m---------------------------------------------------------------------------\u001b[0m",
      "\u001b[0;31mAttributeError\u001b[0m                            Traceback (most recent call last)",
      "Input \u001b[0;32mIn [2]\u001b[0m, in \u001b[0;36m<cell line: 2>\u001b[0;34m()\u001b[0m\n\u001b[1;32m      1\u001b[0m \u001b[38;5;28;01mimport\u001b[39;00m \u001b[38;5;21;01mpandas\u001b[39;00m \u001b[38;5;28;01mas\u001b[39;00m \u001b[38;5;21;01mpd\u001b[39;00m\n\u001b[0;32m----> 2\u001b[0m \u001b[38;5;28;01mimport\u001b[39;00m \u001b[38;5;21;01mdovpanda\u001b[39;00m\n",
      "File \u001b[0;32m~/anaconda3/lib/python3.9/site-packages/dovpanda/__init__.py:32\u001b[0m, in \u001b[0;36m<module>\u001b[0;34m\u001b[0m\n\u001b[1;32m     28\u001b[0m     \u001b[38;5;28;01mreturn\u001b[39;00m tips\u001b[38;5;241m.\u001b[39mrandom_tip()\n\u001b[1;32m     31\u001b[0m \u001b[38;5;28;01mif\u001b[39;00m \u001b[38;5;124m'\u001b[39m\u001b[38;5;124mpandas\u001b[39m\u001b[38;5;124m'\u001b[39m \u001b[38;5;129;01min\u001b[39;00m sys\u001b[38;5;241m.\u001b[39mmodules\u001b[38;5;241m.\u001b[39mkeys():\n\u001b[0;32m---> 32\u001b[0m     \u001b[43mstart\u001b[49m\u001b[43m(\u001b[49m\u001b[43m)\u001b[49m\n\u001b[1;32m     33\u001b[0m \u001b[38;5;28;01melse\u001b[39;00m:\n\u001b[1;32m     34\u001b[0m     ledger\u001b[38;5;241m.\u001b[39mtell(\u001b[38;5;124m'\u001b[39m\u001b[38;5;124mPandas not imported\u001b[39m\u001b[38;5;124m'\u001b[39m)\n",
      "File \u001b[0;32m~/anaconda3/lib/python3.9/site-packages/dovpanda/__init__.py:16\u001b[0m, in \u001b[0;36mstart\u001b[0;34m()\u001b[0m\n\u001b[1;32m     14\u001b[0m \u001b[38;5;28;01mdef\u001b[39;00m \u001b[38;5;21mstart\u001b[39m():\n\u001b[1;32m     15\u001b[0m     \u001b[38;5;124;03m\"\"\"Startup `dovpanda`, in case it has been shut down. This is called when importing `dovpanda`\"\"\"\u001b[39;00m\n\u001b[0;32m---> 16\u001b[0m     \u001b[43mledger\u001b[49m\u001b[38;5;241;43m.\u001b[39;49m\u001b[43mregister_hints\u001b[49m\u001b[43m(\u001b[49m\u001b[43m)\u001b[49m\n",
      "File \u001b[0;32m~/anaconda3/lib/python3.9/site-packages/dovpanda/base.py:145\u001b[0m, in \u001b[0;36mLedger.register_hints\u001b[0;34m(self)\u001b[0m\n\u001b[1;32m    143\u001b[0m \u001b[38;5;28;01mdef\u001b[39;00m \u001b[38;5;21mregister_hints\u001b[39m(\u001b[38;5;28mself\u001b[39m):\n\u001b[1;32m    144\u001b[0m     \u001b[38;5;28;01mfor\u001b[39;00m original, func_hooks \u001b[38;5;129;01min\u001b[39;00m \u001b[38;5;28mself\u001b[39m\u001b[38;5;241m.\u001b[39mhints\u001b[38;5;241m.\u001b[39mitems():\n\u001b[0;32m--> 145\u001b[0m         \u001b[38;5;28;43mself\u001b[39;49m\u001b[38;5;241;43m.\u001b[39;49m\u001b[43mreplace\u001b[49m\u001b[43m(\u001b[49m\u001b[43moriginal\u001b[49m\u001b[43m,\u001b[49m\u001b[43m \u001b[49m\u001b[43mfunc_hooks\u001b[49m\u001b[43m)\u001b[49m\n",
      "File \u001b[0;32m~/anaconda3/lib/python3.9/site-packages/dovpanda/base.py:129\u001b[0m, in \u001b[0;36mLedger.replace\u001b[0;34m(self, original, func_hooks)\u001b[0m\n\u001b[1;32m    128\u001b[0m \u001b[38;5;28;01mdef\u001b[39;00m \u001b[38;5;21mreplace\u001b[39m(\u001b[38;5;28mself\u001b[39m, original, func_hooks):\n\u001b[0;32m--> 129\u001b[0m     g \u001b[38;5;241m=\u001b[39m \u001b[43mrgetattr\u001b[49m\u001b[43m(\u001b[49m\u001b[43msys\u001b[49m\u001b[38;5;241;43m.\u001b[39;49m\u001b[43mmodules\u001b[49m\u001b[43m[\u001b[49m\u001b[38;5;124;43m'\u001b[39;49m\u001b[38;5;124;43mpandas\u001b[39;49m\u001b[38;5;124;43m'\u001b[39;49m\u001b[43m]\u001b[49m\u001b[43m,\u001b[49m\u001b[43m \u001b[49m\u001b[43moriginal\u001b[49m\u001b[43m)\u001b[49m\n\u001b[1;32m    130\u001b[0m     \u001b[38;5;28mself\u001b[39m\u001b[38;5;241m.\u001b[39msave_original(original, g)\n\u001b[1;32m    131\u001b[0m     rsetattr(sys\u001b[38;5;241m.\u001b[39mmodules[\u001b[38;5;124m'\u001b[39m\u001b[38;5;124mpandas\u001b[39m\u001b[38;5;124m'\u001b[39m], original, \u001b[38;5;28mself\u001b[39m\u001b[38;5;241m.\u001b[39mattach_hooks(g, func_hooks))\n",
      "File \u001b[0;32m~/anaconda3/lib/python3.9/site-packages/dovpanda/base.py:239\u001b[0m, in \u001b[0;36mrgetattr\u001b[0;34m(obj, attr)\u001b[0m\n\u001b[1;32m    237\u001b[0m         obj \u001b[38;5;241m=\u001b[39m \u001b[38;5;28mgetattr\u001b[39m(obj, att)\n\u001b[1;32m    238\u001b[0m     \u001b[38;5;28;01mexcept\u001b[39;00m \u001b[38;5;167;01mAttributeError\u001b[39;00m \u001b[38;5;28;01mas\u001b[39;00m e:\n\u001b[0;32m--> 239\u001b[0m         \u001b[38;5;28;01mraise\u001b[39;00m e\n\u001b[1;32m    240\u001b[0m \u001b[38;5;28;01mreturn\u001b[39;00m obj\n",
      "File \u001b[0;32m~/anaconda3/lib/python3.9/site-packages/dovpanda/base.py:237\u001b[0m, in \u001b[0;36mrgetattr\u001b[0;34m(obj, attr)\u001b[0m\n\u001b[1;32m    235\u001b[0m \u001b[38;5;28;01mfor\u001b[39;00m att \u001b[38;5;129;01min\u001b[39;00m attributes:\n\u001b[1;32m    236\u001b[0m     \u001b[38;5;28;01mtry\u001b[39;00m:\n\u001b[0;32m--> 237\u001b[0m         obj \u001b[38;5;241m=\u001b[39m \u001b[38;5;28;43mgetattr\u001b[39;49m\u001b[43m(\u001b[49m\u001b[43mobj\u001b[49m\u001b[43m,\u001b[49m\u001b[43m \u001b[49m\u001b[43matt\u001b[49m\u001b[43m)\u001b[49m\n\u001b[1;32m    238\u001b[0m     \u001b[38;5;28;01mexcept\u001b[39;00m \u001b[38;5;167;01mAttributeError\u001b[39;00m \u001b[38;5;28;01mas\u001b[39;00m e:\n\u001b[1;32m    239\u001b[0m         \u001b[38;5;28;01mraise\u001b[39;00m e\n",
      "\u001b[0;31mAttributeError\u001b[0m: module 'pandas.core.indexing' has no attribute '_NDFrameIndexer'"
     ]
    }
   ],
   "source": [
    "import pandas as pd\n",
    "import dovpanda"
   ]
  },
  {
   "cell_type": "code",
   "execution_count": 4,
   "id": "149c70c6",
   "metadata": {},
   "outputs": [],
   "source": [
    "df = pd.DataFrame([[1,2],[3,4]], columns = [\"A\",\"B\"])"
   ]
  },
  {
   "cell_type": "code",
   "execution_count": 5,
   "id": "ddde6916",
   "metadata": {},
   "outputs": [],
   "source": [
    "def apply_func(row):\n",
    "    pass"
   ]
  },
  {
   "cell_type": "code",
   "execution_count": 6,
   "id": "4649b1ff",
   "metadata": {},
   "outputs": [
    {
     "data": {
      "text/html": [
       "\n",
       "<div class=\"alert alert-info\" role=\"alert\">\n",
       "  <img src=\"data:image/png;base64,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\" alt=\"logo\" style=\"float:left; margin-right:10px\">\n",
       "  df.iterrows is not recommended. Essentially it is very similar to iterating the rows of the frames in a loop. In the majority of cases, there are better alternatives that utilize pandas' vector operation\n",
       "  <button type=\"button\" class=\"close\" data-dismiss=\"alert\" aria-label=\"Close\">\n",
       "    <span aria-hidden=\"true\">&times;</span>\n",
       "  </button>\n",
       "  <div style=\"font-size:0.7em;\">\n",
       "    Line 1: <code>iter_df = df.iterrows()</code>\n",
       "  </div>\n",
       "\n",
       "</div>\n"
      ],
      "text/plain": [
       "* =====(Line 1) df.iterrows is not recommended. Essentially it is very similar to iterating the rows of the frames in a loop. In the majority of cases, there are better alternatives that utilize pandas' vector operation ====="
      ]
     },
     "metadata": {},
     "output_type": "display_data"
    }
   ],
   "source": [
    "iter_df = df.iterrows()"
   ]
  },
  {
   "cell_type": "code",
   "execution_count": 7,
   "id": "cd9c91c8",
   "metadata": {},
   "outputs": [
    {
     "data": {
      "text/html": [
       "\n",
       "<div class=\"alert alert-info\" role=\"alert\">\n",
       "  <img src=\"data:image/png;base64,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\" alt=\"logo\" style=\"float:left; margin-right:10px\">\n",
       "  df.apply is not recommended. Essentially it is very similar to iterating the rows of the frames in a loop. In the majority of cases, there are better alternatives that utilize pandas' vector operation\n",
       "  <button type=\"button\" class=\"close\" data-dismiss=\"alert\" aria-label=\"Close\">\n",
       "    <span aria-hidden=\"true\">&times;</span>\n",
       "  </button>\n",
       "  <div style=\"font-size:0.7em;\">\n",
       "    Line 1: <code>df[\"new_col\"] = df.apply(apply_func)</code>\n",
       "  </div>\n",
       "\n",
       "</div>\n"
      ],
      "text/plain": [
       "* =====(Line 1) df.apply is not recommended. Essentially it is very similar to iterating the rows of the frames in a loop. In the majority of cases, there are better alternatives that utilize pandas' vector operation ====="
      ]
     },
     "metadata": {},
     "output_type": "display_data"
    }
   ],
   "source": [
    "df[\"new_col\"] = df.apply(apply_func)"
   ]
  },
  {
   "cell_type": "code",
   "execution_count": 8,
   "id": "0303c243",
   "metadata": {},
   "outputs": [
    {
     "data": {
      "text/html": [
       "\n",
       "<div class=\"alert alert-info\" role=\"alert\">\n",
       "  <img src=\"data:image/png;base64,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\" alt=\"logo\" style=\"float:left; margin-right:10px\">\n",
       "  All dataframes have the same columns and same number of rows. Pay attention, your axis is 0 which concatenates vertically\n",
       "  <button type=\"button\" class=\"close\" data-dismiss=\"alert\" aria-label=\"Close\">\n",
       "    <span aria-hidden=\"true\">&times;</span>\n",
       "  </button>\n",
       "  <div style=\"font-size:0.7em;\">\n",
       "    Line 1: <code>merged_df = pd.concat((df, df))</code>\n",
       "  </div>\n",
       "\n",
       "</div>\n"
      ],
      "text/plain": [
       "* =====(Line 1) All dataframes have the same columns and same number of rows. Pay attention, your axis is 0 which concatenates vertically ====="
      ]
     },
     "metadata": {},
     "output_type": "display_data"
    },
    {
     "data": {
      "text/html": [
       "\n",
       "<div class=\"alert alert-info\" role=\"alert\">\n",
       "  <img src=\"data:image/png;base64,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\" alt=\"logo\" style=\"float:left; margin-right:10px\">\n",
       "  After concatenation you have duplicated indices - pay attention\n",
       "  <button type=\"button\" class=\"close\" data-dismiss=\"alert\" aria-label=\"Close\">\n",
       "    <span aria-hidden=\"true\">&times;</span>\n",
       "  </button>\n",
       "  <div style=\"font-size:0.7em;\">\n",
       "    Line 1: <code>merged_df = pd.concat((df, df))</code>\n",
       "  </div>\n",
       "\n",
       "</div>\n"
      ],
      "text/plain": [
       "* =====(Line 1) After concatenation you have duplicated indices - pay attention ====="
      ]
     },
     "metadata": {},
     "output_type": "display_data"
    }
   ],
   "source": [
    "merged_df = pd.concat((df, df))"
   ]
  },
  {
   "cell_type": "code",
   "execution_count": 9,
   "id": "03cbe660",
   "metadata": {},
   "outputs": [
    {
     "data": {
      "text/html": [
       "\n",
       "<div class=\"alert alert-info\" role=\"alert\">\n",
       "  <img src=\"data:image/png;base64,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\" alt=\"logo\" style=\"float:left; margin-right:10px\">\n",
       "  Dataframe has 1000 rows. Column <code>Company_Name</code> has only 15 values which suggests it's a categorical feature.<br>After df is created, Consider converting it to categorical by using <code>df['Company_Name'] = df['Company_Name'].astype('category')</code>\n",
       "  <button type=\"button\" class=\"close\" data-dismiss=\"alert\" aria-label=\"Close\">\n",
       "    <span aria-hidden=\"true\">&times;</span>\n",
       "  </button>\n",
       "  <div style=\"font-size:0.7em;\">\n",
       "    Line 1: <code>pd.read_csv(\"../_Datasets/employee_dataset.csv\")</code>\n",
       "  </div>\n",
       "\n",
       "</div>\n"
      ],
      "text/plain": [
       "* =====(Line 1) Dataframe has 1000 rows. Column Company_Name has only 15 values which suggests it's a categorical feature.\n",
       "After df is created, Consider converting it to categorical by using df['Company_Name'] = df['Company_Name'].astype('category') ====="
      ]
     },
     "metadata": {},
     "output_type": "display_data"
    },
    {
     "data": {
      "text/html": [
       "\n",
       "<div class=\"alert alert-info\" role=\"alert\">\n",
       "  <img src=\"data:image/png;base64,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\" alt=\"logo\" style=\"float:left; margin-right:10px\">\n",
       "  Dataframe has 1000 rows. Column <code>Employee_Job_Title</code> has only 19 values which suggests it's a categorical feature.<br>After df is created, Consider converting it to categorical by using <code>df['Employee_Job_Title'] = df['Employee_Job_Title'].astype('category')</code>\n",
       "  <button type=\"button\" class=\"close\" data-dismiss=\"alert\" aria-label=\"Close\">\n",
       "    <span aria-hidden=\"true\">&times;</span>\n",
       "  </button>\n",
       "  <div style=\"font-size:0.7em;\">\n",
       "    Line 1: <code>pd.read_csv(\"../_Datasets/employee_dataset.csv\")</code>\n",
       "  </div>\n",
       "\n",
       "</div>\n"
      ],
      "text/plain": [
       "* =====(Line 1) Dataframe has 1000 rows. Column Employee_Job_Title has only 19 values which suggests it's a categorical feature.\n",
       "After df is created, Consider converting it to categorical by using df['Employee_Job_Title'] = df['Employee_Job_Title'].astype('category') ====="
      ]
     },
     "metadata": {},
     "output_type": "display_data"
    },
    {
     "data": {
      "text/html": [
       "\n",
       "<div class=\"alert alert-info\" role=\"alert\">\n",
       "  <img src=\"data:image/png;base64,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\" alt=\"logo\" style=\"float:left; margin-right:10px\">\n",
       "  Dataframe has 1000 rows. Column <code>Employee_City</code> has only 10 values which suggests it's a categorical feature.<br>After df is created, Consider converting it to categorical by using <code>df['Employee_City'] = df['Employee_City'].astype('category')</code>\n",
       "  <button type=\"button\" class=\"close\" data-dismiss=\"alert\" aria-label=\"Close\">\n",
       "    <span aria-hidden=\"true\">&times;</span>\n",
       "  </button>\n",
       "  <div style=\"font-size:0.7em;\">\n",
       "    Line 1: <code>pd.read_csv(\"../_Datasets/employee_dataset.csv\")</code>\n",
       "  </div>\n",
       "\n",
       "</div>\n"
      ],
      "text/plain": [
       "* =====(Line 1) Dataframe has 1000 rows. Column Employee_City has only 10 values which suggests it's a categorical feature.\n",
       "After df is created, Consider converting it to categorical by using df['Employee_City'] = df['Employee_City'].astype('category') ====="
      ]
     },
     "metadata": {},
     "output_type": "display_data"
    },
    {
     "data": {
      "text/html": [
       "\n",
       "<div class=\"alert alert-info\" role=\"alert\">\n",
       "  <img src=\"data:image/png;base64,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\" alt=\"logo\" style=\"float:left; margin-right:10px\">\n",
       "  Dataframe has 1000 rows. Column <code>Employee_Country</code> has only 243 values which suggests it's a categorical feature.<br>After df is created, Consider converting it to categorical by using <code>df['Employee_Country'] = df['Employee_Country'].astype('category')</code>\n",
       "  <button type=\"button\" class=\"close\" data-dismiss=\"alert\" aria-label=\"Close\">\n",
       "    <span aria-hidden=\"true\">&times;</span>\n",
       "  </button>\n",
       "  <div style=\"font-size:0.7em;\">\n",
       "    Line 1: <code>pd.read_csv(\"../_Datasets/employee_dataset.csv\")</code>\n",
       "  </div>\n",
       "\n",
       "</div>\n"
      ],
      "text/plain": [
       "* =====(Line 1) Dataframe has 1000 rows. Column Employee_Country has only 243 values which suggests it's a categorical feature.\n",
       "After df is created, Consider converting it to categorical by using df['Employee_Country'] = df['Employee_Country'].astype('category') ====="
      ]
     },
     "metadata": {},
     "output_type": "display_data"
    },
    {
     "data": {
      "text/html": [
       "\n",
       "<div class=\"alert alert-info\" role=\"alert\">\n",
       "  <img src=\"data:image/png;base64,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\" alt=\"logo\" style=\"float:left; margin-right:10px\">\n",
       "  Dataframe has 1000 rows. Column <code>Employment_Status</code> has only 2 values which suggests it's a boolean feature.<br>After df is created, Consider converting it to boolean by using <code>df['Employment_Status'] = (df['Employment_Status'] == 'Full Time')</code>\n",
       "  <button type=\"button\" class=\"close\" data-dismiss=\"alert\" aria-label=\"Close\">\n",
       "    <span aria-hidden=\"true\">&times;</span>\n",
       "  </button>\n",
       "  <div style=\"font-size:0.7em;\">\n",
       "    Line 1: <code>pd.read_csv(\"../_Datasets/employee_dataset.csv\")</code>\n",
       "  </div>\n",
       "\n",
       "</div>\n"
      ],
      "text/plain": [
       "* =====(Line 1) Dataframe has 1000 rows. Column Employment_Status has only 2 values which suggests it's a boolean feature.\n",
       "After df is created, Consider converting it to boolean by using df['Employment_Status'] = (df['Employment_Status'] == 'Full Time') ====="
      ]
     },
     "metadata": {},
     "output_type": "display_data"
    },
    {
     "data": {
      "text/html": [
       "<div>\n",
       "<style scoped>\n",
       "    .dataframe tbody tr th:only-of-type {\n",
       "        vertical-align: middle;\n",
       "    }\n",
       "\n",
       "    .dataframe tbody tr th {\n",
       "        vertical-align: top;\n",
       "    }\n",
       "\n",
       "    .dataframe thead th {\n",
       "        text-align: right;\n",
       "    }\n",
       "</style>\n",
       "<table border=\"1\" class=\"dataframe\">\n",
       "  <thead>\n",
       "    <tr style=\"text-align: right;\">\n",
       "      <th></th>\n",
       "      <th>Name</th>\n",
       "      <th>Company_Name</th>\n",
       "      <th>Employee_Job_Title</th>\n",
       "      <th>Employee_City</th>\n",
       "      <th>Employee_Country</th>\n",
       "      <th>Employee_Salary</th>\n",
       "      <th>Employment_Status</th>\n",
       "      <th>Employee_Rating</th>\n",
       "      <th>Credits</th>\n",
       "    </tr>\n",
       "  </thead>\n",
       "  <tbody>\n",
       "    <tr>\n",
       "      <th>0</th>\n",
       "      <td>Johnny Maynard</td>\n",
       "      <td>White, Mcclain and Cobb</td>\n",
       "      <td>Equities trader</td>\n",
       "      <td>New Cindychester</td>\n",
       "      <td>Mongolia</td>\n",
       "      <td>764340</td>\n",
       "      <td>Full Time</td>\n",
       "      <td>3.3</td>\n",
       "      <td>1</td>\n",
       "    </tr>\n",
       "    <tr>\n",
       "      <th>1</th>\n",
       "      <td>Michael Williams</td>\n",
       "      <td>Scott Inc</td>\n",
       "      <td>Patent examiner</td>\n",
       "      <td>Ricardomouth</td>\n",
       "      <td>Guinea-Bissau</td>\n",
       "      <td>929230</td>\n",
       "      <td>Full Time</td>\n",
       "      <td>4.6</td>\n",
       "      <td>4</td>\n",
       "    </tr>\n",
       "    <tr>\n",
       "      <th>2</th>\n",
       "      <td>Laura Flynn</td>\n",
       "      <td>Andrade LLC</td>\n",
       "      <td>Equities trader</td>\n",
       "      <td>North Melissafurt</td>\n",
       "      <td>Tonga</td>\n",
       "      <td>606900</td>\n",
       "      <td>Intern</td>\n",
       "      <td>0.3</td>\n",
       "      <td>3</td>\n",
       "    </tr>\n",
       "    <tr>\n",
       "      <th>3</th>\n",
       "      <td>Stefanie Archer</td>\n",
       "      <td>James and Sons</td>\n",
       "      <td>Retail merchandiser</td>\n",
       "      <td>Ricardomouth</td>\n",
       "      <td>San Marino</td>\n",
       "      <td>775380</td>\n",
       "      <td>Full Time</td>\n",
       "      <td>2.8</td>\n",
       "      <td>5</td>\n",
       "    </tr>\n",
       "    <tr>\n",
       "      <th>4</th>\n",
       "      <td>Sierra Garcia</td>\n",
       "      <td>Matthews Inc</td>\n",
       "      <td>Armed forces logistics/support/administrative ...</td>\n",
       "      <td>Whitakerbury</td>\n",
       "      <td>Nepal</td>\n",
       "      <td>944480</td>\n",
       "      <td>Full Time</td>\n",
       "      <td>4.5</td>\n",
       "      <td>4</td>\n",
       "    </tr>\n",
       "    <tr>\n",
       "      <th>...</th>\n",
       "      <td>...</td>\n",
       "      <td>...</td>\n",
       "      <td>...</td>\n",
       "      <td>...</td>\n",
       "      <td>...</td>\n",
       "      <td>...</td>\n",
       "      <td>...</td>\n",
       "      <td>...</td>\n",
       "      <td>...</td>\n",
       "    </tr>\n",
       "    <tr>\n",
       "      <th>995</th>\n",
       "      <td>Mark Gordon</td>\n",
       "      <td>Baker, Allen and Edwards</td>\n",
       "      <td>Optometrist</td>\n",
       "      <td>Wardfort</td>\n",
       "      <td>Indonesia</td>\n",
       "      <td>516950</td>\n",
       "      <td>Full Time</td>\n",
       "      <td>4.5</td>\n",
       "      <td>4</td>\n",
       "    </tr>\n",
       "    <tr>\n",
       "      <th>996</th>\n",
       "      <td>Courtney Bell</td>\n",
       "      <td>Andrade LLC</td>\n",
       "      <td>Sales promotion account executive</td>\n",
       "      <td>Kristaburgh</td>\n",
       "      <td>Holy See (Vatican City State)</td>\n",
       "      <td>257400</td>\n",
       "      <td>Intern</td>\n",
       "      <td>2.8</td>\n",
       "      <td>3</td>\n",
       "    </tr>\n",
       "    <tr>\n",
       "      <th>997</th>\n",
       "      <td>Kathleen Lamb</td>\n",
       "      <td>Wallace, Smith and Shepard</td>\n",
       "      <td>Administrator</td>\n",
       "      <td>Kristaburgh</td>\n",
       "      <td>Afghanistan</td>\n",
       "      <td>861920</td>\n",
       "      <td>Full Time</td>\n",
       "      <td>1.2</td>\n",
       "      <td>2</td>\n",
       "    </tr>\n",
       "    <tr>\n",
       "      <th>998</th>\n",
       "      <td>Renee Davis</td>\n",
       "      <td>Nichols-James</td>\n",
       "      <td>Administrator</td>\n",
       "      <td>Aliciafort</td>\n",
       "      <td>Slovenia</td>\n",
       "      <td>848830</td>\n",
       "      <td>Full Time</td>\n",
       "      <td>5.0</td>\n",
       "      <td>3</td>\n",
       "    </tr>\n",
       "    <tr>\n",
       "      <th>999</th>\n",
       "      <td>Lindsey Sullivan</td>\n",
       "      <td>Baker, Allen and Edwards</td>\n",
       "      <td>Garment/textile technologist</td>\n",
       "      <td>North Melissafurt</td>\n",
       "      <td>Chile</td>\n",
       "      <td>504680</td>\n",
       "      <td>Full Time</td>\n",
       "      <td>0.1</td>\n",
       "      <td>2</td>\n",
       "    </tr>\n",
       "  </tbody>\n",
       "</table>\n",
       "<p>1000 rows × 9 columns</p>\n",
       "</div>"
      ],
      "text/plain": [
       "                 Name                Company_Name  \\\n",
       "0      Johnny Maynard     White, Mcclain and Cobb   \n",
       "1    Michael Williams                   Scott Inc   \n",
       "2         Laura Flynn                 Andrade LLC   \n",
       "3     Stefanie Archer              James and Sons   \n",
       "4       Sierra Garcia                Matthews Inc   \n",
       "..                ...                         ...   \n",
       "995       Mark Gordon    Baker, Allen and Edwards   \n",
       "996     Courtney Bell                 Andrade LLC   \n",
       "997     Kathleen Lamb  Wallace, Smith and Shepard   \n",
       "998       Renee Davis               Nichols-James   \n",
       "999  Lindsey Sullivan    Baker, Allen and Edwards   \n",
       "\n",
       "                                    Employee_Job_Title      Employee_City  \\\n",
       "0                                      Equities trader   New Cindychester   \n",
       "1                                      Patent examiner       Ricardomouth   \n",
       "2                                      Equities trader  North Melissafurt   \n",
       "3                                  Retail merchandiser       Ricardomouth   \n",
       "4    Armed forces logistics/support/administrative ...       Whitakerbury   \n",
       "..                                                 ...                ...   \n",
       "995                                        Optometrist           Wardfort   \n",
       "996                  Sales promotion account executive        Kristaburgh   \n",
       "997                                      Administrator        Kristaburgh   \n",
       "998                                      Administrator         Aliciafort   \n",
       "999                       Garment/textile technologist  North Melissafurt   \n",
       "\n",
       "                  Employee_Country  Employee_Salary Employment_Status  \\\n",
       "0                         Mongolia           764340         Full Time   \n",
       "1                    Guinea-Bissau           929230         Full Time   \n",
       "2                            Tonga           606900            Intern   \n",
       "3                       San Marino           775380         Full Time   \n",
       "4                            Nepal           944480         Full Time   \n",
       "..                             ...              ...               ...   \n",
       "995                      Indonesia           516950         Full Time   \n",
       "996  Holy See (Vatican City State)           257400            Intern   \n",
       "997                    Afghanistan           861920         Full Time   \n",
       "998                       Slovenia           848830         Full Time   \n",
       "999                          Chile           504680         Full Time   \n",
       "\n",
       "     Employee_Rating  Credits  \n",
       "0                3.3        1  \n",
       "1                4.6        4  \n",
       "2                0.3        3  \n",
       "3                2.8        5  \n",
       "4                4.5        4  \n",
       "..               ...      ...  \n",
       "995              4.5        4  \n",
       "996              2.8        3  \n",
       "997              1.2        2  \n",
       "998              5.0        3  \n",
       "999              0.1        2  \n",
       "\n",
       "[1000 rows x 9 columns]"
      ]
     },
     "execution_count": 9,
     "metadata": {},
     "output_type": "execute_result"
    }
   ],
   "source": [
    "pd.read_csv(\"../_Datasets/employee_dataset.csv\")"
   ]
  },
  {
   "cell_type": "code",
   "execution_count": null,
   "id": "3d7be570",
   "metadata": {},
   "outputs": [],
   "source": []
  }
 ],
 "metadata": {
  "kernelspec": {
   "display_name": "Python 3 (ipykernel)",
   "language": "python",
   "name": "python3"
  },
  "language_info": {
   "codemirror_mode": {
    "name": "ipython",
    "version": 3
   },
   "file_extension": ".py",
   "mimetype": "text/x-python",
   "name": "python",
   "nbconvert_exporter": "python",
   "pygments_lexer": "ipython3",
   "version": "3.9.12"
  }
 },
 "nbformat": 4,
 "nbformat_minor": 5
}

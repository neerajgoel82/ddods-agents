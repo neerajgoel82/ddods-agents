{
 "cells": [
  {
   "cell_type": "markdown",
   "id": "50d69488",
   "metadata": {},
   "source": [
    "# Daily-Dose-of-Data-Science\n",
    "\n",
    "[Daily Dose of Data Science](https://avichawla.substack.com) is a publication on Substack that brings together intriguing frameworks, libraries, technologies, and tips that make the life cycle of a Data Science project effortless. \n",
    "\n",
    "Author: Avi Chawla\n",
    "\n",
    "[Medium](https://medium.com/@avi_chawla) | [LinkedIn](https://www.linkedin.com/in/avi-chawla/)\n",
    "\n",
    "# Why Are We Typically Advised To Never Iterate Over A DataFrame?\n",
    "\n",
    "Post Link: [Substack](https://avichawla.substack.com/p/why-are-we-typically-advised-to-never)\n",
    "\n",
    "LinkedIn Post: [LinkedIn](https://www.linkedin.com/feed/update/urn:li:share:7040278032325959680/)"
   ]
  },
  {
   "cell_type": "code",
   "execution_count": 1,
   "id": "f6b30f36",
   "metadata": {},
   "outputs": [],
   "source": [
    "import pandas as pd"
   ]
  },
  {
   "cell_type": "code",
   "execution_count": 2,
   "id": "2120f0bf",
   "metadata": {},
   "outputs": [],
   "source": [
    "df = pd.read_parquet(\"../_Datasets/employee_dataset.parquet\")"
   ]
  },
  {
   "cell_type": "code",
   "execution_count": 3,
   "id": "0f23f4db",
   "metadata": {},
   "outputs": [
    {
     "data": {
      "text/plain": [
       "(32768000, 9)"
      ]
     },
     "execution_count": 3,
     "metadata": {},
     "output_type": "execute_result"
    }
   ],
   "source": [
    "df.shape"
   ]
  },
  {
   "cell_type": "markdown",
   "id": "6caf063f",
   "metadata": {},
   "source": [
    "### Access column"
   ]
  },
  {
   "cell_type": "code",
   "execution_count": 4,
   "id": "4a901f32",
   "metadata": {
    "ExecuteTime": {
     "end_time": "2023-03-11T10:21:20.360386Z",
     "start_time": "2023-03-11T10:21:20.234774Z"
    }
   },
   "outputs": [
    {
     "name": "stdout",
     "output_type": "stream",
     "text": [
      "1.95 µs ± 913 ns per loop (mean ± std. dev. of 7 runs, 10,000 loops each)\n"
     ]
    }
   ],
   "source": [
    "%timeit -n10000 -r7 df[\"Name\"]"
   ]
  },
  {
   "cell_type": "markdown",
   "id": "db4280d2",
   "metadata": {},
   "source": [
    "### Access row"
   ]
  },
  {
   "cell_type": "code",
   "execution_count": 5,
   "id": "f9a9f427",
   "metadata": {
    "ExecuteTime": {
     "end_time": "2023-03-11T10:21:09.745349Z",
     "start_time": "2023-03-11T10:21:07.054134Z"
    }
   },
   "outputs": [
    {
     "name": "stdout",
     "output_type": "stream",
     "text": [
      "38.9 µs ± 1.65 µs per loop (mean ± std. dev. of 7 runs, 10,000 loops each)\n"
     ]
    }
   ],
   "source": [
    "%timeit -n10000 -r7 df.iloc[0]"
   ]
  }
 ],
 "metadata": {
  "kernelspec": {
   "display_name": "Python 3 (ipykernel)",
   "language": "python",
   "name": "python3"
  },
  "language_info": {
   "codemirror_mode": {
    "name": "ipython",
    "version": 3
   },
   "file_extension": ".py",
   "mimetype": "text/x-python",
   "name": "python",
   "nbconvert_exporter": "python",
   "pygments_lexer": "ipython3",
   "version": "3.9.12"
  },
  "toc": {
   "base_numbering": 1,
   "nav_menu": {},
   "number_sections": false,
   "sideBar": true,
   "skip_h1_title": false,
   "title_cell": "Table of Contents",
   "title_sidebar": "Contents",
   "toc_cell": false,
   "toc_position": {},
   "toc_section_display": true,
   "toc_window_display": true
  }
 },
 "nbformat": 4,
 "nbformat_minor": 5
}

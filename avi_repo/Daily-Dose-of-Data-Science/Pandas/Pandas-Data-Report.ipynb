{
 "cells": [
  {
   "cell_type": "markdown",
   "id": "1c519b2f",
   "metadata": {},
   "source": [
    "# Daily-Dose-of-Data-Science\n",
    "\n",
    "[Daily Dose of Data Science](https://avichawla.substack.com) is a publication on Substack that brings together intriguing frameworks, libraries, technologies, and tips that make the life cycle of a Data Science project effortless. \n",
    "\n",
    "Author: Avi Chawla\n",
    "\n",
    "[Medium](https://medium.com/@avi_chawla) | [LinkedIn](https://www.linkedin.com/in/avi-chawla/)\n",
    "\n",
    "# A No-code Tool To Understand Your Data Quickly\n",
    "\n",
    "Post Link: [Substack](https://avichawla.substack.com/p/a-no-code-tool-to-understand-your)\n",
    "\n",
    "LinkedIn Post: [LinkedIn](https://www.linkedin.com/posts/avi-chawla_python-datascience-dataanalysis-activity-7005485867913908228-bsT3?utm_source=share&utm_medium=member_desktop)"
   ]
  },
  {
   "cell_type": "code",
   "execution_count": 1,
   "id": "bca0975e",
   "metadata": {
    "ExecuteTime": {
     "end_time": "2022-12-05T11:05:07.094242Z",
     "start_time": "2022-12-05T11:05:02.704305Z"
    },
    "scrolled": true
   },
   "outputs": [
    {
     "name": "stdout",
     "output_type": "stream",
     "text": [
      "Requirement already satisfied: pandas-profiling in /Users/avi/anaconda3/lib/python3.9/site-packages (3.3.0)\n",
      "Requirement already satisfied: PyYAML<6.1,>=5.0.0 in /Users/avi/anaconda3/lib/python3.9/site-packages (from pandas-profiling) (5.4.1)\n",
      "Requirement already satisfied: tqdm<4.65,>=4.48.2 in /Users/avi/anaconda3/lib/python3.9/site-packages (from pandas-profiling) (4.64.0)\n",
      "Requirement already satisfied: numpy<1.24,>=1.16.0 in /Users/avi/anaconda3/lib/python3.9/site-packages (from pandas-profiling) (1.21.5)\n",
      "Requirement already satisfied: pydantic<1.10,>=1.8.1 in /Users/avi/anaconda3/lib/python3.9/site-packages (from pandas-profiling) (1.9.2)\n",
      "Requirement already satisfied: phik<0.13,>=0.11.1 in /Users/avi/anaconda3/lib/python3.9/site-packages (from pandas-profiling) (0.12.2)\n",
      "Requirement already satisfied: requests<2.29,>=2.24.0 in /Users/avi/anaconda3/lib/python3.9/site-packages (from pandas-profiling) (2.27.1)\n",
      "Requirement already satisfied: seaborn<0.12,>=0.10.1 in /Users/avi/anaconda3/lib/python3.9/site-packages (from pandas-profiling) (0.11.2)\n",
      "Requirement already satisfied: statsmodels<0.14,>=0.13.2 in /Users/avi/anaconda3/lib/python3.9/site-packages (from pandas-profiling) (0.13.2)\n",
      "Requirement already satisfied: missingno<0.6,>=0.4.2 in /Users/avi/anaconda3/lib/python3.9/site-packages (from pandas-profiling) (0.4.2)\n",
      "Requirement already satisfied: tangled-up-in-unicode==0.2.0 in /Users/avi/anaconda3/lib/python3.9/site-packages (from pandas-profiling) (0.2.0)\n",
      "Requirement already satisfied: scipy<1.10,>=1.4.1 in /Users/avi/anaconda3/lib/python3.9/site-packages (from pandas-profiling) (1.7.3)\n",
      "Requirement already satisfied: jinja2<3.2,>=2.11.1 in /Users/avi/anaconda3/lib/python3.9/site-packages (from pandas-profiling) (3.0.0)\n",
      "Requirement already satisfied: multimethod<1.9,>=1.4 in /Users/avi/anaconda3/lib/python3.9/site-packages (from pandas-profiling) (1.8)\n",
      "Requirement already satisfied: htmlmin==0.1.12 in /Users/avi/anaconda3/lib/python3.9/site-packages (from pandas-profiling) (0.1.12)\n",
      "Requirement already satisfied: joblib~=1.1.0 in /Users/avi/anaconda3/lib/python3.9/site-packages (from pandas-profiling) (1.1.0)\n",
      "Requirement already satisfied: pandas!=1.4.0,<1.5,>1.1 in /Users/avi/anaconda3/lib/python3.9/site-packages (from pandas-profiling) (1.4.4)\n",
      "Requirement already satisfied: matplotlib<3.6,>=3.2 in /Users/avi/anaconda3/lib/python3.9/site-packages (from pandas-profiling) (3.5.3)\n",
      "Requirement already satisfied: visions[type_image_path]==0.7.5 in /Users/avi/anaconda3/lib/python3.9/site-packages (from pandas-profiling) (0.7.5)\n",
      "Requirement already satisfied: attrs>=19.3.0 in /Users/avi/anaconda3/lib/python3.9/site-packages (from visions[type_image_path]==0.7.5->pandas-profiling) (21.4.0)\n",
      "Requirement already satisfied: networkx>=2.4 in /Users/avi/anaconda3/lib/python3.9/site-packages (from visions[type_image_path]==0.7.5->pandas-profiling) (2.7.1)\n",
      "Requirement already satisfied: Pillow in /Users/avi/anaconda3/lib/python3.9/site-packages (from visions[type_image_path]==0.7.5->pandas-profiling) (9.0.1)\n",
      "Requirement already satisfied: imagehash in /Users/avi/anaconda3/lib/python3.9/site-packages (from visions[type_image_path]==0.7.5->pandas-profiling) (4.3.1)\n",
      "Requirement already satisfied: MarkupSafe>=2.0.0rc2 in /Users/avi/anaconda3/lib/python3.9/site-packages (from jinja2<3.2,>=2.11.1->pandas-profiling) (2.1.1)\n",
      "Requirement already satisfied: packaging>=20.0 in /Users/avi/anaconda3/lib/python3.9/site-packages (from matplotlib<3.6,>=3.2->pandas-profiling) (21.3)\n",
      "Requirement already satisfied: fonttools>=4.22.0 in /Users/avi/anaconda3/lib/python3.9/site-packages (from matplotlib<3.6,>=3.2->pandas-profiling) (4.25.0)\n",
      "Requirement already satisfied: python-dateutil>=2.7 in /Users/avi/anaconda3/lib/python3.9/site-packages (from matplotlib<3.6,>=3.2->pandas-profiling) (2.8.2)\n",
      "Requirement already satisfied: cycler>=0.10 in /Users/avi/anaconda3/lib/python3.9/site-packages (from matplotlib<3.6,>=3.2->pandas-profiling) (0.11.0)\n",
      "Requirement already satisfied: pyparsing>=2.2.1 in /Users/avi/anaconda3/lib/python3.9/site-packages (from matplotlib<3.6,>=3.2->pandas-profiling) (3.0.4)\n",
      "Requirement already satisfied: kiwisolver>=1.0.1 in /Users/avi/anaconda3/lib/python3.9/site-packages (from matplotlib<3.6,>=3.2->pandas-profiling) (1.3.2)\n",
      "Requirement already satisfied: pytz>=2020.1 in /Users/avi/anaconda3/lib/python3.9/site-packages (from pandas!=1.4.0,<1.5,>1.1->pandas-profiling) (2021.3)\n",
      "Requirement already satisfied: typing-extensions>=3.7.4.3 in /Users/avi/anaconda3/lib/python3.9/site-packages (from pydantic<1.10,>=1.8.1->pandas-profiling) (4.1.1)\n",
      "Requirement already satisfied: six>=1.5 in /Users/avi/anaconda3/lib/python3.9/site-packages (from python-dateutil>=2.7->matplotlib<3.6,>=3.2->pandas-profiling) (1.16.0)\n",
      "Requirement already satisfied: certifi>=2017.4.17 in /Users/avi/anaconda3/lib/python3.9/site-packages (from requests<2.29,>=2.24.0->pandas-profiling) (2021.10.8)\n",
      "Requirement already satisfied: idna<4,>=2.5 in /Users/avi/anaconda3/lib/python3.9/site-packages (from requests<2.29,>=2.24.0->pandas-profiling) (3.3)\n",
      "Requirement already satisfied: urllib3<1.27,>=1.21.1 in /Users/avi/anaconda3/lib/python3.9/site-packages (from requests<2.29,>=2.24.0->pandas-profiling) (1.26.9)\n",
      "Requirement already satisfied: charset-normalizer~=2.0.0 in /Users/avi/anaconda3/lib/python3.9/site-packages (from requests<2.29,>=2.24.0->pandas-profiling) (2.0.4)\n",
      "Requirement already satisfied: patsy>=0.5.2 in /Users/avi/anaconda3/lib/python3.9/site-packages (from statsmodels<0.14,>=0.13.2->pandas-profiling) (0.5.2)\n",
      "Requirement already satisfied: PyWavelets in /Users/avi/anaconda3/lib/python3.9/site-packages (from imagehash->visions[type_image_path]==0.7.5->pandas-profiling) (1.3.0)\n"
     ]
    }
   ],
   "source": [
    "!pip install pandas-profiling"
   ]
  },
  {
   "cell_type": "code",
   "execution_count": 2,
   "id": "66e8a0a1",
   "metadata": {
    "ExecuteTime": {
     "end_time": "2022-12-05T11:05:08.795416Z",
     "start_time": "2022-12-05T11:05:07.098138Z"
    }
   },
   "outputs": [],
   "source": [
    "import pandas as pd\n",
    "from sklearn.datasets import load_iris"
   ]
  },
  {
   "cell_type": "code",
   "execution_count": 3,
   "id": "e1b948ab",
   "metadata": {
    "ExecuteTime": {
     "end_time": "2022-12-05T11:05:08.808413Z",
     "start_time": "2022-12-05T11:05:08.796462Z"
    }
   },
   "outputs": [
    {
     "data": {
      "application/javascript": [
       "\n",
       "        if (window._pyforest_update_imports_cell) { window._pyforest_update_imports_cell('import numpy as np'); }\n",
       "    "
      ],
      "text/plain": [
       "<IPython.core.display.Javascript object>"
      ]
     },
     "metadata": {},
     "output_type": "display_data"
    }
   ],
   "source": [
    "iris = load_iris()\n",
    "iris_data = pd.DataFrame(data= np.c_[iris['data'], iris['target']],\n",
    "                     columns= iris['feature_names'] + ['target'])"
   ]
  },
  {
   "cell_type": "code",
   "execution_count": 4,
   "id": "a73d0786",
   "metadata": {
    "ExecuteTime": {
     "end_time": "2022-12-05T11:05:20.761354Z",
     "start_time": "2022-12-05T11:05:08.811679Z"
    }
   },
   "outputs": [
    {
     "data": {
      "application/vnd.jupyter.widget-view+json": {
       "model_id": "5e7c5ee3341445ca842e6e903eca945b",
       "version_major": 2,
       "version_minor": 0
      },
      "text/plain": [
       "Summarize dataset:   0%|          | 0/5 [00:00<?, ?it/s]"
      ]
     },
     "metadata": {},
     "output_type": "display_data"
    },
    {
     "data": {
      "application/vnd.jupyter.widget-view+json": {
       "model_id": "21858385bc1f4a38a5e2a675857fe4f6",
       "version_major": 2,
       "version_minor": 0
      },
      "text/plain": [
       "Generate report structure:   0%|          | 0/1 [00:00<?, ?it/s]"
      ]
     },
     "metadata": {},
     "output_type": "display_data"
    },
    {
     "data": {
      "application/vnd.jupyter.widget-view+json": {
       "model_id": "",
       "version_major": 2,
       "version_minor": 0
      },
      "text/plain": [
       "Render widgets:   0%|          | 0/1 [00:00<?, ?it/s]"
      ]
     },
     "metadata": {},
     "output_type": "display_data"
    },
    {
     "data": {
      "application/vnd.jupyter.widget-view+json": {
       "model_id": "e969addfa3b5403d9ec9cfd7ad906c22",
       "version_major": 2,
       "version_minor": 0
      },
      "text/plain": [
       "VBox(children=(Tab(children=(Tab(children=(GridBox(children=(VBox(children=(GridspecLayout(children=(HTML(valu…"
      ]
     },
     "metadata": {},
     "output_type": "display_data"
    }
   ],
   "source": [
    "from pandas_profiling import ProfileReport\n",
    "\n",
    "profile = ProfileReport(iris_data, title=\"Pandas Profiling Report\")\n",
    "\n",
    "profile.to_widgets()"
   ]
  },
  {
   "cell_type": "code",
   "execution_count": 5,
   "id": "3f9f9656",
   "metadata": {
    "ExecuteTime": {
     "end_time": "2022-12-05T11:08:23.262690Z",
     "start_time": "2022-12-05T11:08:23.233173Z"
    }
   },
   "outputs": [
    {
     "data": {
      "text/html": [
       "<video src=\"../_Extras/pandas profiling.mp4\" controls  >\n",
       "      Your browser does not support the <code>video</code> element.\n",
       "    </video>"
      ],
      "text/plain": [
       "<IPython.core.display.Video object>"
      ]
     },
     "execution_count": 5,
     "metadata": {},
     "output_type": "execute_result"
    }
   ],
   "source": [
    "from IPython.display import Video\n",
    "Video(\"../_Extras/pandas profiling.mp4\")"
   ]
  },
  {
   "cell_type": "code",
   "execution_count": null,
   "id": "62b120df",
   "metadata": {},
   "outputs": [],
   "source": []
  }
 ],
 "metadata": {
  "kernelspec": {
   "display_name": "Python 3 (ipykernel)",
   "language": "python",
   "name": "python3"
  },
  "language_info": {
   "codemirror_mode": {
    "name": "ipython",
    "version": 3
   },
   "file_extension": ".py",
   "mimetype": "text/x-python",
   "name": "python",
   "nbconvert_exporter": "python",
   "pygments_lexer": "ipython3",
   "version": "3.9.12"
  }
 },
 "nbformat": 4,
 "nbformat_minor": 5
}

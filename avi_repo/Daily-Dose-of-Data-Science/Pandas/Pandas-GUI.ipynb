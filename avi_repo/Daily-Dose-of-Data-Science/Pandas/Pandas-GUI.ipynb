{
 "cells": [
  {
   "cell_type": "markdown",
   "id": "430d6bb4",
   "metadata": {},
   "source": [
    "# Daily-Dose-of-Data-Science\n",
    "\n",
    "[Daily Dose of Data Science](https://avichawla.substack.com) is a publication on Substack that brings together intriguing frameworks, libraries, technologies, and tips that make the life cycle of a Data Science project effortless. \n",
    "\n",
    "Author: Avi Chawla\n",
    "\n",
    "[Medium](https://medium.com/@avi_chawla) | [LinkedIn](https://www.linkedin.com/in/avi-chawla/)\n",
    "\n",
    "# Analyze A Pandas DataFrame Without Code\n",
    "\n",
    "Post Link: [Substack](https://avichawla.substack.com/p/analyze-a-pandas-dataframe-without)\n",
    "\n",
    "LinkedIn Post: [LinkedIn](https://www.linkedin.com/feed/update/urn:li:activity:7019618604878868480/)"
   ]
  },
  {
   "cell_type": "code",
   "execution_count": 1,
   "id": "e1e2f025",
   "metadata": {
    "collapsed": true
   },
   "outputs": [
    {
     "name": "stdout",
     "output_type": "stream",
     "text": [
      "Requirement already satisfied: pandasgui in /Users/avi/anaconda3/lib/python3.9/site-packages (0.2.13)\n",
      "Requirement already satisfied: PyQtWebEngine in /Users/avi/anaconda3/lib/python3.9/site-packages (from pandasgui) (5.15.6)\n",
      "Requirement already satisfied: qtstylish>=0.1.2 in /Users/avi/anaconda3/lib/python3.9/site-packages (from pandasgui) (0.1.5)\n",
      "Requirement already satisfied: wordcloud in /Users/avi/anaconda3/lib/python3.9/site-packages (from pandasgui) (1.8.2.2)\n",
      "Requirement already satisfied: numpy in /Users/avi/anaconda3/lib/python3.9/site-packages (from pandasgui) (1.21.5)\n",
      "Requirement already satisfied: setuptools in /Users/avi/anaconda3/lib/python3.9/site-packages (from pandasgui) (61.2.0)\n",
      "Requirement already satisfied: appdirs in /Users/avi/anaconda3/lib/python3.9/site-packages (from pandasgui) (1.4.4)\n",
      "Requirement already satisfied: pynput in /Users/avi/anaconda3/lib/python3.9/site-packages (from pandasgui) (1.7.6)\n",
      "Requirement already satisfied: typing-extensions in /Users/avi/anaconda3/lib/python3.9/site-packages (from pandasgui) (4.1.1)\n",
      "Requirement already satisfied: pyarrow in /Users/avi/anaconda3/lib/python3.9/site-packages (from pandasgui) (8.0.0)\n",
      "Requirement already satisfied: PyQt5-sip in /Users/avi/anaconda3/lib/python3.9/site-packages (from pandasgui) (12.11.0)\n",
      "Requirement already satisfied: IPython in /Users/avi/anaconda3/lib/python3.9/site-packages (from pandasgui) (8.2.0)\n",
      "Requirement already satisfied: astor in /Users/avi/anaconda3/lib/python3.9/site-packages (from pandasgui) (0.8.1)\n",
      "Requirement already satisfied: pandas in /Users/avi/anaconda3/lib/python3.9/site-packages (from pandasgui) (1.5.0)\n",
      "Requirement already satisfied: PyQt5 in /Users/avi/anaconda3/lib/python3.9/site-packages (from pandasgui) (5.15.7)\n",
      "Requirement already satisfied: plotly in /Users/avi/anaconda3/lib/python3.9/site-packages (from pandasgui) (5.6.0)\n",
      "Requirement already satisfied: jedi>=0.16 in /Users/avi/anaconda3/lib/python3.9/site-packages (from IPython->pandasgui) (0.18.1)\n",
      "Requirement already satisfied: decorator in /Users/avi/anaconda3/lib/python3.9/site-packages (from IPython->pandasgui) (5.1.1)\n",
      "Requirement already satisfied: appnope in /Users/avi/anaconda3/lib/python3.9/site-packages (from IPython->pandasgui) (0.1.2)\n",
      "Requirement already satisfied: prompt-toolkit!=3.0.0,!=3.0.1,<3.1.0,>=2.0.0 in /Users/avi/anaconda3/lib/python3.9/site-packages (from IPython->pandasgui) (3.0.20)\n",
      "Requirement already satisfied: backcall in /Users/avi/anaconda3/lib/python3.9/site-packages (from IPython->pandasgui) (0.2.0)\n",
      "Requirement already satisfied: pexpect>4.3 in /Users/avi/anaconda3/lib/python3.9/site-packages (from IPython->pandasgui) (4.8.0)\n",
      "Requirement already satisfied: pygments>=2.4.0 in /Users/avi/anaconda3/lib/python3.9/site-packages (from IPython->pandasgui) (2.11.2)\n",
      "Requirement already satisfied: pickleshare in /Users/avi/anaconda3/lib/python3.9/site-packages (from IPython->pandasgui) (0.7.5)\n",
      "Requirement already satisfied: matplotlib-inline in /Users/avi/anaconda3/lib/python3.9/site-packages (from IPython->pandasgui) (0.1.2)\n",
      "Requirement already satisfied: stack-data in /Users/avi/anaconda3/lib/python3.9/site-packages (from IPython->pandasgui) (0.2.0)\n",
      "Requirement already satisfied: traitlets>=5 in /Users/avi/anaconda3/lib/python3.9/site-packages (from IPython->pandasgui) (5.1.1)\n",
      "Requirement already satisfied: parso<0.9.0,>=0.8.0 in /Users/avi/anaconda3/lib/python3.9/site-packages (from jedi>=0.16->IPython->pandasgui) (0.8.3)\n",
      "Requirement already satisfied: ptyprocess>=0.5 in /Users/avi/anaconda3/lib/python3.9/site-packages (from pexpect>4.3->IPython->pandasgui) (0.7.0)\n",
      "Requirement already satisfied: wcwidth in /Users/avi/anaconda3/lib/python3.9/site-packages (from prompt-toolkit!=3.0.0,!=3.0.1,<3.1.0,>=2.0.0->IPython->pandasgui) (0.2.5)\n",
      "Requirement already satisfied: pytz>=2020.1 in /Users/avi/anaconda3/lib/python3.9/site-packages (from pandas->pandasgui) (2021.3)\n",
      "Requirement already satisfied: python-dateutil>=2.8.1 in /Users/avi/anaconda3/lib/python3.9/site-packages (from pandas->pandasgui) (2.8.2)\n",
      "Requirement already satisfied: six>=1.5 in /Users/avi/anaconda3/lib/python3.9/site-packages (from python-dateutil>=2.8.1->pandas->pandasgui) (1.16.0)\n",
      "Requirement already satisfied: tenacity>=6.2.0 in /Users/avi/anaconda3/lib/python3.9/site-packages (from plotly->pandasgui) (8.0.1)\n",
      "Requirement already satisfied: pyobjc-framework-Quartz>=8.0 in /Users/avi/anaconda3/lib/python3.9/site-packages (from pynput->pandasgui) (8.5)\n",
      "Requirement already satisfied: pyobjc-framework-ApplicationServices>=8.0 in /Users/avi/anaconda3/lib/python3.9/site-packages (from pynput->pandasgui) (8.5)\n",
      "Requirement already satisfied: pyobjc-framework-Cocoa>=8.5 in /Users/avi/anaconda3/lib/python3.9/site-packages (from pyobjc-framework-ApplicationServices>=8.0->pynput->pandasgui) (8.5)\n",
      "Requirement already satisfied: pyobjc-core>=8.5 in /Users/avi/anaconda3/lib/python3.9/site-packages (from pyobjc-framework-ApplicationServices>=8.0->pynput->pandasgui) (8.5)\n",
      "Requirement already satisfied: PyQt5-Qt5>=5.15.0 in /Users/avi/anaconda3/lib/python3.9/site-packages (from PyQt5->pandasgui) (5.15.2)\n",
      "Requirement already satisfied: PyQtWebEngine-Qt5>=5.15.0 in /Users/avi/anaconda3/lib/python3.9/site-packages (from PyQtWebEngine->pandasgui) (5.15.2)\n",
      "Requirement already satisfied: pure-eval in /Users/avi/anaconda3/lib/python3.9/site-packages (from stack-data->IPython->pandasgui) (0.2.2)\n",
      "Requirement already satisfied: executing in /Users/avi/anaconda3/lib/python3.9/site-packages (from stack-data->IPython->pandasgui) (0.8.3)\n",
      "Requirement already satisfied: asttokens in /Users/avi/anaconda3/lib/python3.9/site-packages (from stack-data->IPython->pandasgui) (2.0.5)\n",
      "Requirement already satisfied: matplotlib in /Users/avi/anaconda3/lib/python3.9/site-packages (from wordcloud->pandasgui) (3.5.3)\n",
      "Requirement already satisfied: pillow in /Users/avi/anaconda3/lib/python3.9/site-packages (from wordcloud->pandasgui) (9.4.0)\n",
      "Requirement already satisfied: pyparsing>=2.2.1 in /Users/avi/anaconda3/lib/python3.9/site-packages (from matplotlib->wordcloud->pandasgui) (3.0.4)\n",
      "Requirement already satisfied: fonttools>=4.22.0 in /Users/avi/anaconda3/lib/python3.9/site-packages (from matplotlib->wordcloud->pandasgui) (4.25.0)\n",
      "Requirement already satisfied: cycler>=0.10 in /Users/avi/anaconda3/lib/python3.9/site-packages (from matplotlib->wordcloud->pandasgui) (0.11.0)\n",
      "Requirement already satisfied: packaging>=20.0 in /Users/avi/anaconda3/lib/python3.9/site-packages (from matplotlib->wordcloud->pandasgui) (21.3)\n",
      "Requirement already satisfied: kiwisolver>=1.0.1 in /Users/avi/anaconda3/lib/python3.9/site-packages (from matplotlib->wordcloud->pandasgui) (1.3.2)\n"
     ]
    }
   ],
   "source": [
    "!pip install pandasgui"
   ]
  },
  {
   "cell_type": "code",
   "execution_count": 2,
   "id": "42c136e2",
   "metadata": {},
   "outputs": [],
   "source": [
    "import pandas as pd\n",
    "from pandasgui import show"
   ]
  },
  {
   "cell_type": "code",
   "execution_count": 3,
   "id": "3df72089",
   "metadata": {},
   "outputs": [
    {
     "data": {
      "text/plain": [
       "(1000, 9)"
      ]
     },
     "execution_count": 3,
     "metadata": {},
     "output_type": "execute_result"
    }
   ],
   "source": [
    "df = pd.read_csv(\"../_Datasets/employee_dataset.csv\")\n",
    "df.shape"
   ]
  },
  {
   "cell_type": "code",
   "execution_count": 4,
   "id": "f36fcccb",
   "metadata": {},
   "outputs": [
    {
     "name": "stderr",
     "output_type": "stream",
     "text": [
      "PandasGUI INFO — pandasgui.gui — Opening PandasGUI\n",
      "qt.qpa.fonts: Populating font family aliases took 315 ms. Replace uses of missing font family \"Consolas\" with one that exists to avoid this cost. \n"
     ]
    },
    {
     "data": {
      "text/plain": [
       "<pandasgui.gui.PandasGui at 0x7fc47b9ff4c0>"
      ]
     },
     "execution_count": 4,
     "metadata": {},
     "output_type": "execute_result"
    }
   ],
   "source": [
    "show(df)"
   ]
  },
  {
   "cell_type": "code",
   "execution_count": 5,
   "id": "2ef31684",
   "metadata": {},
   "outputs": [
    {
     "data": {
      "text/html": [
       "<video src=\"../_Extras/pandas gui video.mp4\" controls  width=\"800\"  height=\"500\">\n",
       "      Your browser does not support the <code>video</code> element.\n",
       "    </video>"
      ],
      "text/plain": [
       "<IPython.core.display.Video object>"
      ]
     },
     "execution_count": 5,
     "metadata": {},
     "output_type": "execute_result"
    }
   ],
   "source": [
    "from IPython.display import Video\n",
    "Video(\"../_Extras/pandas gui video.mp4\", height=500, width=800)"
   ]
  },
  {
   "cell_type": "code",
   "execution_count": null,
   "id": "b41c6dff",
   "metadata": {},
   "outputs": [],
   "source": []
  }
 ],
 "metadata": {
  "kernelspec": {
   "display_name": "Python 3 (ipykernel)",
   "language": "python",
   "name": "python3"
  },
  "language_info": {
   "codemirror_mode": {
    "name": "ipython",
    "version": 3
   },
   "file_extension": ".py",
   "mimetype": "text/x-python",
   "name": "python",
   "nbconvert_exporter": "python",
   "pygments_lexer": "ipython3",
   "version": "3.9.12"
  }
 },
 "nbformat": 4,
 "nbformat_minor": 5
}

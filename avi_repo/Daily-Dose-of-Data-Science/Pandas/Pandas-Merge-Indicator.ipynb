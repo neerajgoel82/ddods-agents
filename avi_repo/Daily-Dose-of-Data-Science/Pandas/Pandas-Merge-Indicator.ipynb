{
 "cells": [
  {
   "cell_type": "markdown",
   "id": "a881da66",
   "metadata": {},
   "source": [
    "# Daily-Dose-of-Data-Science\n",
    "\n",
    "[Daily Dose of Data Science](https://avichawla.substack.com) is a publication on Substack that brings together intriguing frameworks, libraries, technologies, and tips that make the life cycle of a Data Science project effortless. \n",
    "\n",
    "Author: Avi Chawla\n",
    "\n",
    "[Medium](https://medium.com/@avi_chawla) | [LinkedIn](https://www.linkedin.com/in/avi-chawla/)\n",
    "\n",
    "# Lesser-Known Feature of the Merge Method in Pandas\n",
    "\n",
    "Post Link: [Substack](https://avichawla.substack.com/p/lesser-known-feature-of-the-merge)\n",
    "\n",
    "LinkedIn Post: [LinkedIn](https://www.linkedin.com/posts/avi-chawla_python-datascience-pandas-activity-7007663383978127360-zJzs?utm_source=share&utm_medium=member_desktop)"
   ]
  },
  {
   "cell_type": "code",
   "execution_count": 1,
   "id": "6925f005",
   "metadata": {
    "ExecuteTime": {
     "end_time": "2022-12-11T11:18:31.265305Z",
     "start_time": "2022-12-11T11:18:30.012680Z"
    }
   },
   "outputs": [],
   "source": [
    "import pandas as pd"
   ]
  },
  {
   "cell_type": "code",
   "execution_count": 2,
   "id": "a8b2e7bf",
   "metadata": {
    "ExecuteTime": {
     "end_time": "2022-12-11T11:18:47.997120Z",
     "start_time": "2022-12-11T11:18:47.980980Z"
    }
   },
   "outputs": [],
   "source": [
    "name_df = pd.DataFrame({'Cust_ID': [1, 2, 3], \n",
    "                        'Name': [\"Joe\", \"Mark\", \"Peter\"]})\n",
    "\n",
    "rewards_df = pd.DataFrame({'Cust_ID': [2, 3, 4], \n",
    "                           'Rewards': [50, 20, 70]})"
   ]
  },
  {
   "cell_type": "code",
   "execution_count": 3,
   "id": "e5894838",
   "metadata": {
    "ExecuteTime": {
     "end_time": "2022-12-11T11:19:05.531118Z",
     "start_time": "2022-12-11T11:19:05.486288Z"
    }
   },
   "outputs": [
    {
     "data": {
      "text/html": [
       "<div>\n",
       "<style scoped>\n",
       "    .dataframe tbody tr th:only-of-type {\n",
       "        vertical-align: middle;\n",
       "    }\n",
       "\n",
       "    .dataframe tbody tr th {\n",
       "        vertical-align: top;\n",
       "    }\n",
       "\n",
       "    .dataframe thead th {\n",
       "        text-align: right;\n",
       "    }\n",
       "</style>\n",
       "<table border=\"1\" class=\"dataframe\">\n",
       "  <thead>\n",
       "    <tr style=\"text-align: right;\">\n",
       "      <th></th>\n",
       "      <th>Cust_ID</th>\n",
       "      <th>Name</th>\n",
       "      <th>Rewards</th>\n",
       "      <th>_merge</th>\n",
       "    </tr>\n",
       "  </thead>\n",
       "  <tbody>\n",
       "    <tr>\n",
       "      <th>0</th>\n",
       "      <td>1</td>\n",
       "      <td>Joe</td>\n",
       "      <td>NaN</td>\n",
       "      <td>left_only</td>\n",
       "    </tr>\n",
       "    <tr>\n",
       "      <th>1</th>\n",
       "      <td>2</td>\n",
       "      <td>Mark</td>\n",
       "      <td>50.0</td>\n",
       "      <td>both</td>\n",
       "    </tr>\n",
       "    <tr>\n",
       "      <th>2</th>\n",
       "      <td>3</td>\n",
       "      <td>Peter</td>\n",
       "      <td>20.0</td>\n",
       "      <td>both</td>\n",
       "    </tr>\n",
       "    <tr>\n",
       "      <th>3</th>\n",
       "      <td>4</td>\n",
       "      <td>NaN</td>\n",
       "      <td>70.0</td>\n",
       "      <td>right_only</td>\n",
       "    </tr>\n",
       "  </tbody>\n",
       "</table>\n",
       "</div>"
      ],
      "text/plain": [
       "   Cust_ID   Name  Rewards      _merge\n",
       "0        1    Joe      NaN   left_only\n",
       "1        2   Mark     50.0        both\n",
       "2        3  Peter     20.0        both\n",
       "3        4    NaN     70.0  right_only"
      ]
     },
     "execution_count": 3,
     "metadata": {},
     "output_type": "execute_result"
    }
   ],
   "source": [
    "merged_df = name_df.merge(rewards_df, \n",
    "                          on='Cust_ID', \n",
    "                          how='outer', \n",
    "                          indicator=True)\n",
    "\n",
    "merged_df"
   ]
  }
 ],
 "metadata": {
  "kernelspec": {
   "display_name": "Python 3 (ipykernel)",
   "language": "python",
   "name": "python3"
  },
  "language_info": {
   "codemirror_mode": {
    "name": "ipython",
    "version": 3
   },
   "file_extension": ".py",
   "mimetype": "text/x-python",
   "name": "python",
   "nbconvert_exporter": "python",
   "pygments_lexer": "ipython3",
   "version": "3.9.12"
  }
 },
 "nbformat": 4,
 "nbformat_minor": 5
}

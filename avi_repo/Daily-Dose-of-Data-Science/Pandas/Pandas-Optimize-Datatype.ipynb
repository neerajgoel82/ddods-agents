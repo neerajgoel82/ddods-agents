{
 "cells": [
  {
   "cell_type": "markdown",
   "id": "b38759d8",
   "metadata": {},
   "source": [
    "# Daily-Dose-of-Data-Science\n",
    "\n",
    "[Daily Dose of Data Science](https://avichawla.substack.com) is a publication on Substack that brings together intriguing frameworks, libraries, technologies, and tips that make the life cycle of a Data Science project effortless. \n",
    "\n",
    "Author: Avi Chawla\n",
    "\n",
    "[Medium](https://medium.com/@avi_chawla) | [LinkedIn](https://www.linkedin.com/in/avi-chawla/)\n",
    "\n",
    "# Reduce Memory Usage Of A Pandas DataFrame By 90%\n",
    "\n",
    "Post Link: [Substack](https://avichawla.substack.com/p/reduce-memory-usage-of-a-pandas-dataframe)\n",
    "\n",
    "LinkedIn Post: [LinkedIn](https://www.linkedin.com/feed/update/urn:li:activity:7016719819257360384/)"
   ]
  },
  {
   "cell_type": "code",
   "execution_count": 1,
   "id": "d1158c06",
   "metadata": {},
   "outputs": [],
   "source": [
    "import pandas as pd\n",
    "import numpy as np"
   ]
  },
  {
   "cell_type": "code",
   "execution_count": 2,
   "id": "dfbdddd6",
   "metadata": {},
   "outputs": [
    {
     "name": "stderr",
     "output_type": "stream",
     "text": [
      "/var/folders/3w/0h9rv7rx7zq40g17g_bqrxvc0000gn/T/ipykernel_3348/3064973967.py:1: DeprecationWarning: This function is deprecated. Please call randint(1, 100 + 1) instead\n",
      "  df = pd.DataFrame(np.random.random_integers(1, 100, (10**7, 2)), columns = [\"A\", \"B\"])\n"
     ]
    }
   ],
   "source": [
    "df = pd.DataFrame(np.random.random_integers(1, 100, (10**7, 2)), columns = [\"A\", \"B\"])"
   ]
  },
  {
   "cell_type": "markdown",
   "id": "258fae3b",
   "metadata": {},
   "source": [
    "### Before Conversion"
   ]
  },
  {
   "cell_type": "code",
   "execution_count": 3,
   "id": "01e3af82",
   "metadata": {},
   "outputs": [
    {
     "name": "stdout",
     "output_type": "stream",
     "text": [
      "<class 'pandas.core.series.Series'>\n",
      "RangeIndex: 10000000 entries, 0 to 9999999\n",
      "Series name: A\n",
      "Non-Null Count     Dtype\n",
      "--------------     -----\n",
      "10000000 non-null  int64\n",
      "dtypes: int64(1)\n",
      "memory usage: 76.3 MB\n"
     ]
    }
   ],
   "source": [
    "df.A.info()"
   ]
  },
  {
   "cell_type": "code",
   "execution_count": 4,
   "id": "ed9a7303",
   "metadata": {
    "scrolled": true
   },
   "outputs": [
    {
     "data": {
      "text/plain": [
       "(1, 100)"
      ]
     },
     "execution_count": 4,
     "metadata": {},
     "output_type": "execute_result"
    }
   ],
   "source": [
    "df.A.min(), df.A.max()"
   ]
  },
  {
   "cell_type": "markdown",
   "id": "2d6003b9",
   "metadata": {},
   "source": [
    "### After Conversion"
   ]
  },
  {
   "cell_type": "code",
   "execution_count": 5,
   "id": "e266412a",
   "metadata": {},
   "outputs": [],
   "source": [
    "df[\"A\"] = df.A.astype(np.int8)"
   ]
  },
  {
   "cell_type": "code",
   "execution_count": 6,
   "id": "e42b43a5",
   "metadata": {},
   "outputs": [
    {
     "name": "stdout",
     "output_type": "stream",
     "text": [
      "<class 'pandas.core.series.Series'>\n",
      "RangeIndex: 10000000 entries, 0 to 9999999\n",
      "Series name: A\n",
      "Non-Null Count     Dtype\n",
      "--------------     -----\n",
      "10000000 non-null  int8 \n",
      "dtypes: int8(1)\n",
      "memory usage: 9.5 MB\n"
     ]
    }
   ],
   "source": [
    "df.A.info()"
   ]
  }
 ],
 "metadata": {
  "kernelspec": {
   "display_name": "Python 3 (ipykernel)",
   "language": "python",
   "name": "python3"
  },
  "language_info": {
   "codemirror_mode": {
    "name": "ipython",
    "version": 3
   },
   "file_extension": ".py",
   "mimetype": "text/x-python",
   "name": "python",
   "nbconvert_exporter": "python",
   "pygments_lexer": "ipython3",
   "version": "3.9.12"
  }
 },
 "nbformat": 4,
 "nbformat_minor": 5
}

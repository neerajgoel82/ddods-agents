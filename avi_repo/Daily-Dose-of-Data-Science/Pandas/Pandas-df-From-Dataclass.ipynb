{
 "cells": [
  {
   "cell_type": "markdown",
   "id": "9da42ada",
   "metadata": {},
   "source": [
    "# Daily-Dose-of-Data-Science\n",
    "\n",
    "[Daily Dose of Data Science](https://avichawla.substack.com) is a publication on Substack that brings together intriguing frameworks, libraries, technologies, and tips that make the life cycle of a Data Science project effortless. \n",
    "\n",
    "Author: Avi Chawla\n",
    "\n",
    "[Medium](https://medium.com/@avi_chawla) | [LinkedIn](https://www.linkedin.com/in/avi-chawla/)\n",
    "\n",
    "# Create Pandas DataFrame from Dataclass\n",
    "\n",
    "Post Link: [Substack](https://avichawla.substack.com/p/pandas-df-from-dataclass)"
   ]
  },
  {
   "cell_type": "code",
   "execution_count": 1,
   "id": "4bf2225f",
   "metadata": {
    "ExecuteTime": {
     "end_time": "2022-12-15T12:13:01.002291Z",
     "start_time": "2022-12-15T12:13:00.987038Z"
    }
   },
   "outputs": [],
   "source": [
    "from dataclasses import dataclass"
   ]
  },
  {
   "cell_type": "code",
   "execution_count": 2,
   "id": "25df986b",
   "metadata": {
    "ExecuteTime": {
     "end_time": "2022-12-15T12:13:01.009873Z",
     "start_time": "2022-12-15T12:13:01.004810Z"
    }
   },
   "outputs": [],
   "source": [
    "@dataclass\n",
    "class Point:\n",
    "    x_loc:int\n",
    "    y_loc:int"
   ]
  },
  {
   "cell_type": "code",
   "execution_count": 3,
   "id": "66fc5322",
   "metadata": {
    "ExecuteTime": {
     "end_time": "2022-12-15T12:13:02.192589Z",
     "start_time": "2022-12-15T12:13:01.011908Z"
    }
   },
   "outputs": [
    {
     "data": {
      "application/javascript": [
       "\n",
       "        if (window._pyforest_update_imports_cell) { window._pyforest_update_imports_cell('import pandas as pd'); }\n",
       "    "
      ],
      "text/plain": [
       "<IPython.core.display.Javascript object>"
      ]
     },
     "metadata": {},
     "output_type": "display_data"
    },
    {
     "data": {
      "text/html": [
       "<div>\n",
       "<style scoped>\n",
       "    .dataframe tbody tr th:only-of-type {\n",
       "        vertical-align: middle;\n",
       "    }\n",
       "\n",
       "    .dataframe tbody tr th {\n",
       "        vertical-align: top;\n",
       "    }\n",
       "\n",
       "    .dataframe thead th {\n",
       "        text-align: right;\n",
       "    }\n",
       "</style>\n",
       "<table border=\"1\" class=\"dataframe\">\n",
       "  <thead>\n",
       "    <tr style=\"text-align: right;\">\n",
       "      <th></th>\n",
       "      <th>x_loc</th>\n",
       "      <th>y_loc</th>\n",
       "    </tr>\n",
       "  </thead>\n",
       "  <tbody>\n",
       "    <tr>\n",
       "      <th>0</th>\n",
       "      <td>0</td>\n",
       "      <td>0</td>\n",
       "    </tr>\n",
       "    <tr>\n",
       "      <th>1</th>\n",
       "      <td>0</td>\n",
       "      <td>3</td>\n",
       "    </tr>\n",
       "    <tr>\n",
       "      <th>2</th>\n",
       "      <td>2</td>\n",
       "      <td>3</td>\n",
       "    </tr>\n",
       "  </tbody>\n",
       "</table>\n",
       "</div>"
      ],
      "text/plain": [
       "   x_loc  y_loc\n",
       "0      0      0\n",
       "1      0      3\n",
       "2      2      3"
      ]
     },
     "execution_count": 3,
     "metadata": {},
     "output_type": "execute_result"
    }
   ],
   "source": [
    "points = [Point(0, 0), Point(0, 3), Point(2, 3)]\n",
    "\n",
    "pd.DataFrame(points)"
   ]
  }
 ],
 "metadata": {
  "kernelspec": {
   "display_name": "Python 3 (ipykernel)",
   "language": "python",
   "name": "python3"
  },
  "language_info": {
   "codemirror_mode": {
    "name": "ipython",
    "version": 3
   },
   "file_extension": ".py",
   "mimetype": "text/x-python",
   "name": "python",
   "nbconvert_exporter": "python",
   "pygments_lexer": "ipython3",
   "version": "3.9.12"
  }
 },
 "nbformat": 4,
 "nbformat_minor": 5
}

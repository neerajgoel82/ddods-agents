{
 "cells": [
  {
   "cell_type": "markdown",
   "id": "ba22ecaa",
   "metadata": {},
   "source": [
    "# Daily-Dose-of-Data-Science\n",
    "\n",
    "[Daily Dose of Data Science](https://avichawla.substack.com) is a publication on Substack that brings together intriguing frameworks, libraries, technologies, and tips that make the life cycle of a Data Science project effortless. \n",
    "\n",
    "Author: Avi Chawla\n",
    "\n",
    "[Medium](https://medium.com/@avi_chawla) | [LinkedIn](https://www.linkedin.com/in/avi-chawla/)"
   ]
  },
  {
   "cell_type": "markdown",
   "id": "295d94aa",
   "metadata": {},
   "source": [
    "# Datatype For Handling Missing Valued Columns in Pandas\n",
    "\n",
    "Post Link: [Substack](https://avichawla.substack.com/p/datatype-for-handling-missing-valued)\n",
    "\n",
    "LinkedIn Post: [LinkedIn](https://www.linkedin.com/posts/avi-chawla_datascience-python-pandas-activity-6986238705598361601-Z5MJ?utm_source=share&utm_medium=member_desktop)"
   ]
  },
  {
   "cell_type": "code",
   "execution_count": 1,
   "id": "c2d92216",
   "metadata": {
    "ExecuteTime": {
     "end_time": "2022-12-01T19:31:33.475267Z",
     "start_time": "2022-12-01T19:31:32.224821Z"
    }
   },
   "outputs": [],
   "source": [
    "import pandas as pd\n",
    "import numpy as np"
   ]
  },
  {
   "cell_type": "code",
   "execution_count": 2,
   "id": "073233da",
   "metadata": {
    "ExecuteTime": {
     "end_time": "2022-12-01T19:31:40.722762Z",
     "start_time": "2022-12-01T19:31:40.645652Z"
    }
   },
   "outputs": [],
   "source": [
    "df = pd.DataFrame(np.random.randint(1, 1000000, size = (10**6, 3)), \n",
    "                  columns = [\"col1\", \"col2\", \"col3\"])\n",
    "\n",
    "df[\"col1\"] = df.col1.astype(np.float64)"
   ]
  },
  {
   "cell_type": "code",
   "execution_count": 3,
   "id": "c012799a",
   "metadata": {
    "ExecuteTime": {
     "end_time": "2022-12-01T19:31:43.857890Z",
     "start_time": "2022-12-01T19:31:43.846793Z"
    }
   },
   "outputs": [],
   "source": [
    "df.loc[::2, \"col1\"] = np.nan\n",
    "df.loc[::3, \"col1\"] = np.nan\n",
    "df.loc[::5, \"col1\"] = np.nan"
   ]
  },
  {
   "cell_type": "code",
   "execution_count": 4,
   "id": "fb4229bb",
   "metadata": {
    "ExecuteTime": {
     "end_time": "2022-12-01T19:31:47.197852Z",
     "start_time": "2022-12-01T19:31:47.154852Z"
    }
   },
   "outputs": [
    {
     "data": {
      "text/plain": [
       "(733334, 3)"
      ]
     },
     "execution_count": 4,
     "metadata": {},
     "output_type": "execute_result"
    }
   ],
   "source": [
    "df[df.col1.isna()].shape"
   ]
  },
  {
   "cell_type": "code",
   "execution_count": 5,
   "id": "cc6d69ff",
   "metadata": {
    "ExecuteTime": {
     "end_time": "2022-12-01T19:31:53.526737Z",
     "start_time": "2022-12-01T19:31:53.495713Z"
    }
   },
   "outputs": [
    {
     "name": "stdout",
     "output_type": "stream",
     "text": [
      "<class 'pandas.core.series.Series'>\n",
      "RangeIndex: 1000000 entries, 0 to 999999\n",
      "Series name: col1\n",
      "Non-Null Count   Dtype  \n",
      "--------------   -----  \n",
      "266666 non-null  float64\n",
      "dtypes: float64(1)\n",
      "memory usage: 7.6 MB\n"
     ]
    }
   ],
   "source": [
    "df.col1.info()"
   ]
  },
  {
   "cell_type": "code",
   "execution_count": 6,
   "id": "64a3ee43",
   "metadata": {
    "ExecuteTime": {
     "end_time": "2022-12-01T19:31:57.770136Z",
     "start_time": "2022-12-01T19:31:57.746186Z"
    }
   },
   "outputs": [],
   "source": [
    "df[\"col1\"] = df.col1.astype(\"Sparse[float32]\")"
   ]
  },
  {
   "cell_type": "code",
   "execution_count": 7,
   "id": "007a2e3a",
   "metadata": {
    "ExecuteTime": {
     "end_time": "2022-12-01T19:32:00.336315Z",
     "start_time": "2022-12-01T19:32:00.310390Z"
    }
   },
   "outputs": [
    {
     "name": "stdout",
     "output_type": "stream",
     "text": [
      "<class 'pandas.core.series.Series'>\n",
      "RangeIndex: 1000000 entries, 0 to 999999\n",
      "Series name: col1\n",
      "Non-Null Count   Dtype               \n",
      "--------------   -----               \n",
      "266666 non-null  Sparse[float32, nan]\n",
      "dtypes: Sparse[float32, nan](1)\n",
      "memory usage: 2.0 MB\n"
     ]
    }
   ],
   "source": [
    "df.col1.info()"
   ]
  },
  {
   "cell_type": "markdown",
   "id": "2dce92db",
   "metadata": {},
   "source": [
    "### Further Reading: [Seven Killer Memory Optimization Techniques Every Pandas User Should Know](https://towardsdatascience.com/seven-killer-memory-optimization-techniques-every-pandas-user-should-know-64707348ab20)"
   ]
  },
  {
   "cell_type": "code",
   "execution_count": null,
   "id": "66bcbb6e",
   "metadata": {},
   "outputs": [],
   "source": []
  }
 ],
 "metadata": {
  "kernelspec": {
   "display_name": "Python 3 (ipykernel)",
   "language": "python",
   "name": "python3"
  },
  "language_info": {
   "codemirror_mode": {
    "name": "ipython",
    "version": 3
   },
   "file_extension": ".py",
   "mimetype": "text/x-python",
   "name": "python",
   "nbconvert_exporter": "python",
   "pygments_lexer": "ipython3",
   "version": "3.9.12"
  }
 },
 "nbformat": 4,
 "nbformat_minor": 5
}

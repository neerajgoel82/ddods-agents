{
 "cells": [
  {
   "cell_type": "markdown",
   "id": "12c4051a",
   "metadata": {},
   "source": [
    "# Daily-Dose-of-Data-Science\n",
    "\n",
    "[Daily Dose of Data Science](https://avichawla.substack.com) is a publication on Substack that brings together intriguing frameworks, libraries, technologies, and tips that make the life cycle of a Data Science project effortless. \n",
    "\n",
    "Author: Avi Chawla\n",
    "\n",
    "[Medium](https://medium.com/@avi_chawla) | [LinkedIn](https://www.linkedin.com/in/avi-chawla/)\n",
    "\n",
    "# Stop Using The Describe Method in Pandas. Instead, use Summarytools.\n",
    "\n",
    "Post Link: [Substack](https://avichawla.substack.com/p/stop-using-the-describe-method-in)\n",
    "\n",
    "LinkedIn Post: [LinkedIn](https://www.linkedin.com/feed/update/urn:li:activity:7029041953568636928/)"
   ]
  },
  {
   "cell_type": "code",
   "execution_count": 1,
   "id": "fcfc64ed",
   "metadata": {
    "collapsed": true
   },
   "outputs": [
    {
     "name": "stdout",
     "output_type": "stream",
     "text": [
      "Requirement already satisfied: jupyter-summarytools in /Users/avi/anaconda3/lib/python3.9/site-packages (0.2.1)\n",
      "Requirement already satisfied: numpy>=1.18.5 in /Users/avi/anaconda3/lib/python3.9/site-packages (from jupyter-summarytools) (1.21.6)\n",
      "Requirement already satisfied: matplotlib>=3.3.0 in /Users/avi/anaconda3/lib/python3.9/site-packages (from jupyter-summarytools) (3.5.3)\n",
      "Requirement already satisfied: pandas>=1.4.0 in /Users/avi/anaconda3/lib/python3.9/site-packages (from jupyter-summarytools) (1.5.0)\n",
      "Requirement already satisfied: ipython>=7.20.0 in /Users/avi/anaconda3/lib/python3.9/site-packages (from jupyter-summarytools) (8.2.0)\n",
      "Requirement already satisfied: matplotlib-inline in /Users/avi/anaconda3/lib/python3.9/site-packages (from ipython>=7.20.0->jupyter-summarytools) (0.1.2)\n",
      "Requirement already satisfied: pygments>=2.4.0 in /Users/avi/anaconda3/lib/python3.9/site-packages (from ipython>=7.20.0->jupyter-summarytools) (2.11.2)\n",
      "Requirement already satisfied: pickleshare in /Users/avi/anaconda3/lib/python3.9/site-packages (from ipython>=7.20.0->jupyter-summarytools) (0.7.5)\n",
      "Requirement already satisfied: traitlets>=5 in /Users/avi/anaconda3/lib/python3.9/site-packages (from ipython>=7.20.0->jupyter-summarytools) (5.1.1)\n",
      "Requirement already satisfied: setuptools>=18.5 in /Users/avi/anaconda3/lib/python3.9/site-packages (from ipython>=7.20.0->jupyter-summarytools) (61.2.0)\n",
      "Requirement already satisfied: stack-data in /Users/avi/anaconda3/lib/python3.9/site-packages (from ipython>=7.20.0->jupyter-summarytools) (0.2.0)\n",
      "Requirement already satisfied: prompt-toolkit!=3.0.0,!=3.0.1,<3.1.0,>=2.0.0 in /Users/avi/anaconda3/lib/python3.9/site-packages (from ipython>=7.20.0->jupyter-summarytools) (3.0.20)\n",
      "Requirement already satisfied: backcall in /Users/avi/anaconda3/lib/python3.9/site-packages (from ipython>=7.20.0->jupyter-summarytools) (0.2.0)\n",
      "Requirement already satisfied: appnope in /Users/avi/anaconda3/lib/python3.9/site-packages (from ipython>=7.20.0->jupyter-summarytools) (0.1.2)\n",
      "Requirement already satisfied: decorator in /Users/avi/anaconda3/lib/python3.9/site-packages (from ipython>=7.20.0->jupyter-summarytools) (5.1.1)\n",
      "Requirement already satisfied: jedi>=0.16 in /Users/avi/anaconda3/lib/python3.9/site-packages (from ipython>=7.20.0->jupyter-summarytools) (0.18.1)\n",
      "Requirement already satisfied: pexpect>4.3 in /Users/avi/anaconda3/lib/python3.9/site-packages (from ipython>=7.20.0->jupyter-summarytools) (4.8.0)\n",
      "Requirement already satisfied: parso<0.9.0,>=0.8.0 in /Users/avi/anaconda3/lib/python3.9/site-packages (from jedi>=0.16->ipython>=7.20.0->jupyter-summarytools) (0.8.3)\n",
      "Requirement already satisfied: pillow>=6.2.0 in /Users/avi/anaconda3/lib/python3.9/site-packages (from matplotlib>=3.3.0->jupyter-summarytools) (9.4.0)\n",
      "Requirement already satisfied: cycler>=0.10 in /Users/avi/anaconda3/lib/python3.9/site-packages (from matplotlib>=3.3.0->jupyter-summarytools) (0.11.0)\n",
      "Requirement already satisfied: fonttools>=4.22.0 in /Users/avi/anaconda3/lib/python3.9/site-packages (from matplotlib>=3.3.0->jupyter-summarytools) (4.25.0)\n",
      "Requirement already satisfied: python-dateutil>=2.7 in /Users/avi/anaconda3/lib/python3.9/site-packages (from matplotlib>=3.3.0->jupyter-summarytools) (2.8.2)\n",
      "Requirement already satisfied: pyparsing>=2.2.1 in /Users/avi/anaconda3/lib/python3.9/site-packages (from matplotlib>=3.3.0->jupyter-summarytools) (3.0.4)\n",
      "Requirement already satisfied: packaging>=20.0 in /Users/avi/anaconda3/lib/python3.9/site-packages (from matplotlib>=3.3.0->jupyter-summarytools) (21.3)\n",
      "Requirement already satisfied: kiwisolver>=1.0.1 in /Users/avi/anaconda3/lib/python3.9/site-packages (from matplotlib>=3.3.0->jupyter-summarytools) (1.3.2)\n",
      "Requirement already satisfied: pytz>=2020.1 in /Users/avi/anaconda3/lib/python3.9/site-packages (from pandas>=1.4.0->jupyter-summarytools) (2021.3)\n",
      "Requirement already satisfied: ptyprocess>=0.5 in /Users/avi/anaconda3/lib/python3.9/site-packages (from pexpect>4.3->ipython>=7.20.0->jupyter-summarytools) (0.7.0)\n",
      "Requirement already satisfied: wcwidth in /Users/avi/anaconda3/lib/python3.9/site-packages (from prompt-toolkit!=3.0.0,!=3.0.1,<3.1.0,>=2.0.0->ipython>=7.20.0->jupyter-summarytools) (0.2.5)\n",
      "Requirement already satisfied: six>=1.5 in /Users/avi/anaconda3/lib/python3.9/site-packages (from python-dateutil>=2.7->matplotlib>=3.3.0->jupyter-summarytools) (1.16.0)\n",
      "Requirement already satisfied: pure-eval in /Users/avi/anaconda3/lib/python3.9/site-packages (from stack-data->ipython>=7.20.0->jupyter-summarytools) (0.2.2)\n",
      "Requirement already satisfied: asttokens in /Users/avi/anaconda3/lib/python3.9/site-packages (from stack-data->ipython>=7.20.0->jupyter-summarytools) (2.0.5)\n",
      "Requirement already satisfied: executing in /Users/avi/anaconda3/lib/python3.9/site-packages (from stack-data->ipython>=7.20.0->jupyter-summarytools) (0.8.3)\n"
     ]
    }
   ],
   "source": [
    "!pip install jupyter-summarytools"
   ]
  },
  {
   "cell_type": "code",
   "execution_count": 2,
   "id": "c4e95805",
   "metadata": {},
   "outputs": [],
   "source": [
    "import seaborn as sns\n",
    "iris = sns.load_dataset('iris')"
   ]
  },
  {
   "cell_type": "code",
   "execution_count": 3,
   "id": "59ec85a2",
   "metadata": {},
   "outputs": [
    {
     "data": {
      "text/html": [
       "<style type=\"text/css\">\n",
       "#T_11f01 thead>tr>th {\n",
       "  text-align: left;\n",
       "}\n",
       "#T_11f01_row0_col0, #T_11f01_row1_col0, #T_11f01_row2_col0, #T_11f01_row3_col0, #T_11f01_row4_col0 {\n",
       "  text-align: left;\n",
       "  font-size: 12px;\n",
       "  vertical-align: middle;\n",
       "  width: 5%;\n",
       "  max-width: 50px;\n",
       "  min-width: 20px;\n",
       "}\n",
       "#T_11f01_row0_col1, #T_11f01_row1_col1, #T_11f01_row2_col1, #T_11f01_row3_col1, #T_11f01_row4_col1 {\n",
       "  text-align: left;\n",
       "  font-size: 12px;\n",
       "  vertical-align: middle;\n",
       "  width: 15%;\n",
       "  max-width: 200px;\n",
       "  min-width: 100px;\n",
       "  word-break: break-word;\n",
       "}\n",
       "#T_11f01_row0_col2, #T_11f01_row1_col2, #T_11f01_row2_col2, #T_11f01_row3_col2, #T_11f01_row4_col2 {\n",
       "  text-align: left;\n",
       "  font-size: 12px;\n",
       "  vertical-align: middle;\n",
       "  width: 30%;\n",
       "  min-width: 100px;\n",
       "}\n",
       "#T_11f01_row0_col3, #T_11f01_row1_col3, #T_11f01_row2_col3, #T_11f01_row3_col3, #T_11f01_row4_col3 {\n",
       "  text-align: left;\n",
       "  font-size: 12px;\n",
       "  vertical-align: middle;\n",
       "  width: 25%;\n",
       "  min-width: 100px;\n",
       "}\n",
       "#T_11f01_row0_col4, #T_11f01_row1_col4, #T_11f01_row2_col4, #T_11f01_row3_col4, #T_11f01_row4_col4 {\n",
       "  text-align: left;\n",
       "  font-size: 12px;\n",
       "  vertical-align: middle;\n",
       "  width: 20%;\n",
       "  min-width: 150px;\n",
       "}\n",
       "#T_11f01_row0_col5, #T_11f01_row1_col5, #T_11f01_row2_col5, #T_11f01_row3_col5, #T_11f01_row4_col5 {\n",
       "  text-align: left;\n",
       "  font-size: 12px;\n",
       "  vertical-align: middle;\n",
       "  width: 10%;\n",
       "}\n",
       "</style>\n",
       "<table id=\"T_11f01\">\n",
       "  <caption><strong>Data Frame Summary</strong><br>iris<br>Dimensions: 150 x 5<br>Duplicates: 1</caption>\n",
       "  <thead>\n",
       "    <tr>\n",
       "      <th id=\"T_11f01_level0_col0\" class=\"col_heading level0 col0\" >No</th>\n",
       "      <th id=\"T_11f01_level0_col1\" class=\"col_heading level0 col1\" >Variable</th>\n",
       "      <th id=\"T_11f01_level0_col2\" class=\"col_heading level0 col2\" >Stats / Values</th>\n",
       "      <th id=\"T_11f01_level0_col3\" class=\"col_heading level0 col3\" >Freqs / (% of Valid)</th>\n",
       "      <th id=\"T_11f01_level0_col4\" class=\"col_heading level0 col4\" >Graph</th>\n",
       "      <th id=\"T_11f01_level0_col5\" class=\"col_heading level0 col5\" >Missing</th>\n",
       "    </tr>\n",
       "  </thead>\n",
       "  <tbody>\n",
       "    <tr>\n",
       "      <td id=\"T_11f01_row0_col0\" class=\"data row0 col0\" >1</td>\n",
       "      <td id=\"T_11f01_row0_col1\" class=\"data row0 col1\" ><strong>sepal_length</strong><br>[float64]</td>\n",
       "      <td id=\"T_11f01_row0_col2\" class=\"data row0 col2\" >Mean (sd) : 5.8 (0.8)<br>min < med < max:<br>4.3 < 5.8 < 7.9<br>IQR (CV) : 1.3 (7.1)</td>\n",
       "      <td id=\"T_11f01_row0_col3\" class=\"data row0 col3\" >35 distinct values</td>\n",
       "      <td id=\"T_11f01_row0_col4\" class=\"data row0 col4\" ><img src = \"tmp/iris_000.png\"></img></td>\n",
       "      <td id=\"T_11f01_row0_col5\" class=\"data row0 col5\" >0<br>(0.0%)</td>\n",
       "    </tr>\n",
       "    <tr>\n",
       "      <td id=\"T_11f01_row1_col0\" class=\"data row1 col0\" >2</td>\n",
       "      <td id=\"T_11f01_row1_col1\" class=\"data row1 col1\" ><strong>sepal_width</strong><br>[float64]</td>\n",
       "      <td id=\"T_11f01_row1_col2\" class=\"data row1 col2\" >Mean (sd) : 3.1 (0.4)<br>min < med < max:<br>2.0 < 3.0 < 4.4<br>IQR (CV) : 0.5 (7.0)</td>\n",
       "      <td id=\"T_11f01_row1_col3\" class=\"data row1 col3\" >23 distinct values</td>\n",
       "      <td id=\"T_11f01_row1_col4\" class=\"data row1 col4\" ><img src = \"tmp/iris_001.png\"></img></td>\n",
       "      <td id=\"T_11f01_row1_col5\" class=\"data row1 col5\" >0<br>(0.0%)</td>\n",
       "    </tr>\n",
       "    <tr>\n",
       "      <td id=\"T_11f01_row2_col0\" class=\"data row2 col0\" >3</td>\n",
       "      <td id=\"T_11f01_row2_col1\" class=\"data row2 col1\" ><strong>petal_length</strong><br>[float64]</td>\n",
       "      <td id=\"T_11f01_row2_col2\" class=\"data row2 col2\" >Mean (sd) : 3.8 (1.8)<br>min < med < max:<br>1.0 < 4.3 < 6.9<br>IQR (CV) : 3.5 (2.1)</td>\n",
       "      <td id=\"T_11f01_row2_col3\" class=\"data row2 col3\" >43 distinct values</td>\n",
       "      <td id=\"T_11f01_row2_col4\" class=\"data row2 col4\" ><img src = \"tmp/iris_002.png\"></img></td>\n",
       "      <td id=\"T_11f01_row2_col5\" class=\"data row2 col5\" >0<br>(0.0%)</td>\n",
       "    </tr>\n",
       "    <tr>\n",
       "      <td id=\"T_11f01_row3_col0\" class=\"data row3 col0\" >4</td>\n",
       "      <td id=\"T_11f01_row3_col1\" class=\"data row3 col1\" ><strong>petal_width</strong><br>[float64]</td>\n",
       "      <td id=\"T_11f01_row3_col2\" class=\"data row3 col2\" >Mean (sd) : 1.2 (0.8)<br>min < med < max:<br>0.1 < 1.3 < 2.5<br>IQR (CV) : 1.5 (1.6)</td>\n",
       "      <td id=\"T_11f01_row3_col3\" class=\"data row3 col3\" >22 distinct values</td>\n",
       "      <td id=\"T_11f01_row3_col4\" class=\"data row3 col4\" ><img src = \"tmp/iris_003.png\"></img></td>\n",
       "      <td id=\"T_11f01_row3_col5\" class=\"data row3 col5\" >0<br>(0.0%)</td>\n",
       "    </tr>\n",
       "    <tr>\n",
       "      <td id=\"T_11f01_row4_col0\" class=\"data row4 col0\" >5</td>\n",
       "      <td id=\"T_11f01_row4_col1\" class=\"data row4 col1\" ><strong>species</strong><br>[object]</td>\n",
       "      <td id=\"T_11f01_row4_col2\" class=\"data row4 col2\" >1. setosa<br>2. versicolor<br>3. virginica</td>\n",
       "      <td id=\"T_11f01_row4_col3\" class=\"data row4 col3\" >50 (33.3%)<br>50 (33.3%)<br>50 (33.3%)</td>\n",
       "      <td id=\"T_11f01_row4_col4\" class=\"data row4 col4\" ><img src = \"tmp/iris_004.png\"></img></td>\n",
       "      <td id=\"T_11f01_row4_col5\" class=\"data row4 col5\" >0<br>(0.0%)</td>\n",
       "    </tr>\n",
       "  </tbody>\n",
       "</table>\n"
      ],
      "text/plain": [
       "<pandas.io.formats.style.Styler at 0x7fe5a120afa0>"
      ]
     },
     "execution_count": 3,
     "metadata": {},
     "output_type": "execute_result"
    }
   ],
   "source": [
    "from summarytools import dfSummary\n",
    "dfSummary(iris)"
   ]
  },
  {
   "cell_type": "code",
   "execution_count": null,
   "id": "fcc12818",
   "metadata": {},
   "outputs": [],
   "source": []
  }
 ],
 "metadata": {
  "kernelspec": {
   "display_name": "Python 3 (ipykernel)",
   "language": "python",
   "name": "python3"
  },
  "language_info": {
   "codemirror_mode": {
    "name": "ipython",
    "version": 3
   },
   "file_extension": ".py",
   "mimetype": "text/x-python",
   "name": "python",
   "nbconvert_exporter": "python",
   "pygments_lexer": "ipython3",
   "version": "3.9.12"
  }
 },
 "nbformat": 4,
 "nbformat_minor": 5
}

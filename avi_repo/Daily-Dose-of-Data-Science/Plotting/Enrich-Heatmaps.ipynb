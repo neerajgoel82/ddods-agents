{
 "cells": [
  {
   "cell_type": "markdown",
   "id": "e786df67",
   "metadata": {},
   "source": [
    "# Daily-Dose-of-Data-Science\n",
    "\n",
    "[Daily Dose of Data Science](https://avichawla.substack.com) is a publication on Substack that brings together intriguing frameworks, libraries, technologies, and tips that make the life cycle of a Data Science project effortless. \n",
    "\n",
    "Author: Avi Chawla\n",
    "\n",
    "[Medium](https://medium.com/@avi_chawla) | [LinkedIn](https://www.linkedin.com/in/avi-chawla/)\n",
    "\n",
    "# The Limitations Of Heatmap That Are Slowing Down Your Data Analysis\n",
    "\n",
    "Post Link: [Substack](https://avichawla.substack.com/p/the-limitations-of-heatmap-that-are)\n",
    "\n",
    "LinkedIn Post: [LinkedIn](https://www.linkedin.com/feed/update/urn:li:activity:7042457706888110080/)"
   ]
  },
  {
   "cell_type": "code",
   "execution_count": 1,
   "id": "3155b2a8",
   "metadata": {},
   "outputs": [],
   "source": [
    "import numpy as np\n",
    "import pandas as pd\n",
    "import seaborn as sns\n",
    "import matplotlib.pyplot as plt"
   ]
  },
  {
   "cell_type": "markdown",
   "id": "59a78adb",
   "metadata": {},
   "source": [
    "# Create Data"
   ]
  },
  {
   "cell_type": "code",
   "execution_count": 2,
   "id": "6d275df8",
   "metadata": {},
   "outputs": [
    {
     "data": {
      "text/html": [
       "<div>\n",
       "<style scoped>\n",
       "    .dataframe tbody tr th:only-of-type {\n",
       "        vertical-align: middle;\n",
       "    }\n",
       "\n",
       "    .dataframe tbody tr th {\n",
       "        vertical-align: top;\n",
       "    }\n",
       "\n",
       "    .dataframe thead th {\n",
       "        text-align: right;\n",
       "    }\n",
       "</style>\n",
       "<table border=\"1\" class=\"dataframe\">\n",
       "  <thead>\n",
       "    <tr style=\"text-align: right;\">\n",
       "      <th></th>\n",
       "      <th>Col 1</th>\n",
       "      <th>Col 2</th>\n",
       "      <th>Col 3</th>\n",
       "      <th>Col 4</th>\n",
       "      <th>Col 5</th>\n",
       "      <th>Col 6</th>\n",
       "      <th>Col 7</th>\n",
       "      <th>Col 8</th>\n",
       "      <th>Col 9</th>\n",
       "      <th>Col 10</th>\n",
       "      <th>Col 11</th>\n",
       "      <th>Col 12</th>\n",
       "      <th>Col 13</th>\n",
       "      <th>Col 14</th>\n",
       "      <th>Col 15</th>\n",
       "    </tr>\n",
       "  </thead>\n",
       "  <tbody>\n",
       "    <tr>\n",
       "      <th>Patient 1</th>\n",
       "      <td>10.969090</td>\n",
       "      <td>0.702345</td>\n",
       "      <td>5.335869</td>\n",
       "      <td>8.133315</td>\n",
       "      <td>4.751225</td>\n",
       "      <td>-0.128807</td>\n",
       "      <td>11.421258</td>\n",
       "      <td>10.258673</td>\n",
       "      <td>10.181510</td>\n",
       "      <td>5.178506</td>\n",
       "      <td>5.443582</td>\n",
       "      <td>0.380478</td>\n",
       "      <td>1.211046</td>\n",
       "      <td>3.775331</td>\n",
       "      <td>0.072161</td>\n",
       "    </tr>\n",
       "    <tr>\n",
       "      <th>Patient 2</th>\n",
       "      <td>9.124425</td>\n",
       "      <td>-0.249191</td>\n",
       "      <td>5.432677</td>\n",
       "      <td>9.784797</td>\n",
       "      <td>5.194788</td>\n",
       "      <td>-0.411354</td>\n",
       "      <td>9.394980</td>\n",
       "      <td>12.290113</td>\n",
       "      <td>9.647470</td>\n",
       "      <td>4.724793</td>\n",
       "      <td>2.054918</td>\n",
       "      <td>1.158010</td>\n",
       "      <td>-1.103817</td>\n",
       "      <td>4.215125</td>\n",
       "      <td>-2.504444</td>\n",
       "    </tr>\n",
       "    <tr>\n",
       "      <th>Patient 3</th>\n",
       "      <td>11.213651</td>\n",
       "      <td>-0.221332</td>\n",
       "      <td>4.742276</td>\n",
       "      <td>10.679715</td>\n",
       "      <td>5.849497</td>\n",
       "      <td>-2.217635</td>\n",
       "      <td>8.839740</td>\n",
       "      <td>10.484220</td>\n",
       "      <td>10.671289</td>\n",
       "      <td>4.580808</td>\n",
       "      <td>3.886020</td>\n",
       "      <td>-1.568262</td>\n",
       "      <td>-0.328141</td>\n",
       "      <td>4.991398</td>\n",
       "      <td>-2.213498</td>\n",
       "    </tr>\n",
       "    <tr>\n",
       "      <th>Patient 4</th>\n",
       "      <td>9.454178</td>\n",
       "      <td>0.750268</td>\n",
       "      <td>4.667083</td>\n",
       "      <td>9.519580</td>\n",
       "      <td>5.126879</td>\n",
       "      <td>-0.657581</td>\n",
       "      <td>9.231974</td>\n",
       "      <td>9.422712</td>\n",
       "      <td>9.935839</td>\n",
       "      <td>5.288947</td>\n",
       "      <td>5.331669</td>\n",
       "      <td>-1.418156</td>\n",
       "      <td>1.039319</td>\n",
       "      <td>5.797981</td>\n",
       "      <td>-0.509775</td>\n",
       "    </tr>\n",
       "    <tr>\n",
       "      <th>Patient 5</th>\n",
       "      <td>8.873846</td>\n",
       "      <td>0.141752</td>\n",
       "      <td>5.098761</td>\n",
       "      <td>9.098045</td>\n",
       "      <td>4.976685</td>\n",
       "      <td>-1.435542</td>\n",
       "      <td>9.215705</td>\n",
       "      <td>11.318960</td>\n",
       "      <td>9.567642</td>\n",
       "      <td>3.493854</td>\n",
       "      <td>3.878350</td>\n",
       "      <td>0.926199</td>\n",
       "      <td>0.360714</td>\n",
       "      <td>7.854432</td>\n",
       "      <td>-0.169085</td>\n",
       "    </tr>\n",
       "  </tbody>\n",
       "</table>\n",
       "</div>"
      ],
      "text/plain": [
       "               Col 1     Col 2     Col 3      Col 4     Col 5     Col 6  \\\n",
       "Patient 1  10.969090  0.702345  5.335869   8.133315  4.751225 -0.128807   \n",
       "Patient 2   9.124425 -0.249191  5.432677   9.784797  5.194788 -0.411354   \n",
       "Patient 3  11.213651 -0.221332  4.742276  10.679715  5.849497 -2.217635   \n",
       "Patient 4   9.454178  0.750268  4.667083   9.519580  5.126879 -0.657581   \n",
       "Patient 5   8.873846  0.141752  5.098761   9.098045  4.976685 -1.435542   \n",
       "\n",
       "               Col 7      Col 8      Col 9    Col 10    Col 11    Col 12  \\\n",
       "Patient 1  11.421258  10.258673  10.181510  5.178506  5.443582  0.380478   \n",
       "Patient 2   9.394980  12.290113   9.647470  4.724793  2.054918  1.158010   \n",
       "Patient 3   8.839740  10.484220  10.671289  4.580808  3.886020 -1.568262   \n",
       "Patient 4   9.231974   9.422712   9.935839  5.288947  5.331669 -1.418156   \n",
       "Patient 5   9.215705  11.318960   9.567642  3.493854  3.878350  0.926199   \n",
       "\n",
       "             Col 13    Col 14    Col 15  \n",
       "Patient 1  1.211046  3.775331  0.072161  \n",
       "Patient 2 -1.103817  4.215125 -2.504444  \n",
       "Patient 3 -0.328141  4.991398 -2.213498  \n",
       "Patient 4  1.039319  5.797981 -0.509775  \n",
       "Patient 5  0.360714  7.854432 -0.169085  "
      ]
     },
     "execution_count": 2,
     "metadata": {},
     "output_type": "execute_result"
    }
   ],
   "source": [
    "rows = 6\n",
    "cols = 5\n",
    "# Create a sample dataset with three clusters of variables\n",
    "cluster_1 = np.random.normal(loc=0, scale=1, size=(rows, cols))\n",
    "cluster_2 = np.random.normal(loc=5, scale=1, size=(rows, cols))\n",
    "cluster_3 = np.random.normal(loc=10, scale=1, size=(rows, cols))\n",
    "\n",
    "data = np.concatenate([cluster_1, cluster_2, cluster_3], axis=1)\n",
    "columns = ['var_{}'.format(i) for i in range(3*cols)]\n",
    "\n",
    "df = pd.DataFrame(data, columns=columns)\n",
    "df = df.sample(df.shape[0])\n",
    "df = df.sample(df.shape[1], axis = 1)\n",
    "df.columns = [f\"Col {i}\" for i in range(1, df.shape[1]+1)]\n",
    "df.index = [f\"Patient {i}\" for i in range(1, df.shape[0]+1)]\n",
    "df.head()"
   ]
  },
  {
   "cell_type": "code",
   "execution_count": 3,
   "id": "9ff82b13",
   "metadata": {},
   "outputs": [
    {
     "data": {
      "text/plain": [
       "<AxesSubplot:>"
      ]
     },
     "execution_count": 3,
     "metadata": {},
     "output_type": "execute_result"
    },
    {
     "data": {
      "image/png": "[encoded data removed]",
      "text/plain": [
       "<Figure size 720x288 with 2 Axes>"
      ]
     },
     "metadata": {
      "needs_background": "light"
     },
     "output_type": "display_data"
    }
   ],
   "source": [
    "# Create a traditional heatmap\n",
    "plt.figure(figsize=(10, 4))\n",
    "sns.heatmap(df, cmap='coolwarm', linewidths=0.5)"
   ]
  },
  {
   "cell_type": "code",
   "execution_count": 4,
   "id": "18548629",
   "metadata": {},
   "outputs": [
    {
     "data": {
      "text/plain": [
       "<seaborn.matrix.ClusterGrid at 0x7fbdd42a3bb0>"
      ]
     },
     "execution_count": 4,
     "metadata": {},
     "output_type": "execute_result"
    },
    {
     "data": {
      "image/png": "[encoded data removed]",
      "text/plain": [
       "<Figure size 720x504 with 4 Axes>"
      ]
     },
     "metadata": {
      "needs_background": "light"
     },
     "output_type": "display_data"
    }
   ],
   "source": [
    "sns.clustermap(df, cmap='coolwarm', figsize = (10, 7))"
   ]
  }
 ],
 "metadata": {
  "kernelspec": {
   "display_name": "Python 3 (ipykernel)",
   "language": "python",
   "name": "python3"
  },
  "language_info": {
   "codemirror_mode": {
    "name": "ipython",
    "version": 3
   },
   "file_extension": ".py",
   "mimetype": "text/x-python",
   "name": "python",
   "nbconvert_exporter": "python",
   "pygments_lexer": "ipython3",
   "version": "3.9.12"
  },
  "toc": {
   "base_numbering": 1,
   "nav_menu": {},
   "number_sections": true,
   "sideBar": true,
   "skip_h1_title": false,
   "title_cell": "Table of Contents",
   "title_sidebar": "Contents",
   "toc_cell": false,
   "toc_position": {},
   "toc_section_display": true,
   "toc_window_display": false
  }
 },
 "nbformat": 4,
 "nbformat_minor": 5
}

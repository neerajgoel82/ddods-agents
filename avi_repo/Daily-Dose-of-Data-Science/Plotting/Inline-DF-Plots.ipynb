{
 "cells": [
  {
   "cell_type": "markdown",
   "id": "01d52b89",
   "metadata": {},
   "source": [
    "# Daily-Dose-of-Data-Science\n",
    "\n",
    "[Daily Dose of Data Science](https://avichawla.substack.com) is a publication on Substack that brings together intriguing frameworks, libraries, technologies, and tips that make the life cycle of a Data Science project effortless. \n",
    "\n",
    "Author: Avi Chawla\n",
    "\n",
    "[Medium](https://medium.com/@avi_chawla) | [LinkedIn](https://www.linkedin.com/in/avi-chawla/)\n",
    "\n",
    "# An Interesting and Lesser-Know Way To Create Plots Using Pandas\n",
    "\n",
    "Post Link: [Substack](https://avichawla.substack.com/p/inline-plots-pandas)\n",
    "\n",
    "LinkedIn Post: [LinkedIn](https://www.linkedin.com/feed/update/urn:li:activity:7034124961921286144/)"
   ]
  },
  {
   "cell_type": "code",
   "execution_count": 1,
   "id": "5d20a803",
   "metadata": {},
   "outputs": [],
   "source": [
    "from base64 import b64encode\n",
    "import numpy as np\n",
    "import pandas as pd\n",
    "from io import BytesIO\n",
    "from IPython.display import HTML\n",
    "\n",
    "%matplotlib inline"
   ]
  },
  {
   "cell_type": "code",
   "execution_count": 2,
   "id": "948491fd",
   "metadata": {},
   "outputs": [
    {
     "name": "stderr",
     "output_type": "stream",
     "text": [
      "2023-02-22 17:02:32,328 [64937] WARNING  py.warnings:109: [JupyterRequire] /var/folders/3w/0h9rv7rx7zq40g17g_bqrxvc0000gn/T/ipykernel_64937/724828993.py:1: FutureWarning: Passing a negative integer is deprecated in version 1.0 and will not be supported in future version. Instead, use None to not limit the column width.\n",
      "  pd.set_option('display.max_colwidth', -1)\n",
      "\n"
     ]
    },
    {
     "data": {
      "application/javascript": [
       "\n",
       "        if (window._pyforest_update_imports_cell) { window._pyforest_update_imports_cell('import matplotlib.pyplot as plt'); }\n",
       "    "
      ],
      "text/plain": [
       "<IPython.core.display.Javascript object>"
      ]
     },
     "metadata": {},
     "output_type": "display_data"
    }
   ],
   "source": [
    "pd.set_option('display.max_colwidth', -1)\n",
    "pd.set_option('display.colheader_justify', 'left')\n",
    "pd.set_option('display.max_seq_items', 1)\n",
    "\n",
    "plt.rcParams['figure.dpi'] = 150\n",
    "# plt.rcParams['savefig.dpi'] = 150"
   ]
  },
  {
   "cell_type": "code",
   "execution_count": 3,
   "id": "bd5c7735",
   "metadata": {},
   "outputs": [],
   "source": [
    "n = 100\n",
    "\n",
    "data = [\n",
    "    ('Bitcoin',   40000*np.random.rand(n).round(2)), \n",
    "    ('Ethereum',   2000*np.random.rand(n).round(2)), \n",
    "    ('BNB',     500*np.random.rand(n).round(2)),\n",
    "    ('Litecoin',   150*np.random.rand(n).round(2)),\n",
    "    \n",
    "]\n",
    "df = pd.DataFrame(data, columns=['Name', 'Price History'])"
   ]
  },
  {
   "cell_type": "code",
   "execution_count": 4,
   "id": "3a1cee20",
   "metadata": {},
   "outputs": [],
   "source": [
    "def create_line(data, figsize=(3, 0.25), **kwags):\n",
    "    \n",
    "    data = list(data)\n",
    "    \n",
    "    fig, ax = plt.subplots(1, 1, figsize=figsize, **kwags)\n",
    "    ax.plot(data)\n",
    "    for k,v in ax.spines.items():\n",
    "        v.set_visible(False)\n",
    "    ax.set_xticks([])\n",
    "    ax.set_yticks([])    \n",
    "\n",
    "    plt.plot(len(data) - 1, data[len(data) - 1], 'r.')\n",
    "\n",
    "    ax.fill_between(range(len(data)), data, len(data)*[min(data)], alpha=0.1)\n",
    "    plt.close(fig)\n",
    "    img = BytesIO()    \n",
    "    \n",
    "    fig.savefig(img, format='png')\n",
    "    encoded = b64encode(img.getvalue()).decode('utf-8')  \n",
    "    return '<img src=\"data:image/png;base64,{}\"/>'.format(encoded)"
   ]
  },
  {
   "cell_type": "code",
   "execution_count": 5,
   "id": "14603bfb",
   "metadata": {},
   "outputs": [],
   "source": [
    "def create_hist(data):\n",
    "    fig, ax = plt.subplots(figsize=(2, 0.5)) \n",
    "    ax.hist(data, bins=10)\n",
    "    ax.axis('off')\n",
    "    plt.close(fig)\n",
    "    \n",
    "    img = BytesIO()  # create Bytes Object\n",
    "    fig.savefig(img) # Save Image to Bytes Object\n",
    "    encoded = b64encode(img.getvalue())  # Encode object as base64 byte string\n",
    "    decoded = encoded.decode('utf-8')    # Decode to utf-8\n",
    "    return f'<img src=\"data:png;base64,{decoded}\">' # Return HTML tag"
   ]
  },
  {
   "cell_type": "code",
   "execution_count": 6,
   "id": "3e57485d",
   "metadata": {},
   "outputs": [
    {
     "data": {
      "application/javascript": [
       "\n",
       "        if (window._pyforest_update_imports_cell) { window._pyforest_update_imports_cell('import matplotlib.pyplot as plt'); }\n",
       "    "
      ],
      "text/plain": [
       "<IPython.core.display.Javascript object>"
      ]
     },
     "metadata": {},
     "output_type": "display_data"
    },
    {
     "data": {
      "application/javascript": [
       "\n",
       "        if (window._pyforest_update_imports_cell) { window._pyforest_update_imports_cell('import matplotlib.pyplot as plt'); }\n",
       "    "
      ],
      "text/plain": [
       "<IPython.core.display.Javascript object>"
      ]
     },
     "metadata": {},
     "output_type": "display_data"
    },
    {
     "data": {
      "application/javascript": [
       "\n",
       "        if (window._pyforest_update_imports_cell) { window._pyforest_update_imports_cell('import matplotlib.pyplot as plt'); }\n",
       "    "
      ],
      "text/plain": [
       "<IPython.core.display.Javascript object>"
      ]
     },
     "metadata": {},
     "output_type": "display_data"
    },
    {
     "data": {
      "application/javascript": [
       "\n",
       "        if (window._pyforest_update_imports_cell) { window._pyforest_update_imports_cell('import matplotlib.pyplot as plt'); }\n",
       "    "
      ],
      "text/plain": [
       "<IPython.core.display.Javascript object>"
      ]
     },
     "metadata": {},
     "output_type": "display_data"
    },
    {
     "data": {
      "application/javascript": [
       "\n",
       "        if (window._pyforest_update_imports_cell) { window._pyforest_update_imports_cell('import matplotlib.pyplot as plt'); }\n",
       "    "
      ],
      "text/plain": [
       "<IPython.core.display.Javascript object>"
      ]
     },
     "metadata": {},
     "output_type": "display_data"
    },
    {
     "data": {
      "application/javascript": [
       "\n",
       "        if (window._pyforest_update_imports_cell) { window._pyforest_update_imports_cell('import matplotlib.pyplot as plt'); }\n",
       "    "
      ],
      "text/plain": [
       "<IPython.core.display.Javascript object>"
      ]
     },
     "metadata": {},
     "output_type": "display_data"
    },
    {
     "data": {
      "application/javascript": [
       "\n",
       "        if (window._pyforest_update_imports_cell) { window._pyforest_update_imports_cell('import matplotlib.pyplot as plt'); }\n",
       "    "
      ],
      "text/plain": [
       "<IPython.core.display.Javascript object>"
      ]
     },
     "metadata": {},
     "output_type": "display_data"
    },
    {
     "data": {
      "application/javascript": [
       "\n",
       "        if (window._pyforest_update_imports_cell) { window._pyforest_update_imports_cell('import matplotlib.pyplot as plt'); }\n",
       "    "
      ],
      "text/plain": [
       "<IPython.core.display.Javascript object>"
      ]
     },
     "metadata": {},
     "output_type": "display_data"
    },
    {
     "data": {
      "application/javascript": [
       "\n",
       "        if (window._pyforest_update_imports_cell) { window._pyforest_update_imports_cell('import matplotlib.pyplot as plt'); }\n",
       "    "
      ],
      "text/plain": [
       "<IPython.core.display.Javascript object>"
      ]
     },
     "metadata": {},
     "output_type": "display_data"
    },
    {
     "data": {
      "application/javascript": [
       "\n",
       "        if (window._pyforest_update_imports_cell) { window._pyforest_update_imports_cell('import matplotlib.pyplot as plt'); }\n",
       "    "
      ],
      "text/plain": [
       "<IPython.core.display.Javascript object>"
      ]
     },
     "metadata": {},
     "output_type": "display_data"
    },
    {
     "data": {
      "application/javascript": [
       "\n",
       "        if (window._pyforest_update_imports_cell) { window._pyforest_update_imports_cell('import matplotlib.pyplot as plt'); }\n",
       "    "
      ],
      "text/plain": [
       "<IPython.core.display.Javascript object>"
      ]
     },
     "metadata": {},
     "output_type": "display_data"
    },
    {
     "data": {
      "application/javascript": [
       "\n",
       "        if (window._pyforest_update_imports_cell) { window._pyforest_update_imports_cell('import matplotlib.pyplot as plt'); }\n",
       "    "
      ],
      "text/plain": [
       "<IPython.core.display.Javascript object>"
      ]
     },
     "metadata": {},
     "output_type": "display_data"
    },
    {
     "data": {
      "application/javascript": [
       "\n",
       "        if (window._pyforest_update_imports_cell) { window._pyforest_update_imports_cell('import matplotlib.pyplot as plt'); }\n",
       "    "
      ],
      "text/plain": [
       "<IPython.core.display.Javascript object>"
      ]
     },
     "metadata": {},
     "output_type": "display_data"
    },
    {
     "data": {
      "application/javascript": [
       "\n",
       "        if (window._pyforest_update_imports_cell) { window._pyforest_update_imports_cell('import matplotlib.pyplot as plt'); }\n",
       "    "
      ],
      "text/plain": [
       "<IPython.core.display.Javascript object>"
      ]
     },
     "metadata": {},
     "output_type": "display_data"
    },
    {
     "data": {
      "application/javascript": [
       "\n",
       "        if (window._pyforest_update_imports_cell) { window._pyforest_update_imports_cell('import matplotlib.pyplot as plt'); }\n",
       "    "
      ],
      "text/plain": [
       "<IPython.core.display.Javascript object>"
      ]
     },
     "metadata": {},
     "output_type": "display_data"
    },
    {
     "data": {
      "application/javascript": [
       "\n",
       "        if (window._pyforest_update_imports_cell) { window._pyforest_update_imports_cell('import matplotlib.pyplot as plt'); }\n",
       "    "
      ],
      "text/plain": [
       "<IPython.core.display.Javascript object>"
      ]
     },
     "metadata": {},
     "output_type": "display_data"
    },
    {
     "data": {
      "application/javascript": [
       "\n",
       "        if (window._pyforest_update_imports_cell) { window._pyforest_update_imports_cell('import matplotlib.pyplot as plt'); }\n",
       "    "
      ],
      "text/plain": [
       "<IPython.core.display.Javascript object>"
      ]
     },
     "metadata": {},
     "output_type": "display_data"
    },
    {
     "data": {
      "application/javascript": [
       "\n",
       "        if (window._pyforest_update_imports_cell) { window._pyforest_update_imports_cell('import matplotlib.pyplot as plt'); }\n",
       "    "
      ],
      "text/plain": [
       "<IPython.core.display.Javascript object>"
      ]
     },
     "metadata": {},
     "output_type": "display_data"
    },
    {
     "data": {
      "application/javascript": [
       "\n",
       "        if (window._pyforest_update_imports_cell) { window._pyforest_update_imports_cell('import matplotlib.pyplot as plt'); }\n",
       "    "
      ],
      "text/plain": [
       "<IPython.core.display.Javascript object>"
      ]
     },
     "metadata": {},
     "output_type": "display_data"
    },
    {
     "data": {
      "application/javascript": [
       "\n",
       "        if (window._pyforest_update_imports_cell) { window._pyforest_update_imports_cell('import matplotlib.pyplot as plt'); }\n",
       "    "
      ],
      "text/plain": [
       "<IPython.core.display.Javascript object>"
      ]
     },
     "metadata": {},
     "output_type": "display_data"
    },
    {
     "data": {
      "text/html": [
       "<table border=\"1\" class=\"dataframe\">\n",
       "  <thead>\n",
       "    <tr style=\"text-align: left;\">\n",
       "      <th></th>\n",
       "      <th>Name</th>\n",
       "      <th>Price History</th>\n",
       "      <th>Last 7 Days Price</th>\n",
       "      <th>Last 10 Days Trade Volume</th>\n",
       "    </tr>\n",
       "  </thead>\n",
       "  <tbody>\n",
       "    <tr>\n",
       "      <th>0</th>\n",
       "      <td>Bitcoin</td>\n",
       "      <td>[9600.0, ...]</td>\n",
       "      <td><img src=\"data:image/png;base64,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\"/></td>\n",
       "      <td><img src=\"data:png;base64,iVBORw0KGgoAAAANSUhEUgAAASwAAABLCAYAAADK+7ojAAAAOXRFWHRTb2Z0d2FyZQBNYXRwbG90bGliIHZlcnNpb24zLjUuMywgaHR0cHM6Ly9tYXRwbG90bGliLm9yZy/NK7nSAAAACXBIWXMAABcSAAAXEgFnn9JSAAABXUlEQVR4nO3bwYkCQRRF0enBQMxnEjIEEzIfMykDGBe9KO2+1DkBSIFw+Tx0G2P8ABT8Hv0AgL0EC8gQLCBDsIAMwQIyBAvIECwgQ7CADMECMgQLyBAsIONy9ANWcb09pv9p83n/22Z/5up8T+fmwgIyBAvIECwgw4bFV9iGmMGFBWQIFpAhWEBGfsOyjcA6XFhAhmABGYIFZOQ3LNb1if2Sc3NhARmCBWQIFpBhw3rDNsJMfis4jwsLyBAsIEOwgAwbFv/Y8M5v1V3MhQVkCBaQIVhAhmABGUb3MOM4q3FhARmCBWQIFpAhWECGYAEZggVkCBaQIVhAhmABGYIFZAgWkCFYQIZgARmCBWQIFpAhWECGYAEZggVkCBaQIVhAhmABGYIFZAgWkCFYQIZgARmCBWQIFpAhWEDGNsY4+g0Au7iwgAzBAjIEC8gQLCBDsIAMwQIyBAvIECwg4wVhYSfNEVW7swAAAABJRU5ErkJggg==\"></td>\n",
       "    </tr>\n",
       "    <tr>\n",
       "      <th>1</th>\n",
       "      <td>Ethereum</td>\n",
       "      <td>[1380.0, ...]</td>\n",
       "      <td><img src=\"data:image/png;base64,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\"/></td>\n",
       "      <td><img src=\"data:png;base64,iVBORw0KGgoAAAANSUhEUgAAASwAAABLCAYAAADK+7ojAAAAOXRFWHRTb2Z0d2FyZQBNYXRwbG90bGliIHZlcnNpb24zLjUuMywgaHR0cHM6Ly9tYXRwbG90bGliLm9yZy/NK7nSAAAACXBIWXMAABcSAAAXEgFnn9JSAAABXUlEQVR4nO3bUQ3CMBRA0Y0gBD8YQgKG8IOTYoGPjnHTcwSQZR83r+N1H2NsAAWXsx8A4FuCBWQIFpAhWECGYAEZggVkCBaQIVhAhmABGYIFZAgWkHE9+wH+0e3xmn7B8v2877N/s8Q7ZQYTFpAhWECGYAEZggVkCBaQIVhAhmABGYIFZFgchaBVF3FNWECGYAEZjoRhRxwLtq1xNGBNJiwgQ7CADMECMgQLyBAsIEOwgAzBAjIEC8gQLCDDpjsc7KgbCSsyYQEZggVkCBaQIVhAhmABGYIFZAgWkCFYQIbF0R+xPDifd7oeExaQIVhAhmABGflvWL5jwDpMWECGYAEZggVkCBaQIVhAhmABGYIFZAgWkCFYQIZgARmCBWTk7xIyn/uZ/CsTFpAhWECGYAEZggVkCBaQIVhAxj6Gf7CBBhMWkCFYQIZgARmCBWQIFpAhWECGYAEZggVkfABENiIZOVrbqwAAAABJRU5ErkJggg==\"></td>\n",
       "    </tr>\n",
       "    <tr>\n",
       "      <th>2</th>\n",
       "      <td>BNB</td>\n",
       "      <td>[390.0, ...]</td>\n",
       "      <td><img src=\"data:image/png;base64,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\"/></td>\n",
       "      <td><img src=\"data:png;base64,iVBORw0KGgoAAAANSUhEUgAAASwAAABLCAYAAADK+7ojAAAAOXRFWHRTb2Z0d2FyZQBNYXRwbG90bGliIHZlcnNpb24zLjUuMywgaHR0cHM6Ly9tYXRwbG90bGliLm9yZy/NK7nSAAAACXBIWXMAABcSAAAXEgFnn9JSAAABYElEQVR4nO3d0QnCQBQAQSMWYj82ZAk2ZD92cv4K+iEkxiyZKUACwvLu5cRpjHEAKDj++wEAviVYQIZgARmCBWQIFpAhWECGYAEZggVkCBaQIVhAhmABGad/P8Bc5+t98R9DPm6XaenPBOYzYQEZggVk5I+E7Jd1wP6YsIAMwQIyBAvIECwgQ7CADMECMlxrWIlX8DCfCQvIECwgQ7CADDss3ti3sVUmLCBDsIAMwQIy7LBYxS/2YuyPCQvIECwgw5EQgvZ69cSEBWQIFpAhWECGHVaYqwINvqflmLCADMECMhwJPzDCwzaZsIAMwQIyBAvIsMOCF/aX22bCAjIEC8gQLCBDsIAMwQIyBAvIECwgQ7CADMECMgQLyBAsIEOwgAzBAjIEC8gQLCBDsIAMwQIyBAvIECwgQ7CADMECMqYx/EkI0GDCAjIEC8gQLCBDsIAMwQIyBAvIECwgQ7CAjCfDXSYdnnf9ygAAAABJRU5ErkJggg==\"></td>\n",
       "    </tr>\n",
       "    <tr>\n",
       "      <th>3</th>\n",
       "      <td>Litecoin</td>\n",
       "      <td>[124.5, ...]</td>\n",
       "      <td><img src=\"data:image/png;base64,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\"/></td>\n",
       "      <td><img src=\"data:png;base64,iVBORw0KGgoAAAANSUhEUgAAASwAAABLCAYAAADK+7ojAAAAOXRFWHRTb2Z0d2FyZQBNYXRwbG90bGliIHZlcnNpb24zLjUuMywgaHR0cHM6Ly9tYXRwbG90bGliLm9yZy/NK7nSAAAACXBIWXMAABcSAAAXEgFnn9JSAAABXUlEQVR4nO3dwQnCQBBAUSMWYj82ZAk2ZD92sp68eRBcTT55r4CwEvgMwwaXMcYBoOC49gEAPiVYQIZgARmCBWQIFpAhWECGYAEZggVkCBaQIVhAhmABGae1DwBbcr7ep39c+7hdltnPrJxzNhMWkCFYQIZgARl2WGT9Yo/DtpmwgAzBAjIEC8gQLCBDsIAMwQIyBAvIcA/rjb1+p/Wy998/m/ti85iwgAzBAjIEC8jI77DsBxq8J2YwYQEZggVkCBaQkd9h7Zm9EHtjwgIyBAvIECwgQ7CADMECMgQLyBAsIEOwgAwXR//EJU/4ngkLyBAsIEOwgAzBAjIEC8gQLCBDsIAMwQIyBAvIECwgQ7CADMECMgQLyBAsIEOwgAzBAjIEC8gQLCBDsIAMwQIyBAvIECwgQ7CADMECMpYx/L8n0GDCAjIEC8gQLCBDsIAMwQIyBAvIECwgQ7CAjCdbdSRjdhFXOgAAAABJRU5ErkJggg==\"></td>\n",
       "    </tr>\n",
       "  </tbody>\n",
       "</table>"
      ],
      "text/plain": [
       "<IPython.core.display.HTML object>"
      ]
     },
     "execution_count": 6,
     "metadata": {},
     "output_type": "execute_result"
    }
   ],
   "source": [
    "df['Last 7 Days Price']  = df['Price History'].apply(create_line)\n",
    "df['Last 10 Days Trade Volume'] = df['Price History'].apply(create_hist)\n",
    "\n",
    "HTML(df.to_html(escape=False))"
   ]
  },
  {
   "cell_type": "code",
   "execution_count": null,
   "id": "113ed515",
   "metadata": {},
   "outputs": [],
   "source": []
  }
 ],
 "metadata": {
  "kernelspec": {
   "display_name": "Python 3 (ipykernel)",
   "language": "python",
   "name": "python3"
  },
  "language_info": {
   "codemirror_mode": {
    "name": "ipython",
    "version": 3
   },
   "file_extension": ".py",
   "mimetype": "text/x-python",
   "name": "python",
   "nbconvert_exporter": "python",
   "pygments_lexer": "ipython3",
   "version": "3.9.12"
  }
 },
 "nbformat": 4,
 "nbformat_minor": 5
}

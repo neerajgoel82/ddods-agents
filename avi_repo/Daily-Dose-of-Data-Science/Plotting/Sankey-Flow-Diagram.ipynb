{
 "cells": [
  {
   "cell_type": "markdown",
   "id": "3adc63b9",
   "metadata": {},
   "source": [
    "# Daily-Dose-of-Data-Science\n",
    "\n",
    "[Daily Dose of Data Science](https://avichawla.substack.com) is a publication on Substack that brings together intriguing frameworks, libraries, technologies, and tips that make the life cycle of a Data Science project effortless. \n",
    "\n",
    "Author: Avi Chawla\n",
    "\n",
    "[Medium](https://medium.com/@avi_chawla) | [LinkedIn](https://www.linkedin.com/in/avi-chawla/)\n",
    "\n",
    "# Analyse Flow Data With Sankey Diagrams\n",
    "\n",
    "Post Link: [Substack](https://avichawla.substack.com/p/analyse-flow-data-with-sankey-diagrams)\n",
    "\n",
    "LinkedIn Post: [LinkedIn](https://www.linkedin.com/posts/avi-chawla_python-datascience-dataanalysis-activity-6995713564908916736-fM1Z?utm_source=share&utm_medium=member_desktop)"
   ]
  },
  {
   "cell_type": "code",
   "execution_count": 1,
   "id": "d263821f",
   "metadata": {
    "ExecuteTime": {
     "end_time": "2022-12-01T21:01:21.466834Z",
     "start_time": "2022-12-01T21:01:20.313031Z"
    }
   },
   "outputs": [],
   "source": [
    "import pandas as pd\n",
    "from ipysankeywidget import SankeyWidget\n",
    "import numpy as np"
   ]
  },
  {
   "cell_type": "code",
   "execution_count": 2,
   "id": "4b6074a0",
   "metadata": {
    "ExecuteTime": {
     "end_time": "2022-12-01T21:01:23.842879Z",
     "start_time": "2022-12-01T21:01:23.808318Z"
    }
   },
   "outputs": [
    {
     "data": {
      "text/html": [
       "<div>\n",
       "<style scoped>\n",
       "    .dataframe tbody tr th:only-of-type {\n",
       "        vertical-align: middle;\n",
       "    }\n",
       "\n",
       "    .dataframe tbody tr th {\n",
       "        vertical-align: top;\n",
       "    }\n",
       "\n",
       "    .dataframe thead th {\n",
       "        text-align: right;\n",
       "    }\n",
       "</style>\n",
       "<table border=\"1\" class=\"dataframe\">\n",
       "  <thead>\n",
       "    <tr style=\"text-align: right;\">\n",
       "      <th></th>\n",
       "      <th>source</th>\n",
       "      <th>target</th>\n",
       "      <th>type</th>\n",
       "      <th>value</th>\n",
       "    </tr>\n",
       "  </thead>\n",
       "  <tbody>\n",
       "    <tr>\n",
       "      <th>0</th>\n",
       "      <td>New Delhi</td>\n",
       "      <td>Washington</td>\n",
       "      <td>Direct</td>\n",
       "      <td>4</td>\n",
       "    </tr>\n",
       "    <tr>\n",
       "      <th>1</th>\n",
       "      <td>Melbourne</td>\n",
       "      <td>Washington</td>\n",
       "      <td>Direct</td>\n",
       "      <td>4</td>\n",
       "    </tr>\n",
       "    <tr>\n",
       "      <th>2</th>\n",
       "      <td>London</td>\n",
       "      <td>New York</td>\n",
       "      <td>1-stop</td>\n",
       "      <td>4</td>\n",
       "    </tr>\n",
       "    <tr>\n",
       "      <th>3</th>\n",
       "      <td>Dubai</td>\n",
       "      <td>Los Angeles</td>\n",
       "      <td>1-stop</td>\n",
       "      <td>5</td>\n",
       "    </tr>\n",
       "    <tr>\n",
       "      <th>4</th>\n",
       "      <td>Dubai</td>\n",
       "      <td>Washington</td>\n",
       "      <td>2-stops</td>\n",
       "      <td>1</td>\n",
       "    </tr>\n",
       "    <tr>\n",
       "      <th>5</th>\n",
       "      <td>London</td>\n",
       "      <td>Washington</td>\n",
       "      <td>Direct</td>\n",
       "      <td>2</td>\n",
       "    </tr>\n",
       "    <tr>\n",
       "      <th>6</th>\n",
       "      <td>Melbourne</td>\n",
       "      <td>Los Angeles</td>\n",
       "      <td>Direct</td>\n",
       "      <td>1</td>\n",
       "    </tr>\n",
       "  </tbody>\n",
       "</table>\n",
       "</div>"
      ],
      "text/plain": [
       "      source       target     type  value\n",
       "0  New Delhi   Washington   Direct      4\n",
       "1  Melbourne   Washington   Direct      4\n",
       "2     London     New York   1-stop      4\n",
       "3      Dubai  Los Angeles   1-stop      5\n",
       "4      Dubai   Washington  2-stops      1\n",
       "5     London   Washington   Direct      2\n",
       "6  Melbourne  Los Angeles   Direct      1"
      ]
     },
     "execution_count": 2,
     "metadata": {},
     "output_type": "execute_result"
    }
   ],
   "source": [
    "df = pd.DataFrame([[\"New Delhi\", \"Washington\", \"Direct\", 4],\n",
    "                  [\"Melbourne\", \"Washington\", \"Direct\", 4],\n",
    "                  [\"London\", \"New York\", \"1-stop\", 4],\n",
    "                  [\"Dubai\", \"Los Angeles\", \"1-stop\", 5],\n",
    "                  [\"Dubai\", \"Washington\", \"2-stops\", 1],\n",
    "                  [\"London\", \"Washington\", \"Direct\",2], \n",
    "                  [\"Melbourne\", \"Los Angeles\", \"Direct\", 1]], columns = [\"source\", \"target\", \"type\", \"value\"])\n",
    "df"
   ]
  },
  {
   "cell_type": "code",
   "execution_count": 4,
   "id": "f04cd3a3",
   "metadata": {
    "ExecuteTime": {
     "end_time": "2022-12-01T21:01:59.191657Z",
     "start_time": "2022-12-01T21:01:59.170061Z"
    }
   },
   "outputs": [
    {
     "data": {
      "application/vnd.jupyter.widget-view+json": {
       "model_id": "95430930e1d3402db98c3e8b1bf0f5d2",
       "version_major": 2,
       "version_minor": 0
      },
      "text/plain": [
       "SankeyWidget(links=[{'source': 'New Delhi', 'target': 'Washington', 'type': 'Direct', 'value': 4}, {'source': …"
      ]
     },
     "metadata": {},
     "output_type": "display_data"
    }
   ],
   "source": [
    "sankey = SankeyWidget(links=df.to_dict('records'))\n",
    "sankey"
   ]
  },
  {
   "cell_type": "code",
   "execution_count": null,
   "id": "2ec360c1",
   "metadata": {},
   "outputs": [],
   "source": []
  }
 ],
 "metadata": {
  "kernelspec": {
   "display_name": "Python 3 (ipykernel)",
   "language": "python",
   "name": "python3"
  },
  "language_info": {
   "codemirror_mode": {
    "name": "ipython",
    "version": 3
   },
   "file_extension": ".py",
   "mimetype": "text/x-python",
   "name": "python",
   "nbconvert_exporter": "python",
   "pygments_lexer": "ipython3",
   "version": "3.9.12"
  }
 },
 "nbformat": 4,
 "nbformat_minor": 5
}

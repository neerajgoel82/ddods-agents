{
 "cells": [
  {
   "cell_type": "markdown",
   "id": "71ec1521",
   "metadata": {},
   "source": [
    "# Daily-Dose-of-Data-Science\n",
    "\n",
    "[Daily Dose of Data Science](https://avichawla.substack.com) is a publication on Substack that brings together intriguing frameworks, libraries, technologies, and tips that make the life cycle of a Data Science project effortless. \n",
    "\n",
    "Author: Avi Chawla\n",
    "\n",
    "[Medium](https://medium.com/@avi_chawla) | [LinkedIn](https://www.linkedin.com/in/avi-chawla/)\n",
    "\n",
    "# Waterfall Charts: A Better Alternative to Line/Bar Plot\n",
    "\n",
    "Post Link: [Substack](https://avichawla.substack.com/p/waterfall-charts-a-better-alternative)\n",
    "\n",
    "LinkedIn Post: [LinkedIn](https://www.linkedin.com/posts/avi-chawla_python-datascience-pandas-activity-6996798048051843072-ibd-?utm_source=share&utm_medium=member_desktop)"
   ]
  },
  {
   "cell_type": "code",
   "execution_count": 1,
   "id": "b3322b9a",
   "metadata": {
    "ExecuteTime": {
     "end_time": "2022-12-01T21:09:34.948161Z",
     "start_time": "2022-12-01T21:09:31.775191Z"
    }
   },
   "outputs": [
    {
     "name": "stdout",
     "output_type": "stream",
     "text": [
      "Requirement already satisfied: waterfallcharts in /Users/avi/anaconda3/lib/python3.9/site-packages (3.8)\r\n"
     ]
    }
   ],
   "source": [
    "!pip install waterfallcharts"
   ]
  },
  {
   "cell_type": "code",
   "execution_count": 6,
   "id": "b1a6badd",
   "metadata": {
    "ExecuteTime": {
     "end_time": "2022-12-01T21:09:55.798763Z",
     "start_time": "2022-12-01T21:09:55.445856Z"
    }
   },
   "outputs": [],
   "source": [
    "import pandas as pd\n",
    "import waterfall_chart"
   ]
  },
  {
   "cell_type": "code",
   "execution_count": 3,
   "id": "8d9eecc1",
   "metadata": {
    "ExecuteTime": {
     "end_time": "2022-12-01T21:09:35.855576Z",
     "start_time": "2022-12-01T21:09:35.848601Z"
    }
   },
   "outputs": [],
   "source": [
    "df = pd.read_csv(\"../_Datasets/waterfall_chart_example.csv\")"
   ]
  },
  {
   "cell_type": "code",
   "execution_count": 4,
   "id": "8ae17ac5",
   "metadata": {
    "ExecuteTime": {
     "end_time": "2022-12-01T21:09:38.189915Z",
     "start_time": "2022-12-01T21:09:38.160195Z"
    }
   },
   "outputs": [
    {
     "data": {
      "text/html": [
       "<div>\n",
       "<style scoped>\n",
       "    .dataframe tbody tr th:only-of-type {\n",
       "        vertical-align: middle;\n",
       "    }\n",
       "\n",
       "    .dataframe tbody tr th {\n",
       "        vertical-align: top;\n",
       "    }\n",
       "\n",
       "    .dataframe thead th {\n",
       "        text-align: right;\n",
       "    }\n",
       "</style>\n",
       "<table border=\"1\" class=\"dataframe\">\n",
       "  <thead>\n",
       "    <tr style=\"text-align: right;\">\n",
       "      <th></th>\n",
       "      <th>Month</th>\n",
       "      <th>Delta</th>\n",
       "    </tr>\n",
       "  </thead>\n",
       "  <tbody>\n",
       "    <tr>\n",
       "      <th>0</th>\n",
       "      <td>Jan</td>\n",
       "      <td>12.1</td>\n",
       "    </tr>\n",
       "    <tr>\n",
       "      <th>1</th>\n",
       "      <td>Feb</td>\n",
       "      <td>-0.5</td>\n",
       "    </tr>\n",
       "    <tr>\n",
       "      <th>2</th>\n",
       "      <td>Mar</td>\n",
       "      <td>-1.2</td>\n",
       "    </tr>\n",
       "    <tr>\n",
       "      <th>3</th>\n",
       "      <td>Apr</td>\n",
       "      <td>5.1</td>\n",
       "    </tr>\n",
       "    <tr>\n",
       "      <th>4</th>\n",
       "      <td>May</td>\n",
       "      <td>1.2</td>\n",
       "    </tr>\n",
       "  </tbody>\n",
       "</table>\n",
       "</div>"
      ],
      "text/plain": [
       "  Month  Delta\n",
       "0   Jan   12.1\n",
       "1   Feb   -0.5\n",
       "2   Mar   -1.2\n",
       "3   Apr    5.1\n",
       "4   May    1.2"
      ]
     },
     "execution_count": 4,
     "metadata": {},
     "output_type": "execute_result"
    }
   ],
   "source": [
    "df.head()"
   ]
  },
  {
   "cell_type": "code",
   "execution_count": 7,
   "id": "195c9f51",
   "metadata": {
    "ExecuteTime": {
     "end_time": "2022-12-01T21:09:57.398993Z",
     "start_time": "2022-12-01T21:09:57.199986Z"
    }
   },
   "outputs": [
    {
     "name": "stderr",
     "output_type": "stream",
     "text": [
      "/Users/avi/anaconda3/lib/python3.9/site-packages/waterfall_chart.py:71: FutureWarning: The behavior of `series[i:j]` with an integer-dtype index is deprecated. In a future version, this will be treated as *label-based* indexing, consistent with e.g. `series[i]` lookups. To retain the old behavior, use `series.iloc[i:j]`. To get the future behavior, use `series.loc[i:j]`.\n",
      "  step[1::3] = np.nan\n"
     ]
    },
    {
     "data": {
      "text/plain": [
       "<module 'matplotlib.pyplot' from '/Users/avi/anaconda3/lib/python3.9/site-packages/matplotlib/pyplot.py'>"
      ]
     },
     "execution_count": 7,
     "metadata": {},
     "output_type": "execute_result"
    },
    {
     "data": {
      "image/png": "[encoded data removed]",
      "text/plain": [
       "<Figure size 432x288 with 1 Axes>"
      ]
     },
     "metadata": {
      "needs_background": "light"
     },
     "output_type": "display_data"
    }
   ],
   "source": [
    "waterfall_chart.plot(df.Month, df.Delta)\n"
   ]
  },
  {
   "cell_type": "code",
   "execution_count": null,
   "id": "43a1988c",
   "metadata": {},
   "outputs": [],
   "source": []
  }
 ],
 "metadata": {
  "kernelspec": {
   "display_name": "Python 3 (ipykernel)",
   "language": "python",
   "name": "python3"
  },
  "language_info": {
   "codemirror_mode": {
    "name": "ipython",
    "version": 3
   },
   "file_extension": ".py",
   "mimetype": "text/x-python",
   "name": "python",
   "nbconvert_exporter": "python",
   "pygments_lexer": "ipython3",
   "version": "3.9.12"
  }
 },
 "nbformat": 4,
 "nbformat_minor": 5
}

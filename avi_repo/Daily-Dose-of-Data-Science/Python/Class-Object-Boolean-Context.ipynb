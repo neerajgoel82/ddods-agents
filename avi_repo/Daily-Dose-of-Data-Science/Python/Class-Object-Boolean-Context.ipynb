{
 "cells": [
  {
   "cell_type": "markdown",
   "id": "cc4e0d1e",
   "metadata": {},
   "source": [
    "# Daily-Dose-of-Data-Science\n",
    "\n",
    "[Daily Dose of Data Science](https://avichawla.substack.com) is a publication on Substack that brings together intriguing frameworks, libraries, technologies, and tips that make the life cycle of a Data Science project effortless. \n",
    "\n",
    "Author: Avi Chawla\n",
    "\n",
    "[Medium](https://medium.com/@avi_chawla) | [LinkedIn](https://www.linkedin.com/in/avi-chawla/)\n",
    "\n",
    "# Use Custom Python Objects In A Boolean Context\n",
    "\n",
    "Post Link: [Substack](https://avichawla.substack.com/p/use-custom-python-objects-in-a-boolean)\n",
    "\n",
    "LinkedIn Post: [LinkedIn](https://www.linkedin.com/feed/update/urn:li:share:7052951083131748352/)"
   ]
  },
  {
   "cell_type": "markdown",
   "id": "b3c47d47",
   "metadata": {},
   "source": [
    "## Without __ bool __"
   ]
  },
  {
   "cell_type": "code",
   "execution_count": 1,
   "id": "a51b6909",
   "metadata": {},
   "outputs": [
    {
     "name": "stdout",
     "output_type": "stream",
     "text": [
      "Cart Not Empty\n"
     ]
    }
   ],
   "source": [
    "class Cart:\n",
    "    def __init__(self):\n",
    "        self.items = []\n",
    "        \n",
    "my_cart = Cart()\n",
    "\n",
    "if my_cart:\n",
    "     print(\"Cart Not Empty\")\n",
    "else:\n",
    "     print(\"Cart Empty\")"
   ]
  },
  {
   "cell_type": "markdown",
   "id": "1a939575",
   "metadata": {},
   "source": [
    "## With __ bool __"
   ]
  },
  {
   "cell_type": "code",
   "execution_count": 2,
   "id": "905a801b",
   "metadata": {},
   "outputs": [
    {
     "name": "stdout",
     "output_type": "stream",
     "text": [
      "Cart Empty\n"
     ]
    }
   ],
   "source": [
    "class Cart:\n",
    "    def __init__(self):\n",
    "        self.items = []\n",
    "    \n",
    "    def __bool__(self):\n",
    "        return len(self.items)>0\n",
    "        \n",
    "my_cart = Cart()\n",
    "\n",
    "if my_cart:\n",
    "     print(\"Cart Not Empty\")\n",
    "else:\n",
    "     print(\"Cart Empty\")"
   ]
  }
 ],
 "metadata": {
  "kernelspec": {
   "display_name": "Python 3 (ipykernel)",
   "language": "python",
   "name": "python3"
  },
  "language_info": {
   "codemirror_mode": {
    "name": "ipython",
    "version": 3
   },
   "file_extension": ".py",
   "mimetype": "text/x-python",
   "name": "python",
   "nbconvert_exporter": "python",
   "pygments_lexer": "ipython3",
   "version": "3.9.12"
  }
 },
 "nbformat": 4,
 "nbformat_minor": 5
}

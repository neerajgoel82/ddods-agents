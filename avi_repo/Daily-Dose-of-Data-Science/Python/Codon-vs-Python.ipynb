{
 "cells": [
  {
   "cell_type": "markdown",
   "id": "1401f5be",
   "metadata": {},
   "source": [
    "# Daily-Dose-of-Data-Science\n",
    "\n",
    "[Daily Dose of Data Science](https://avichawla.substack.com) is a publication on Substack that brings together intriguing frameworks, libraries, technologies, and tips that make the life cycle of a Data Science project effortless. \n",
    "\n",
    "Author: Avi Chawla\n",
    "\n",
    "[Medium](https://medium.com/@avi_chawla) | [LinkedIn](https://www.linkedin.com/in/avi-chawla/)\n",
    "\n",
    "# Probably The Fastest Way To Execute Your Python Code\n",
    "\n",
    "Post Link: [Substack](https://avichawla.substack.com/p/probably-the-fastest-way-to-execute)\n",
    "\n",
    "LinkedIn Post: [LinkedIn](https://www.linkedin.com/feed/update/urn:li:activity:7046066889751412737/)\n",
    "\n",
    "Twitter Post: [Twitter](https://twitter.com/_avichawla/status/1640302341487247361)"
   ]
  },
  {
   "cell_type": "code",
   "execution_count": 1,
   "id": "33c3edc4",
   "metadata": {},
   "outputs": [
    {
     "name": "stdout",
     "output_type": "stream",
     "text": [
      "fib =  165580141\n",
      "fib(40) total time 27.900501012802124\n",
      "fib =  1346269\n",
      "fib(30) total time 0.2277050018310547\n",
      "pi =  3.141592643589326\n",
      "pi total time 14.198813915252686\n"
     ]
    }
   ],
   "source": [
    "!python codon_expt.py"
   ]
  },
  {
   "cell_type": "code",
   "execution_count": 3,
   "id": "7d8629bf",
   "metadata": {},
   "outputs": [
    {
     "name": "stdout",
     "output_type": "stream",
     "text": [
      "fib =  165580141\n",
      "fib(40) total time 0.45013\n",
      "fib =  1346269\n",
      "fib(30) total time 0.00368834\n",
      "pi =  3.14159\n",
      "pi total time 0.346382\n"
     ]
    }
   ],
   "source": [
    "!codon run codon_expt.py"
   ]
  }
 ],
 "metadata": {
  "kernelspec": {
   "display_name": "Python 3 (ipykernel)",
   "language": "python",
   "name": "python3"
  },
  "language_info": {
   "codemirror_mode": {
    "name": "ipython",
    "version": 3
   },
   "file_extension": ".py",
   "mimetype": "text/x-python",
   "name": "python",
   "nbconvert_exporter": "python",
   "pygments_lexer": "ipython3",
   "version": "3.9.12"
  }
 },
 "nbformat": 4,
 "nbformat_minor": 5
}

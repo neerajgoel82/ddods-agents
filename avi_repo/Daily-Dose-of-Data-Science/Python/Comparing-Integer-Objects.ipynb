{
 "cells": [
  {
   "cell_type": "markdown",
   "id": "8fd74078",
   "metadata": {},
   "source": [
    "# Daily-Dose-of-Data-Science\n",
    "\n",
    "[Daily Dose of Data Science](https://avichawla.substack.com) is a publication on Substack that brings together intriguing frameworks, libraries, technologies, and tips that make the life cycle of a Data Science project effortless. \n",
    "\n",
    "Author: Avi Chawla\n",
    "\n",
    "[Medium](https://medium.com/@avi_chawla) | [LinkedIn](https://www.linkedin.com/in/avi-chawla/)\n",
    "\n",
    "# Why 256 is 256 But 257 is not 257?\n",
    "\n",
    "Post Link: [Substack](https://avichawla.substack.com/p/why-256-is-256-but-257-is-not-257)\n",
    "\n",
    "LinkedIn Post: [LinkedIn](https://www.linkedin.com/posts/avi-chawla_python-activity-7005125019945037824-EqDa?utm_source=share&utm_medium=member_desktop)"
   ]
  },
  {
   "cell_type": "markdown",
   "id": "678f34fe",
   "metadata": {},
   "source": [
    "### Method 1"
   ]
  },
  {
   "cell_type": "code",
   "execution_count": 1,
   "id": "dbeee369",
   "metadata": {
    "ExecuteTime": {
     "end_time": "2022-12-04T11:15:28.402207Z",
     "start_time": "2022-12-04T11:15:28.353451Z"
    }
   },
   "outputs": [
    {
     "data": {
      "text/plain": [
       "True"
      ]
     },
     "execution_count": 1,
     "metadata": {},
     "output_type": "execute_result"
    }
   ],
   "source": [
    "a = 256\n",
    "b = 256\n",
    "\n",
    "a is b"
   ]
  },
  {
   "cell_type": "code",
   "execution_count": 2,
   "id": "d577e695",
   "metadata": {
    "ExecuteTime": {
     "end_time": "2022-12-04T11:15:29.407516Z",
     "start_time": "2022-12-04T11:15:29.400031Z"
    }
   },
   "outputs": [
    {
     "data": {
      "text/plain": [
       "(140525558819216, 140525558819216)"
      ]
     },
     "execution_count": 2,
     "metadata": {},
     "output_type": "execute_result"
    }
   ],
   "source": [
    "id(a), id(b)"
   ]
  },
  {
   "cell_type": "markdown",
   "id": "8efbb59f",
   "metadata": {},
   "source": [
    "### Method 2"
   ]
  },
  {
   "cell_type": "code",
   "execution_count": 3,
   "id": "a178aee8",
   "metadata": {
    "ExecuteTime": {
     "end_time": "2022-12-04T11:15:31.890208Z",
     "start_time": "2022-12-04T11:15:31.881944Z"
    }
   },
   "outputs": [
    {
     "data": {
      "text/plain": [
       "False"
      ]
     },
     "execution_count": 3,
     "metadata": {},
     "output_type": "execute_result"
    }
   ],
   "source": [
    "a = 257\n",
    "b = 257\n",
    "\n",
    "a is b"
   ]
  },
  {
   "cell_type": "code",
   "execution_count": 4,
   "id": "3120c29f",
   "metadata": {
    "ExecuteTime": {
     "end_time": "2022-12-04T11:15:32.746149Z",
     "start_time": "2022-12-04T11:15:32.737896Z"
    }
   },
   "outputs": [
    {
     "data": {
      "text/plain": [
       "True"
      ]
     },
     "execution_count": 4,
     "metadata": {},
     "output_type": "execute_result"
    }
   ],
   "source": [
    "a == b"
   ]
  },
  {
   "cell_type": "code",
   "execution_count": 5,
   "id": "db817a3d",
   "metadata": {
    "ExecuteTime": {
     "end_time": "2022-12-04T11:15:33.225170Z",
     "start_time": "2022-12-04T11:15:33.219131Z"
    }
   },
   "outputs": [
    {
     "data": {
      "text/plain": [
       "(140525592885296, 140525592885360)"
      ]
     },
     "execution_count": 5,
     "metadata": {},
     "output_type": "execute_result"
    }
   ],
   "source": [
    "id(a), id(b)"
   ]
  },
  {
   "cell_type": "markdown",
   "id": "622da697",
   "metadata": {},
   "source": [
    "### Method 3"
   ]
  },
  {
   "cell_type": "code",
   "execution_count": 6,
   "id": "f08b3350",
   "metadata": {
    "ExecuteTime": {
     "end_time": "2022-12-04T11:15:35.563607Z",
     "start_time": "2022-12-04T11:15:35.546305Z"
    }
   },
   "outputs": [
    {
     "data": {
      "text/plain": [
       "True"
      ]
     },
     "execution_count": 6,
     "metadata": {},
     "output_type": "execute_result"
    }
   ],
   "source": [
    "a, b = 257, 257\n",
    "\n",
    "a is b"
   ]
  }
 ],
 "metadata": {
  "kernelspec": {
   "display_name": "Python 3 (ipykernel)",
   "language": "python",
   "name": "python3"
  },
  "language_info": {
   "codemirror_mode": {
    "name": "ipython",
    "version": 3
   },
   "file_extension": ".py",
   "mimetype": "text/x-python",
   "name": "python",
   "nbconvert_exporter": "python",
   "pygments_lexer": "ipython3",
   "version": "3.9.12"
  }
 },
 "nbformat": 4,
 "nbformat_minor": 5
}

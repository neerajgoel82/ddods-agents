{
 "cells": [
  {
   "cell_type": "markdown",
   "id": "a37e7c4e",
   "metadata": {},
   "source": [
    "# Daily-Dose-of-Data-Science\n",
    "\n",
    "[Daily Dose of Data Science](https://avichawla.substack.com) is a publication on Substack that brings together intriguing frameworks, libraries, technologies, and tips that make the life cycle of a Data Science project effortless. \n",
    "\n",
    "Author: Avi Chawla\n",
    "\n",
    "[Medium](https://medium.com/@avi_chawla) | [LinkedIn](https://www.linkedin.com/in/avi-chawla/)\n",
    "\n",
    "# A Counterintuitive Thing About Python Dictionaries\n",
    "\n",
    "Post Link: [Substack](https://avichawla.substack.com/p/a-counterintuitive-thing-about-python)\n",
    "\n",
    "LinkedIn Post: [LinkedIn](https://www.linkedin.com/feed/update/urn:li:activity:7046436486048616448/)\n",
    "\n",
    "Twitter Post: [Twitter](https://twitter.com/_avichawla/status/1640671843576315904)"
   ]
  },
  {
   "cell_type": "code",
   "execution_count": 1,
   "id": "28e0fbc0",
   "metadata": {},
   "outputs": [],
   "source": [
    "my_dict = {\n",
    "    1.0: 'One (float)',\n",
    "    1: 'One (int)',\n",
    "    True: 'One (bool)',\n",
    "    '1': 'One (string)'\n",
    "}"
   ]
  },
  {
   "cell_type": "code",
   "execution_count": 2,
   "id": "6ea73ff2",
   "metadata": {},
   "outputs": [
    {
     "data": {
      "text/plain": [
       "{1.0: 'One (bool)', '1': 'One (string)'}"
      ]
     },
     "execution_count": 2,
     "metadata": {},
     "output_type": "execute_result"
    }
   ],
   "source": [
    "my_dict"
   ]
  }
 ],
 "metadata": {
  "kernelspec": {
   "display_name": "Python 3 (ipykernel)",
   "language": "python",
   "name": "python3"
  },
  "language_info": {
   "codemirror_mode": {
    "name": "ipython",
    "version": 3
   },
   "file_extension": ".py",
   "mimetype": "text/x-python",
   "name": "python",
   "nbconvert_exporter": "python",
   "pygments_lexer": "ipython3",
   "version": "3.9.12"
  }
 },
 "nbformat": 4,
 "nbformat_minor": 5
}

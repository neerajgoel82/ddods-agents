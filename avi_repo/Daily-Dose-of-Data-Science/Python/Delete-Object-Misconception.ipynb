{
 "cells": [
  {
   "cell_type": "markdown",
   "id": "67dd92bf",
   "metadata": {},
   "source": [
    "# Daily-Dose-of-Data-Science\n",
    "\n",
    "[Daily Dose of Data Science](https://avichawla.substack.com) is a publication on Substack that brings together intriguing frameworks, libraries, technologies, and tips that make the life cycle of a Data Science project effortless. \n",
    "\n",
    "Author: Avi Chawla\n",
    "\n",
    "[Medium](https://medium.com/@avi_chawla) | [LinkedIn](https://www.linkedin.com/in/avi-chawla/)\n",
    "\n",
    "# A Common Misconception About Deleting Objects in Python\n",
    "\n",
    "Post Link: [Substack](https://www.blog.dailydoseofds.com/p/a-common-misconception-about-deleting)\n",
    "\n",
    "LinkedIn Post: [LinkedIn](https://www.linkedin.com/feed/update/urn:li:share:7076871264346226688/)\n",
    "\n",
    "Twitter Post: [Twitter](https://twitter.com/_avichawla/status/1671105568432373764)"
   ]
  },
  {
   "cell_type": "code",
   "execution_count": 1,
   "id": "317af587",
   "metadata": {},
   "outputs": [],
   "source": [
    "class MyClass:\n",
    "    def __del__(self):\n",
    "        # Invoked when an object is deleted\n",
    "        print(\"Object Deleted!\")"
   ]
  },
  {
   "cell_type": "code",
   "execution_count": 2,
   "id": "56ea1fa8",
   "metadata": {},
   "outputs": [],
   "source": [
    "ObjectA = MyClass() # Create new object"
   ]
  },
  {
   "cell_type": "code",
   "execution_count": 3,
   "id": "103a5b67",
   "metadata": {},
   "outputs": [
    {
     "name": "stdout",
     "output_type": "stream",
     "text": [
      "Object Deleted!\n"
     ]
    }
   ],
   "source": [
    "del ObjectA"
   ]
  },
  {
   "cell_type": "code",
   "execution_count": 4,
   "id": "be93c598",
   "metadata": {},
   "outputs": [],
   "source": [
    "class MyClass:\n",
    "    def __del__(self): \n",
    "        print(\"Object Deleted!\")"
   ]
  },
  {
   "cell_type": "code",
   "execution_count": 5,
   "id": "d0ac105b",
   "metadata": {},
   "outputs": [],
   "source": [
    "ObjectA = MyClass() # Create new object"
   ]
  },
  {
   "cell_type": "code",
   "execution_count": 6,
   "id": "b961bbcd",
   "metadata": {},
   "outputs": [],
   "source": [
    "ObjectB = ObjectA # Assign another reference"
   ]
  },
  {
   "cell_type": "code",
   "execution_count": 7,
   "id": "041f6804",
   "metadata": {},
   "outputs": [],
   "source": [
    "del ObjectA # Does not print \"Object Deleted!\""
   ]
  },
  {
   "cell_type": "code",
   "execution_count": 8,
   "id": "d99e57d3",
   "metadata": {},
   "outputs": [
    {
     "name": "stdout",
     "output_type": "stream",
     "text": [
      "Object Deleted!\n"
     ]
    }
   ],
   "source": [
    "del ObjectB # We get the output now"
   ]
  }
 ],
 "metadata": {
  "kernelspec": {
   "display_name": "Python 3 (ipykernel)",
   "language": "python",
   "name": "python3"
  },
  "language_info": {
   "codemirror_mode": {
    "name": "ipython",
    "version": 3
   },
   "file_extension": ".py",
   "mimetype": "text/x-python",
   "name": "python",
   "nbconvert_exporter": "python",
   "pygments_lexer": "ipython3",
   "version": "3.9.12"
  },
  "toc": {
   "base_numbering": 1,
   "nav_menu": {},
   "number_sections": true,
   "sideBar": true,
   "skip_h1_title": false,
   "title_cell": "Table of Contents",
   "title_sidebar": "Contents",
   "toc_cell": false,
   "toc_position": {},
   "toc_section_display": true,
   "toc_window_display": false
  }
 },
 "nbformat": 4,
 "nbformat_minor": 5
}

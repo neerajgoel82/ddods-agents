{
 "cells": [
  {
   "cell_type": "markdown",
   "id": "28f3b83c",
   "metadata": {},
   "source": [
    "# Daily-Dose-of-Data-Science\n",
    "\n",
    "[Daily Dose of Data Science](https://avichawla.substack.com) is a publication on Substack that brings together intriguing frameworks, libraries, technologies, and tips that make the life cycle of a Data Science project effortless. \n",
    "\n",
    "Author: Avi Chawla\n",
    "\n",
    "[Medium](https://medium.com/@avi_chawla) | [LinkedIn](https://www.linkedin.com/in/avi-chawla/)\n",
    "\n",
    "# The Right Way to Roll Out Library Updates in Python\n",
    "\n",
    "Post Link: [Substack](https://avichawla.substack.com/p/the-right-way-to-roll-out-library)\n",
    "\n",
    "LinkedIn Post: [LinkedIn](https://www.linkedin.com/feed/update/urn:li:activity:7029758742673907713/)"
   ]
  },
  {
   "cell_type": "code",
   "execution_count": 1,
   "id": "acab19e5",
   "metadata": {},
   "outputs": [],
   "source": [
    "from deprecated import deprecated\n",
    "\n",
    "@deprecated(reason=\"This function will be deprecated in the next release. Use new_function instead.\")\n",
    "def old_function():\n",
    "    ..."
   ]
  },
  {
   "cell_type": "code",
   "execution_count": 2,
   "id": "57974949",
   "metadata": {},
   "outputs": [
    {
     "name": "stderr",
     "output_type": "stream",
     "text": [
      "2023-02-10 16:12:44,146 [53027] WARNING  py.warnings:109: [JupyterRequire] /var/folders/3w/0h9rv7rx7zq40g17g_bqrxvc0000gn/T/ipykernel_53027/413205487.py:1: DeprecationWarning: Call to deprecated function (or staticmethod) old_function. (This function will be deprecated in the next release. Use new_function instead.)\n",
      "  old_function()\n",
      "\n"
     ]
    }
   ],
   "source": [
    "old_function()"
   ]
  }
 ],
 "metadata": {
  "kernelspec": {
   "display_name": "Python 3 (ipykernel)",
   "language": "python",
   "name": "python3"
  },
  "language_info": {
   "codemirror_mode": {
    "name": "ipython",
    "version": 3
   },
   "file_extension": ".py",
   "mimetype": "text/x-python",
   "name": "python",
   "nbconvert_exporter": "python",
   "pygments_lexer": "ipython3",
   "version": "3.9.12"
  }
 },
 "nbformat": 4,
 "nbformat_minor": 5
}

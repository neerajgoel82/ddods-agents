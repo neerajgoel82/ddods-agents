{
 "cells": [
  {
   "cell_type": "markdown",
   "id": "7b535a09",
   "metadata": {},
   "source": [
    "# Daily-Dose-of-Data-Science\n",
    "\n",
    "[Daily Dose of Data Science](https://avichawla.substack.com) is a publication on Substack that brings together intriguing frameworks, libraries, technologies, and tips that make the life cycle of a Data Science project effortless. \n",
    "\n",
    "Author: Avi Chawla\n",
    "\n",
    "[Medium](https://medium.com/@avi_chawla) | [LinkedIn](https://www.linkedin.com/in/avi-chawla/)\n",
    "\n",
    "# Don't Use time.time() To Measure Execution Time\n",
    "\n",
    "Post Link: [Substack](https://avichawla.substack.com/p/dont-use-timetime-to-measure-execution)\n",
    "\n",
    "LinkedIn Post: [LinkedIn](https://www.linkedin.com/posts/avi-chawla_python-activity-6994626312023781377-uREr?utm_source=share&utm_medium=member_desktop)"
   ]
  },
  {
   "cell_type": "markdown",
   "id": "c314b307",
   "metadata": {},
   "source": [
    "### Using time.time()"
   ]
  },
  {
   "cell_type": "code",
   "execution_count": 1,
   "id": "790a00b3",
   "metadata": {
    "ExecuteTime": {
     "end_time": "2022-12-01T20:54:55.407883Z",
     "start_time": "2022-12-01T20:54:55.359699Z"
    }
   },
   "outputs": [],
   "source": [
    "import time"
   ]
  },
  {
   "cell_type": "code",
   "execution_count": 2,
   "id": "cda1fc37",
   "metadata": {
    "ExecuteTime": {
     "end_time": "2022-12-01T20:55:28.173914Z",
     "start_time": "2022-12-01T20:55:18.159962Z"
    }
   },
   "outputs": [
    {
     "name": "stdout",
     "output_type": "stream",
     "text": [
      "10.00530195236206\n"
     ]
    }
   ],
   "source": [
    "start = time.time()\n",
    "time.sleep(10)\n",
    "print(time.time() - start)"
   ]
  },
  {
   "cell_type": "markdown",
   "id": "a0f4fbf5",
   "metadata": {},
   "source": [
    "### Using time.pref_counter()"
   ]
  },
  {
   "cell_type": "code",
   "execution_count": 4,
   "id": "f2f98400",
   "metadata": {
    "ExecuteTime": {
     "end_time": "2022-12-01T20:55:51.332223Z",
     "start_time": "2022-12-01T20:55:41.323440Z"
    }
   },
   "outputs": [
    {
     "name": "stdout",
     "output_type": "stream",
     "text": [
      "10.003699041999994\n"
     ]
    }
   ],
   "source": [
    "start = time.perf_counter()\n",
    "time.sleep(10)\n",
    "print(time.perf_counter() - start)"
   ]
  },
  {
   "cell_type": "code",
   "execution_count": null,
   "id": "bbec132e",
   "metadata": {},
   "outputs": [],
   "source": []
  }
 ],
 "metadata": {
  "kernelspec": {
   "display_name": "Python 3 (ipykernel)",
   "language": "python",
   "name": "python3"
  },
  "language_info": {
   "codemirror_mode": {
    "name": "ipython",
    "version": 3
   },
   "file_extension": ".py",
   "mimetype": "text/x-python",
   "name": "python",
   "nbconvert_exporter": "python",
   "pygments_lexer": "ipython3",
   "version": "3.9.12"
  }
 },
 "nbformat": 4,
 "nbformat_minor": 5
}

{
 "cells": [
  {
   "cell_type": "markdown",
   "id": "9da42ada",
   "metadata": {},
   "source": [
    "# Daily-Dose-of-Data-Science\n",
    "\n",
    "[Daily Dose of Data Science](https://avichawla.substack.com) is a publication on Substack that brings together intriguing frameworks, libraries, technologies, and tips that make the life cycle of a Data Science project effortless. \n",
    "\n",
    "Author: Avi Chawla\n",
    "\n",
    "[Medium](https://medium.com/@avi_chawla) | [LinkedIn](https://www.linkedin.com/in/avi-chawla/)\n",
    "\n",
    "# DotMap: A Better Alternative to Python Dictionary\n",
    "\n",
    "Post Link: [Substack](https://avichawla.substack.com/p/dotmap-a-better-alternative-to-dict)"
   ]
  },
  {
   "cell_type": "code",
   "execution_count": null,
   "id": "dc18b69c",
   "metadata": {},
   "outputs": [],
   "source": [
    "!pip install dotmap"
   ]
  },
  {
   "cell_type": "code",
   "execution_count": 1,
   "id": "4bf2225f",
   "metadata": {
    "ExecuteTime": {
     "end_time": "2022-12-15T11:38:04.806762Z",
     "start_time": "2022-12-15T11:38:04.799807Z"
    }
   },
   "outputs": [],
   "source": [
    "from dotmap import DotMap"
   ]
  },
  {
   "cell_type": "code",
   "execution_count": 2,
   "id": "c2d5fc04",
   "metadata": {
    "ExecuteTime": {
     "end_time": "2022-12-15T11:38:04.809935Z",
     "start_time": "2022-12-15T11:38:04.807775Z"
    }
   },
   "outputs": [],
   "source": [
    "students = DotMap()\n",
    "\n",
    "students.john.id = \"12A\"\n",
    "students.john.english = 45\n",
    "students.mary.id = \"12B\"\n",
    "students.mary.english = 49\n",
    "students.dave.id = \"12C\"\n",
    "students.dave.english = 34"
   ]
  },
  {
   "cell_type": "code",
   "execution_count": 3,
   "id": "56ce1c37",
   "metadata": {
    "ExecuteTime": {
     "end_time": "2022-12-15T11:38:04.813983Z",
     "start_time": "2022-12-15T11:38:04.811024Z"
    }
   },
   "outputs": [
    {
     "name": "stdout",
     "output_type": "stream",
     "text": [
      "{'dave': {'english': 34, 'id': '12C'},\n",
      " 'john': {'english': 45, 'id': '12A'},\n",
      " 'mary': {'english': 49, 'id': '12B'}}\n"
     ]
    }
   ],
   "source": [
    "students.pprint()"
   ]
  },
  {
   "cell_type": "code",
   "execution_count": null,
   "id": "59bf09e8",
   "metadata": {},
   "outputs": [],
   "source": []
  }
 ],
 "metadata": {
  "kernelspec": {
   "display_name": "Python 3 (ipykernel)",
   "language": "python",
   "name": "python3"
  },
  "language_info": {
   "codemirror_mode": {
    "name": "ipython",
    "version": 3
   },
   "file_extension": ".py",
   "mimetype": "text/x-python",
   "name": "python",
   "nbconvert_exporter": "python",
   "pygments_lexer": "ipython3",
   "version": "3.9.12"
  }
 },
 "nbformat": 4,
 "nbformat_minor": 5
}

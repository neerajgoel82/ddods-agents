{
 "cells": [
  {
   "cell_type": "markdown",
   "id": "f2ef4212",
   "metadata": {},
   "source": [
    "# Daily-Dose-of-Data-Science\n",
    "\n",
    "[Daily Dose of Data Science](https://avichawla.substack.com) is a publication on Substack that brings together intriguing frameworks, libraries, technologies, and tips that make the life cycle of a Data Science project effortless. \n",
    "\n",
    "Author: Avi Chawla\n",
    "\n",
    "[Medium](https://medium.com/@avi_chawla) | [LinkedIn](https://www.linkedin.com/in/avi-chawla/)\n",
    "\n",
    "# A Counterintuitive Fact About Python Functions\n",
    "\n",
    "Post Link: [Substack](https://avichawla.substack.com/p/a-counterintuitive-fact-about-python)\n",
    "\n",
    "LinkedIn Post: [LinkedIn](https://www.linkedin.com/feed/update/urn:li:activity:7043167743876960256/)"
   ]
  },
  {
   "cell_type": "code",
   "execution_count": 1,
   "id": "a22bb9a2",
   "metadata": {},
   "outputs": [],
   "source": [
    "def my_func(): pass"
   ]
  },
  {
   "cell_type": "markdown",
   "id": "a567578c",
   "metadata": {},
   "source": [
    "### 1) Verify the type of function object"
   ]
  },
  {
   "cell_type": "code",
   "execution_count": 2,
   "id": "8bfab396",
   "metadata": {},
   "outputs": [
    {
     "data": {
      "text/plain": [
       "function"
      ]
     },
     "execution_count": 2,
     "metadata": {},
     "output_type": "execute_result"
    }
   ],
   "source": [
    "type(my_func)"
   ]
  },
  {
   "cell_type": "markdown",
   "id": "b7c18b55",
   "metadata": {},
   "source": [
    "### 2) Add new attributes to function object"
   ]
  },
  {
   "cell_type": "code",
   "execution_count": 4,
   "id": "6b5ef258",
   "metadata": {},
   "outputs": [],
   "source": [
    "my_func.my_attr = 'new_attribute'"
   ]
  },
  {
   "cell_type": "code",
   "execution_count": 5,
   "id": "bb4505b4",
   "metadata": {},
   "outputs": [
    {
     "data": {
      "text/plain": [
       "'new_attribute'"
      ]
     },
     "execution_count": 5,
     "metadata": {},
     "output_type": "execute_result"
    }
   ],
   "source": [
    "my_func.my_attr"
   ]
  },
  {
   "cell_type": "markdown",
   "id": "59423266",
   "metadata": {},
   "source": [
    "### 3) Pass as an argument to other functions"
   ]
  },
  {
   "cell_type": "code",
   "execution_count": 6,
   "id": "05e484d1",
   "metadata": {},
   "outputs": [],
   "source": [
    "def new_func(f): pass"
   ]
  },
  {
   "cell_type": "code",
   "execution_count": 7,
   "id": "8b71204a",
   "metadata": {},
   "outputs": [],
   "source": [
    "new_func(my_func)"
   ]
  },
  {
   "cell_type": "markdown",
   "id": "eb8a5d63",
   "metadata": {},
   "source": [
    "### 4) Access instance-level attributes/methods"
   ]
  },
  {
   "cell_type": "code",
   "execution_count": 8,
   "id": "8c85786c",
   "metadata": {},
   "outputs": [
    {
     "data": {
      "text/plain": [
       "'my_func'"
      ]
     },
     "execution_count": 8,
     "metadata": {},
     "output_type": "execute_result"
    }
   ],
   "source": [
    "my_func.__name__"
   ]
  },
  {
   "cell_type": "code",
   "execution_count": 9,
   "id": "ecf5aed7",
   "metadata": {},
   "outputs": [
    {
     "data": {
      "text/plain": [
       "{'my_attr': 'new_attribute'}"
      ]
     },
     "execution_count": 9,
     "metadata": {},
     "output_type": "execute_result"
    }
   ],
   "source": [
    "my_func.__dict__"
   ]
  }
 ],
 "metadata": {
  "kernelspec": {
   "display_name": "Python 3 (ipykernel)",
   "language": "python",
   "name": "python3"
  },
  "language_info": {
   "codemirror_mode": {
    "name": "ipython",
    "version": 3
   },
   "file_extension": ".py",
   "mimetype": "text/x-python",
   "name": "python",
   "nbconvert_exporter": "python",
   "pygments_lexer": "ipython3",
   "version": "3.9.12"
  },
  "toc": {
   "base_numbering": 1,
   "nav_menu": {},
   "number_sections": false,
   "sideBar": true,
   "skip_h1_title": false,
   "title_cell": "Table of Contents",
   "title_sidebar": "Contents",
   "toc_cell": false,
   "toc_position": {},
   "toc_section_display": true,
   "toc_window_display": true
  }
 },
 "nbformat": 4,
 "nbformat_minor": 5
}

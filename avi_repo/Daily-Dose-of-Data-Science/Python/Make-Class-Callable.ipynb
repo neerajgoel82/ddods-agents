{
 "cells": [
  {
   "cell_type": "markdown",
   "id": "e19fb40a",
   "metadata": {},
   "source": [
    "# Daily-Dose-of-Data-Science\n",
    "\n",
    "[Daily Dose of Data Science](https://avichawla.substack.com) is a publication on Substack that brings together intriguing frameworks, libraries, technologies, and tips that make the life cycle of a Data Science project effortless. \n",
    "\n",
    "Author: Avi Chawla\n",
    "\n",
    "[Medium](https://medium.com/@avi_chawla) | [LinkedIn](https://www.linkedin.com/in/avi-chawla/)\n",
    "\n",
    "# Make a Class Object Behave Like a Function\n",
    "\n",
    "Post Link: [Substack](https://avichawla.substack.com/p/make-a-class-object-behave-like-a)\n",
    "\n",
    "LinkedIn Post: [LinkedIn](https://www.linkedin.com/posts/avi-chawla_python-activity-7004762513355468801-VP-p?utm_source=share&utm_medium=member_desktop)"
   ]
  },
  {
   "cell_type": "code",
   "execution_count": 1,
   "id": "29ec833c",
   "metadata": {
    "ExecuteTime": {
     "end_time": "2022-12-03T11:13:10.522193Z",
     "start_time": "2022-12-03T11:13:10.461669Z"
    }
   },
   "outputs": [],
   "source": [
    "class Quadratic:\n",
    "    def __init__(self, a, b, c):\n",
    "        self.a = a\n",
    "        self.b = b\n",
    "        self.c = c\n",
    "\n",
    "    def __call__(self, x):\n",
    "        return (self.a * x**2) + \\\n",
    "               (self.b * x) + \\\n",
    "               self.c"
   ]
  },
  {
   "cell_type": "code",
   "execution_count": 2,
   "id": "e931e2f6",
   "metadata": {
    "ExecuteTime": {
     "end_time": "2022-12-03T11:13:16.594470Z",
     "start_time": "2022-12-03T11:13:16.588669Z"
    }
   },
   "outputs": [
    {
     "name": "stdout",
     "output_type": "stream",
     "text": [
      "6\n",
      "11\n"
     ]
    }
   ],
   "source": [
    "f = Quadratic(1, 2, 3)\n",
    "print(f(1))\n",
    "print(f(2))"
   ]
  },
  {
   "cell_type": "code",
   "execution_count": 3,
   "id": "8538211b",
   "metadata": {
    "ExecuteTime": {
     "end_time": "2022-12-03T11:13:23.993646Z",
     "start_time": "2022-12-03T11:13:23.989332Z"
    }
   },
   "outputs": [
    {
     "name": "stdout",
     "output_type": "stream",
     "text": [
      "True\n"
     ]
    }
   ],
   "source": [
    "print(callable(f))"
   ]
  },
  {
   "cell_type": "code",
   "execution_count": 4,
   "id": "b74d2055",
   "metadata": {
    "ExecuteTime": {
     "end_time": "2022-12-03T11:13:48.891774Z",
     "start_time": "2022-12-03T11:13:48.884257Z"
    }
   },
   "outputs": [],
   "source": [
    "## callable returns True if the object is callable (i.e., some kind of function)."
   ]
  },
  {
   "cell_type": "code",
   "execution_count": null,
   "id": "717ecfb7",
   "metadata": {},
   "outputs": [],
   "source": []
  }
 ],
 "metadata": {
  "kernelspec": {
   "display_name": "Python 3 (ipykernel)",
   "language": "python",
   "name": "python3"
  },
  "language_info": {
   "codemirror_mode": {
    "name": "ipython",
    "version": 3
   },
   "file_extension": ".py",
   "mimetype": "text/x-python",
   "name": "python",
   "nbconvert_exporter": "python",
   "pygments_lexer": "ipython3",
   "version": "3.9.12"
  }
 },
 "nbformat": 4,
 "nbformat_minor": 5
}

{
 "cells": [
  {
   "cell_type": "markdown",
   "id": "d4ef6754",
   "metadata": {},
   "source": [
    "# Daily-Dose-of-Data-Science\n",
    "\n",
    "[Daily Dose of Data Science](https://avichawla.substack.com) is a publication on Substack that brings together intriguing frameworks, libraries, technologies, and tips that make the life cycle of a Data Science project effortless. \n",
    "\n",
    "Author: Avi Chawla\n",
    "\n",
    "[Medium](https://medium.com/@avi_chawla) | [LinkedIn](https://www.linkedin.com/in/avi-chawla/)\n",
    "\n",
    "# Manipulating Mutable Objects In Python Can Get Confusing At Times\n",
    "\n",
    "Post Link: [Substack](https://avichawla.substack.com/p/manipulating-mutable-objects-in-python)\n",
    "\n",
    "LinkedIn Post: [LinkedIn](https://www.linkedin.com/feed/update/urn:li:activity:7039905019814383616/)"
   ]
  },
  {
   "cell_type": "markdown",
   "id": "a62f387a",
   "metadata": {},
   "source": [
    "### a = a + b"
   ]
  },
  {
   "cell_type": "code",
   "execution_count": 1,
   "id": "a8805ad2",
   "metadata": {
    "ExecuteTime": {
     "end_time": "2023-03-10T10:41:13.260618Z",
     "start_time": "2023-03-10T10:41:13.255640Z"
    }
   },
   "outputs": [],
   "source": [
    "a = [1,2,3]\n",
    "b = a"
   ]
  },
  {
   "cell_type": "code",
   "execution_count": 2,
   "id": "3f922d76",
   "metadata": {
    "ExecuteTime": {
     "end_time": "2023-03-10T10:41:13.266737Z",
     "start_time": "2023-03-10T10:41:13.261649Z"
    }
   },
   "outputs": [
    {
     "data": {
      "text/plain": [
       "(140420771957888, 140420771957888)"
      ]
     },
     "execution_count": 2,
     "metadata": {},
     "output_type": "execute_result"
    }
   ],
   "source": [
    "id(a), id(b)"
   ]
  },
  {
   "cell_type": "code",
   "execution_count": 3,
   "id": "8d29a18a",
   "metadata": {
    "ExecuteTime": {
     "end_time": "2023-03-10T10:41:15.534656Z",
     "start_time": "2023-03-10T10:41:15.529277Z"
    }
   },
   "outputs": [],
   "source": [
    "a = a + [4,5]"
   ]
  },
  {
   "cell_type": "code",
   "execution_count": 4,
   "id": "41028432",
   "metadata": {
    "ExecuteTime": {
     "end_time": "2023-03-10T10:41:15.763308Z",
     "start_time": "2023-03-10T10:41:15.754069Z"
    }
   },
   "outputs": [
    {
     "data": {
      "text/plain": [
       "[1, 2, 3, 4, 5]"
      ]
     },
     "execution_count": 4,
     "metadata": {},
     "output_type": "execute_result"
    }
   ],
   "source": [
    "a"
   ]
  },
  {
   "cell_type": "code",
   "execution_count": 5,
   "id": "f586d4e3",
   "metadata": {
    "ExecuteTime": {
     "end_time": "2023-03-10T10:41:16.563739Z",
     "start_time": "2023-03-10T10:41:16.558881Z"
    }
   },
   "outputs": [
    {
     "data": {
      "text/plain": [
       "[1, 2, 3]"
      ]
     },
     "execution_count": 5,
     "metadata": {},
     "output_type": "execute_result"
    }
   ],
   "source": [
    "b"
   ]
  },
  {
   "cell_type": "code",
   "execution_count": 6,
   "id": "9bb12f1f",
   "metadata": {
    "ExecuteTime": {
     "end_time": "2023-03-10T10:41:26.854360Z",
     "start_time": "2023-03-10T10:41:26.846583Z"
    }
   },
   "outputs": [
    {
     "data": {
      "text/plain": [
       "(140420772539840, 140420771957888)"
      ]
     },
     "execution_count": 6,
     "metadata": {},
     "output_type": "execute_result"
    }
   ],
   "source": [
    "id(a), id(b) ## id unchanged"
   ]
  },
  {
   "cell_type": "markdown",
   "id": "3ade3c55",
   "metadata": {},
   "source": [
    "### a += b"
   ]
  },
  {
   "cell_type": "code",
   "execution_count": 8,
   "id": "4189dfa0",
   "metadata": {
    "ExecuteTime": {
     "end_time": "2023-03-10T10:41:34.095668Z",
     "start_time": "2023-03-10T10:41:34.090049Z"
    }
   },
   "outputs": [],
   "source": [
    "a = [1,2,3]\n",
    "b = a"
   ]
  },
  {
   "cell_type": "code",
   "execution_count": 9,
   "id": "aceefcf8",
   "metadata": {
    "ExecuteTime": {
     "end_time": "2023-03-10T10:41:34.438298Z",
     "start_time": "2023-03-10T10:41:34.429830Z"
    }
   },
   "outputs": [
    {
     "data": {
      "text/plain": [
       "(140420771978560, 140420771978560)"
      ]
     },
     "execution_count": 9,
     "metadata": {},
     "output_type": "execute_result"
    }
   ],
   "source": [
    "id(a), id(b)"
   ]
  },
  {
   "cell_type": "code",
   "execution_count": 10,
   "id": "77bf0ad6",
   "metadata": {
    "ExecuteTime": {
     "end_time": "2023-03-10T10:41:34.752351Z",
     "start_time": "2023-03-10T10:41:34.747691Z"
    }
   },
   "outputs": [],
   "source": [
    "a += [4,5]"
   ]
  },
  {
   "cell_type": "code",
   "execution_count": 11,
   "id": "3082aa15",
   "metadata": {
    "ExecuteTime": {
     "end_time": "2023-03-10T10:41:36.436517Z",
     "start_time": "2023-03-10T10:41:36.430549Z"
    }
   },
   "outputs": [
    {
     "data": {
      "text/plain": [
       "[1, 2, 3, 4, 5]"
      ]
     },
     "execution_count": 11,
     "metadata": {},
     "output_type": "execute_result"
    }
   ],
   "source": [
    "a"
   ]
  },
  {
   "cell_type": "code",
   "execution_count": 12,
   "id": "7a769b9d",
   "metadata": {
    "ExecuteTime": {
     "end_time": "2023-03-10T10:41:36.663453Z",
     "start_time": "2023-03-10T10:41:36.656688Z"
    }
   },
   "outputs": [
    {
     "data": {
      "text/plain": [
       "[1, 2, 3, 4, 5]"
      ]
     },
     "execution_count": 12,
     "metadata": {},
     "output_type": "execute_result"
    }
   ],
   "source": [
    "b"
   ]
  },
  {
   "cell_type": "code",
   "execution_count": 13,
   "id": "5fabab7d",
   "metadata": {
    "ExecuteTime": {
     "end_time": "2023-03-10T10:41:38.555268Z",
     "start_time": "2023-03-10T10:41:38.547336Z"
    }
   },
   "outputs": [
    {
     "data": {
      "text/plain": [
       "(140420771978560, 140420771978560)"
      ]
     },
     "execution_count": 13,
     "metadata": {},
     "output_type": "execute_result"
    }
   ],
   "source": [
    "id(a), id(b) ## id unchanged"
   ]
  }
 ],
 "metadata": {
  "kernelspec": {
   "display_name": "Python 3 (ipykernel)",
   "language": "python",
   "name": "python3"
  },
  "language_info": {
   "codemirror_mode": {
    "name": "ipython",
    "version": 3
   },
   "file_extension": ".py",
   "mimetype": "text/x-python",
   "name": "python",
   "nbconvert_exporter": "python",
   "pygments_lexer": "ipython3",
   "version": "3.9.12"
  }
 },
 "nbformat": 4,
 "nbformat_minor": 5
}

{
 "cells": [
  {
   "cell_type": "markdown",
   "id": "b57b07ab",
   "metadata": {},
   "source": [
    "# Daily-Dose-of-Data-Science\n",
    "\n",
    "[Daily Dose of Data Science](https://avichawla.substack.com) is a publication on Substack that brings together intriguing frameworks, libraries, technologies, and tips that make the life cycle of a Data Science project effortless. \n",
    "\n",
    "Author: Avi Chawla\n",
    "\n",
    "[Medium](https://medium.com/@avi_chawla) | [LinkedIn](https://www.linkedin.com/in/avi-chawla/)\n",
    "\n",
    "# A Nasty Hidden Feature of Python That Many Programmers Aren't Aware Of\n",
    "\n",
    "Post Link: [Substack](https://avichawla.substack.com/p/a-nasty-hidden-feature-of-python)\n",
    "\n",
    "LinkedIn Post: [LinkedIn](https://www.linkedin.com/feed/update/urn:li:activity:7048981421910036482/)\n",
    "\n",
    "Twitter Post: [Twitter](https://twitter.com/_avichawla/status/1643217149224267776)"
   ]
  },
  {
   "cell_type": "code",
   "execution_count": 1,
   "id": "801b43ad",
   "metadata": {},
   "outputs": [
    {
     "name": "stdout",
     "output_type": "stream",
     "text": [
      "{'name': 'Joe', 'subjects': ['Maths']}\n",
      "{'name': 'Bob', 'subjects': ['Maths', 'Maths']}\n",
      "{'name': 'Roy', 'subjects': ['Maths', 'Maths', 'Maths']}\n"
     ]
    }
   ],
   "source": [
    "def add_subject(name, subject, subjects=[]):\n",
    "    subjects.append(subject)\n",
    "    return {'name': name, 'subjects': subjects}\n",
    "\n",
    "student1 = add_subject('Joe', 'Maths')\n",
    "print(student1) \n",
    "\n",
    "student2 = add_subject('Bob', 'Maths')\n",
    "print(student2) \n",
    "\n",
    "student3 = add_subject('Roy', 'Maths')\n",
    "print(student3)\n"
   ]
  },
  {
   "cell_type": "code",
   "execution_count": 2,
   "id": "ee5a1854",
   "metadata": {},
   "outputs": [
    {
     "data": {
      "text/plain": [
       "([],)"
      ]
     },
     "execution_count": 2,
     "metadata": {},
     "output_type": "execute_result"
    }
   ],
   "source": [
    "def add_subject(name, subject, subjects=[]):\n",
    "    subjects.append(subject)\n",
    "    return {'name': name, 'subjects': subjects}\n",
    "\n",
    "add_subject.__defaults__"
   ]
  },
  {
   "cell_type": "code",
   "execution_count": 3,
   "id": "ccef3258",
   "metadata": {},
   "outputs": [
    {
     "data": {
      "text/plain": [
       "(['Maths'],)"
      ]
     },
     "execution_count": 3,
     "metadata": {},
     "output_type": "execute_result"
    }
   ],
   "source": [
    "add_subject('Joe', 'Maths')\n",
    "\n",
    "add_subject.__defaults__"
   ]
  },
  {
   "cell_type": "code",
   "execution_count": 4,
   "id": "53433e64",
   "metadata": {},
   "outputs": [
    {
     "data": {
      "text/plain": [
       "(['Maths', 'Maths'],)"
      ]
     },
     "execution_count": 4,
     "metadata": {},
     "output_type": "execute_result"
    }
   ],
   "source": [
    "add_subject('Bob', 'Maths')\n",
    "\n",
    "add_subject.__defaults__"
   ]
  },
  {
   "cell_type": "code",
   "execution_count": 5,
   "id": "8bb70102",
   "metadata": {},
   "outputs": [
    {
     "data": {
      "text/plain": [
       "(['Maths', 'Maths', 'Maths'],)"
      ]
     },
     "execution_count": 5,
     "metadata": {},
     "output_type": "execute_result"
    }
   ],
   "source": [
    "add_subject('Roy', 'Maths')\n",
    "\n",
    "add_subject.__defaults__"
   ]
  },
  {
   "cell_type": "code",
   "execution_count": 6,
   "id": "343cf8b6",
   "metadata": {},
   "outputs": [
    {
     "name": "stdout",
     "output_type": "stream",
     "text": [
      "{'name': 'Joe', 'subjects': ['Maths']}\n",
      "{'name': 'Bob', 'subjects': ['Maths']}\n",
      "{'name': 'Roy', 'subjects': ['Maths']}\n"
     ]
    }
   ],
   "source": [
    "def add_subject(name, subject, subjects=None):\n",
    "    if subjects is None:\n",
    "        subjects = []\n",
    "    subjects.append(subject)\n",
    "    return {'name': name, 'subjects': subjects}\n",
    "\n",
    "student1 = add_subject('Joe', 'Maths')\n",
    "print(student1) \n",
    "\n",
    "student2 = add_subject('Bob', 'Maths')\n",
    "print(student2) \n",
    "\n",
    "student3 = add_subject('Roy', 'Maths')\n",
    "print(student3)\n"
   ]
  }
 ],
 "metadata": {
  "kernelspec": {
   "display_name": "Python 3 (ipykernel)",
   "language": "python",
   "name": "python3"
  },
  "language_info": {
   "codemirror_mode": {
    "name": "ipython",
    "version": 3
   },
   "file_extension": ".py",
   "mimetype": "text/x-python",
   "name": "python",
   "nbconvert_exporter": "python",
   "pygments_lexer": "ipython3",
   "version": "3.9.12"
  }
 },
 "nbformat": 4,
 "nbformat_minor": 5
}

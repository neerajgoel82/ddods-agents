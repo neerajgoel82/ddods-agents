{
 "cells": [
  {
   "cell_type": "markdown",
   "id": "268a52a7",
   "metadata": {},
   "source": [
    "# Daily-Dose-of-Data-Science\n",
    "\n",
    "[Daily Dose of Data Science](https://avichawla.substack.com) is a publication on Substack that brings together intriguing frameworks, libraries, technologies, and tips that make the life cycle of a Data Science project effortless. \n",
    "\n",
    "Author: Avi Chawla\n",
    "\n",
    "[Medium](https://medium.com/@avi_chawla) | [LinkedIn](https://www.linkedin.com/in/avi-chawla/)\n",
    "\n",
    "# You Were Probably Given Incomplete Info About A Tuple's Immutability\n",
    "\n",
    "Post Link: [Substack](https://avichawla.substack.com/p/you-were-probably-given-incomplete)\n",
    "\n",
    "LinkedIn Post: [LinkedIn](https://www.linkedin.com/feed/update/urn:li:activity:7052197162394206208/)\n",
    "\n",
    "Twitter Post: [Twitter](https://twitter.com/_avichawla/status/1646446664209637377)"
   ]
  },
  {
   "cell_type": "code",
   "execution_count": 2,
   "id": "513a74eb",
   "metadata": {},
   "outputs": [],
   "source": [
    "my_tuple = (1, [2,3])"
   ]
  },
  {
   "cell_type": "code",
   "execution_count": 3,
   "id": "1a15bba1",
   "metadata": {},
   "outputs": [
    {
     "data": {
      "text/plain": [
       "(140372147890480, 140371621359168)"
      ]
     },
     "execution_count": 3,
     "metadata": {},
     "output_type": "execute_result"
    }
   ],
   "source": [
    "id(my_tuple[0]), id(my_tuple[1])"
   ]
  },
  {
   "cell_type": "code",
   "execution_count": 4,
   "id": "e068ab89",
   "metadata": {},
   "outputs": [],
   "source": [
    "my_tuple[1].append(4) ## no error"
   ]
  },
  {
   "cell_type": "code",
   "execution_count": 5,
   "id": "f0790ea5",
   "metadata": {},
   "outputs": [
    {
     "data": {
      "text/plain": [
       "(1, [2, 3, 4])"
      ]
     },
     "execution_count": 5,
     "metadata": {},
     "output_type": "execute_result"
    }
   ],
   "source": [
    "my_tuple"
   ]
  },
  {
   "cell_type": "code",
   "execution_count": 7,
   "id": "76229767",
   "metadata": {},
   "outputs": [
    {
     "data": {
      "text/plain": [
       "(140372147890480, 140371621359168)"
      ]
     },
     "execution_count": 7,
     "metadata": {},
     "output_type": "execute_result"
    }
   ],
   "source": [
    "id(my_tuple[0]), id(my_tuple[1]) ## same ids"
   ]
  }
 ],
 "metadata": {
  "kernelspec": {
   "display_name": "Python 3 (ipykernel)",
   "language": "python",
   "name": "python3"
  },
  "language_info": {
   "codemirror_mode": {
    "name": "ipython",
    "version": 3
   },
   "file_extension": ".py",
   "mimetype": "text/x-python",
   "name": "python",
   "nbconvert_exporter": "python",
   "pygments_lexer": "ipython3",
   "version": "3.9.12"
  }
 },
 "nbformat": 4,
 "nbformat_minor": 5
}

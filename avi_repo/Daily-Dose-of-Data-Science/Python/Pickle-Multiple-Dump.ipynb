{
 "cells": [
  {
   "cell_type": "markdown",
   "id": "3cceef0a",
   "metadata": {},
   "source": [
    "# Daily Dose of Data Science\n",
    "\n",
    "[Daily Dose of Data Science](https://avichawla.substack.com) is a publication on Substack that brings together intriguing frameworks, libraries, technologies, and tips that make the life cycle of a Data Science project effortless. \n",
    "\n",
    "Author: Avi Chawla\n",
    "\n",
    "[Medium](https://medium.com/@avi_chawla) | [LinkedIn](https://www.linkedin.com/in/avi-chawla/)\n",
    "\n",
    "# Lesser-known Feature of Pickle Files\n",
    "\n",
    "Post Link: [Substack](https://avichawla.substack.com/p/lesser-known-feature-of-pickle-files)\n",
    "\n",
    "LinkedIn Post: [LinkedIn](https://www.linkedin.com/posts/activity-7004397029674086400-oMOg?utm_source=post_nba&utm_medium=member_desktop&utm_campaign=copy)"
   ]
  },
  {
   "cell_type": "code",
   "execution_count": 1,
   "id": "5b741f90",
   "metadata": {
    "ExecuteTime": {
     "end_time": "2022-12-02T17:23:07.586389Z",
     "start_time": "2022-12-02T17:23:07.526887Z"
    }
   },
   "outputs": [],
   "source": [
    "import pickle"
   ]
  },
  {
   "cell_type": "code",
   "execution_count": 2,
   "id": "103e2220",
   "metadata": {
    "ExecuteTime": {
     "end_time": "2022-12-02T17:24:11.381927Z",
     "start_time": "2022-12-02T17:24:11.372488Z"
    }
   },
   "outputs": [],
   "source": [
    "a,b,c = 1,2,3\n",
    "\n",
    "with open(\"../_Datasets/pickle_example.pickle\", \"wb\") as f:\n",
    "    pickle.dump(a, f)\n",
    "    pickle.dump(b, f)\n",
    "    pickle.dump(c, f)"
   ]
  },
  {
   "cell_type": "code",
   "execution_count": 3,
   "id": "9d906705",
   "metadata": {
    "ExecuteTime": {
     "end_time": "2022-12-02T17:24:39.908682Z",
     "start_time": "2022-12-02T17:24:39.901869Z"
    }
   },
   "outputs": [
    {
     "name": "stdout",
     "output_type": "stream",
     "text": [
      "1 2\n"
     ]
    }
   ],
   "source": [
    "with open(\"../_Datasets/pickle_example.pickle\", \"rb\") as f:\n",
    "    a = pickle.load(f)\n",
    "    b = pickle.load(f)\n",
    "print(a, b)"
   ]
  },
  {
   "cell_type": "code",
   "execution_count": 4,
   "id": "b119cdea",
   "metadata": {
    "ExecuteTime": {
     "end_time": "2022-12-02T17:24:51.387745Z",
     "start_time": "2022-12-02T17:24:51.217725Z"
    }
   },
   "outputs": [],
   "source": [
    "!rm ../_Datasets/pickle_example.pickle"
   ]
  },
  {
   "cell_type": "code",
   "execution_count": null,
   "id": "8305a906",
   "metadata": {},
   "outputs": [],
   "source": []
  }
 ],
 "metadata": {
  "kernelspec": {
   "display_name": "Python 3 (ipykernel)",
   "language": "python",
   "name": "python3"
  },
  "language_info": {
   "codemirror_mode": {
    "name": "ipython",
    "version": 3
   },
   "file_extension": ".py",
   "mimetype": "text/x-python",
   "name": "python",
   "nbconvert_exporter": "python",
   "pygments_lexer": "ipython3",
   "version": "3.9.12"
  }
 },
 "nbformat": 4,
 "nbformat_minor": 5
}

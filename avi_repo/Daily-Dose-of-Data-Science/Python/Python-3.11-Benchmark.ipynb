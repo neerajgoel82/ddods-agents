{
 "cells": [
  {
   "cell_type": "markdown",
   "id": "672ff360",
   "metadata": {},
   "source": [
    "# Daily-Dose-of-Data-Science\n",
    "\n",
    "[Daily Dose of Data Science](https://avichawla.substack.com) is a publication on Substack that brings together intriguing frameworks, libraries, technologies, and tips that make the life cycle of a Data Science project effortless. \n",
    "\n",
    "Author: Avi Chawla\n",
    "\n",
    "[Medium](https://medium.com/@avi_chawla) | [LinkedIn](https://www.linkedin.com/in/avi-chawla/)\n",
    "\n",
    "# Performance Comparison of Python 3.11 and Python 3.10\n",
    "\n",
    "Post Link: [Substack](https://avichawla.substack.com/p/performance-comparison-of-python)\n",
    "\n",
    "LinkedIn Post: [LinkedIn](https://www.linkedin.com/posts/avi-chawla_python-activity-7006204798492372992-LmB8?utm_source=share&utm_medium=member_desktop)"
   ]
  },
  {
   "cell_type": "markdown",
   "id": "713354d1",
   "metadata": {},
   "source": [
    "### Install Python 3.11 using the Installer here: https://www.python.org/downloads/"
   ]
  },
  {
   "cell_type": "code",
   "execution_count": 1,
   "id": "cd9c8b2e",
   "metadata": {
    "ExecuteTime": {
     "end_time": "2022-12-07T09:45:52.887656Z",
     "start_time": "2022-12-07T09:45:52.869781Z"
    }
   },
   "outputs": [],
   "source": [
    "from time import perf_counter"
   ]
  },
  {
   "cell_type": "code",
   "execution_count": 2,
   "id": "75d45656",
   "metadata": {
    "ExecuteTime": {
     "end_time": "2022-12-07T09:45:53.477740Z",
     "start_time": "2022-12-07T09:45:53.472493Z"
    }
   },
   "outputs": [],
   "source": [
    "def fib(n):\n",
    "    if n==0 or n==1:\n",
    "        return 1\n",
    "    else:\n",
    "        return fib(n-1) + fib(n-2)"
   ]
  },
  {
   "cell_type": "code",
   "execution_count": 3,
   "id": "fd468b12",
   "metadata": {
    "ExecuteTime": {
     "end_time": "2022-12-07T09:45:53.852191Z",
     "start_time": "2022-12-07T09:45:53.845585Z"
    }
   },
   "outputs": [],
   "source": [
    "def time_measure(n, runs = 5):\n",
    "    total = 0\n",
    "    for i in range(runs):\n",
    "        start = perf_counter()\n",
    "        a = fib(n)\n",
    "        total += perf_counter() - start\n",
    "    return total/runs"
   ]
  },
  {
   "cell_type": "code",
   "execution_count": 5,
   "id": "9e7393f0",
   "metadata": {
    "ExecuteTime": {
     "end_time": "2022-12-07T09:48:38.920052Z",
     "start_time": "2022-12-07T09:48:37.584661Z"
    }
   },
   "outputs": [
    {
     "data": {
      "text/plain": [
       "0.2664557917974889"
      ]
     },
     "execution_count": 5,
     "metadata": {},
     "output_type": "execute_result"
    }
   ],
   "source": [
    "time_measure(30)"
   ]
  },
  {
   "cell_type": "code",
   "execution_count": 4,
   "id": "75af0e1c",
   "metadata": {
    "ExecuteTime": {
     "end_time": "2022-12-07T09:48:37.579993Z",
     "start_time": "2022-12-07T09:45:55.929261Z"
    }
   },
   "outputs": [
    {
     "data": {
      "text/plain": [
       "32.32909240820445"
      ]
     },
     "execution_count": 4,
     "metadata": {},
     "output_type": "execute_result"
    }
   ],
   "source": [
    "time_measure(40)"
   ]
  },
  {
   "cell_type": "code",
   "execution_count": 8,
   "id": "f5f31d38",
   "metadata": {
    "ExecuteTime": {
     "end_time": "2022-12-07T09:49:24.559133Z",
     "start_time": "2022-12-07T09:49:24.551353Z"
    }
   },
   "outputs": [],
   "source": [
    "def approximate_pi(rank):\n",
    "    value = 0\n",
    "    for k in range(1, 2*rank+1, 2):\n",
    "        sign = -(k % 4 - 2)\n",
    "        value += float(sign) / k\n",
    "    return 4 * value"
   ]
  },
  {
   "cell_type": "code",
   "execution_count": 9,
   "id": "b8789390",
   "metadata": {
    "ExecuteTime": {
     "end_time": "2022-12-07T09:49:26.204625Z",
     "start_time": "2022-12-07T09:49:25.475255Z"
    }
   },
   "outputs": [
    {
     "name": "stdout",
     "output_type": "stream",
     "text": [
      "144 ms ± 13.8 ms per loop (mean ± std. dev. of 5 runs, 1 loop each)\n"
     ]
    }
   ],
   "source": [
    "%timeit -n1 -r5 approximate_pi(1000000)"
   ]
  },
  {
   "cell_type": "code",
   "execution_count": null,
   "id": "939c1a63",
   "metadata": {},
   "outputs": [],
   "source": []
  }
 ],
 "metadata": {
  "kernelspec": {
   "display_name": "Python 3 (ipykernel)",
   "language": "python",
   "name": "python3"
  },
  "language_info": {
   "codemirror_mode": {
    "name": "ipython",
    "version": 3
   },
   "file_extension": ".py",
   "mimetype": "text/x-python",
   "name": "python",
   "nbconvert_exporter": "python",
   "pygments_lexer": "ipython3",
   "version": "3.9.12"
  }
 },
 "nbformat": 4,
 "nbformat_minor": 5
}

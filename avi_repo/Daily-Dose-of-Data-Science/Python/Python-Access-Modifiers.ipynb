{
 "cells": [
  {
   "cell_type": "markdown",
   "id": "e766c1e2",
   "metadata": {},
   "source": [
    "# Daily-Dose-of-Data-Science\n",
    "\n",
    "[Daily Dose of Data Science](https://avichawla.substack.com) is a publication on Substack that brings together intriguing frameworks, libraries, technologies, and tips that make the life cycle of a Data Science project effortless. \n",
    "\n",
    "Author: Avi Chawla\n",
    "\n",
    "[Medium](https://medium.com/@avi_chawla) | [LinkedIn](https://www.linkedin.com/in/avi-chawla/)\n",
    "\n",
    "# Why Python Does Not Offer True OOP Encapsulation\n",
    "\n",
    "Post Link: [Substack](https://avichawla.substack.com/p/why-python-does-not-offer-true-oop)\n",
    "\n",
    "LinkedIn Post: [LinkedIn](https://www.linkedin.com/feed/update/urn:li:activity:7034848402840465409/)"
   ]
  },
  {
   "cell_type": "code",
   "execution_count": 1,
   "id": "c76d6c9e",
   "metadata": {},
   "outputs": [],
   "source": [
    "class MyClass:\n",
    "    def __init__(self):\n",
    "        self.public_attr     = \"I'm public\"    # 0 underscores\n",
    "        self._protected_attr = \"I'm protected\" # 1 underscore\n",
    "        self.__private_attr  = \"I'm private\"   # 2 underscores"
   ]
  },
  {
   "cell_type": "code",
   "execution_count": 2,
   "id": "4cbc11ee",
   "metadata": {},
   "outputs": [
    {
     "name": "stdout",
     "output_type": "stream",
     "text": [
      "I'm public\n"
     ]
    }
   ],
   "source": [
    "my_obj = MyClass()\n",
    "\n",
    "print(my_obj.public_attr)"
   ]
  },
  {
   "cell_type": "code",
   "execution_count": 3,
   "id": "4f0415cf",
   "metadata": {},
   "outputs": [
    {
     "name": "stdout",
     "output_type": "stream",
     "text": [
      "I'm protected\n"
     ]
    }
   ],
   "source": [
    "print(my_obj._protected_attr)"
   ]
  },
  {
   "cell_type": "code",
   "execution_count": 4,
   "id": "532fd855",
   "metadata": {},
   "outputs": [
    {
     "name": "stdout",
     "output_type": "stream",
     "text": [
      "I'm private\n"
     ]
    }
   ],
   "source": [
    "print(my_obj._MyClass__private_attr)"
   ]
  }
 ],
 "metadata": {
  "kernelspec": {
   "display_name": "Python 3 (ipykernel)",
   "language": "python",
   "name": "python3"
  },
  "language_info": {
   "codemirror_mode": {
    "name": "ipython",
    "version": 3
   },
   "file_extension": ".py",
   "mimetype": "text/x-python",
   "name": "python",
   "nbconvert_exporter": "python",
   "pygments_lexer": "ipython3",
   "version": "3.9.12"
  }
 },
 "nbformat": 4,
 "nbformat_minor": 5
}

{
 "cells": [
  {
   "cell_type": "markdown",
   "id": "ab216afc",
   "metadata": {},
   "source": [
    "# Daily-Dose-of-Data-Science\n",
    "\n",
    "[Daily Dose of Data Science](https://avichawla.substack.com) is a publication on Substack that brings together intriguing frameworks, libraries, technologies, and tips that make the life cycle of a Data Science project effortless. \n",
    "\n",
    "Author: Avi Chawla\n",
    "\n",
    "[Medium](https://medium.com/@avi_chawla) | [LinkedIn](https://www.linkedin.com/in/avi-chawla/)\n",
    "\n",
    "# You Can Add a List As a Dictionary's Key (Technically)!\n",
    "\n",
    "Post Link: [Substack](https://avichawla.substack.com/p/you-can-add-a-list-as-a-dictionarys)\n",
    "\n",
    "LinkedIn Post: [LinkedIn](https://www.linkedin.com/feed/update/urn:li:share:7038108716826517505/)"
   ]
  },
  {
   "cell_type": "code",
   "execution_count": 1,
   "id": "9179096c",
   "metadata": {
    "ExecuteTime": {
     "end_time": "2023-03-05T19:06:09.804439Z",
     "start_time": "2023-03-05T19:06:09.795496Z"
    }
   },
   "outputs": [],
   "source": [
    "class MyList(list):\n",
    "    def __hash__(self):\n",
    "        return 0"
   ]
  },
  {
   "cell_type": "code",
   "execution_count": 2,
   "id": "06f82364",
   "metadata": {
    "ExecuteTime": {
     "end_time": "2023-03-05T19:06:20.946003Z",
     "start_time": "2023-03-05T19:06:20.938214Z"
    }
   },
   "outputs": [],
   "source": [
    "my_list = MyList([1,2,3])"
   ]
  },
  {
   "cell_type": "code",
   "execution_count": 3,
   "id": "f6c17be1",
   "metadata": {
    "ExecuteTime": {
     "end_time": "2023-03-05T19:06:26.702627Z",
     "start_time": "2023-03-05T19:06:26.699511Z"
    }
   },
   "outputs": [],
   "source": [
    "my_dict = {}"
   ]
  },
  {
   "cell_type": "code",
   "execution_count": 4,
   "id": "070b1c14",
   "metadata": {
    "ExecuteTime": {
     "end_time": "2023-03-05T19:06:34.593611Z",
     "start_time": "2023-03-05T19:06:34.590047Z"
    }
   },
   "outputs": [],
   "source": [
    "my_dict[my_list] = True"
   ]
  },
  {
   "cell_type": "code",
   "execution_count": 5,
   "id": "abca49c7",
   "metadata": {
    "ExecuteTime": {
     "end_time": "2023-03-05T19:06:36.905202Z",
     "start_time": "2023-03-05T19:06:36.885271Z"
    }
   },
   "outputs": [
    {
     "data": {
      "text/plain": [
       "{[1, 2, 3]: True}"
      ]
     },
     "execution_count": 5,
     "metadata": {},
     "output_type": "execute_result"
    }
   ],
   "source": [
    "my_dict"
   ]
  },
  {
   "cell_type": "code",
   "execution_count": null,
   "id": "a3fbde77",
   "metadata": {},
   "outputs": [],
   "source": []
  }
 ],
 "metadata": {
  "kernelspec": {
   "display_name": "Python 3 (ipykernel)",
   "language": "python",
   "name": "python3"
  },
  "language_info": {
   "codemirror_mode": {
    "name": "ipython",
    "version": 3
   },
   "file_extension": ".py",
   "mimetype": "text/x-python",
   "name": "python",
   "nbconvert_exporter": "python",
   "pygments_lexer": "ipython3",
   "version": "3.9.12"
  }
 },
 "nbformat": 4,
 "nbformat_minor": 5
}

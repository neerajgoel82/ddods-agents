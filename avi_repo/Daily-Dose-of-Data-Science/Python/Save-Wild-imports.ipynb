{
 "cells": [
  {
   "cell_type": "markdown",
   "id": "9da42ada",
   "metadata": {},
   "source": [
    "# Daily-Dose-of-Data-Science\n",
    "\n",
    "[Daily Dose of Data Science](https://avichawla.substack.com) is a publication on Substack that brings together intriguing frameworks, libraries, technologies, and tips that make the life cycle of a Data Science project effortless. \n",
    "\n",
    "Author: Avi Chawla\n",
    "\n",
    "[Medium](https://medium.com/@avi_chawla) | [LinkedIn](https://www.linkedin.com/in/avi-chawla/)\n",
    "\n",
    "# Prevent Wild Imports With __all__ in Python\n",
    "\n",
    "Post Link: [Substack](https://avichawla.substack.com/p/prevent-wild-imports-with-__all__)\n",
    "\n",
    "LinkedIn Post: [LinkedIn](https://www.linkedin.com/posts/avi-chawla_python-pythonprogramming-activity-7009103638665015296-rvUr?utm_source=share&utm_medium=member_desktop)"
   ]
  },
  {
   "cell_type": "code",
   "execution_count": 1,
   "id": "4bf2225f",
   "metadata": {
    "ExecuteTime": {
     "end_time": "2022-12-15T08:35:54.482694Z",
     "start_time": "2022-12-15T08:35:54.280677Z"
    }
   },
   "outputs": [
    {
     "name": "stdout",
     "output_type": "stream",
     "text": [
      "__all__ = [\"func1\", \"func2\"]\r\n",
      "\r\n",
      "def func1():\r\n",
      "    return \"Function 1\"\r\n",
      "\r\n",
      "def func2():\r\n",
      "    return \"Function 2\"\r\n",
      "    \r\n",
      "def func3():\r\n",
      "    return \"Function 3\""
     ]
    }
   ],
   "source": [
    "!cat all_example.py"
   ]
  },
  {
   "cell_type": "code",
   "execution_count": 2,
   "id": "117a747f",
   "metadata": {
    "ExecuteTime": {
     "end_time": "2022-12-15T08:36:07.266881Z",
     "start_time": "2022-12-15T08:36:07.255838Z"
    }
   },
   "outputs": [],
   "source": [
    "from all_example import *"
   ]
  },
  {
   "cell_type": "code",
   "execution_count": 3,
   "id": "4bfc175c",
   "metadata": {
    "ExecuteTime": {
     "end_time": "2022-12-15T08:36:10.654627Z",
     "start_time": "2022-12-15T08:36:10.634497Z"
    }
   },
   "outputs": [
    {
     "data": {
      "text/plain": [
       "'Function 1'"
      ]
     },
     "execution_count": 3,
     "metadata": {},
     "output_type": "execute_result"
    }
   ],
   "source": [
    "func1()"
   ]
  },
  {
   "cell_type": "code",
   "execution_count": 4,
   "id": "76ec8064",
   "metadata": {
    "ExecuteTime": {
     "end_time": "2022-12-15T08:36:15.159510Z",
     "start_time": "2022-12-15T08:36:15.152000Z"
    }
   },
   "outputs": [
    {
     "data": {
      "text/plain": [
       "'Function 2'"
      ]
     },
     "execution_count": 4,
     "metadata": {},
     "output_type": "execute_result"
    }
   ],
   "source": [
    "func2()"
   ]
  },
  {
   "cell_type": "code",
   "execution_count": 5,
   "id": "8006df82",
   "metadata": {
    "ExecuteTime": {
     "end_time": "2022-12-15T08:36:18.326268Z",
     "start_time": "2022-12-15T08:36:17.936762Z"
    }
   },
   "outputs": [
    {
     "ename": "NameError",
     "evalue": "name 'func3' is not defined",
     "output_type": "error",
     "traceback": [
      "\u001b[0;31m---------------------------------------------------------------------------\u001b[0m",
      "\u001b[0;31mNameError\u001b[0m                                 Traceback (most recent call last)",
      "Input \u001b[0;32mIn [5]\u001b[0m, in \u001b[0;36m<cell line: 1>\u001b[0;34m()\u001b[0m\n\u001b[0;32m----> 1\u001b[0m \u001b[43mfunc3\u001b[49m()\n",
      "\u001b[0;31mNameError\u001b[0m: name 'func3' is not defined"
     ]
    }
   ],
   "source": [
    "func3()"
   ]
  }
 ],
 "metadata": {
  "kernelspec": {
   "display_name": "Python 3 (ipykernel)",
   "language": "python",
   "name": "python3"
  },
  "language_info": {
   "codemirror_mode": {
    "name": "ipython",
    "version": 3
   },
   "file_extension": ".py",
   "mimetype": "text/x-python",
   "name": "python",
   "nbconvert_exporter": "python",
   "pygments_lexer": "ipython3",
   "version": "3.9.12"
  }
 },
 "nbformat": 4,
 "nbformat_minor": 5
}

{
 "cells": [
  {
   "cell_type": "markdown",
   "id": "c1a117a6",
   "metadata": {},
   "source": [
    "# Daily-Dose-of-Data-Science\n",
    "\n",
    "[Daily Dose of Data Science](https://avichawla.substack.com) is a publication on Substack that brings together intriguing frameworks, libraries, technologies, and tips that make the life cycle of a Data Science project effortless. \n",
    "\n",
    "Author: Avi Chawla\n",
    "\n",
    "[Medium](https://medium.com/@avi_chawla) | [LinkedIn](https://www.linkedin.com/in/avi-chawla/)\n",
    "\n",
    "# Use Slotted Class To Improve Your Python Code\n",
    "\n",
    "\n",
    "Post Link: [Substack](https://avichawla.substack.com/p/use-slotted-class-to-improve-your)\n",
    "\n",
    "LinkedIn Post: [LinkedIn](https://www.linkedin.com/posts/avi-chawla_python-activity-6998953291409731584-0MHy?utm_source=share&utm_medium=member_desktop)"
   ]
  },
  {
   "cell_type": "markdown",
   "id": "0c7addb3",
   "metadata": {},
   "source": [
    "### No __Slots__"
   ]
  },
  {
   "cell_type": "code",
   "execution_count": 1,
   "id": "90e6e8da",
   "metadata": {
    "ExecuteTime": {
     "end_time": "2022-12-02T07:30:36.614630Z",
     "start_time": "2022-12-02T07:30:36.488087Z"
    }
   },
   "outputs": [],
   "source": [
    "class Person2:\n",
    "    \n",
    "    def __init__(self, name, age):\n",
    "            self.Name = name\n",
    "            self.Age = age\n",
    "\n",
    "person = Person2('Mike', '22')"
   ]
  },
  {
   "cell_type": "code",
   "execution_count": 2,
   "id": "1026ca21",
   "metadata": {
    "ExecuteTime": {
     "end_time": "2022-12-02T07:30:49.964039Z",
     "start_time": "2022-12-02T07:30:49.958531Z"
    }
   },
   "outputs": [],
   "source": [
    "person.name = \"Peter\" ## No error, Name written as name"
   ]
  },
  {
   "cell_type": "markdown",
   "id": "7fb1d0b5",
   "metadata": {},
   "source": [
    "### Using __Slots__"
   ]
  },
  {
   "cell_type": "code",
   "execution_count": 3,
   "id": "d851e581",
   "metadata": {
    "ExecuteTime": {
     "end_time": "2022-12-02T07:31:13.292408Z",
     "start_time": "2022-12-02T07:31:13.282077Z"
    }
   },
   "outputs": [],
   "source": [
    "class Person2:\n",
    "    __slots__ = [\"Name\", \"Age\"]\n",
    "    \n",
    "    def __init__(self, name, age):\n",
    "            self.Name = name\n",
    "            self.Age = age\n",
    "\n",
    "person = Person2('Mike', '22')"
   ]
  },
  {
   "cell_type": "code",
   "execution_count": 4,
   "id": "56ccc00e",
   "metadata": {
    "ExecuteTime": {
     "end_time": "2022-12-02T07:31:18.380021Z",
     "start_time": "2022-12-02T07:31:18.049543Z"
    }
   },
   "outputs": [
    {
     "ename": "AttributeError",
     "evalue": "'Person2' object has no attribute 'name'",
     "output_type": "error",
     "traceback": [
      "\u001b[0;31m---------------------------------------------------------------------------\u001b[0m",
      "\u001b[0;31mAttributeError\u001b[0m                            Traceback (most recent call last)",
      "Input \u001b[0;32mIn [4]\u001b[0m, in \u001b[0;36m<cell line: 1>\u001b[0;34m()\u001b[0m\n\u001b[0;32m----> 1\u001b[0m person\u001b[38;5;241m.\u001b[39mname \u001b[38;5;241m=\u001b[39m \u001b[38;5;124m\"\u001b[39m\u001b[38;5;124mPeter\u001b[39m\u001b[38;5;124m\"\u001b[39m\n",
      "\u001b[0;31mAttributeError\u001b[0m: 'Person2' object has no attribute 'name'"
     ]
    }
   ],
   "source": [
    "person.name = \"Peter\""
   ]
  },
  {
   "cell_type": "code",
   "execution_count": null,
   "id": "83b8539e",
   "metadata": {},
   "outputs": [],
   "source": []
  }
 ],
 "metadata": {
  "kernelspec": {
   "display_name": "Python 3 (ipykernel)",
   "language": "python",
   "name": "python3"
  },
  "language_info": {
   "codemirror_mode": {
    "name": "ipython",
    "version": 3
   },
   "file_extension": ".py",
   "mimetype": "text/x-python",
   "name": "python",
   "nbconvert_exporter": "python",
   "pygments_lexer": "ipython3",
   "version": "3.9.12"
  }
 },
 "nbformat": 4,
 "nbformat_minor": 5
}

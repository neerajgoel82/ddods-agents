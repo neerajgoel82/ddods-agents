{
 "cells": [
  {
   "cell_type": "markdown",
   "id": "89f06fcd",
   "metadata": {},
   "source": [
    "# Daily-Dose-of-Data-Science\n",
    "\n",
    "[Daily Dose of Data Science](https://avichawla.substack.com) is a publication on Substack that brings together intriguing frameworks, libraries, technologies, and tips that make the life cycle of a Data Science project effortless. \n",
    "\n",
    "Author: Avi Chawla\n",
    "\n",
    "[Medium](https://medium.com/@avi_chawla) | [LinkedIn](https://www.linkedin.com/in/avi-chawla/)\n",
    "\n",
    "# A Hidden Feature of a Popular String Method in Python\n",
    "\n",
    "Post Link: [Substack](https://www.blog.dailydoseofds.com/p/a-hidden-feature-of-a-popular-string)\n",
    "\n",
    "LinkedIn Post: [LinkedIn](https://www.linkedin.com/feed/update/urn:li:share:7073592070099116033/)\n",
    "\n",
    "Twitter Post: [Twitter](https://twitter.com/_avichawla/status/1667826324306644994)"
   ]
  },
  {
   "cell_type": "code",
   "execution_count": 4,
   "id": "340eb452",
   "metadata": {},
   "outputs": [
    {
     "name": "stdout",
     "output_type": "stream",
     "text": [
      "Peter\n",
      "Mike\n"
     ]
    }
   ],
   "source": [
    "names = [\"John\", \"Peter\", \"Mike\", \"Hana\"]\n",
    "\n",
    "for name in names:\n",
    "    if name.startswith(\"Pe\") or name.startswith(\"Mi\"): # multiple condition\n",
    "        print(name)"
   ]
  },
  {
   "cell_type": "code",
   "execution_count": 5,
   "id": "c6f0d3ac",
   "metadata": {},
   "outputs": [
    {
     "name": "stdout",
     "output_type": "stream",
     "text": [
      "Peter\n",
      "Mike\n"
     ]
    }
   ],
   "source": [
    "names = [\"John\", \"Peter\", \"Mike\", \"Hana\"]\n",
    "\n",
    "for name in names:\n",
    "    if name.startswith((\"Pe\", \"Mi\")): # one condition\n",
    "        print(name)"
   ]
  }
 ],
 "metadata": {
  "kernelspec": {
   "display_name": "Python 3 (ipyflow)",
   "language": "python",
   "name": "ipyflow"
  },
  "language_info": {
   "codemirror_mode": {
    "name": "ipython",
    "version": 3
   },
   "file_extension": ".py",
   "mimetype": "text/x-python",
   "name": "python",
   "nbconvert_exporter": "python",
   "pygments_lexer": "ipython3",
   "version": "3.9.12"
  },
  "toc": {
   "base_numbering": 1,
   "nav_menu": {},
   "number_sections": true,
   "sideBar": true,
   "skip_h1_title": false,
   "title_cell": "Table of Contents",
   "title_sidebar": "Contents",
   "toc_cell": false,
   "toc_position": {},
   "toc_section_display": true,
   "toc_window_display": false
  }
 },
 "nbformat": 4,
 "nbformat_minor": 5
}

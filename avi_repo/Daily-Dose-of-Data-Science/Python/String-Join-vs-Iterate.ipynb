{
 "cells": [
  {
   "cell_type": "markdown",
   "id": "3eb5d797",
   "metadata": {},
   "source": [
    "# Daily-Dose-of-Data-Science\n",
    "\n",
    "[Daily Dose of Data Science](https://avichawla.substack.com) is a publication on Substack that brings together intriguing frameworks, libraries, technologies, and tips that make the life cycle of a Data Science project effortless. \n",
    "\n",
    "Author: Avi Chawla\n",
    "\n",
    "[Medium](https://medium.com/@avi_chawla) | [LinkedIn](https://www.linkedin.com/in/avi-chawla/)\n",
    "\n",
    "# What Makes The Join() Method Blazingly Faster Than Iteration?\n",
    "\n",
    "Post Link: [Substack](https://www.blog.dailydoseofds.com/p/what-makes-the-join-method-blazingly)\n",
    "\n",
    "LinkedIn Post: [LinkedIn](https://www.linkedin.com/feed/update/urn:li:share:7076157879711334400)\n",
    "\n",
    "Twitter Post: [Twitter](https://twitter.com/_avichawla/status/1670392167213219841)"
   ]
  },
  {
   "cell_type": "code",
   "execution_count": 1,
   "id": "aeb2c567",
   "metadata": {},
   "outputs": [],
   "source": [
    "words = [\"Best\", \"way\", \"to\", \"join\", \"strings\", \"in\", \"Python\"]"
   ]
  },
  {
   "cell_type": "markdown",
   "id": "19889a02",
   "metadata": {},
   "source": [
    "### Approach #1: Iteration"
   ]
  },
  {
   "cell_type": "code",
   "execution_count": 2,
   "id": "a35e5eec",
   "metadata": {},
   "outputs": [
    {
     "name": "stdout",
     "output_type": "stream",
     "text": [
      "704 ns ± 63.9 ns per loop (mean ± std. dev. of 7 runs, 1,000,000 loops each)\n"
     ]
    }
   ],
   "source": [
    "%%timeit\n",
    "\n",
    "sentence = \"\"\n",
    "for word in words:\n",
    "    sentence += word + \" \"\n",
    "sentence = sentence[:-1]"
   ]
  },
  {
   "cell_type": "markdown",
   "id": "617b12b1",
   "metadata": {},
   "source": [
    "### Approach #2: Join()"
   ]
  },
  {
   "cell_type": "code",
   "execution_count": 3,
   "id": "bc9049e8",
   "metadata": {},
   "outputs": [
    {
     "name": "stdout",
     "output_type": "stream",
     "text": [
      "142 ns ± 0.952 ns per loop (mean ± std. dev. of 7 runs, 10,000,000 loops each)\n"
     ]
    }
   ],
   "source": [
    "%timeit sentence = \" \".join(words)"
   ]
  }
 ],
 "metadata": {
  "kernelspec": {
   "display_name": "Python 3 (ipykernel)",
   "language": "python",
   "name": "python3"
  },
  "language_info": {
   "codemirror_mode": {
    "name": "ipython",
    "version": 3
   },
   "file_extension": ".py",
   "mimetype": "text/x-python",
   "name": "python",
   "nbconvert_exporter": "python",
   "pygments_lexer": "ipython3",
   "version": "3.9.12"
  },
  "toc": {
   "base_numbering": 1,
   "nav_menu": {},
   "number_sections": true,
   "sideBar": true,
   "skip_h1_title": false,
   "title_cell": "Table of Contents",
   "title_sidebar": "Contents",
   "toc_cell": false,
   "toc_position": {},
   "toc_section_display": true,
   "toc_window_display": false
  }
 },
 "nbformat": 4,
 "nbformat_minor": 5
}

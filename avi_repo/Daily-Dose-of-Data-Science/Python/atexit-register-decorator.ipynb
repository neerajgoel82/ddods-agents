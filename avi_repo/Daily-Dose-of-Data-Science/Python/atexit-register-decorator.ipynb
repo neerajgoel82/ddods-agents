{
 "cells": [
  {
   "cell_type": "markdown",
   "id": "1303f283",
   "metadata": {},
   "source": [
    "# Daily-Dose-of-Data-Science\n",
    "\n",
    "[Daily Dose of Data Science](https://avichawla.substack.com) is a publication on Substack that brings together intriguing frameworks, libraries, technologies, and tips that make the life cycle of a Data Science project effortless. \n",
    "\n",
    "Author: Avi Chawla\n",
    "\n",
    "[Medium](https://medium.com/@avi_chawla) | [LinkedIn](https://www.linkedin.com/in/avi-chawla/)\n",
    "\n",
    "# An Elegant Way To Perform Shutdown Tasks in Python\n",
    "\n",
    "Post Link: [Substack](https://avichawla.substack.com/p/an-elegant-way-to-perform-shutdown)\n",
    "\n",
    "LinkedIn Post: [LinkedIn](https://www.linkedin.com/posts/activity-7016358526667112448-cdYw?utm_source=post_nba&utm_medium=member_desktop&utm_campaign=copy)"
   ]
  },
  {
   "cell_type": "code",
   "execution_count": 1,
   "id": "401285dc",
   "metadata": {},
   "outputs": [
    {
     "name": "stdout",
     "output_type": "stream",
     "text": [
      "import atexit\r\n",
      "from time import sleep\r\n",
      "\r\n",
      "@atexit.register\r\n",
      "def final_function():\r\n",
      "    print(\"EXECUTION COMPLETED!\")\r\n",
      "    \r\n",
      "for i in range(5):\r\n",
      "    print(f\"num = {i}\")"
     ]
    }
   ],
   "source": [
    "!cat atexit-register.py"
   ]
  },
  {
   "cell_type": "code",
   "execution_count": 2,
   "id": "4e6c6701",
   "metadata": {},
   "outputs": [
    {
     "name": "stdout",
     "output_type": "stream",
     "text": [
      "num = 0\r\n",
      "num = 1\r\n",
      "num = 2\r\n",
      "num = 3\r\n",
      "num = 4\r\n",
      "EXECUTION COMPLETED!\r\n"
     ]
    }
   ],
   "source": [
    "!python atexit-register.py"
   ]
  },
  {
   "cell_type": "code",
   "execution_count": null,
   "id": "4b258fbc",
   "metadata": {},
   "outputs": [],
   "source": []
  }
 ],
 "metadata": {
  "kernelspec": {
   "display_name": "Python 3 (ipykernel)",
   "language": "python",
   "name": "python3"
  },
  "language_info": {
   "codemirror_mode": {
    "name": "ipython",
    "version": 3
   },
   "file_extension": ".py",
   "mimetype": "text/x-python",
   "name": "python",
   "nbconvert_exporter": "python",
   "pygments_lexer": "ipython3",
   "version": "3.9.12"
  }
 },
 "nbformat": 4,
 "nbformat_minor": 5
}

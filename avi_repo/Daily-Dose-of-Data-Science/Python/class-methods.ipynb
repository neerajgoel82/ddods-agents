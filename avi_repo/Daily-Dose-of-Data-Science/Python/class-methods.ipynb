{
 "cells": [
  {
   "cell_type": "markdown",
   "id": "780874ad",
   "metadata": {},
   "source": [
    "# Daily-Dose-of-Data-Science\n",
    "\n",
    "[Daily Dose of Data Science](https://avichawla.substack.com) is a publication on Substack that brings together intriguing frameworks, libraries, technologies, and tips that make the life cycle of a Data Science project effortless. \n",
    "\n",
    "Author: Avi Chawla\n",
    "\n",
    "[Medium](https://medium.com/@avi_chawla) | [LinkedIn](https://www.linkedin.com/in/avi-chawla/)\n",
    "\n",
    "# What Are Class Methods and When To Use Them?\n",
    "\n",
    "Post Link: [Substack](https://avichawla.substack.com/p/what-are-class-methods-and-when-to)\n",
    "\n",
    "LinkedIn Post: [LinkedIn](https://www.linkedin.com/posts/activity-7014554914936795136-H95M?utm_source=post_nba&utm_medium=member_desktop&utm_campaign=copy)"
   ]
  },
  {
   "cell_type": "code",
   "execution_count": 1,
   "id": "77602542",
   "metadata": {},
   "outputs": [],
   "source": [
    "class Rectangle:\n",
    "    def __init__(self, width, height):\n",
    "        self.width = width\n",
    "        self.height = height\n",
    "\n",
    "    @classmethod\n",
    "    def from_square(cls, size):\n",
    "        return cls(size, size)"
   ]
  },
  {
   "cell_type": "code",
   "execution_count": 2,
   "id": "29526e0d",
   "metadata": {},
   "outputs": [],
   "source": [
    "rectangle = Rectangle.from_square(5)"
   ]
  },
  {
   "cell_type": "code",
   "execution_count": 3,
   "id": "887cc032",
   "metadata": {},
   "outputs": [
    {
     "data": {
      "text/plain": [
       "5"
      ]
     },
     "execution_count": 3,
     "metadata": {},
     "output_type": "execute_result"
    }
   ],
   "source": [
    "rectangle.width"
   ]
  },
  {
   "cell_type": "code",
   "execution_count": 4,
   "id": "b94e896b",
   "metadata": {},
   "outputs": [
    {
     "data": {
      "text/plain": [
       "5"
      ]
     },
     "execution_count": 4,
     "metadata": {},
     "output_type": "execute_result"
    }
   ],
   "source": [
    "rectangle.height"
   ]
  }
 ],
 "metadata": {
  "kernelspec": {
   "display_name": "Python 3 (ipykernel)",
   "language": "python",
   "name": "python3"
  },
  "language_info": {
   "codemirror_mode": {
    "name": "ipython",
    "version": 3
   },
   "file_extension": ".py",
   "mimetype": "text/x-python",
   "name": "python",
   "nbconvert_exporter": "python",
   "pygments_lexer": "ipython3",
   "version": "3.9.12"
  }
 },
 "nbformat": 4,
 "nbformat_minor": 5
}

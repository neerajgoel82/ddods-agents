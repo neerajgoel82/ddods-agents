{
 "cells": [
  {
   "cell_type": "markdown",
   "id": "9da42ada",
   "metadata": {},
   "source": [
    "# Daily-Dose-of-Data-Science\n",
    "\n",
    "[Daily Dose of Data Science](https://avichawla.substack.com) is a publication on Substack that brings together intriguing frameworks, libraries, technologies, and tips that make the life cycle of a Data Science project effortless. \n",
    "\n",
    "Author: Avi Chawla\n",
    "\n",
    "[Medium](https://medium.com/@avi_chawla) | [LinkedIn](https://www.linkedin.com/in/avi-chawla/)\n",
    "\n",
    "# Add Attributes to a Dataclass Post Initialization\n",
    "\n",
    "Post Link: [Substack](https://avichawla.substack.com/p/dataclass-post-init)"
   ]
  },
  {
   "cell_type": "code",
   "execution_count": 5,
   "id": "4bf2225f",
   "metadata": {
    "ExecuteTime": {
     "end_time": "2022-12-15T08:54:49.825767Z",
     "start_time": "2022-12-15T08:54:49.804379Z"
    }
   },
   "outputs": [],
   "source": [
    "from dataclasses import dataclass, field\n",
    "\n",
    "@dataclass\n",
    "class StudentMarks:\n",
    "    student_id:int\n",
    "    marks:float\n",
    "    \n",
    "    def __post_init__(self):\n",
    "        if self.marks>30:\n",
    "            self.grade = \"Pass\"\n",
    "        else:\n",
    "            self.grade = \"Fail\"\n",
    "        \n",
    "    \n",
    "Mark = StudentMarks(20, 43)"
   ]
  },
  {
   "cell_type": "code",
   "execution_count": 6,
   "id": "27621a9c",
   "metadata": {
    "ExecuteTime": {
     "end_time": "2022-12-15T08:54:56.194035Z",
     "start_time": "2022-12-15T08:54:56.173912Z"
    }
   },
   "outputs": [
    {
     "data": {
      "text/plain": [
       "StudentMarks(student_id=20, marks=43, grade='Pass')"
      ]
     },
     "execution_count": 6,
     "metadata": {},
     "output_type": "execute_result"
    }
   ],
   "source": [
    "Mark"
   ]
  },
  {
   "cell_type": "code",
   "execution_count": null,
   "id": "16ffc5a0",
   "metadata": {},
   "outputs": [],
   "source": []
  }
 ],
 "metadata": {
  "kernelspec": {
   "display_name": "Python 3 (ipykernel)",
   "language": "python",
   "name": "python3"
  },
  "language_info": {
   "codemirror_mode": {
    "name": "ipython",
    "version": 3
   },
   "file_extension": ".py",
   "mimetype": "text/x-python",
   "name": "python",
   "nbconvert_exporter": "python",
   "pygments_lexer": "ipython3",
   "version": "3.9.12"
  }
 },
 "nbformat": 4,
 "nbformat_minor": 5
}

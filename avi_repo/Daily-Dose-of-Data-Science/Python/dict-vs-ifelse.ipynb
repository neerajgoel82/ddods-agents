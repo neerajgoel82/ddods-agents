{
 "cells": [
  {
   "cell_type": "markdown",
   "id": "c03568ac",
   "metadata": {},
   "source": [
    "# Daily-Dose-of-Data-Science\n",
    "\n",
    "[Daily Dose of Data Science](https://avichawla.substack.com) is a publication on Substack that brings together intriguing frameworks, libraries, technologies, and tips that make the life cycle of a Data Science project effortless. \n",
    "\n",
    "Author: Avi Chawla\n",
    "\n",
    "[Medium](https://medium.com/@avi_chawla) | [LinkedIn](https://www.linkedin.com/in/avi-chawla/)\n",
    "\n",
    "# Using Dictionaries In Place of If-conditions\n",
    "\n",
    "Post Link: [Substack](https://avichawla.substack.com/p/using-dictionaries-in-place-of-if)\n",
    "\n",
    "LinkedIn Post: [LinkedIn](https://www.linkedin.com/posts/avi-chawla_python-pythonprogramming-activity-7000394964048179200-7bf_?utm_source=share&utm_medium=member_desktop)"
   ]
  },
  {
   "cell_type": "code",
   "execution_count": 1,
   "id": "737f7d05",
   "metadata": {
    "ExecuteTime": {
     "end_time": "2022-12-02T07:43:47.724409Z",
     "start_time": "2022-12-02T07:43:47.658491Z"
    }
   },
   "outputs": [],
   "source": [
    "def func_1():   \n",
    "    print(\"Function 1\")\n",
    "    \n",
    "def func_2():   \n",
    "    print(\"Function 2\")\n",
    "    \n",
    "def func_3():   \n",
    "    print(\"Function 3\")"
   ]
  },
  {
   "cell_type": "markdown",
   "id": "e1695a6a",
   "metadata": {},
   "source": [
    "## If-else"
   ]
  },
  {
   "cell_type": "code",
   "execution_count": 2,
   "id": "202cb804",
   "metadata": {
    "ExecuteTime": {
     "end_time": "2022-12-02T07:43:53.123621Z",
     "start_time": "2022-12-02T07:43:51.123585Z"
    },
    "scrolled": true
   },
   "outputs": [
    {
     "name": "stdout",
     "output_type": "stream",
     "text": [
      "3\n",
      "Function 3\n"
     ]
    }
   ],
   "source": [
    "number = int(input())\n",
    "\n",
    "if number == 1:\n",
    "    func_1()\n",
    "    \n",
    "if number == 2:\n",
    "    func_2()\n",
    "    \n",
    "if number == 3:\n",
    "    func_3()"
   ]
  },
  {
   "cell_type": "markdown",
   "id": "38e2684e",
   "metadata": {},
   "source": [
    "## Dictionary"
   ]
  },
  {
   "cell_type": "code",
   "execution_count": 3,
   "id": "d5f7dff1",
   "metadata": {
    "ExecuteTime": {
     "end_time": "2022-12-02T07:44:16.322899Z",
     "start_time": "2022-12-02T07:44:15.124584Z"
    }
   },
   "outputs": [
    {
     "name": "stdout",
     "output_type": "stream",
     "text": [
      "3\n",
      "Function 3\n"
     ]
    }
   ],
   "source": [
    "number = int(input())\n",
    "\n",
    "func_map = {1:func_1, \n",
    "            2:func_2,\n",
    "            3:func_3}\n",
    "            \n",
    "func_map[number]()"
   ]
  },
  {
   "cell_type": "code",
   "execution_count": null,
   "id": "6337fc77",
   "metadata": {},
   "outputs": [],
   "source": []
  }
 ],
 "metadata": {
  "kernelspec": {
   "display_name": "Python 3 (ipykernel)",
   "language": "python",
   "name": "python3"
  },
  "language_info": {
   "codemirror_mode": {
    "name": "ipython",
    "version": 3
   },
   "file_extension": ".py",
   "mimetype": "text/x-python",
   "name": "python",
   "nbconvert_exporter": "python",
   "pygments_lexer": "ipython3",
   "version": "3.9.12"
  }
 },
 "nbformat": 4,
 "nbformat_minor": 5
}

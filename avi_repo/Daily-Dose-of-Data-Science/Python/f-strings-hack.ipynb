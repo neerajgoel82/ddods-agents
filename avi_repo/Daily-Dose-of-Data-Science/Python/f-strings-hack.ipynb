{
 "cells": [
  {
   "cell_type": "markdown",
   "id": "e18a8fbb",
   "metadata": {},
   "source": [
    "# Daily-Dose-of-Data-Science\n",
    "\n",
    "[Daily Dose of Data Science](https://avichawla.substack.com) is a publication on Substack that brings together intriguing frameworks, libraries, technologies, and tips that make the life cycle of a Data Science project effortless. \n",
    "\n",
    "Author: Avi Chawla\n",
    "\n",
    "[Medium](https://medium.com/@avi_chawla) | [LinkedIn](https://www.linkedin.com/in/avi-chawla/)\n",
    "\n",
    "# F-strings Are Much More Versatile Than You Think\n",
    "\n",
    "Post Link: [Substack](https://avichawla.substack.com/p/f-strings-are-much-more-versatile)\n",
    "\n",
    "LinkedIn Post: [LinkedIn](https://www.linkedin.com/posts/avi-chawla_python-activity-7028316631357435904-KjYm?utm_source=share&utm_medium=member_desktop)"
   ]
  },
  {
   "cell_type": "code",
   "execution_count": 2,
   "id": "934eecf9",
   "metadata": {},
   "outputs": [
    {
     "name": "stdout",
     "output_type": "stream",
     "text": [
      "2 decimals: 205.00\n",
      "5 digits: 00205\n",
      "scientific: 2.050000e+02\n",
      "hex: 0xcd\n",
      "binary: 11001101\n",
      "octal: 315\n"
     ]
    }
   ],
   "source": [
    "number = 205\n",
    "\n",
    "# decimal places\n",
    "print(f\"2 decimals: {number:.2f}\")\n",
    "\n",
    "# total number of characters\n",
    "print(f\"5 digits: {number:05}\")\n",
    "\n",
    "# scientific notation\n",
    "print(f\"scientific: {number:e}\") \n",
    "\n",
    "# hex conversion\n",
    "print(f\"hex: {number:#0x}\")\n",
    "\n",
    "# binary conversion\n",
    "print(f\"binary: {number:b}\")\n",
    "\n",
    "# octal conversion\n",
    "print(f\"octal: {number:o}\")"
   ]
  },
  {
   "cell_type": "code",
   "execution_count": null,
   "id": "e92fb5f7",
   "metadata": {},
   "outputs": [],
   "source": []
  }
 ],
 "metadata": {
  "kernelspec": {
   "display_name": "Python 3 (ipykernel)",
   "language": "python",
   "name": "python3"
  },
  "language_info": {
   "codemirror_mode": {
    "name": "ipython",
    "version": 3
   },
   "file_extension": ".py",
   "mimetype": "text/x-python",
   "name": "python",
   "nbconvert_exporter": "python",
   "pygments_lexer": "ipython3",
   "version": "3.9.12"
  }
 },
 "nbformat": 4,
 "nbformat_minor": 5
}

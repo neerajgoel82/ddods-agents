{
 "cells": [
  {
   "cell_type": "markdown",
   "id": "9da42ada",
   "metadata": {},
   "source": [
    "# Daily-Dose-of-Data-Science\n",
    "\n",
    "[Daily Dose of Data Science](https://avichawla.substack.com) is a publication on Substack that brings together intriguing frameworks, libraries, technologies, and tips that make the life cycle of a Data Science project effortless. \n",
    "\n",
    "Author: Avi Chawla\n",
    "\n",
    "[Medium](https://medium.com/@avi_chawla) | [LinkedIn](https://www.linkedin.com/in/avi-chawla/)\n",
    "\n",
    "# List : Tuple :: Set : ?\n",
    "\n",
    "Post Link: [Substack](https://avichawla.substack.com/p/frozenset)"
   ]
  },
  {
   "cell_type": "code",
   "execution_count": 11,
   "id": "83b65faa",
   "metadata": {
    "ExecuteTime": {
     "end_time": "2022-12-15T10:31:27.562692Z",
     "start_time": "2022-12-15T10:31:27.142250Z"
    }
   },
   "outputs": [
    {
     "ename": "TypeError",
     "evalue": "unhashable type: 'set'",
     "output_type": "error",
     "traceback": [
      "\u001b[0;31m---------------------------------------------------------------------------\u001b[0m",
      "\u001b[0;31mTypeError\u001b[0m                                 Traceback (most recent call last)",
      "Input \u001b[0;32mIn [11]\u001b[0m, in \u001b[0;36m<cell line: 3>\u001b[0;34m()\u001b[0m\n\u001b[1;32m      1\u001b[0m my_set \u001b[38;5;241m=\u001b[39m {\u001b[38;5;241m1\u001b[39m, \u001b[38;5;241m2\u001b[39m, \u001b[38;5;241m3\u001b[39m}\n\u001b[0;32m----> 3\u001b[0m my_dict \u001b[38;5;241m=\u001b[39m {my_set: \u001b[38;5;124m\"\u001b[39m\u001b[38;5;124mA set\u001b[39m\u001b[38;5;124m\"\u001b[39m}\n",
      "\u001b[0;31mTypeError\u001b[0m: unhashable type: 'set'"
     ]
    }
   ],
   "source": [
    "my_set = {1, 2, 3}\n",
    "\n",
    "my_dict = {my_set: \"A set\"}"
   ]
  },
  {
   "cell_type": "code",
   "execution_count": 14,
   "id": "d069c70f",
   "metadata": {
    "ExecuteTime": {
     "end_time": "2022-12-15T10:31:41.160111Z",
     "start_time": "2022-12-15T10:31:41.150407Z"
    }
   },
   "outputs": [
    {
     "data": {
      "text/plain": [
       "'A frozen set'"
      ]
     },
     "execution_count": 14,
     "metadata": {},
     "output_type": "execute_result"
    }
   ],
   "source": [
    "my_set = frozenset({1, 2, 3})\n",
    "\n",
    "my_dict = {my_set: \"A frozen set\"}\n",
    "\n",
    "my_dict[my_set]"
   ]
  }
 ],
 "metadata": {
  "kernelspec": {
   "display_name": "Python 3 (ipykernel)",
   "language": "python",
   "name": "python3"
  },
  "language_info": {
   "codemirror_mode": {
    "name": "ipython",
    "version": 3
   },
   "file_extension": ".py",
   "mimetype": "text/x-python",
   "name": "python",
   "nbconvert_exporter": "python",
   "pygments_lexer": "ipython3",
   "version": "3.9.12"
  }
 },
 "nbformat": 4,
 "nbformat_minor": 5
}

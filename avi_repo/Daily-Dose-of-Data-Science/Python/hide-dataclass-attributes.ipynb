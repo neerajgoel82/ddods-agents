{
 "cells": [
  {
   "cell_type": "markdown",
   "id": "9da42ada",
   "metadata": {},
   "source": [
    "# Daily-Dose-of-Data-Science\n",
    "\n",
    "[Daily Dose of Data Science](https://avichawla.substack.com) is a publication on Substack that brings together intriguing frameworks, libraries, technologies, and tips that make the life cycle of a Data Science project effortless. \n",
    "\n",
    "Author: Avi Chawla\n",
    "\n",
    "[Medium](https://medium.com/@avi_chawla) | [LinkedIn](https://www.linkedin.com/in/avi-chawla/)\n",
    "\n",
    "# Hide Attributes While Printing A Dataclass Object\n",
    "\n",
    "Post Link: [Substack](https://avichawla.substack.com/p/hide-dataclass-attributes)"
   ]
  },
  {
   "cell_type": "code",
   "execution_count": 1,
   "id": "4bf2225f",
   "metadata": {
    "ExecuteTime": {
     "end_time": "2022-12-15T12:24:59.761017Z",
     "start_time": "2022-12-15T12:24:59.729651Z"
    }
   },
   "outputs": [
    {
     "name": "stdout",
     "output_type": "stream",
     "text": [
      "Student(name='Jane', key='27HD')\n"
     ]
    }
   ],
   "source": [
    "from dataclasses import dataclass\n",
    "\n",
    "@dataclass\n",
    "class Student:\n",
    "    name:str\n",
    "    key:str\n",
    "    \n",
    "Jane = Student(\"Jane\", \"27HD\")\n",
    "\n",
    "print(Jane)"
   ]
  },
  {
   "cell_type": "code",
   "execution_count": 2,
   "id": "8e12430c",
   "metadata": {
    "ExecuteTime": {
     "end_time": "2022-12-15T12:25:05.581320Z",
     "start_time": "2022-12-15T12:25:05.250428Z"
    }
   },
   "outputs": [
    {
     "ename": "TypeError",
     "evalue": "Student() takes no arguments",
     "output_type": "error",
     "traceback": [
      "\u001b[0;31m---------------------------------------------------------------------------\u001b[0m",
      "\u001b[0;31mTypeError\u001b[0m                                 Traceback (most recent call last)",
      "Input \u001b[0;32mIn [2]\u001b[0m, in \u001b[0;36m<cell line: 7>\u001b[0;34m()\u001b[0m\n\u001b[1;32m      4\u001b[0m     name:\u001b[38;5;28mstr\u001b[39m\n\u001b[1;32m      5\u001b[0m     key:\u001b[38;5;28mstr\u001b[39m \u001b[38;5;241m=\u001b[39m field(\u001b[38;5;28mrepr\u001b[39m \u001b[38;5;241m=\u001b[39m \u001b[38;5;28;01mFalse\u001b[39;00m)\n\u001b[0;32m----> 7\u001b[0m Jane \u001b[38;5;241m=\u001b[39m \u001b[43mStudent\u001b[49m\u001b[43m(\u001b[49m\u001b[38;5;124;43m\"\u001b[39;49m\u001b[38;5;124;43mJane\u001b[39;49m\u001b[38;5;124;43m\"\u001b[39;49m\u001b[43m,\u001b[49m\u001b[43m \u001b[49m\u001b[38;5;124;43m\"\u001b[39;49m\u001b[38;5;124;43m27HD\u001b[39;49m\u001b[38;5;124;43m\"\u001b[39;49m\u001b[43m)\u001b[49m\n\u001b[1;32m      9\u001b[0m \u001b[38;5;28mprint\u001b[39m(Jane)\n",
      "\u001b[0;31mTypeError\u001b[0m: Student() takes no arguments"
     ]
    }
   ],
   "source": [
    "from dataclasses import dataclass, field\n",
    "\n",
    "@dataclass\n",
    "class Student:\n",
    "    name:str\n",
    "    key:str = field(repr = False)\n",
    "    \n",
    "Jane = Student(\"Jane\", \"27HD\")\n",
    "print(Jane) "
   ]
  },
  {
   "cell_type": "code",
   "execution_count": null,
   "id": "966a598c",
   "metadata": {},
   "outputs": [],
   "source": []
  }
 ],
 "metadata": {
  "kernelspec": {
   "display_name": "Python 3 (ipykernel)",
   "language": "python",
   "name": "python3"
  },
  "language_info": {
   "codemirror_mode": {
    "name": "ipython",
    "version": 3
   },
   "file_extension": ".py",
   "mimetype": "text/x-python",
   "name": "python",
   "nbconvert_exporter": "python",
   "pygments_lexer": "ipython3",
   "version": "3.9.12"
  }
 },
 "nbformat": 4,
 "nbformat_minor": 5
}

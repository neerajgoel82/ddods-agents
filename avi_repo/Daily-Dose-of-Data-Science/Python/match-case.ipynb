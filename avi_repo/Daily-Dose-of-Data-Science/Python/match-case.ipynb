{
 "cells": [
  {
   "cell_type": "markdown",
   "id": "af985927",
   "metadata": {},
   "source": [
    "# Daily-Dose-of-Data-Science\n",
    "\n",
    "[Daily Dose of Data Science](https://avichawla.substack.com) is a publication on Substack that brings together intriguing frameworks, libraries, technologies, and tips that make the life cycle of a Data Science project effortless. \n",
    "\n",
    "Author: Avi Chawla\n",
    "\n",
    "[Medium](https://medium.com/@avi_chawla) | [LinkedIn](https://www.linkedin.com/in/avi-chawla/)\n",
    "\n",
    "# In Defense of Match-case Statements in Python\n",
    "\n",
    "\n",
    "Post Link: [Substack](https://avichawla.substack.com/p/in-defense-of-match-case-statements)\n",
    "\n",
    "LinkedIn Post: [LinkedIn](https://www.linkedin.com/posts/avi-chawla_python-activity-7001856105500815360-Xuvw?utm_source=share&utm_medium=member_desktop)"
   ]
  },
  {
   "cell_type": "code",
   "execution_count": 1,
   "id": "8b07e2b1",
   "metadata": {
    "ExecuteTime": {
     "end_time": "2022-12-02T07:53:33.372672Z",
     "start_time": "2022-12-02T07:53:33.311727Z"
    }
   },
   "outputs": [],
   "source": [
    "from dataclasses import dataclass\n",
    "\n",
    "@dataclass\n",
    "class Point3d:\n",
    "    x:int\n",
    "    y:int\n",
    "    z:int"
   ]
  },
  {
   "cell_type": "markdown",
   "id": "0e86f005",
   "metadata": {},
   "source": [
    "## If-else"
   ]
  },
  {
   "cell_type": "code",
   "execution_count": 2,
   "id": "f6c0ee6a",
   "metadata": {
    "ExecuteTime": {
     "end_time": "2022-12-02T07:53:44.984595Z",
     "start_time": "2022-12-02T07:53:44.970607Z"
    }
   },
   "outputs": [],
   "source": [
    "def make_point(coordinates):\n",
    "    \n",
    "    if isinstance(coordinates, (tuple, list)):\n",
    "        \n",
    "        if len(coordinates) == 2:\n",
    "            x, y = coordinates\n",
    "            return Point3d(x, y, 0)\n",
    "        \n",
    "        if len(coordinates) == 3:\n",
    "            x, y, z = coordinates\n",
    "            return Point3d(x, y, z)\n",
    "        \n",
    "        else:\n",
    "            raise TypeError(\"Unsupported\")\n",
    "    \n",
    "    else:\n",
    "        raise TypeError(\"Unsupported\")"
   ]
  },
  {
   "cell_type": "code",
   "execution_count": 3,
   "id": "3bf345c8",
   "metadata": {
    "ExecuteTime": {
     "end_time": "2022-12-02T07:53:57.440485Z",
     "start_time": "2022-12-02T07:53:57.415312Z"
    }
   },
   "outputs": [
    {
     "data": {
      "text/plain": [
       "Point3d(x=1, y=2, z=3)"
      ]
     },
     "execution_count": 3,
     "metadata": {},
     "output_type": "execute_result"
    }
   ],
   "source": [
    "make_point([1,2,3])"
   ]
  },
  {
   "cell_type": "code",
   "execution_count": 4,
   "id": "f568e44a",
   "metadata": {
    "ExecuteTime": {
     "end_time": "2022-12-02T07:54:01.353255Z",
     "start_time": "2022-12-02T07:54:01.345104Z"
    }
   },
   "outputs": [
    {
     "data": {
      "text/plain": [
       "Point3d(x=1, y=2, z=0)"
      ]
     },
     "execution_count": 4,
     "metadata": {},
     "output_type": "execute_result"
    }
   ],
   "source": [
    "make_point([1,2])"
   ]
  },
  {
   "cell_type": "code",
   "execution_count": 5,
   "id": "f8c39a5c",
   "metadata": {
    "ExecuteTime": {
     "end_time": "2022-12-02T07:54:06.236126Z",
     "start_time": "2022-12-02T07:54:05.851169Z"
    },
    "scrolled": false
   },
   "outputs": [
    {
     "ename": "TypeError",
     "evalue": "Unsupported",
     "output_type": "error",
     "traceback": [
      "\u001b[0;31m---------------------------------------------------------------------------\u001b[0m",
      "\u001b[0;31mTypeError\u001b[0m                                 Traceback (most recent call last)",
      "Input \u001b[0;32mIn [5]\u001b[0m, in \u001b[0;36m<cell line: 1>\u001b[0;34m()\u001b[0m\n\u001b[0;32m----> 1\u001b[0m \u001b[43mmake_point\u001b[49m\u001b[43m(\u001b[49m\u001b[43m[\u001b[49m\u001b[38;5;241;43m1\u001b[39;49m\u001b[43m,\u001b[49m\u001b[38;5;241;43m2\u001b[39;49m\u001b[43m,\u001b[49m\u001b[38;5;241;43m4\u001b[39;49m\u001b[43m,\u001b[49m\u001b[38;5;241;43m5\u001b[39;49m\u001b[43m]\u001b[49m\u001b[43m)\u001b[49m\n",
      "Input \u001b[0;32mIn [2]\u001b[0m, in \u001b[0;36mmake_point\u001b[0;34m(coordinates)\u001b[0m\n\u001b[1;32m     11\u001b[0m         \u001b[38;5;28;01mreturn\u001b[39;00m Point3d(x, y, z)\n\u001b[1;32m     13\u001b[0m     \u001b[38;5;28;01melse\u001b[39;00m:\n\u001b[0;32m---> 14\u001b[0m         \u001b[38;5;28;01mraise\u001b[39;00m \u001b[38;5;167;01mTypeError\u001b[39;00m(\u001b[38;5;124m\"\u001b[39m\u001b[38;5;124mUnsupported\u001b[39m\u001b[38;5;124m\"\u001b[39m)\n\u001b[1;32m     16\u001b[0m \u001b[38;5;28;01melse\u001b[39;00m:\n\u001b[1;32m     17\u001b[0m     \u001b[38;5;28;01mraise\u001b[39;00m \u001b[38;5;167;01mTypeError\u001b[39;00m(\u001b[38;5;124m\"\u001b[39m\u001b[38;5;124mUnsupported\u001b[39m\u001b[38;5;124m\"\u001b[39m)\n",
      "\u001b[0;31mTypeError\u001b[0m: Unsupported"
     ]
    }
   ],
   "source": [
    "make_point([1,2,4,5])"
   ]
  },
  {
   "cell_type": "markdown",
   "id": "c4ef6b58",
   "metadata": {},
   "source": [
    "## Match-case"
   ]
  },
  {
   "cell_type": "code",
   "execution_count": 7,
   "id": "7778748f",
   "metadata": {
    "ExecuteTime": {
     "end_time": "2022-12-02T07:54:40.143338Z",
     "start_time": "2022-12-02T07:54:40.137823Z"
    }
   },
   "outputs": [],
   "source": [
    "## use Python3.10 or above\n",
    "\n",
    "def make_point(coordinates):\n",
    "\n",
    "    match coordinates:    \n",
    "        case (x, y):\n",
    "            return Point3d(x, y, 0)\n",
    "        case (x, y, z):\n",
    "            return Point3d(x, y, z)\n",
    "        case _: ## Default\n",
    "            raise TypeError(\"Unsupported\")"
   ]
  },
  {
   "cell_type": "code",
   "execution_count": 8,
   "id": "e4af1be0",
   "metadata": {
    "ExecuteTime": {
     "end_time": "2022-12-02T07:55:02.414981Z",
     "start_time": "2022-12-02T07:55:02.398917Z"
    }
   },
   "outputs": [
    {
     "data": {
      "text/plain": [
       "Point3d(x=1, y=2, z=3)"
      ]
     },
     "execution_count": 8,
     "metadata": {},
     "output_type": "execute_result"
    }
   ],
   "source": [
    "make_point([1,2,3])"
   ]
  },
  {
   "cell_type": "code",
   "execution_count": 9,
   "id": "12984e19",
   "metadata": {
    "ExecuteTime": {
     "end_time": "2022-12-02T07:55:09.027711Z",
     "start_time": "2022-12-02T07:55:09.021220Z"
    }
   },
   "outputs": [
    {
     "data": {
      "text/plain": [
       "Point3d(x=1, y=2, z=0)"
      ]
     },
     "execution_count": 9,
     "metadata": {},
     "output_type": "execute_result"
    }
   ],
   "source": [
    "make_point([1,2])"
   ]
  }
 ],
 "metadata": {
  "kernelspec": {
   "display_name": "Python 3 (ipykernel)",
   "language": "python",
   "name": "python3"
  },
  "language_info": {
   "codemirror_mode": {
    "name": "ipython",
    "version": 3
   },
   "file_extension": ".py",
   "mimetype": "text/x-python",
   "name": "python",
   "nbconvert_exporter": "python",
   "pygments_lexer": "ipython3",
   "version": "3.9.12"
  }
 },
 "nbformat": 4,
 "nbformat_minor": 5
}

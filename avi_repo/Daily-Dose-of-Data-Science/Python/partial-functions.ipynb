{
 "cells": [
  {
   "cell_type": "markdown",
   "id": "9da42ada",
   "metadata": {},
   "source": [
    "# Daily-Dose-of-Data-Science\n",
    "\n",
    "[Daily Dose of Data Science](https://avichawla.substack.com) is a publication on Substack that brings together intriguing frameworks, libraries, technologies, and tips that make the life cycle of a Data Science project effortless. \n",
    "\n",
    "Author: Avi Chawla\n",
    "\n",
    "[Medium](https://medium.com/@avi_chawla) | [LinkedIn](https://www.linkedin.com/in/avi-chawla/)\n",
    "\n",
    "# Simplify Your Functions With Partial Functions\n",
    "\n",
    "Post Link: [Substack]()\n",
    "\n",
    "LinkedIn Post: [LinkedIn]()\n"
   ]
  },
  {
   "cell_type": "code",
   "execution_count": 1,
   "id": "4bf2225f",
   "metadata": {
    "ExecuteTime": {
     "end_time": "2022-12-15T09:33:28.793577Z",
     "start_time": "2022-12-15T09:33:28.769775Z"
    }
   },
   "outputs": [],
   "source": [
    "from functools import partial"
   ]
  },
  {
   "cell_type": "code",
   "execution_count": 16,
   "id": "db9ae94f",
   "metadata": {
    "ExecuteTime": {
     "end_time": "2022-12-15T09:43:16.766333Z",
     "start_time": "2022-12-15T09:43:16.755461Z"
    }
   },
   "outputs": [],
   "source": [
    "def quadratic(x, a, b, c):\n",
    "    return a*(x**2) + b*x + c"
   ]
  },
  {
   "cell_type": "code",
   "execution_count": 19,
   "id": "032a7fbd",
   "metadata": {
    "ExecuteTime": {
     "end_time": "2022-12-15T09:44:15.055941Z",
     "start_time": "2022-12-15T09:44:15.047215Z"
    }
   },
   "outputs": [
    {
     "data": {
      "text/plain": [
       "10"
      ]
     },
     "execution_count": 19,
     "metadata": {},
     "output_type": "execute_result"
    }
   ],
   "source": [
    "quadratic_b1 = partial(quadratic, c=1)\n",
    "\n",
    "quadratic_b1(x=1, a=4, b=5)"
   ]
  },
  {
   "cell_type": "code",
   "execution_count": 25,
   "id": "02b30e62",
   "metadata": {
    "ExecuteTime": {
     "end_time": "2022-12-15T09:46:27.433720Z",
     "start_time": "2022-12-15T09:46:27.413811Z"
    }
   },
   "outputs": [
    {
     "data": {
      "text/plain": [
       "6"
      ]
     },
     "execution_count": 25,
     "metadata": {},
     "output_type": "execute_result"
    }
   ],
   "source": [
    "quadratic_a1 = partial(quadratic, a=1)\n",
    "quadratic_a1(x=1, b=2, c=3) # 10"
   ]
  }
 ],
 "metadata": {
  "kernelspec": {
   "display_name": "Python 3 (ipykernel)",
   "language": "python",
   "name": "python3"
  },
  "language_info": {
   "codemirror_mode": {
    "name": "ipython",
    "version": 3
   },
   "file_extension": ".py",
   "mimetype": "text/x-python",
   "name": "python",
   "nbconvert_exporter": "python",
   "pygments_lexer": "ipython3",
   "version": "3.9.12"
  }
 },
 "nbformat": 4,
 "nbformat_minor": 5
}

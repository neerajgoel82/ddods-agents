{
 "cells": [
  {
   "cell_type": "markdown",
   "id": "ad6a6e37",
   "metadata": {},
   "source": [
    "# Daily-Dose-of-Data-Science\n",
    "\n",
    "[Daily Dose of Data Science](https://avichawla.substack.com) is a publication on Substack that brings together intriguing frameworks, libraries, technologies, and tips that make the life cycle of a Data Science project effortless. \n",
    "\n",
    "Author: Avi Chawla\n",
    "\n",
    "[Medium](https://medium.com/@avi_chawla) | [LinkedIn](https://www.linkedin.com/in/avi-chawla/)\n",
    "\n",
    "# Don't Create Conditional Columns in Pandas with Apply\n",
    "\n",
    "\n",
    "Post Link: [Substack](https://avichawla.substack.com/p/dont-create-conditional-columns-in)\n",
    "\n",
    "LinkedIn Post: [LinkedIn](https://www.linkedin.com/posts/avi-chawla_python-pandas-numpy-activity-6991707667480104960-0y9_?utm_source=share&utm_medium=member_desktop)"
   ]
  },
  {
   "cell_type": "code",
   "execution_count": 1,
   "id": "71f166a3",
   "metadata": {
    "ExecuteTime": {
     "end_time": "2022-12-01T20:30:01.665723Z",
     "start_time": "2022-12-01T20:30:00.543908Z"
    }
   },
   "outputs": [],
   "source": [
    "import pandas as pd\n",
    "import numpy as np"
   ]
  },
  {
   "cell_type": "code",
   "execution_count": 2,
   "id": "35307055",
   "metadata": {
    "ExecuteTime": {
     "end_time": "2022-12-01T20:30:06.011926Z",
     "start_time": "2022-12-01T20:30:06.004284Z"
    }
   },
   "outputs": [],
   "source": [
    "def assign_class(num):\n",
    "    if num>0.5:\n",
    "        return \"Class A\"\n",
    "    return \"Class B\""
   ]
  },
  {
   "cell_type": "code",
   "execution_count": 3,
   "id": "14f4e6c8",
   "metadata": {
    "ExecuteTime": {
     "end_time": "2022-12-01T20:30:10.489220Z",
     "start_time": "2022-12-01T20:30:10.321307Z"
    }
   },
   "outputs": [],
   "source": [
    "df = pd.DataFrame(np.random.random((10**7,1)).round(2), columns = [\"col1\"])"
   ]
  },
  {
   "cell_type": "code",
   "execution_count": 4,
   "id": "4de271ca",
   "metadata": {
    "ExecuteTime": {
     "end_time": "2022-12-01T20:30:25.529730Z",
     "start_time": "2022-12-01T20:30:17.291426Z"
    }
   },
   "outputs": [
    {
     "name": "stdout",
     "output_type": "stream",
     "text": [
      "996 ms ± 38.3 ms per loop (mean ± std. dev. of 7 runs, 1 loop each)\n"
     ]
    }
   ],
   "source": [
    "%timeit a = df.col1.apply(assign_class)"
   ]
  },
  {
   "cell_type": "code",
   "execution_count": 5,
   "id": "a49cb571",
   "metadata": {
    "ExecuteTime": {
     "end_time": "2022-12-01T20:30:27.882476Z",
     "start_time": "2022-12-01T20:30:26.294868Z"
    }
   },
   "outputs": [
    {
     "name": "stdout",
     "output_type": "stream",
     "text": [
      "184 ms ± 1.42 ms per loop (mean ± std. dev. of 7 runs, 1 loop each)\n"
     ]
    }
   ],
   "source": [
    "%timeit a = np.where(df[\"col1\"]>0.5, \"Class A\", \"Class B\")"
   ]
  },
  {
   "cell_type": "code",
   "execution_count": null,
   "id": "4f5da250",
   "metadata": {},
   "outputs": [],
   "source": []
  }
 ],
 "metadata": {
  "kernelspec": {
   "display_name": "Python 3 (ipykernel)",
   "language": "python",
   "name": "python3"
  },
  "language_info": {
   "codemirror_mode": {
    "name": "ipython",
    "version": 3
   },
   "file_extension": ".py",
   "mimetype": "text/x-python",
   "name": "python",
   "nbconvert_exporter": "python",
   "pygments_lexer": "ipython3",
   "version": "3.9.12"
  }
 },
 "nbformat": 4,
 "nbformat_minor": 5
}

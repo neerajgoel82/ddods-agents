{
 "cells": [
  {
   "cell_type": "markdown",
   "id": "1b4b2242",
   "metadata": {},
   "source": [
    "# Daily-Dose-of-Data-Science\n",
    "\n",
    "[Daily Dose of Data Science](https://avichawla.substack.com) is a publication on Substack that brings together intriguing frameworks, libraries, technologies, and tips that make the life cycle of a Data Science project effortless. \n",
    "\n",
    "Author: Avi Chawla\n",
    "\n",
    "[Medium](https://medium.com/@avi_chawla) | [LinkedIn](https://www.linkedin.com/in/avi-chawla/)"
   ]
  },
  {
   "cell_type": "markdown",
   "id": "649d3e7b",
   "metadata": {},
   "source": [
    "# Why you should not dump DataFrames to a CSV\n",
    "\n",
    "Post Link: [Substack](https://avichawla.substack.com/p/why-you-should-not-dump-dataframes)\n",
    "\n",
    "LinkedIn Post: [LinkedIn](https://www.linkedin.com/posts/avi-chawla_datascience-python-pandas-activity-6985486493343465472-ysLo?utm_source=share&utm_medium=member_desktop)"
   ]
  },
  {
   "cell_type": "code",
   "execution_count": 1,
   "id": "24223915",
   "metadata": {
    "ExecuteTime": {
     "end_time": "2022-12-01T19:13:24.064818Z",
     "start_time": "2022-12-01T19:13:16.093774Z"
    }
   },
   "outputs": [
    {
     "data": {
      "application/javascript": [
       "\n",
       "        if (window._pyforest_update_imports_cell) { window._pyforest_update_imports_cell('import pandas as pd'); }\n",
       "    "
      ],
      "text/plain": [
       "<IPython.core.display.Javascript object>"
      ]
     },
     "metadata": {},
     "output_type": "display_data"
    },
    {
     "data": {
      "text/html": [
       "<div>\n",
       "<style scoped>\n",
       "    .dataframe tbody tr th:only-of-type {\n",
       "        vertical-align: middle;\n",
       "    }\n",
       "\n",
       "    .dataframe tbody tr th {\n",
       "        vertical-align: top;\n",
       "    }\n",
       "\n",
       "    .dataframe thead th {\n",
       "        text-align: right;\n",
       "    }\n",
       "</style>\n",
       "<table border=\"1\" class=\"dataframe\">\n",
       "  <thead>\n",
       "    <tr style=\"text-align: right;\">\n",
       "      <th></th>\n",
       "      <th>C0</th>\n",
       "      <th>intcol_1</th>\n",
       "      <th>intcol_2</th>\n",
       "      <th>intcol_3</th>\n",
       "      <th>intcol_4</th>\n",
       "      <th>intcol_5</th>\n",
       "      <th>intcol_6</th>\n",
       "      <th>intcol_7</th>\n",
       "      <th>intcol_8</th>\n",
       "      <th>intcol_9</th>\n",
       "      <th>...</th>\n",
       "      <th>strcol6</th>\n",
       "      <th>strcol7</th>\n",
       "      <th>strcol8</th>\n",
       "      <th>strcol9</th>\n",
       "      <th>strcol10</th>\n",
       "      <th>strcol11</th>\n",
       "      <th>strcol12</th>\n",
       "      <th>strcol13</th>\n",
       "      <th>strcol14</th>\n",
       "      <th>strcol15</th>\n",
       "    </tr>\n",
       "  </thead>\n",
       "  <tbody>\n",
       "    <tr>\n",
       "      <th>0</th>\n",
       "      <td>0</td>\n",
       "      <td>629546</td>\n",
       "      <td>442260</td>\n",
       "      <td>389214</td>\n",
       "      <td>635686</td>\n",
       "      <td>289129</td>\n",
       "      <td>912029</td>\n",
       "      <td>715590</td>\n",
       "      <td>79558</td>\n",
       "      <td>506208</td>\n",
       "      <td>...</td>\n",
       "      <td>nt4WFLERleixBSDZhhKBfY5</td>\n",
       "      <td>DiR3Uzqjx3KqaT</td>\n",
       "      <td>NKxyoi49WYB3Y1NbVDg</td>\n",
       "      <td>3AdhkV4uSm3g2ECw</td>\n",
       "      <td>k9RDt0q0YnFFI7TXeuKCa</td>\n",
       "      <td>6GvE15L</td>\n",
       "      <td>CcxD11kUuzpk5NHae</td>\n",
       "      <td>MwDpki41</td>\n",
       "      <td>Oy7YfDUteW1QN</td>\n",
       "      <td>pe5Fs9DioMG1kw6g14A</td>\n",
       "    </tr>\n",
       "    <tr>\n",
       "      <th>1</th>\n",
       "      <td>1</td>\n",
       "      <td>650169</td>\n",
       "      <td>445749</td>\n",
       "      <td>665159</td>\n",
       "      <td>386977</td>\n",
       "      <td>382261</td>\n",
       "      <td>283381</td>\n",
       "      <td>916643</td>\n",
       "      <td>712778</td>\n",
       "      <td>132990</td>\n",
       "      <td>...</td>\n",
       "      <td>Rj9vugo2cf</td>\n",
       "      <td>lUmC6Aii0dStE1q7x</td>\n",
       "      <td>aN5hZqWBoa8jYn</td>\n",
       "      <td>cMz8tJMGWa23Ikca</td>\n",
       "      <td>8VRxFdhAB0gvhiv4qAZQtQvv</td>\n",
       "      <td>vfzobXtQl3ViAF</td>\n",
       "      <td>05KMiuFCDRgE1ZwRQhL</td>\n",
       "      <td>yaSZQMaidxvo</td>\n",
       "      <td>NADZS</td>\n",
       "      <td>U7Ww8Vgez6Fk2jtyz</td>\n",
       "    </tr>\n",
       "    <tr>\n",
       "      <th>2</th>\n",
       "      <td>2</td>\n",
       "      <td>188568</td>\n",
       "      <td>26298</td>\n",
       "      <td>415460</td>\n",
       "      <td>204051</td>\n",
       "      <td>800327</td>\n",
       "      <td>660064</td>\n",
       "      <td>852586</td>\n",
       "      <td>866171</td>\n",
       "      <td>606723</td>\n",
       "      <td>...</td>\n",
       "      <td>RZ2fd1</td>\n",
       "      <td>kBWGlOKn</td>\n",
       "      <td>YFXtpGNyl3C</td>\n",
       "      <td>Dpyr5OBWpdAn</td>\n",
       "      <td>n9JoLiIalcqF</td>\n",
       "      <td>5a7XJ</td>\n",
       "      <td>vVw3UOen6XCBVyA2kDDkG</td>\n",
       "      <td>K1FGaqEZ</td>\n",
       "      <td>5WEH71bxioEYbZB2FwGc</td>\n",
       "      <td>FwfpE7avCPyxzcE3bAN</td>\n",
       "    </tr>\n",
       "    <tr>\n",
       "      <th>3</th>\n",
       "      <td>3</td>\n",
       "      <td>47146</td>\n",
       "      <td>452421</td>\n",
       "      <td>883946</td>\n",
       "      <td>348592</td>\n",
       "      <td>515162</td>\n",
       "      <td>303613</td>\n",
       "      <td>532671</td>\n",
       "      <td>457386</td>\n",
       "      <td>943242</td>\n",
       "      <td>...</td>\n",
       "      <td>eMdjaMZqS7RzHvkBjw1wCNH</td>\n",
       "      <td>zhLiHy1G340g4eG6QY</td>\n",
       "      <td>dXLBwxNNoPKEwByCsD</td>\n",
       "      <td>Fe9ZK4d1MiC</td>\n",
       "      <td>EBoQTfq0TJLOrf</td>\n",
       "      <td>TG2CiMJp28hN70MwjDC</td>\n",
       "      <td>r09J4Ggf7</td>\n",
       "      <td>lAauOtgmB</td>\n",
       "      <td>x0kPSjKLRNjN2Z</td>\n",
       "      <td>kuFw3pv1tC</td>\n",
       "    </tr>\n",
       "    <tr>\n",
       "      <th>4</th>\n",
       "      <td>4</td>\n",
       "      <td>105256</td>\n",
       "      <td>805383</td>\n",
       "      <td>455437</td>\n",
       "      <td>817518</td>\n",
       "      <td>356905</td>\n",
       "      <td>943969</td>\n",
       "      <td>448293</td>\n",
       "      <td>106369</td>\n",
       "      <td>411058</td>\n",
       "      <td>...</td>\n",
       "      <td>dHx4iF448bf8ysjb16p</td>\n",
       "      <td>nWzpVaasHfy5jsFPm6J2A3Z</td>\n",
       "      <td>5YOmzm8zjdctq</td>\n",
       "      <td>WNHknW6u8SRx6EfjWAyau2AS</td>\n",
       "      <td>lYzzC58USXSTtIdkkBfIU</td>\n",
       "      <td>vRSUnlK21nq03O8rtBvG3Dw</td>\n",
       "      <td>PfMTEfIS0zikE5DfwEBzHApq</td>\n",
       "      <td>ZycMvu</td>\n",
       "      <td>KG9YFYkP3V</td>\n",
       "      <td>bmjW9fLX4DEv</td>\n",
       "    </tr>\n",
       "  </tbody>\n",
       "</table>\n",
       "<p>5 rows × 31 columns</p>\n",
       "</div>"
      ],
      "text/plain": [
       "   C0  intcol_1  intcol_2  intcol_3  intcol_4  intcol_5  intcol_6  intcol_7  \\\n",
       "0   0    629546    442260    389214    635686    289129    912029    715590   \n",
       "1   1    650169    445749    665159    386977    382261    283381    916643   \n",
       "2   2    188568     26298    415460    204051    800327    660064    852586   \n",
       "3   3     47146    452421    883946    348592    515162    303613    532671   \n",
       "4   4    105256    805383    455437    817518    356905    943969    448293   \n",
       "\n",
       "   intcol_8  intcol_9  ...                  strcol6                  strcol7  \\\n",
       "0     79558    506208  ...  nt4WFLERleixBSDZhhKBfY5           DiR3Uzqjx3KqaT   \n",
       "1    712778    132990  ...               Rj9vugo2cf        lUmC6Aii0dStE1q7x   \n",
       "2    866171    606723  ...                   RZ2fd1                 kBWGlOKn   \n",
       "3    457386    943242  ...  eMdjaMZqS7RzHvkBjw1wCNH       zhLiHy1G340g4eG6QY   \n",
       "4    106369    411058  ...      dHx4iF448bf8ysjb16p  nWzpVaasHfy5jsFPm6J2A3Z   \n",
       "\n",
       "               strcol8                   strcol9                  strcol10  \\\n",
       "0  NKxyoi49WYB3Y1NbVDg          3AdhkV4uSm3g2ECw     k9RDt0q0YnFFI7TXeuKCa   \n",
       "1       aN5hZqWBoa8jYn          cMz8tJMGWa23Ikca  8VRxFdhAB0gvhiv4qAZQtQvv   \n",
       "2          YFXtpGNyl3C              Dpyr5OBWpdAn              n9JoLiIalcqF   \n",
       "3   dXLBwxNNoPKEwByCsD               Fe9ZK4d1MiC            EBoQTfq0TJLOrf   \n",
       "4        5YOmzm8zjdctq  WNHknW6u8SRx6EfjWAyau2AS     lYzzC58USXSTtIdkkBfIU   \n",
       "\n",
       "                  strcol11                  strcol12      strcol13  \\\n",
       "0                  6GvE15L         CcxD11kUuzpk5NHae      MwDpki41   \n",
       "1           vfzobXtQl3ViAF       05KMiuFCDRgE1ZwRQhL  yaSZQMaidxvo   \n",
       "2                    5a7XJ     vVw3UOen6XCBVyA2kDDkG      K1FGaqEZ   \n",
       "3      TG2CiMJp28hN70MwjDC                 r09J4Ggf7     lAauOtgmB   \n",
       "4  vRSUnlK21nq03O8rtBvG3Dw  PfMTEfIS0zikE5DfwEBzHApq        ZycMvu   \n",
       "\n",
       "               strcol14             strcol15  \n",
       "0         Oy7YfDUteW1QN  pe5Fs9DioMG1kw6g14A  \n",
       "1                 NADZS    U7Ww8Vgez6Fk2jtyz  \n",
       "2  5WEH71bxioEYbZB2FwGc  FwfpE7avCPyxzcE3bAN  \n",
       "3        x0kPSjKLRNjN2Z           kuFw3pv1tC  \n",
       "4            KG9YFYkP3V         bmjW9fLX4DEv  \n",
       "\n",
       "[5 rows x 31 columns]"
      ]
     },
     "execution_count": 1,
     "metadata": {},
     "output_type": "execute_result"
    }
   ],
   "source": [
    "df = pd.read_csv(\"../_Datasets/random_data.csv\")\n",
    "df.head()"
   ]
  },
  {
   "cell_type": "markdown",
   "id": "9ebde15b",
   "metadata": {},
   "source": [
    "## Dump to CSV"
   ]
  },
  {
   "cell_type": "code",
   "execution_count": 2,
   "id": "c8a7f460",
   "metadata": {
    "ExecuteTime": {
     "end_time": "2022-12-01T19:14:00.602333Z",
     "start_time": "2022-12-01T19:13:51.140809Z"
    }
   },
   "outputs": [
    {
     "name": "stdout",
     "output_type": "stream",
     "text": [
      "CPU times: user 8.29 s, sys: 640 ms, total: 8.93 s\n",
      "Wall time: 9.44 s\n"
     ]
    }
   ],
   "source": [
    "%time df.to_csv(\"../_Datasets/dump_to_csv.csv\")"
   ]
  },
  {
   "cell_type": "code",
   "execution_count": 3,
   "id": "bea26a07",
   "metadata": {
    "ExecuteTime": {
     "end_time": "2022-12-01T19:14:03.941247Z",
     "start_time": "2022-12-01T19:14:03.728178Z"
    }
   },
   "outputs": [],
   "source": [
    "!rm ../_Datasets/dump_to_csv.csv"
   ]
  },
  {
   "cell_type": "markdown",
   "id": "9023c8ea",
   "metadata": {},
   "source": [
    "## Dump to Pickle"
   ]
  },
  {
   "cell_type": "code",
   "execution_count": 6,
   "id": "856816eb",
   "metadata": {
    "ExecuteTime": {
     "end_time": "2022-12-01T19:14:51.914729Z",
     "start_time": "2022-12-01T19:14:45.360252Z"
    }
   },
   "outputs": [
    {
     "name": "stdout",
     "output_type": "stream",
     "text": [
      "CPU times: user 3.98 s, sys: 1.87 s, total: 5.85 s\n",
      "Wall time: 6.55 s\n"
     ]
    }
   ],
   "source": [
    "%time df.to_pickle(\"../_Datasets/dump_to_pickle.pickle\")"
   ]
  },
  {
   "cell_type": "code",
   "execution_count": 7,
   "id": "f4d1e836",
   "metadata": {
    "ExecuteTime": {
     "end_time": "2022-12-01T19:14:53.187749Z",
     "start_time": "2022-12-01T19:14:52.990175Z"
    }
   },
   "outputs": [],
   "source": [
    "!rm ../_Datasets/dump_to_pickle.pickle"
   ]
  },
  {
   "cell_type": "markdown",
   "id": "e2f2ecde",
   "metadata": {},
   "source": [
    "## Dump to Parquet"
   ]
  },
  {
   "cell_type": "code",
   "execution_count": 8,
   "id": "9b59d692",
   "metadata": {
    "ExecuteTime": {
     "end_time": "2022-12-01T19:15:09.500722Z",
     "start_time": "2022-12-01T19:15:06.531887Z"
    }
   },
   "outputs": [
    {
     "name": "stdout",
     "output_type": "stream",
     "text": [
      "CPU times: user 1.76 s, sys: 584 ms, total: 2.34 s\n",
      "Wall time: 2.96 s\n"
     ]
    }
   ],
   "source": [
    "%time df.to_parquet(\"../_Datasets/dump_to_parquet.parquet\")"
   ]
  },
  {
   "cell_type": "code",
   "execution_count": 9,
   "id": "bf3c144f",
   "metadata": {
    "ExecuteTime": {
     "end_time": "2022-12-01T19:15:14.137308Z",
     "start_time": "2022-12-01T19:15:13.949801Z"
    }
   },
   "outputs": [],
   "source": [
    "!rm ../_Datasets/dump_to_parquet.parquet"
   ]
  },
  {
   "cell_type": "markdown",
   "id": "4ac1ec2e",
   "metadata": {},
   "source": [
    "### Further reading: [Why I Stopped Dumping DataFrames to a CSV and Why You Should Too.](https://towardsdatascience.com/why-i-stopped-dumping-dataframes-to-a-csv-and-why-you-should-too-c0954c410f8f)"
   ]
  },
  {
   "cell_type": "code",
   "execution_count": null,
   "id": "f55e3235",
   "metadata": {},
   "outputs": [],
   "source": []
  }
 ],
 "metadata": {
  "kernelspec": {
   "display_name": "Python 3 (ipykernel)",
   "language": "python",
   "name": "python3"
  },
  "language_info": {
   "codemirror_mode": {
    "name": "ipython",
    "version": 3
   },
   "file_extension": ".py",
   "mimetype": "text/x-python",
   "name": "python",
   "nbconvert_exporter": "python",
   "pygments_lexer": "ipython3",
   "version": "3.9.12"
  }
 },
 "nbformat": 4,
 "nbformat_minor": 5
}

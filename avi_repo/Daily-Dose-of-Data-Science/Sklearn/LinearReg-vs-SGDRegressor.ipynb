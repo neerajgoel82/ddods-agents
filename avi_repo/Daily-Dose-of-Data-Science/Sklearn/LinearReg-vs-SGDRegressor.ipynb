{
 "cells": [
  {
   "cell_type": "markdown",
   "id": "e638d3c4",
   "metadata": {},
   "source": [
    "\n",
    "# Daily-Dose-of-Data-Science\n",
    "\n",
    "[Daily Dose of Data Science](https://avichawla.substack.com) is a publication on Substack that brings together intriguing frameworks, libraries, technologies, and tips that make the life cycle of a Data Science project effortless. \n",
    "\n",
    "Author: Avi Chawla\n",
    "\n",
    "[Medium](https://medium.com/@avi_chawla) | [LinkedIn](https://www.linkedin.com/in/avi-chawla/)\n",
    "\n",
    "# Most Sklearn Users Don't Know This About Its LinearRegression Implementation\n",
    "\n",
    "Post Link: [Substack](https://avichawla.substack.com/p/most-sklearn-users-dont-know-this)\n",
    "\n",
    "LinkedIn Post: [LinkedIn](https://www.linkedin.com/feed/update/urn:li:share:7064541023472877568/)\n",
    "\n",
    "Twitter Post: [Twitter](https://twitter.com/_avichawla/status/1658775327731068929)"
   ]
  },
  {
   "cell_type": "code",
   "execution_count": 1,
   "id": "b744a58d",
   "metadata": {},
   "outputs": [],
   "source": [
    "import numpy as np\n",
    "from sklearn.linear_model import LinearRegression, SGDRegressor\n",
    "import time"
   ]
  },
  {
   "cell_type": "code",
   "execution_count": 2,
   "id": "d809b019",
   "metadata": {},
   "outputs": [],
   "source": [
    "# Generate dummy data\n",
    "n_samples = 100000\n",
    "n_features = 2000\n",
    "X = np.random.randn(n_samples, n_features)\n",
    "\n",
    "# Generate random weights between -1 and 1\n",
    "weights = np.random.uniform(-1, 1, size=n_features)\n",
    "\n",
    "# Compute dependent variable\n",
    "y_true = np.dot(X, weights)\n",
    "\n",
    "# Add some noise to the dependent variable\n",
    "noise = np.random.normal(0, 1, size=n_samples)\n",
    "y = y_true + noise"
   ]
  },
  {
   "cell_type": "code",
   "execution_count": 3,
   "id": "ae65afee",
   "metadata": {},
   "outputs": [],
   "source": [
    "# Perform Ordinary Least Squares (OLS) regression\n",
    "start_time = time.time()\n",
    "ols = LinearRegression()\n",
    "ols.fit(X, y)\n",
    "ols_runtime = time.time() - start_time"
   ]
  },
  {
   "cell_type": "code",
   "execution_count": 4,
   "id": "f2ce5c9b",
   "metadata": {},
   "outputs": [],
   "source": [
    "# Perform SGDRegressor\n",
    "start_time = time.time()\n",
    "sgd = SGDRegressor(max_iter=1000, tol=1e-3)\n",
    "sgd.fit(X, y)\n",
    "sgd_runtime = time.time() - start_time"
   ]
  },
  {
   "cell_type": "code",
   "execution_count": 5,
   "id": "9fdc2de4",
   "metadata": {},
   "outputs": [
    {
     "name": "stdout",
     "output_type": "stream",
     "text": [
      "OLS Coefficients: [ 0.97850557 -0.68938279  0.97580073 -0.37047641  0.4780331   0.5072573 ]\n",
      "OLS Intercept: -0.002929371560255342\n",
      "OLS Runtime: 57.00578713417053\n",
      "SGDRegressor Coefficients: [ 0.96322522 -0.6801328   0.96369849 -0.36677544  0.47498573  0.49438129]\n",
      "SGDRegressor Intercept: [-0.01829205]\n",
      "SGDRegressor Runtime: 33.604880809783936\n"
     ]
    }
   ],
   "source": [
    "# Print results\n",
    "print(\"OLS Coefficients:\", ols.coef_[:6])\n",
    "print(\"OLS Intercept:\", ols.intercept_)\n",
    "print(\"OLS Runtime:\", ols_runtime)\n",
    "print(\"SGDRegressor Coefficients:\", sgd.coef_[:6])\n",
    "print(\"SGDRegressor Intercept:\", sgd.intercept_)\n",
    "print(\"SGDRegressor Runtime:\", sgd_runtime)"
   ]
  },
  {
   "cell_type": "code",
   "execution_count": null,
   "id": "3b5fb8cb",
   "metadata": {},
   "outputs": [],
   "source": []
  }
 ],
 "metadata": {
  "finalized": {
   "timestamp": 1684328827744,
   "trusted": true
  },
  "kernelspec": {
   "display_name": "Python 3 (ipykernel)",
   "language": "python",
   "name": "python3"
  },
  "language_info": {
   "codemirror_mode": {
    "name": "ipython",
    "version": 3
   },
   "file_extension": ".py",
   "mimetype": "text/x-python",
   "name": "python",
   "nbconvert_exporter": "python",
   "pygments_lexer": "ipython3",
   "version": "3.9.12"
  },
  "toc": {
   "base_numbering": 1,
   "nav_menu": {},
   "number_sections": true,
   "sideBar": true,
   "skip_h1_title": false,
   "title_cell": "Table of Contents",
   "title_sidebar": "Contents",
   "toc_cell": false,
   "toc_position": {},
   "toc_section_display": true,
   "toc_window_display": false
  }
 },
 "nbformat": 4,
 "nbformat_minor": 5
}

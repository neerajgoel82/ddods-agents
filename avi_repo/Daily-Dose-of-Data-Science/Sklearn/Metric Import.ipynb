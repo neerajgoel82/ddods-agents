{
 "cells": [
  {
   "cell_type": "markdown",
   "id": "b8018b5b",
   "metadata": {},
   "source": [
    "# Daily-Dose-of-Data-Science\n",
    "\n",
    "[Daily Dose of Data Science](https://avichawla.substack.com) is a publication on Substack that brings together intriguing frameworks, libraries, technologies, and tips that make the life cycle of a Data Science project effortless. \n",
    "\n",
    "Author: Avi Chawla\n",
    "\n",
    "[Medium](https://medium.com/@avi_chawla) | [LinkedIn](https://www.linkedin.com/in/avi-chawla/)"
   ]
  },
  {
   "cell_type": "markdown",
   "id": "bb6056c9",
   "metadata": {},
   "source": [
    "# An Elegant Way to Import Metrics From Sklearn\n",
    "\n",
    "Post Link: [Substack](https://avichawla.substack.com/p/an-elegant-way-to-import-metrics)\n",
    "\n",
    "LinkedIn Post: [LinkedIn](https://www.linkedin.com/posts/avi-chawla_python-sklearn-datascience-activity-6988789808290521089-IZiS?utm_source=share&utm_medium=member_desktop)"
   ]
  },
  {
   "cell_type": "markdown",
   "id": "392fd138",
   "metadata": {},
   "source": [
    "## Long Method: Importing One by One"
   ]
  },
  {
   "cell_type": "code",
   "execution_count": 1,
   "id": "56e0bb07",
   "metadata": {
    "ExecuteTime": {
     "end_time": "2022-12-01T20:00:56.816518Z",
     "start_time": "2022-12-01T20:00:55.611150Z"
    }
   },
   "outputs": [],
   "source": [
    "from sklearn.metrics import accuracy_score, f1_score, precision_score, recall_score, roc_auc_score"
   ]
  },
  {
   "cell_type": "markdown",
   "id": "292f5bd6",
   "metadata": {},
   "source": [
    "## Short Method: Import Scorer"
   ]
  },
  {
   "cell_type": "code",
   "execution_count": 3,
   "id": "49041d2d",
   "metadata": {
    "ExecuteTime": {
     "end_time": "2022-12-01T20:01:50.975231Z",
     "start_time": "2022-12-01T20:01:50.968688Z"
    }
   },
   "outputs": [],
   "source": [
    "from sklearn.metrics import get_scorer\n",
    "\n",
    "accuracy = get_scorer(\"accuracy\")\n",
    "\n",
    "## accuracy._score_func(y_true, y_pred)"
   ]
  },
  {
   "cell_type": "code",
   "execution_count": 4,
   "id": "3b627c26",
   "metadata": {
    "ExecuteTime": {
     "end_time": "2022-12-01T20:02:01.216042Z",
     "start_time": "2022-12-01T20:02:01.208472Z"
    }
   },
   "outputs": [],
   "source": [
    "from sklearn.metrics import get_scorer\n",
    "\n",
    "precision = get_scorer(\"precision\")\n",
    "\n",
    "## precision._score_func(y_true, y_pred)"
   ]
  },
  {
   "cell_type": "code",
   "execution_count": null,
   "id": "1a871c90",
   "metadata": {},
   "outputs": [],
   "source": []
  }
 ],
 "metadata": {
  "kernelspec": {
   "display_name": "Python 3 (ipykernel)",
   "language": "python",
   "name": "python3"
  },
  "language_info": {
   "codemirror_mode": {
    "name": "ipython",
    "version": 3
   },
   "file_extension": ".py",
   "mimetype": "text/x-python",
   "name": "python",
   "nbconvert_exporter": "python",
   "pygments_lexer": "ipython3",
   "version": "3.9.12"
  }
 },
 "nbformat": 4,
 "nbformat_minor": 5
}

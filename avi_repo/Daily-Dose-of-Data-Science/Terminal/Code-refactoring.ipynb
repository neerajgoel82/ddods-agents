{
 "cells": [
  {
   "cell_type": "markdown",
   "id": "240e4e0a",
   "metadata": {},
   "source": [
    "# Daily-Dose-of-Data-Science\n",
    "\n",
    "[Daily Dose of Data Science](https://avichawla.substack.com) is a publication on Substack that brings together intriguing frameworks, libraries, technologies, and tips that make the life cycle of a Data Science project effortless. \n",
    "\n",
    "Author: Avi Chawla\n",
    "\n",
    "[Medium](https://medium.com/@avi_chawla) | [LinkedIn](https://www.linkedin.com/in/avi-chawla/)\n",
    "\n",
    "# Never Refactor Your Code Manually Again. Instead, Use Sourcery!\n",
    "\n",
    "Post Link: [Substack](https://avichawla.substack.com/p/never-refactor-your-code-manually)\n",
    "\n",
    "LinkedIn Post: [LinkedIn](https://www.linkedin.com/posts/avi-chawla_python-activity-7031942494841942016-yRu0?utm_source=share&utm_medium=member_desktop)"
   ]
  },
  {
   "cell_type": "code",
   "execution_count": 1,
   "id": "80635dbe",
   "metadata": {},
   "outputs": [
    {
     "name": "stdout",
     "output_type": "stream",
     "text": [
      "def is_special_number(number):\r\n",
      "    if number == 7:\r\n",
      "        return True\r\n",
      "    elif number == 18:\r\n",
      "        return True\r\n",
      "    else:\r\n",
      "        return False"
     ]
    }
   ],
   "source": [
    "!cat code.py"
   ]
  },
  {
   "cell_type": "code",
   "execution_count": 2,
   "id": "305ca5ec",
   "metadata": {},
   "outputs": [
    {
     "name": "stdout",
     "output_type": "stream",
     "text": [
      "\u001b[2K\u001b[32m⠋\u001b[0m Authenticatingng\n",
      "\u001b[1A\u001b[2K\u001b[?25l\u001b[32m⠋\u001b[0m Collecting files\n",
      "\u001b[2Kcode.py:2-7 \u001b]8;id=674662;https://docs.sourcery.ai/Reference/Built-in-Rules/refactorings/switch/\u001b\\\u001b[97;40mswitch\u001b[0m\u001b]8;;\u001b\\\n",
      "\u001b[2Kcode.py:2-7 \u001b]8;id=630673;https://docs.sourcery.ai/Reference/Built-in-Rules/refactorings/boolean-if-exp-identity/\u001b\\\u001b[97;40mboolean-if-exp-identity\u001b[0m\u001b]8;;\u001b\\\n",
      "\u001b[2Kcode.py:2-7 \u001b]8;id=654555;https://docs.sourcery.ai/Reference/Built-in-Rules/refactorings/assign-if-exp/\u001b\\\u001b[97;40massign-if-exp\u001b[0m\u001b]8;;\u001b\\\n",
      "\u001b[2Kcode.py:2-7 \u001b]8;id=356180;https://docs.sourcery.ai/Reference/Built-in-Rules/refactorings/remove-unnecessary-cast/\u001b\\\u001b[97;40mremove-unnecessary-cast\u001b[0m\u001b]8;;\u001b\\\n",
      "\u001b[2KReviewing code.py    \u001b[90m━━━━━━━━━━━━━━━━━━━━━━━━━━━━━━━━━━━━━━━━\u001b[0m       \u001b[32m1/1 \u001b[0m \u001b[36m0:00:00\u001b[0m\n",
      "\u001b[1A\u001b[2K\n",
      "\u001b[92m─────────────────────────────────── \u001b[0mOverview\u001b[92m ───────────────────────────────────\u001b[0m\n",
      "\n",
      "\u001b[1;33m • \u001b[0m1 file scanned.                                                              \n",
      "\u001b[1;33m • \u001b[0m4 issues detected.                                                           \n",
      "\n",
      "\u001b[1mIssues by Type\u001b[0m                                                                  \n",
      "\n",
      "\u001b[1;33m • \u001b[0m4 issues were fixed by Sourcery. ✅                                          \n",
      "\u001b[1;33m • \u001b[0m0 issues need to be fixed manually.                                          \n",
      "\n",
      "\u001b[1mIssues by Rule ID                  \u001b[0m\n",
      "┏━━━━━━━━━━━━━━━━━━━━━━━━━┳━━━━━━━┓\n",
      "┃\u001b[1m \u001b[0m\u001b[1mRule ID                \u001b[0m\u001b[1m \u001b[0m┃\u001b[1m \u001b[0m\u001b[1mCount\u001b[0m\u001b[1m \u001b[0m┃\n",
      "┡━━━━━━━━━━━━━━━━━━━━━━━━━╇━━━━━━━┩\n",
      "│ assign-if-exp           │     1 │\n",
      "│ boolean-if-exp-identity │     1 │\n",
      "│ remove-unnecessary-cast │     1 │\n",
      "│ switch                  │     1 │\n",
      "├─────────────────────────┼───────┤\n",
      "│ Total                   │     4 │\n",
      "└─────────────────────────┴───────┘\n"
     ]
    }
   ],
   "source": [
    "!sourcery review --in-place code.py"
   ]
  },
  {
   "cell_type": "code",
   "execution_count": 3,
   "id": "e43104b9",
   "metadata": {},
   "outputs": [
    {
     "name": "stdout",
     "output_type": "stream",
     "text": [
      "def is_special_number(number):\r\n",
      "    return number in [7, 18]"
     ]
    }
   ],
   "source": [
    "!cat code.py"
   ]
  },
  {
   "cell_type": "code",
   "execution_count": null,
   "id": "68a6962a",
   "metadata": {},
   "outputs": [],
   "source": []
  }
 ],
 "metadata": {
  "kernelspec": {
   "display_name": "Python 3 (ipykernel)",
   "language": "python",
   "name": "python3"
  },
  "language_info": {
   "codemirror_mode": {
    "name": "ipython",
    "version": 3
   },
   "file_extension": ".py",
   "mimetype": "text/x-python",
   "name": "python",
   "nbconvert_exporter": "python",
   "pygments_lexer": "ipython3",
   "version": "3.9.12"
  }
 },
 "nbformat": 4,
 "nbformat_minor": 5
}

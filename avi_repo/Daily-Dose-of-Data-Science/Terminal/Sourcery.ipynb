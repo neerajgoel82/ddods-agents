{
 "cells": [
  {
   "cell_type": "markdown",
   "id": "03482073",
   "metadata": {},
   "source": [
    "# Daily-Dose-of-Data-Science\n",
    "\n",
    "[Daily Dose of Data Science](https://avichawla.substack.com) is a publication on Substack that brings together intriguing frameworks, libraries, technologies, and tips that make the life cycle of a Data Science project effortless. \n",
    "\n",
    "Author: Avi Chawla\n",
    "\n",
    "[Medium](https://medium.com/@avi_chawla) | [LinkedIn](https://www.linkedin.com/in/avi-chawla/)\n",
    "\n",
    "# Automated Code Refactoring With Sourcery\n",
    "\n",
    "Post Link: [Substack](https://avichawla.substack.com/p/automated-code-refactoring-with-sourcery)"
   ]
  },
  {
   "cell_type": "code",
   "execution_count": null,
   "id": "65ca4a8b",
   "metadata": {},
   "outputs": [],
   "source": [
    "!pip install sourcery-cli"
   ]
  },
  {
   "cell_type": "code",
   "execution_count": null,
   "id": "e275465f",
   "metadata": {},
   "outputs": [],
   "source": [
    "!sourcery login"
   ]
  },
  {
   "cell_type": "code",
   "execution_count": 4,
   "id": "e343d4ca",
   "metadata": {
    "ExecuteTime": {
     "end_time": "2022-12-14T20:50:33.152040Z",
     "start_time": "2022-12-14T20:50:32.986790Z"
    }
   },
   "outputs": [
    {
     "name": "stdout",
     "output_type": "stream",
     "text": [
      "def set_my_var(condition):\r\n",
      "    if condition:\r\n",
      "        my_var = 1\r\n",
      "    else:\r\n",
      "        my_var = 2\r\n",
      "    return my_var"
     ]
    }
   ],
   "source": [
    "!cat my_code.py"
   ]
  },
  {
   "cell_type": "code",
   "execution_count": 5,
   "id": "f0475217",
   "metadata": {
    "ExecuteTime": {
     "end_time": "2022-12-14T20:50:39.464809Z",
     "start_time": "2022-12-14T20:50:34.067312Z"
    }
   },
   "outputs": [
    {
     "name": "stdout",
     "output_type": "stream",
     "text": [
      "\u001b[2K\u001b[32m⠹\u001b[0m Authenticatingng\n",
      "\u001b[1A\u001b[2K\u001b[?25l\u001b[32m⠋\u001b[0m Collecting files\n",
      "\u001b[2Kmy_code.py:2-5 \u001b]8;id=11387;https://docs.sourcery.ai/Reference/Built-in-Rules/refactorings/assign-if-exp/\u001b\\\u001b[97;40massign-if-exp\u001b[0m\u001b]8;;\u001b\\\n",
      "\u001b[2Kmy_code.py:2-5 \u001b]8;id=849711;https://docs.sourcery.ai/Reference/Built-in-Rules/refactorings/inline-immediately-returned-variable/\u001b\\\u001b[97;40minline-immediately-returned-variable\u001b[0m\u001b]8;;\u001b\\\n",
      "\u001b[2KReviewing my_code.py    \u001b[90m━━━━━━━━━━━━━━━━━━━━━━━━━━━━━━━━━━━━━━━━\u001b[0m     \u001b[32m1/1\u001b[0m \u001b[36m0:00:00\u001b[0m\n",
      "\u001b[1A\u001b[2K\n",
      "\u001b[92m─────────────────────────────────── \u001b[0mOverview\u001b[92m ───────────────────────────────────\u001b[0m\n",
      "\n",
      "\u001b[1;33m • \u001b[0m1 file scanned.                                                              \n",
      "\u001b[1;33m • \u001b[0m2 issues detected.                                                           \n",
      "\n",
      "\u001b[1mIssues by Type\u001b[0m                                                                  \n",
      "\n",
      "\u001b[1;33m • \u001b[0m2 issues were fixed by Sourcery. ✅                                          \n",
      "\u001b[1;33m • \u001b[0m0 issues need to be fixed manually.                                          \n",
      "\n",
      "\u001b[1mIssues by Rule ID                               \u001b[0m\n",
      "┏━━━━━━━━━━━━━━━━━━━━━━━━━━━━━━━━━━━━━━┳━━━━━━━┓\n",
      "┃\u001b[1m \u001b[0m\u001b[1mRule ID                             \u001b[0m\u001b[1m \u001b[0m┃\u001b[1m \u001b[0m\u001b[1mCount\u001b[0m\u001b[1m \u001b[0m┃\n",
      "┡━━━━━━━━━━━━━━━━━━━━━━━━━━━━━━━━━━━━━━╇━━━━━━━┩\n",
      "│ assign-if-exp                        │     1 │\n",
      "│ inline-immediately-returned-variable │     1 │\n",
      "├──────────────────────────────────────┼───────┤\n",
      "│ Total                                │     2 │\n",
      "└──────────────────────────────────────┴───────┘\n"
     ]
    }
   ],
   "source": [
    "!sourcery review --in-place my_code.py"
   ]
  },
  {
   "cell_type": "code",
   "execution_count": 6,
   "id": "2971e8e7",
   "metadata": {
    "ExecuteTime": {
     "end_time": "2022-12-14T20:50:39.615203Z",
     "start_time": "2022-12-14T20:50:39.468606Z"
    }
   },
   "outputs": [
    {
     "name": "stdout",
     "output_type": "stream",
     "text": [
      "def set_my_var(condition):\r\n",
      "    return 1 if condition else 2"
     ]
    }
   ],
   "source": [
    "!cat my_code.py"
   ]
  }
 ],
 "metadata": {
  "kernelspec": {
   "display_name": "Python 3 (ipykernel)",
   "language": "python",
   "name": "python3"
  },
  "language_info": {
   "codemirror_mode": {
    "name": "ipython",
    "version": 3
   },
   "file_extension": ".py",
   "mimetype": "text/x-python",
   "name": "python",
   "nbconvert_exporter": "python",
   "pygments_lexer": "ipython3",
   "version": "3.9.12"
  }
 },
 "nbformat": 4,
 "nbformat_minor": 5
}

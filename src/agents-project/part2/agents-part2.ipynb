{
 "cells": [
  {
   "cell_type": "markdown",
   "metadata": {},
   "source": [
    "# AI Agents Crash Course - Part 2: Implementation Notebook\n",
    "\n",
    "This notebook demonstrates the advanced concepts from Part 2:\n",
    "- Modular crew architecture with YAML configuration\n",
    "- Structured output generation with Pydantic\n",
    "- Custom tool development\n",
    "- Production-ready patterns\n",
    "\n",
    "**Prerequisites:**\n",
    "1. Install requirements: `pip install -r requirements.txt`\n",
    "2. Set up `.env` file with your API keys\n",
    "3. Ensure all project files are in the correct structure"
   ]
  },
  {
   "cell_type": "markdown",
   "metadata": {},
   "source": [
    "## 1. Setup and Environment"
   ]
  },
  {
   "cell_type": "code",
   "execution_count": 32,
   "metadata": {},
   "outputs": [],
   "source": [
    "# Install dependencies (uncomment if needed)\n",
    "# !pip install crewai crewai-tools pydantic python-dotenv requests PyYAML"
   ]
  },
  {
   "cell_type": "code",
   "execution_count": null,
   "metadata": {},
   "outputs": [],
   "source": [
    "import os\n",
    "from dotenv import load_dotenv\n",
    "from crewai import LLM\n",
    "\n",
    "# Load environment variables\n",
    "load_dotenv()\n",
    "\n",
    "# Option D: Azure OpenAI\n",
    "openai_api_key = os.getenv(\"AZURE_OPENAI_API_KEY\")\n",
    "openai_endpoint = os.getenv(\"AZURE_OPENAI_ENDPOINT\")\n",
    "openai_api_version = os.getenv(\"AZURE_OPENAI_API_VERSION\")\n",
    "openai_model_name = os.getenv(\"AZURE_OPENAI_MODEL_NAME\")\n",
    "\n",
    "llm = LLM(\n",
    "    model=\"azure/gpt-4o-mini\",\n",
    "    api_key=openai_api_key,\n",
    "    base_url=openai_endpoint,\n",
    "    api_version=openai_api_version,\n",
    "    azure=True\n",
    ")\n",
    "\n",
    "print(\"🚀 Environment configured!\")\n",
    "print(f\"LLM Model: {llm.model}\")"
   ]
  },
  {
   "cell_type": "markdown",
   "metadata": {},
   "source": [
    "## 2. YAML Configuration Overview\n",
    "\n",
    "Let's examine the YAML configuration files that separate our agent definitions from code logic."
   ]
  },
  {
   "cell_type": "code",
   "execution_count": null,
   "metadata": {},
   "outputs": [],
   "source": [
    "import yaml\n",
    "\n",
    "# Load and display agent configuration\n",
    "with open('crews/config/agents.yaml', 'r') as file:\n",
    "    agents_config = yaml.safe_load(file)\n",
    "\n",
    "print(\"📋 Available Agents:\")\n",
    "for agent_name, config in agents_config.items():\n",
    "    print(f\"\\n🤖 {agent_name}:\")\n",
    "    print(f\"   Role: {config['role']}\")\n",
    "    print(f\"   Goal: {config['goal'][:100]}...\" if len(config['goal']) > 100 else f\"   Goal: {config['goal']}\")"
   ]
  },
  {
   "cell_type": "code",
   "execution_count": null,
   "metadata": {},
   "outputs": [],
   "source": [
    "# Load and display task configuration\n",
    "with open('crews/config/tasks.yaml', 'r') as file:\n",
    "    tasks_config = yaml.safe_load(file)\n",
    "\n",
    "print(\"📋 Available Tasks:\")\n",
    "for task_name, config in tasks_config.items():\n",
    "    print(f\"\\n📝 {task_name}:\")\n",
    "    print(f\"   Agent: {config['agent']}\")\n",
    "    description = config['description'][:150] + \"...\" if len(config['description']) > 150 else config['description']\n",
    "    print(f\"   Description: {description}\")\n",
    "    if 'depends_on' in config:\n",
    "        print(f\"   Depends on: {config['depends_on']}\")"
   ]
  },
  {
   "cell_type": "markdown",
   "metadata": {},
   "source": [
    "## 3. Basic Research Crew Implementation\n",
    "\n",
    "Let's start with the basic research crew from the article."
   ]
  },
  {
   "cell_type": "code",
   "execution_count": null,
   "metadata": {},
   "outputs": [],
   "source": [
    "# Import our custom research crew\n",
    "from crews.research_crew import ResearchCrew\n",
    "\n",
    "# Create research crew instance\n",
    "research_crew = ResearchCrew(llm = llm)\n",
    "print(\"✅ Research crew initialized!\")"
   ]
  },
  {
   "cell_type": "code",
   "execution_count": null,
   "metadata": {},
   "outputs": [],
   "source": [
    "# Run a research task\n",
    "topic = \"The impact of AI on job markets\"\n",
    "\n",
    "print(f\"🔍 Researching topic: {topic}\")\n",
    "print(\"This may take a few minutes...\\n\")\n",
    "\n",
    "# Create and run the crew\n",
    "result = research_crew.crew().kickoff(inputs={\"topic\": topic})"
   ]
  },
  {
   "cell_type": "code",
   "execution_count": null,
   "metadata": {},
   "outputs": [],
   "source": [
    "from IPython.display import Markdown, display\n",
    "\n",
    "\n",
    "# Display the research result\n",
    "display(Markdown(result.raw))"
   ]
  },
  {
   "cell_type": "markdown",
   "metadata": {},
   "source": [
    "## 4. Structured Output with Pydantic\n",
    "\n",
    "Now let's demonstrate structured output generation using Pydantic schemas."
   ]
  },
  {
   "cell_type": "code",
   "execution_count": 28,
   "metadata": {},
   "outputs": [],
   "source": [
    "from crewai import Agent\n",
    "\n",
    "from pydantic import BaseModel, Field\n",
    "\n",
    "class EntityRelationEntity(BaseModel):\n",
    "    entity: str = Field(description=\"The first entity in the triplet\")\n",
    "    relation: str = Field(description=\"The relation between the first and second entity\")\n",
    "    entity: str = Field(description=\"The second entity in the triplet\")\n"
   ]
  },
  {
   "cell_type": "code",
   "execution_count": 26,
   "metadata": {},
   "outputs": [],
   "source": [
    "from crewai import Agent\n",
    "\n",
    "agent = Agent(\n",
    "    role=\"Senior Linguist\",\n",
    "    goal=\"Analyse the query and extract entity-relation-entity triplets\",\n",
    "    backstory=\"You are a senior linguist that is known for your analytical skills.\",\n",
    "    verbose=True,\n",
    "    llm=llm\n",
    ")"
   ]
  },
  {
   "cell_type": "code",
   "execution_count": null,
   "metadata": {},
   "outputs": [],
   "source": [
    "from crewai import Task\n",
    "\n",
    "task = Task(\n",
    "    description=\"\"\"Analyse the query and return structured JSON\n",
    "                   output in the form of\n",
    "                   - entity\n",
    "                   - relation\n",
    "                   - entity\n",
    "\n",
    "                   The query is: {query}\n",
    "                   \"\"\",\n",
    "    expected_output=\"\"\"A structured JSON object with the\n",
    "                       entity-relation-entity triplets\"\"\",\n",
    "    output_pydantic=EntityRelationEntity,\n",
    "    verbose=True,\n",
    "    agent=agent\n",
    ")"
   ]
  },
  {
   "cell_type": "code",
   "execution_count": null,
   "metadata": {},
   "outputs": [],
   "source": [
    "from crewai import Crew, Process\n",
    "\n",
    "crew = Crew(\n",
    "    agents=[agent],\n",
    "    tasks=[task],\n",
    "    process=Process.sequential,\n",
    "    verbose=True\n",
    ")\n",
    "\n",
    "response = crew.kickoff(inputs={\"query\": \"Paris is the capital of France.\"})\n"
   ]
  },
  {
   "cell_type": "code",
   "execution_count": null,
   "metadata": {},
   "outputs": [],
   "source": [
    "print(response.raw)"
   ]
  },
  {
   "cell_type": "markdown",
   "metadata": {},
   "source": [
    "## 5. Custom Tools Development\n",
    "\n",
    "Let's explore the custom currency conversion tool."
   ]
  },
  {
   "cell_type": "code",
   "execution_count": null,
   "metadata": {},
   "outputs": [],
   "source": [
    "# Import and test custom tools\n",
    "from custom_tools import CurrencyConverterTool, CalculatorTool\n",
    "\n",
    "# Test currency converter tool directly\n",
    "if os.getenv('EXCHANGE_RATE_API_KEY'):\n",
    "    print(\"💱 Testing Currency Converter Tool...\")\n",
    "    currency_tool = CurrencyConverterTool()\n",
    "    \n",
    "    # Test conversion\n",
    "    result = currency_tool._run(amount=100, from_currency=\"USD\", to_currency=\"EUR\")\n",
    "    print(f\"✅ Result: {result}\")\n",
    "else:\n",
    "    print(\"⚠️ Exchange Rate API key not found. Skipping currency tool test.\")\n",
    "\n",
    "# Test calculator tool\n",
    "print(\"\\n🧮 Testing Calculator Tool...\")\n",
    "calc_tool = CalculatorTool()\n",
    "calc_result = calc_tool._run(\"2 + 2 * 3\")\n",
    "print(f\"✅ Calculation result: {calc_result}\")"
   ]
  },
  {
   "cell_type": "code",
   "execution_count": null,
   "metadata": {},
   "outputs": [],
   "source": [
    "# Currency conversion with AI agent\n",
    "if os.getenv('EXCHANGE_RATE_API_KEY'):\n",
    "    print(\"🤖 Running Currency Conversion with AI Agent...\")\n",
    "    \n",
    "    # Create currency conversion crew\n",
    "    crew = research_crew.create_currency_crew(\n",
    "        amount=100, \n",
    "        from_currency=\"USD\", \n",
    "        to_currency=\"EUR\"\n",
    "    )\n",
    "    \n",
    "    result = crew.kickoff(inputs={\n",
    "        \"amount\": 100,\n",
    "        \"from_currency\": \"USD\",\n",
    "        \"to_currency\": \"EUR\"\n",
    "    })\n",
    "    \n",
    "    print(\"\\n💰 Currency Analysis Result:\")\n",
    "    display(Markdown(result.raw))\n",
    "else:\n",
    "    print(\"⚠️ Exchange Rate API key required for currency conversion demo\")"
   ]
  },
  {
   "cell_type": "markdown",
   "metadata": {},
   "source": [
    "## 6. Advanced Multi-Agent Pipeline\n",
    "\n",
    "Let's create a complete pipeline that processes natural language queries and performs currency conversion."
   ]
  },
  {
   "cell_type": "code",
   "execution_count": null,
   "metadata": {},
   "outputs": [],
   "source": [
    "# Advanced pipeline: Natural Language Query → Structured Parsing → Currency Conversion\n",
    "from crewai import Agent, Task, Crew, Process\n",
    "from custom_tools import CurrencyConverterTool\n",
    "from structured_output_demo import CurrencyQuery\n",
    "\n",
    "def create_advanced_currency_pipeline(user_query: str):\n",
    "    \"\"\"Create a pipeline that handles natural language currency queries.\"\"\"\n",
    "    \n",
    "    # Step 1: Query Parser Agent\n",
    "    query_parser = Agent(\n",
    "        role=\"Query Parser\",\n",
    "        goal=\"Extract structured information from natural language queries\",\n",
    "        backstory=\"You are a linguistic expert who specializes in parsing user queries to extract relevant parameters.\",\n",
    "        verbose=True\n",
    "    )\n",
    "    \n",
    "    # Step 2: Currency Analyst Agent (only if we have the API key)\n",
    "    if os.getenv('EXCHANGE_RATE_API_KEY'):\n",
    "        currency_analyst = Agent(\n",
    "            role=\"Currency Analyst\",\n",
    "            goal=\"Provide real-time currency conversions and financial insights\",\n",
    "            backstory=\"You are a finance expert with deep knowledge of global exchange rates.\",\n",
    "            tools=[CurrencyConverterTool()],\n",
    "            verbose=True\n",
    "        )\n",
    "    \n",
    "    # Task 1: Parse the query\n",
    "    parsing_task = Task(\n",
    "        description=f\"\"\"Parse this natural language query about currency conversion:\n",
    "        \"{user_query}\"\n",
    "        \n",
    "        Extract the amount, source currency, and target currency.\n",
    "        If any information is missing, make reasonable assumptions.\"\"\",\n",
    "        expected_output=\"A structured JSON object with currency conversion parameters\",\n",
    "        output_pydantic=CurrencyQuery,\n",
    "        agent=query_parser\n",
    "    )\n",
    "    \n",
    "    tasks = [parsing_task]\n",
    "    agents = [query_parser]\n",
    "    \n",
    "    # Task 2: Perform conversion (only if API key available)\n",
    "    if os.getenv('EXCHANGE_RATE_API_KEY'):\n",
    "        conversion_task = Task(\n",
    "            description=\"Use the parsed information to perform currency conversion and provide financial insights.\",\n",
    "            expected_output=\"A detailed response with conversion result and financial context\",\n",
    "            agent=currency_analyst\n",
    "        )\n",
    "        tasks.append(conversion_task)\n",
    "        agents.append(currency_analyst)\n",
    "    \n",
    "    return Crew(\n",
    "        agents=agents,\n",
    "        tasks=tasks,\n",
    "        process=Process.sequential,\n",
    "        verbose=True\n",
    "    )\n",
    "\n",
    "print(\"✅ Advanced pipeline function created!\")"
   ]
  },
  {
   "cell_type": "code",
   "execution_count": null,
   "metadata": {},
   "outputs": [],
   "source": [
    "# Test the advanced pipeline\n",
    "test_queries = [\n",
    "    \"How much is 100 dollars in euros today?\",\n",
    "    \"Convert 50 pounds to yen\",\n",
    "    \"What's 200 euros worth in Canadian dollars?\"\n",
    "]\n",
    "\n",
    "for i, query in enumerate(test_queries, 1):\n",
    "    print(f\"\\n{'='*50}\")\n",
    "    print(f\"Test {i}: {query}\")\n",
    "    print(f\"{'='*50}\")\n",
    "    \n",
    "    crew = create_advanced_currency_pipeline(query)\n",
    "    result = crew.kickoff()\n",
    "    \n",
    "    print(f\"\\n📊 Final Result:\")\n",
    "    if hasattr(result, 'raw'):\n",
    "        display(Markdown(result.raw))\n",
    "    else:\n",
    "        print(result)\n",
    "    \n",
    "    # Only test first query to avoid rate limits\n",
    "    break"
   ]
  },
  {
   "cell_type": "markdown",
   "metadata": {},
   "source": [
    "## 7. Configuration-Driven Development Demo\n",
    "\n",
    "Let's demonstrate how easy it is to modify agent behavior by changing YAML configuration."
   ]
  },
  {
   "cell_type": "code",
   "execution_count": null,
   "metadata": {},
   "outputs": [],
   "source": [
    "# Create a modified agent configuration\n",
    "modified_config = {\n",
    "    'research_agent': {\n",
    "        'role': 'Senior Market Research Analyst',\n",
    "        'goal': 'Conduct deep market analysis and provide strategic insights on given topics',\n",
    "        'backstory': 'You are a senior analyst with 15 years of experience in market research, specializing in technology trends and economic impacts.',\n",
    "        'verbose': True\n",
    "    }\n",
    "}\n",
    "\n",
    "print(\"📝 Original Research Agent:\")\n",
    "print(f\"Role: {agents_config['research_agent']['role']}\")\n",
    "print(f\"Goal: {agents_config['research_agent']['goal'][:100]}...\")\n",
    "\n",
    "print(\"\\n📝 Modified Research Agent:\")\n",
    "print(f\"Role: {modified_config['research_agent']['role']}\")\n",
    "print(f\"Goal: {modified_config['research_agent']['goal'][:100]}...\")\n",
    "\n",
    "print(\"\\n✅ This demonstrates how YAML configuration allows easy agent modification without code changes!\")"
   ]
  },
  {
   "cell_type": "markdown",
   "metadata": {},
   "source": [
    "## 8. Production Patterns and Best Practices\n",
    "\n",
    "Let's review the production-ready patterns implemented in this project."
   ]
  },
  {
   "cell_type": "code",
   "execution_count": null,
   "metadata": {},
   "outputs": [],
   "source": [
    "# Check project structure\n",
    "import os\n",
    "\n",
    "def check_project_structure():\n",
    "    \"\"\"Verify project follows the recommended structure.\"\"\"\n",
    "    \n",
    "    expected_files = [\n",
    "        'requirements.txt',\n",
    "        '.env.example', \n",
    "        'research_crew.py',\n",
    "        'custom_tools.py',\n",
    "        'structured_output_demo.py',\n",
    "        'config/agents.yaml',\n",
    "        'config/tasks.yaml'\n",
    "    ]\n",
    "    \n",
    "    print(\"📁 Project Structure Check:\")\n",
    "    for file_path in expected_files:\n",
    "        if os.path.exists(file_path):\n",
    "            print(f\"✅ {file_path}\")\n",
    "        else:\n",
    "            print(f\"❌ {file_path} (missing)\")\n",
    "    \n",
    "    print(\"\\n📋 Best Practices Implemented:\")\n",
    "    practices = [\n",
    "        \"✅ Configuration separated from logic (YAML files)\",\n",
    "        \"✅ Environment variables for sensitive data\",\n",
    "        \"✅ Modular crew architecture with CrewBase\",\n",
    "        \"✅ Custom tools with proper error handling\",\n",
    "        \"✅ Structured outputs with Pydantic schemas\",\n",
    "        \"✅ Multiple implementation patterns (decorator & traditional)\",\n",
    "        \"✅ Comprehensive examples and documentation\"\n",
    "    ]\n",
    "    \n",
    "    for practice in practices:\n",
    "        print(practice)\n",
    "\n",
    "check_project_structure()"
   ]
  },
  {
   "cell_type": "markdown",
   "metadata": {},
   "source": [
    "## 9. Performance and Monitoring\n",
    "\n",
    "Let's add some basic performance monitoring to our agents."
   ]
  },
  {
   "cell_type": "code",
   "execution_count": null,
   "metadata": {},
   "outputs": [],
   "source": [
    "import time\n",
    "from datetime import datetime\n",
    "\n",
    "def monitor_crew_performance(crew, inputs=None):\n",
    "    \"\"\"Monitor crew execution time and basic metrics.\"\"\"\n",
    "    \n",
    "    print(f\"🚀 Starting crew execution at {datetime.now().strftime('%H:%M:%S')}\")\n",
    "    start_time = time.time()\n",
    "    \n",
    "    # Execute crew\n",
    "    if inputs:\n",
    "        result = crew.kickoff(inputs=inputs)\n",
    "    else:\n",
    "        result = crew.kickoff()\n",
    "    \n",
    "    end_time = time.time()\n",
    "    execution_time = end_time - start_time\n",
    "    \n",
    "    print(f\"\\n📊 Performance Metrics:\")\n",
    "    print(f\"⏱️  Execution Time: {execution_time:.2f} seconds\")\n",
    "    print(f\"🤖 Number of Agents: {len(crew.agents)}\")\n",
    "    print(f\"📝 Number of Tasks: {len(crew.tasks)}\")\n",
    "    print(f\"📄 Output Length: {len(str(result.raw))} characters\")\n",
    "    \n",
    "    return result, execution_time\n",
    "\n",
    "print(\"✅ Performance monitoring function ready!\")"
   ]
  },
  {
   "cell_type": "code",
   "execution_count": null,
   "metadata": {},
   "outputs": [],
   "source": [
    "# Test performance monitoring with a simple task\n",
    "from crewai import Agent, Task, Crew, Process\n",
    "\n",
    "# Create a simple test crew\n",
    "test_agent = Agent(\n",
    "    role=\"Test Agent\",\n",
    "    goal=\"Provide a brief summary of a given topic\",\n",
    "    backstory=\"You are a helpful assistant that provides concise information.\",\n",
    "    verbose=True\n",
    ")\n",
    "\n",
    "test_task = Task(\n",
    "    description=\"Provide a brief 2-sentence summary about artificial intelligence.\",\n",
    "    expected_output=\"A concise 2-sentence summary\",\n",
    "    agent=test_agent\n",
    ")\n",
    "\n",
    "test_crew = Crew(\n",
    "    agents=[test_agent],\n",
    "    tasks=[test_task],\n",
    "    process=Process.sequential,\n",
    "    verbose=True\n",
    ")\n",
    "\n",
    "# Monitor performance\n",
    "result, exec_time = monitor_crew_performance(test_crew)\n",
    "\n",
    "print(f\"\\n📝 Test Result:\")\n",
    "print(result.raw)"
   ]
  },
  {
   "cell_type": "markdown",
   "metadata": {},
   "source": [
    "## 10. Summary and Next Steps\n",
    "\n",
    "This notebook has demonstrated all the key concepts from AI Agents Crash Course Part 2."
   ]
  },
  {
   "cell_type": "code",
   "execution_count": null,
   "metadata": {},
   "outputs": [],
   "source": [
    "# Summary of what we've accomplished\n",
    "summary = \"\"\"\n",
    "# 🎉 AI Agents Part 2 - Implementation Complete!\n",
    "\n",
    "## ✅ Concepts Demonstrated:\n",
    "\n",
    "### 1. **Modular Architecture**\n",
    "- YAML configuration files for agents and tasks\n",
    "- Separation of configuration from execution logic\n",
    "- Easy modification without code changes\n",
    "\n",
    "### 2. **Structured Output Generation**\n",
    "- Pydantic schemas for consistent data formats\n",
    "- Entity-relation-entity extraction\n",
    "- Query parsing with structured results\n",
    "\n",
    "### 3. **Custom Tool Development**\n",
    "- Currency converter with real API integration\n",
    "- Calculator tool with safety checks\n",
    "- Proper error handling and validation\n",
    "\n",
    "### 4. **Production Patterns**\n",
    "- Environment variable management\n",
    "- Modular crew architecture\n",
    "- Performance monitoring\n",
    "- Multiple implementation approaches\n",
    "\n",
    "### 5. **Advanced Pipelines**\n",
    "- Multi-agent sequential processing\n",
    "- Natural language query handling\n",
    "- Structured data flow between agents\n",
    "\n",
    "## 🚀 Next Steps:\n",
    "\n",
    "1. **Experiment with different configurations** in the YAML files\n",
    "2. **Build custom tools** for your specific use cases\n",
    "3. **Implement error handling** and retry mechanisms\n",
    "4. **Add logging and monitoring** for production deployment\n",
    "5. **Scale to more complex multi-agent workflows**\n",
    "\n",
    "## 📚 Key Takeaways:\n",
    "\n",
    "- **Configuration-driven development** enables rapid iteration\n",
    "- **Structured outputs** are essential for production systems\n",
    "- **Custom tools** bridge AI agents with real-world systems\n",
    "- **Modular architecture** supports scalable agent systems\n",
    "\n",
    "Ready to build production-ready AI agent systems! 🎯\n",
    "\"\"\"\n",
    "\n",
    "display(Markdown(summary))"
   ]
  },
  {
   "cell_type": "code",
   "execution_count": null,
   "metadata": {},
   "outputs": [],
   "source": [
    "# Final verification of all components\n",
    "print(\"🔍 Final System Check:\")\n",
    "print(f\"✅ Environment variables loaded: {len([k for k in os.environ.keys() if k.endswith('_API_KEY')])} API keys\")\n",
    "print(f\"✅ Agent configurations: {len(agents_config)} agents defined\")\n",
    "print(f\"✅ Task configurations: {len(tasks_config)} tasks defined\")\n",
    "print(f\"✅ Custom tools: CurrencyConverter, Calculator\")\n",
    "print(f\"✅ Structured outputs: EntityTriplets, CurrencyQuery schemas\")\n",
    "print(f\"✅ Crew implementations: Research, Currency, Parsing crews\")\n",
    "\n",
    "print(\"\\n🎯 All systems operational! Ready for production deployment.\")"
   ]
  }
 ],
 "metadata": {
  "kernelspec": {
   "display_name": "ddods-agents",
   "language": "python",
   "name": "python3"
  },
  "language_info": {
   "codemirror_mode": {
    "name": "ipython",
    "version": 3
   },
   "file_extension": ".py",
   "mimetype": "text/x-python",
   "name": "python",
   "nbconvert_exporter": "python",
   "pygments_lexer": "ipython3",
   "version": "3.10.17"
  }
 },
 "nbformat": 4,
 "nbformat_minor": 4
}

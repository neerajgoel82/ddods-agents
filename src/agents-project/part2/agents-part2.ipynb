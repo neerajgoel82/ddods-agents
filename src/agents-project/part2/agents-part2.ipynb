{
 "cells": [
  {
   "cell_type": "markdown",
   "metadata": {},
   "source": [
    "# AI Agents Crash Course - Part 2: Implementation Notebook\n",
    "\n",
    "This notebook demonstrates the advanced concepts from Part 2:\n",
    "- Modular crew architecture with YAML configuration\n",
    "- Structured output generation with Pydantic\n",
    "- Custom tool development\n",
    "\n",
    "**Prerequisites:**\n",
    "1. Install requirements: `pip install -r requirements.txt`\n",
    "2. Set up `.env` file with your API keys\n",
    "3. Ensure all project files are in the correct structure"
   ]
  },
  {
   "cell_type": "markdown",
   "metadata": {},
   "source": [
    "## 1. Setup and Environment"
   ]
  },
  {
   "cell_type": "code",
   "execution_count": 3,
   "metadata": {},
   "outputs": [],
   "source": [
    "# Install dependencies (uncomment if needed)\n",
    "# !pip install crewai crewai-tools pydantic python-dotenv requests PyYAML"
   ]
  },
  {
   "cell_type": "code",
   "execution_count": null,
   "metadata": {},
   "outputs": [],
   "source": [
    "import os\n",
    "from dotenv import load_dotenv\n",
    "from crewai import LLM\n",
    "\n",
    "# Load environment variables\n",
    "load_dotenv()\n",
    "\n",
    "# Option D: Azure OpenAI\n",
    "openai_api_key = os.getenv(\"AZURE_OPENAI_API_KEY\")\n",
    "openai_endpoint = os.getenv(\"AZURE_OPENAI_ENDPOINT\")\n",
    "openai_api_version = os.getenv(\"AZURE_OPENAI_API_VERSION\")\n",
    "openai_model_name = os.getenv(\"AZURE_OPENAI_MODEL_NAME\")\n",
    "\n",
    "llm = LLM(\n",
    "    model=\"azure/gpt-4o-mini\",\n",
    "    api_key=openai_api_key,\n",
    "    base_url=openai_endpoint,\n",
    "    api_version=openai_api_version,\n",
    "    azure=True\n",
    ")\n",
    "\n",
    "print(\"🚀 Environment configured!\")\n",
    "print(f\"LLM Model: {llm.model}\")"
   ]
  },
  {
   "cell_type": "markdown",
   "metadata": {},
   "source": [
    "## 2. YAML Configuration Overview\n",
    "\n",
    "Let's examine the YAML configuration files that separate our agent definitions from code logic."
   ]
  },
  {
   "cell_type": "code",
   "execution_count": null,
   "metadata": {},
   "outputs": [],
   "source": [
    "import yaml\n",
    "\n",
    "# Load and display agent configuration\n",
    "with open('crews/config/agents.yaml', 'r') as file:\n",
    "    agents_config = yaml.safe_load(file)\n",
    "\n",
    "print(\"📋 Available Agents:\")\n",
    "for agent_name, config in agents_config.items():\n",
    "    print(f\"\\n🤖 {agent_name}:\")\n",
    "    print(f\"   Role: {config['role']}\")\n",
    "    print(f\"   Goal: {config['goal'][:100]}...\" if len(config['goal']) > 100 else f\"   Goal: {config['goal']}\")"
   ]
  },
  {
   "cell_type": "code",
   "execution_count": null,
   "metadata": {},
   "outputs": [],
   "source": [
    "# Load and display task configuration\n",
    "with open('crews/config/tasks.yaml', 'r') as file:\n",
    "    tasks_config = yaml.safe_load(file)\n",
    "\n",
    "print(\"📋 Available Tasks:\")\n",
    "for task_name, config in tasks_config.items():\n",
    "    print(f\"\\n📝 {task_name}:\")\n",
    "    print(f\"   Agent: {config['agent']}\")\n",
    "    description = config['description'][:150] + \"...\" if len(config['description']) > 150 else config['description']\n",
    "    print(f\"   Description: {description}\")\n",
    "    if 'depends_on' in config:\n",
    "        print(f\"   Depends on: {config['depends_on']}\")"
   ]
  },
  {
   "cell_type": "markdown",
   "metadata": {},
   "source": [
    "## 3. Basic Research Crew Implementation\n",
    "\n",
    "Let's start with the basic research crew from the article."
   ]
  },
  {
   "cell_type": "code",
   "execution_count": null,
   "metadata": {},
   "outputs": [],
   "source": [
    "# Import our custom research crew\n",
    "from crews.research_crew import ResearchCrew\n",
    "\n",
    "# Create research crew instance\n",
    "research_crew = ResearchCrew(llm = llm)\n",
    "print(\"✅ Research crew initialized!\")"
   ]
  },
  {
   "cell_type": "code",
   "execution_count": null,
   "metadata": {},
   "outputs": [],
   "source": [
    "# Run a research task\n",
    "topic = \"The impact of AI on job markets\"\n",
    "\n",
    "print(f\"🔍 Researching topic: {topic}\")\n",
    "print(\"This may take a few minutes...\\n\")\n",
    "\n",
    "# Create and run the crew\n",
    "result = research_crew.crew().kickoff(inputs={\"topic\": topic})"
   ]
  },
  {
   "cell_type": "code",
   "execution_count": null,
   "metadata": {},
   "outputs": [],
   "source": [
    "from IPython.display import Markdown, display\n",
    "\n",
    "\n",
    "# Display the research result\n",
    "display(Markdown(result.raw))"
   ]
  },
  {
   "cell_type": "markdown",
   "metadata": {},
   "source": [
    "## 4. Structured Output with Pydantic\n",
    "\n",
    "Now let's demonstrate structured output generation using Pydantic schemas."
   ]
  },
  {
   "cell_type": "code",
   "execution_count": 10,
   "metadata": {},
   "outputs": [],
   "source": [
    "from crewai import Agent\n",
    "\n",
    "from pydantic import BaseModel, Field\n",
    "\n",
    "class EntityRelationEntity(BaseModel):\n",
    "    entity: str = Field(description=\"The first entity in the triplet\")\n",
    "    relation: str = Field(description=\"The relation between the first and second entity\")\n",
    "    entity: str = Field(description=\"The second entity in the triplet\")\n"
   ]
  },
  {
   "cell_type": "code",
   "execution_count": 11,
   "metadata": {},
   "outputs": [],
   "source": [
    "from crewai import Agent\n",
    "\n",
    "agent = Agent(\n",
    "    role=\"Senior Linguist\",\n",
    "    goal=\"Analyse the query and extract entity-relation-entity triplets\",\n",
    "    backstory=\"You are a senior linguist that is known for your analytical skills.\",\n",
    "    verbose=True,\n",
    "    llm=llm\n",
    ")"
   ]
  },
  {
   "cell_type": "code",
   "execution_count": 12,
   "metadata": {},
   "outputs": [],
   "source": [
    "from crewai import Task\n",
    "\n",
    "task = Task(\n",
    "    description=\"\"\"Analyse the query and return structured JSON\n",
    "                   output in the form of\n",
    "                   - entity\n",
    "                   - relation\n",
    "                   - entity\n",
    "\n",
    "                   The query is: {query}\n",
    "                   \"\"\",\n",
    "    expected_output=\"\"\"A structured JSON object with the\n",
    "                       entity-relation-entity triplets\"\"\",\n",
    "    output_pydantic=EntityRelationEntity,\n",
    "    verbose=True,\n",
    "    agent=agent\n",
    ")"
   ]
  },
  {
   "cell_type": "code",
   "execution_count": null,
   "metadata": {},
   "outputs": [],
   "source": [
    "from crewai import Crew, Process\n",
    "\n",
    "crew = Crew(\n",
    "    agents=[agent],\n",
    "    tasks=[task],\n",
    "    process=Process.sequential,\n",
    "    verbose=True\n",
    ")\n",
    "\n",
    "response = crew.kickoff(inputs={\"query\": \"Paris is the capital of France.\"})\n"
   ]
  },
  {
   "cell_type": "code",
   "execution_count": null,
   "metadata": {},
   "outputs": [],
   "source": [
    "print(response.raw)"
   ]
  },
  {
   "cell_type": "markdown",
   "metadata": {},
   "source": [
    "## 5. Custom Tools Development\n",
    "\n",
    "Let's explore the custom currency conversion tool."
   ]
  },
  {
   "cell_type": "code",
   "execution_count": 15,
   "metadata": {},
   "outputs": [],
   "source": [
    "from dotenv import load_dotenv\n",
    "load_dotenv()\n",
    "import os\n",
    "import requests\n",
    "from typing import Type\n",
    "from crewai.tools import BaseTool\n",
    "from pydantic import BaseModel, Field"
   ]
  },
  {
   "cell_type": "code",
   "execution_count": 16,
   "metadata": {},
   "outputs": [],
   "source": [
    "class CurrencyConverterInput(BaseModel):\n",
    "    \"\"\"Input schema for CurrencyConverterTool.\"\"\"\n",
    "    amount: float = Field(..., description=\"The amount to convert.\")\n",
    "    from_currency: str = Field(..., description=\"The source currency code (e.g., 'USD').\")\n",
    "    to_currency: str = Field(..., description=\"The target currency code (e.g., 'EUR').\")\n"
   ]
  },
  {
   "cell_type": "code",
   "execution_count": 17,
   "metadata": {},
   "outputs": [],
   "source": [
    "class CurrencyConverterTool(BaseTool):\n",
    "    name: str = \"Currency Converter Tool\"\n",
    "    description: str = \"Converts an amount from one currency to another.\"\n",
    "    args_schema: Type[BaseModel] = CurrencyConverterInput\n",
    "    api_key: str = os.getenv(\"EXCHANGE_RATE_API_KEY\") \n",
    "\n",
    "    def _run(self, amount: float, from_currency: str, to_currency: str) -> str:\n",
    "        url = f\"https://v6.exchangerate-api.com/v6/{self.api_key}/latest/{from_currency}\"\n",
    "        response = requests.get(url)\n",
    "        \n",
    "        if response.status_code != 200:\n",
    "            return \"Failed to fetch exchange rates.\"\n",
    "\n",
    "        data = response.json()\n",
    "        if \"conversion_rates\" not in data or to_currency not in data[\"conversion_rates\"]:\n",
    "            return f\"Invalid currency code: {to_currency}\"\n",
    "\n",
    "        rate = data[\"conversion_rates\"][to_currency]\n",
    "        converted_amount = amount * rate\n",
    "        return f\"{amount} {from_currency} is equivalent to {converted_amount:.2f} {to_currency}.\"\n"
   ]
  },
  {
   "cell_type": "code",
   "execution_count": 18,
   "metadata": {},
   "outputs": [],
   "source": [
    "from crewai import Agent\n",
    "\n",
    "currency_analyst = Agent(\n",
    "    role=\"Currency Analyst\",\n",
    "    goal=\"Provide real-time currency conversions and financial insights.\",\n",
    "    backstory=(\n",
    "        \"You are a finance expert with deep knowledge of global exchange rates.\"\n",
    "        \"You help users with currency conversion and financial decision-making.\"\n",
    "    ),\n",
    "    tools=[CurrencyConverterTool()],  # Attach our custom tool\n",
    "    verbose=True,\n",
    "    llm=llm\n",
    ")"
   ]
  },
  {
   "cell_type": "code",
   "execution_count": 19,
   "metadata": {},
   "outputs": [],
   "source": [
    "from crewai import Task\n",
    "\n",
    "currency_conversion_task = Task(\n",
    "    description=(\n",
    "        \"Convert {amount} {from_currency} to {to_currency} \"\n",
    "        \"using real-time exchange rates.\"\n",
    "        \"Provide the equivalent amount and \"\n",
    "        \"explain any relevant financial context.\"\n",
    "    ),\n",
    "    expected_output=(\"A detailed response including the \"\n",
    "                     \"converted amount and financial insights.\"),\n",
    "    agent=currency_analyst\n",
    ")"
   ]
  },
  {
   "cell_type": "code",
   "execution_count": null,
   "metadata": {},
   "outputs": [],
   "source": [
    "from crewai import Crew, Process\n",
    "\n",
    "crew = Crew(\n",
    "    agents=[currency_analyst],\n",
    "    tasks=[currency_conversion_task],\n",
    "    process=Process.sequential\n",
    ")\n",
    "\n",
    "response = crew.kickoff(inputs={\"amount\": 100, \n",
    "                                \"from_currency\": \"USD\",\n",
    "                                \"to_currency\": \"EUR\"})\n"
   ]
  },
  {
   "cell_type": "code",
   "execution_count": null,
   "metadata": {},
   "outputs": [],
   "source": [
    "from IPython.display import Markdown, display\n",
    "\n",
    "\n",
    "# Display the research result\n",
    "display(Markdown(response.raw))"
   ]
  }
 ],
 "metadata": {
  "kernelspec": {
   "display_name": "ddods-agents",
   "language": "python",
   "name": "python3"
  },
  "language_info": {
   "codemirror_mode": {
    "name": "ipython",
    "version": 3
   },
   "file_extension": ".py",
   "mimetype": "text/x-python",
   "name": "python",
   "nbconvert_exporter": "python",
   "pygments_lexer": "ipython3",
   "version": "3.10.17"
  }
 },
 "nbformat": 4,
 "nbformat_minor": 4
}

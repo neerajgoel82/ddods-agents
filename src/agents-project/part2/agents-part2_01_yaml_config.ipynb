{
 "cells": [
  {
   "cell_type": "markdown",
   "metadata": {},
   "source": [
    "# AI Agents Crash Course - Part 2: Implementation Notebook\n",
    "\n",
    "This notebook demonstrates the advanced concepts from Part 2:\n",
    "- Modular crew architecture with YAML configuration\n",
    "\n",
    "**Prerequisites:**\n",
    "1. Install requirements: `pip install -r requirements.txt`\n",
    "2. Set up `.env` file with your API keys\n",
    "3. Ensure all project files are in the correct structure"
   ]
  },
  {
   "cell_type": "markdown",
   "metadata": {},
   "source": [
    "## 1. Setup and Environment"
   ]
  },
  {
   "cell_type": "code",
   "execution_count": 1,
   "metadata": {},
   "outputs": [],
   "source": [
    "# Install dependencies (uncomment if needed)\n",
    "# !pip install crewai crewai-tools pydantic python-dotenv requests PyYAML"
   ]
  },
  {
   "cell_type": "code",
   "execution_count": null,
   "metadata": {},
   "outputs": [],
   "source": [
    "import os\n",
    "from dotenv import load_dotenv\n",
    "from crewai import LLM\n",
    "\n",
    "# Load environment variables\n",
    "load_dotenv()\n",
    "\n",
    "# Option D: Azure OpenAI\n",
    "openai_api_key = os.getenv(\"AZURE_OPENAI_API_KEY\")\n",
    "openai_endpoint = os.getenv(\"AZURE_OPENAI_ENDPOINT\")\n",
    "openai_api_version = os.getenv(\"AZURE_OPENAI_API_VERSION\")\n",
    "openai_model_name = os.getenv(\"AZURE_OPENAI_MODEL_NAME\")\n",
    "\n",
    "llm = LLM(\n",
    "    model=\"azure/gpt-4o-mini\",\n",
    "    api_key=openai_api_key,\n",
    "    base_url=openai_endpoint,\n",
    "    api_version=openai_api_version,\n",
    "    azure=True\n",
    ")\n",
    "\n",
    "print(\"🚀 Environment configured!\")\n",
    "print(f\"LLM Model: {llm.model}\")"
   ]
  },
  {
   "cell_type": "markdown",
   "metadata": {},
   "source": [
    "## 2. YAML Configuration Overview\n",
    "\n",
    "Let's examine the YAML configuration files that separate our agent definitions from code logic."
   ]
  },
  {
   "cell_type": "code",
   "execution_count": null,
   "metadata": {},
   "outputs": [],
   "source": [
    "import yaml\n",
    "\n",
    "# Load and display agent configuration\n",
    "with open('crews/config/agents.yaml', 'r') as file:\n",
    "    agents_config = yaml.safe_load(file)\n",
    "\n",
    "print(\"📋 Available Agents:\")\n",
    "for agent_name, config in agents_config.items():\n",
    "    print(f\"\\n🤖 {agent_name}:\")\n",
    "    print(f\"   Role: {config['role']}\")\n",
    "    print(f\"   Goal: {config['goal'][:100]}...\" if len(config['goal']) > 100 else f\"   Goal: {config['goal']}\")"
   ]
  },
  {
   "cell_type": "code",
   "execution_count": null,
   "metadata": {},
   "outputs": [],
   "source": [
    "# Load and display task configuration\n",
    "with open('crews/config/tasks.yaml', 'r') as file:\n",
    "    tasks_config = yaml.safe_load(file)\n",
    "\n",
    "print(\"📋 Available Tasks:\")\n",
    "for task_name, config in tasks_config.items():\n",
    "    print(f\"\\n📝 {task_name}:\")\n",
    "    print(f\"   Agent: {config['agent']}\")\n",
    "    description = config['description'][:150] + \"...\" if len(config['description']) > 150 else config['description']\n",
    "    print(f\"   Description: {description}\")\n",
    "    if 'depends_on' in config:\n",
    "        print(f\"   Depends on: {config['depends_on']}\")"
   ]
  },
  {
   "cell_type": "markdown",
   "metadata": {},
   "source": [
    "## 3. Basic Research Crew Implementation\n",
    "\n",
    "Let's start with the basic research crew from the article."
   ]
  },
  {
   "cell_type": "code",
   "execution_count": null,
   "metadata": {},
   "outputs": [],
   "source": [
    "# Import our custom research crew\n",
    "from crews.research_crew import ResearchCrew\n",
    "\n",
    "# Create research crew instance\n",
    "research_crew = ResearchCrew(llm = llm)\n",
    "print(\"✅ Research crew initialized!\")"
   ]
  },
  {
   "cell_type": "code",
   "execution_count": null,
   "metadata": {},
   "outputs": [],
   "source": [
    "# Run a research task\n",
    "topic = \"The impact of AI on job markets\"\n",
    "\n",
    "print(f\"🔍 Researching topic: {topic}\")\n",
    "print(\"This may take a few minutes...\\n\")\n",
    "\n",
    "# Create and run the crew\n",
    "result = research_crew.crew().kickoff(inputs={\"topic\": topic})"
   ]
  },
  {
   "cell_type": "code",
   "execution_count": null,
   "metadata": {},
   "outputs": [],
   "source": [
    "from IPython.display import Markdown, display\n",
    "\n",
    "\n",
    "# Display the research result\n",
    "display(Markdown(result.raw))"
   ]
  }
 ],
 "metadata": {
  "kernelspec": {
   "display_name": "ddods-agents",
   "language": "python",
   "name": "python3"
  },
  "language_info": {
   "codemirror_mode": {
    "name": "ipython",
    "version": 3
   },
   "file_extension": ".py",
   "mimetype": "text/x-python",
   "name": "python",
   "nbconvert_exporter": "python",
   "pygments_lexer": "ipython3",
   "version": "3.10.17"
  }
 },
 "nbformat": 4,
 "nbformat_minor": 4
}

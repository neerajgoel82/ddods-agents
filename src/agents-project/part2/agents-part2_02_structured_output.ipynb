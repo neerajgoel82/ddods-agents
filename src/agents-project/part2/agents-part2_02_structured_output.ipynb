{
 "cells": [
  {
   "cell_type": "markdown",
   "metadata": {},
   "source": [
    "# AI Agents Crash Course - Part 2: Implementation Notebook\n",
    "\n",
    "This notebook demonstrates the advanced concepts from Part 2:\n",
    "- Structured output generation with Pydantic\n",
    "\n",
    "**Prerequisites:**\n",
    "1. Install requirements: `pip install -r requirements.txt`\n",
    "2. Set up `.env` file with your API keys\n",
    "3. Ensure all project files are in the correct structure"
   ]
  },
  {
   "cell_type": "markdown",
   "metadata": {},
   "source": [
    "## 1. Setup and Environment"
   ]
  },
  {
   "cell_type": "code",
   "execution_count": 1,
   "metadata": {},
   "outputs": [],
   "source": [
    "# Install dependencies (uncomment if needed)\n",
    "# !pip install crewai crewai-tools pydantic python-dotenv requests PyYAML"
   ]
  },
  {
   "cell_type": "code",
   "execution_count": null,
   "metadata": {},
   "outputs": [],
   "source": [
    "import os\n",
    "from dotenv import load_dotenv\n",
    "from crewai import LLM\n",
    "\n",
    "# Load environment variables\n",
    "load_dotenv()\n",
    "\n",
    "# Option D: Azure OpenAI\n",
    "openai_api_key = os.getenv(\"AZURE_OPENAI_API_KEY\")\n",
    "openai_endpoint = os.getenv(\"AZURE_OPENAI_ENDPOINT\")\n",
    "openai_api_version = os.getenv(\"AZURE_OPENAI_API_VERSION\")\n",
    "openai_model_name = os.getenv(\"AZURE_OPENAI_MODEL_NAME\")\n",
    "\n",
    "llm = LLM(\n",
    "    model=\"azure/gpt-4o-mini\",\n",
    "    api_key=openai_api_key,\n",
    "    base_url=openai_endpoint,\n",
    "    api_version=openai_api_version,\n",
    "    azure=True\n",
    ")\n",
    "\n",
    "print(\"🚀 Environment configured!\")\n",
    "print(f\"LLM Model: {llm.model}\")"
   ]
  },
  {
   "cell_type": "markdown",
   "metadata": {},
   "source": [
    "## 2. Structured Output with Pydantic\n",
    "\n",
    "Now let's demonstrate structured output generation using Pydantic schemas."
   ]
  },
  {
   "cell_type": "code",
   "execution_count": 3,
   "metadata": {},
   "outputs": [],
   "source": [
    "from crewai import Agent\n",
    "\n",
    "from pydantic import BaseModel, Field\n",
    "\n",
    "class EntityRelationEntity(BaseModel):\n",
    "    entity: str = Field(description=\"The first entity in the triplet\")\n",
    "    relation: str = Field(description=\"The relation between the first and second entity\")\n",
    "    entity: str = Field(description=\"The second entity in the triplet\")\n"
   ]
  },
  {
   "cell_type": "code",
   "execution_count": 4,
   "metadata": {},
   "outputs": [],
   "source": [
    "from crewai import Agent\n",
    "\n",
    "agent = Agent(\n",
    "    role=\"Senior Linguist\",\n",
    "    goal=\"Analyse the query and extract entity-relation-entity triplets\",\n",
    "    backstory=\"You are a senior linguist that is known for your analytical skills.\",\n",
    "    verbose=True,\n",
    "    llm=llm\n",
    ")"
   ]
  },
  {
   "cell_type": "code",
   "execution_count": 5,
   "metadata": {},
   "outputs": [],
   "source": [
    "from crewai import Task\n",
    "\n",
    "task = Task(\n",
    "    description=\"\"\"Analyse the query and return structured JSON\n",
    "                   output in the form of\n",
    "                   - entity\n",
    "                   - relation\n",
    "                   - entity\n",
    "\n",
    "                   The query is: {query}\n",
    "                   \"\"\",\n",
    "    expected_output=\"\"\"A structured JSON object with the\n",
    "                       entity-relation-entity triplets\"\"\",\n",
    "    output_pydantic=EntityRelationEntity,\n",
    "    verbose=True,\n",
    "    agent=agent\n",
    ")"
   ]
  },
  {
   "cell_type": "code",
   "execution_count": null,
   "metadata": {},
   "outputs": [],
   "source": [
    "from crewai import Crew, Process\n",
    "\n",
    "crew = Crew(\n",
    "    agents=[agent],\n",
    "    tasks=[task],\n",
    "    process=Process.sequential,\n",
    "    verbose=True\n",
    ")\n",
    "\n",
    "response = crew.kickoff(inputs={\"query\": \"Paris is the capital of France.\"})\n"
   ]
  },
  {
   "cell_type": "code",
   "execution_count": null,
   "metadata": {},
   "outputs": [],
   "source": [
    "print(response.raw)"
   ]
  }
 ],
 "metadata": {
  "kernelspec": {
   "display_name": "ddods-agents",
   "language": "python",
   "name": "python3"
  },
  "language_info": {
   "codemirror_mode": {
    "name": "ipython",
    "version": 3
   },
   "file_extension": ".py",
   "mimetype": "text/x-python",
   "name": "python",
   "nbconvert_exporter": "python",
   "pygments_lexer": "ipython3",
   "version": "3.10.17"
  }
 },
 "nbformat": 4,
 "nbformat_minor": 4
}

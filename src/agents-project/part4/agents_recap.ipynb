{
 "cells": [
  {
   "cell_type": "markdown",
   "metadata": {},
   "source": [
    "# Recap"
   ]
  },
  {
   "cell_type": "code",
   "execution_count": null,
   "metadata": {},
   "outputs": [],
   "source": [
    "from crewai.flow.flow import Flow, start\n",
    "\n",
    "class SimpleFlow(Flow):\n",
    "\n",
    "    @start()\n",
    "    def initialize(self):\n",
    "        print(\"Flow started\")\n",
    "\n",
    "flow = SimpleFlow()\n",
    "await flow.kickoff_async()"
   ]
  },
  {
   "cell_type": "code",
   "execution_count": null,
   "metadata": {},
   "outputs": [],
   "source": [
    "from crewai.flow.flow import Flow, listen, start\n",
    "\n",
    "class SequentialFlow(Flow):\n",
    "\n",
    "    @start()\n",
    "    def first_task(self):\n",
    "        print(\"Step 1: Fetching data\")\n",
    "        return \"data_fetched\"\n",
    "\n",
    "    @listen(first_task)\n",
    "    def second_task(self, result):\n",
    "        print(f\"Step 2: Processing {result}\")\n",
    "\n",
    "flow = SequentialFlow()\n",
    "await flow.kickoff_async()"
   ]
  },
  {
   "cell_type": "code",
   "execution_count": null,
   "metadata": {},
   "outputs": [],
   "source": [
    "from crewai.flow.flow import Flow, listen, or_, start\n",
    "\n",
    "class OrFlow(Flow):\n",
    "\n",
    "    @start()\n",
    "    def fetch_from_api(self):\n",
    "        return \"API data\"\n",
    "\n",
    "    @start()\n",
    "    def read_from_db(self):\n",
    "        return \"Database record\"\n",
    "\n",
    "    @listen(or_(fetch_from_api, read_from_db))\n",
    "    def process_data(self, result):\n",
    "        print(f\"Processing: {result}\")\n",
    "\n",
    "flow = OrFlow()\n",
    "await flow.kickoff_async()"
   ]
  },
  {
   "cell_type": "code",
   "execution_count": null,
   "metadata": {},
   "outputs": [],
   "source": [
    "from crewai.flow.flow import Flow, listen, and_, start\n",
    "\n",
    "class AndFlow(Flow):\n",
    "\n",
    "    @start()\n",
    "    def step_one(self):\n",
    "        print(\"Step 1: Collecting user input\")\n",
    "        return \"User data\"\n",
    "\n",
    "    @start()\n",
    "    def step_two(self):\n",
    "        print(\"Step 2: Validating input\")\n",
    "        return \"Validated data\"\n",
    "\n",
    "    @listen(and_(step_one, step_two))\n",
    "    def final_step(self):\n",
    "        print(\"All conditions met. Proceeding with final step.\")\n",
    "\n",
    "flow = AndFlow()\n",
    "await flow.kickoff_async()"
   ]
  },
  {
   "cell_type": "code",
   "execution_count": null,
   "metadata": {},
   "outputs": [],
   "source": [
    "import random\n",
    "from crewai.flow.flow import Flow, listen, router, start\n",
    "\n",
    "class RouterFlow(Flow):\n",
    "\n",
    "    @start()\n",
    "    def classify_request(self):\n",
    "        request_type = random.choice([\"urgent\", \"normal\"])\n",
    "        print(f\"Request classified as: {request_type}\")\n",
    "        return request_type\n",
    "\n",
    "    @router(classify_request)\n",
    "    def handle_request(self, classification):\n",
    "        return \"handle_urgent\" if classification == \"urgent\" else \"handle_normal\"\n",
    "\n",
    "    @listen(\"handle_urgent\")\n",
    "    def urgent_handler(self):\n",
    "        print(\"Handling urgent request\")\n",
    "\n",
    "    @listen(\"handle_normal\")\n",
    "    def normal_handler(self):\n",
    "        print(\"Handling normal request\")\n",
    "\n",
    "flow = RouterFlow()\n",
    "await flow.kickoff_async()\n"
   ]
  },
  {
   "cell_type": "code",
   "execution_count": null,
   "metadata": {},
   "outputs": [],
   "source": [
    "from crewai.flow.flow import Flow, listen, start\n",
    "\n",
    "class StateFlow(Flow):\n",
    "\n",
    "    @start()\n",
    "    def initialize_state(self):\n",
    "        self.state[\"count\"] = 1\n",
    "        print(f\"Initial count: {self.state['count']}\")\n",
    "\n",
    "    @listen(initialize_state)\n",
    "    def increment_count(self):\n",
    "        self.state[\"count\"] += 1\n",
    "        print(f\"Updated count: {self.state['count']}\")\n",
    "\n",
    "flow = StateFlow()\n",
    "await flow.kickoff_async()\n"
   ]
  },
  {
   "cell_type": "code",
   "execution_count": null,
   "metadata": {},
   "outputs": [],
   "source": [
    "from crewai.flow.flow import Flow, listen, start\n",
    "from pydantic import BaseModel\n",
    "\n",
    "# Defining a structured state model\n",
    "class CounterState(BaseModel):\n",
    "    count: int = 0\n",
    "\n",
    "class StructuredStateFlow(Flow[CounterState]):\n",
    "\n",
    "    @start()\n",
    "    def initialize_state(self):\n",
    "        print(f\"Initial count: {self.state.count}\")\n",
    "        self.state.count = 1\n",
    "\n",
    "    @listen(initialize_state)\n",
    "    def increment_count(self):\n",
    "        self.state.count += 1\n",
    "        print(f\"Updated count: {self.state.count}\")\n",
    "\n",
    "flow = StructuredStateFlow()\n",
    "await flow.kickoff_async()\n"
   ]
  }
 ],
 "metadata": {
  "kernelspec": {
   "display_name": "ddods-agents",
   "language": "python",
   "name": "python3"
  },
  "language_info": {
   "codemirror_mode": {
    "name": "ipython",
    "version": 3
   },
   "file_extension": ".py",
   "mimetype": "text/x-python",
   "name": "python",
   "nbconvert_exporter": "python",
   "pygments_lexer": "ipython3",
   "version": "3.10.17"
  }
 },
 "nbformat": 4,
 "nbformat_minor": 2
}

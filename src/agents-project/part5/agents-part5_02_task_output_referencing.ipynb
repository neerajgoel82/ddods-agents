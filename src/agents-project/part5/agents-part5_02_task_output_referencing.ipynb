{
 "cells": [
  {
   "cell_type": "code",
   "execution_count": null,
   "metadata": {},
   "outputs": [],
   "source": [
    "import os\n",
    "from dotenv import load_dotenv\n",
    "from crewai import Agent, LLM, Task, Crew, Process\n",
    "\n",
    "# Load environment variables\n",
    "load_dotenv()\n",
    "\n",
    "# Option D: Azure OpenAI\n",
    "openai_api_key = os.getenv(\"AZURE_OPENAI_API_KEY\")\n",
    "openai_endpoint = os.getenv(\"AZURE_OPENAI_ENDPOINT\")\n",
    "openai_api_version = os.getenv(\"AZURE_OPENAI_API_VERSION\")\n",
    "openai_model_name = os.getenv(\"AZURE_OPENAI_MODEL_NAME\")\n",
    "\n",
    "llm = LLM(\n",
    "    model=\"azure/gpt-4o-mini\",\n",
    "    api_key=openai_api_key,\n",
    "    base_url=openai_endpoint,\n",
    "    api_version=openai_api_version,\n",
    "    azure=True\n",
    ")\n",
    "\n",
    "print(\"🚀 Environment configured!\")\n",
    "print(f\"LLM Model: {llm.model}\")"
   ]
  },
  {
   "cell_type": "markdown",
   "metadata": {},
   "source": [
    "## Reference other tasks"
   ]
  },
  {
   "cell_type": "code",
   "execution_count": 13,
   "metadata": {},
   "outputs": [],
   "source": [
    "from pydantic import BaseModel\n",
    "\n",
    "class ResearchFindings(BaseModel):\n",
    "    \"\"\"Structured research report output\"\"\"\n",
    "    title: str\n",
    "    key_findings: list[str]\n",
    "\n",
    "class AnalysisSummary(BaseModel):\n",
    "    \"\"\"Structured summary of research findings\"\"\"\n",
    "    insights: list[str]\n",
    "    key_takeaways: str\n"
   ]
  },
  {
   "cell_type": "code",
   "execution_count": 14,
   "metadata": {},
   "outputs": [],
   "source": [
    "from crewai import Agent, LLM\n",
    "\n",
    "# AI Agents\n",
    "research_agent = Agent(\n",
    "    role=\"AI Researcher\",\n",
    "    goal=\"Find and summarize the latest AI advancements\",\n",
    "    backstory=\"You are an expert AI researcher who stays up to date with the latest innovations.\",\n",
    "    llm=llm,\n",
    "    verbose=True,\n",
    ")\n",
    "\n",
    "analysis_agent = Agent(\n",
    "    role=\"AI Analyst\",\n",
    "    goal=\"Analyze AI research findings and extract key insights\",\n",
    "    backstory=\"You are a data analyst who extracts valuable insights from research data.\",\n",
    "    llm=llm,\n",
    "    verbose=True,\n",
    ")\n",
    "\n",
    "writer_agent = Agent(\n",
    "    role=\"Tech Writer\",\n",
    "    goal=\"Write a well-structured blog post on AI trends\",\n",
    "    backstory=\"You are a technology writer skilled at transforming complex AI research into readable content.\",\n",
    "    llm=llm,\n",
    "    verbose=True,\n",
    ")\n"
   ]
  },
  {
   "cell_type": "code",
   "execution_count": 15,
   "metadata": {},
   "outputs": [],
   "source": [
    "from crewai import Task\n",
    "\n",
    "# Step 1: Research Task\n",
    "research_task = Task(\n",
    "    description=\"Find and summarize the latest AI advancements\",\n",
    "    expected_output=\"A structured list of recent AI breakthroughs\",\n",
    "    agent=research_agent,\n",
    "    output_pydantic=ResearchFindings  # Structured output\n",
    ")\n",
    "\n",
    "# Step 2: Analysis Task (References Research Task Output)\n",
    "analysis_task = Task(\n",
    "    description=\"Analyze AI research findings and extract key insights\",\n",
    "    expected_output=\"A structured summary with key takeaways\",\n",
    "    agent=analysis_agent,\n",
    "    output_pydantic=AnalysisSummary,\n",
    "    context=[research_task]  # Receives output from research_task\n",
    ")\n",
    "\n",
    "# Step 3: Blog Writing Task (References Both Research and Analysis)\n",
    "blog_writing_task = Task(\n",
    "    description=\"Write a detailed blog post about AI trends\",\n",
    "    expected_output=\"A well-structured blog post\",\n",
    "    agent=writer_agent,\n",
    "    context=[research_task, analysis_task]  # Uses both research and analysis outputs\n",
    ")\n"
   ]
  },
  {
   "cell_type": "code",
   "execution_count": null,
   "metadata": {},
   "outputs": [],
   "source": [
    "from crewai import Crew\n",
    "\n",
    "ai_research_crew = Crew(\n",
    "    agents=[research_agent, analysis_agent, writer_agent],\n",
    "    tasks=[research_task, analysis_task, blog_writing_task],\n",
    "    verbose=True\n",
    ")\n",
    "\n",
    "# Execute the workflow\n",
    "result = ai_research_crew.kickoff()\n",
    "\n",
    "# Print the final blog post\n",
    "print(\"\\n=== Generated Blog Post ===\")\n",
    "print(result.raw)\n"
   ]
  },
  {
   "cell_type": "code",
   "execution_count": null,
   "metadata": {},
   "outputs": [],
   "source": [
    "analysis_task.output"
   ]
  },
  {
   "cell_type": "code",
   "execution_count": null,
   "metadata": {},
   "outputs": [],
   "source": [
    "analysis_task.output.pydantic"
   ]
  }
 ],
 "metadata": {
  "kernelspec": {
   "display_name": "ddods-agents",
   "language": "python",
   "name": "python3"
  },
  "language_info": {
   "codemirror_mode": {
    "name": "ipython",
    "version": 3
   },
   "file_extension": ".py",
   "mimetype": "text/x-python",
   "name": "python",
   "nbconvert_exporter": "python",
   "pygments_lexer": "ipython3",
   "version": "3.10.17"
  }
 },
 "nbformat": 4,
 "nbformat_minor": 2
}

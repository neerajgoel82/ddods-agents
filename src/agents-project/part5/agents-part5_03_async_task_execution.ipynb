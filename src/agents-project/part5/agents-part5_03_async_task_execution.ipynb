{
 "cells": [
  {
   "cell_type": "code",
   "execution_count": null,
   "metadata": {},
   "outputs": [],
   "source": [
    "import os\n",
    "from dotenv import load_dotenv\n",
    "from crewai import Agent, LLM, Task, Crew, Process\n",
    "\n",
    "# Load environment variables\n",
    "load_dotenv()\n",
    "\n",
    "# Option D: Azure OpenAI\n",
    "openai_api_key = os.getenv(\"AZURE_OPENAI_API_KEY\")\n",
    "openai_endpoint = os.getenv(\"AZURE_OPENAI_ENDPOINT\")\n",
    "openai_api_version = os.getenv(\"AZURE_OPENAI_API_VERSION\")\n",
    "openai_model_name = os.getenv(\"AZURE_OPENAI_MODEL_NAME\")\n",
    "\n",
    "llm = LLM(\n",
    "    model=\"azure/gpt-4o-mini\",\n",
    "    api_key=openai_api_key,\n",
    "    base_url=openai_endpoint,\n",
    "    api_version=openai_api_version,\n",
    "    azure=True\n",
    ")\n",
    "\n",
    "print(\"🚀 Environment configured!\")\n",
    "print(f\"LLM Model: {llm.model}\")"
   ]
  },
  {
   "cell_type": "markdown",
   "metadata": {},
   "source": [
    "## Async Execution"
   ]
  },
  {
   "cell_type": "code",
   "execution_count": 2,
   "metadata": {},
   "outputs": [],
   "source": [
    "from pydantic import BaseModel\n",
    "\n",
    "class AIResearchFindings(BaseModel):\n",
    "    \"\"\"Represents structured research on AI breakthroughs.\"\"\"\n",
    "    title: str\n",
    "    key_findings: list[str]\n",
    "\n",
    "class AIRegulationFinding(BaseModel):\n",
    "    \"\"\"Represents structured research on AI regulations.\"\"\"\n",
    "    region: str\n",
    "    key_policies: list[str]\n",
    "\n",
    "class AIRegulationFindings(BaseModel):\n",
    "    \"\"\"Represents structured research on AI regulations.\"\"\"\n",
    "    key_regulations: list[AIRegulationFinding]\n",
    "\n",
    "class FinalAIReport(BaseModel):\n",
    "    \"\"\"Combines AI research & regulation analysis into a report.\"\"\"\n",
    "    executive_summary: str\n",
    "    key_trends: list[str]\n"
   ]
  },
  {
   "cell_type": "code",
   "execution_count": 3,
   "metadata": {},
   "outputs": [],
   "source": [
    "from crewai import Agent\n",
    "\n",
    "# Researcher for AI breakthroughs\n",
    "research_agent = Agent(\n",
    "    role=\"AI Researcher\",\n",
    "    goal=\"Find and summarize the latest AI breakthroughs\",\n",
    "    backstory=\"An expert AI researcher who tracks technological advancements.\",\n",
    "    llm=llm,\n",
    "    verbose=True,\n",
    ")\n",
    "\n",
    "# Analyst for AI regulations\n",
    "regulation_agent = Agent(\n",
    "    role=\"AI Policy Analyst\",\n",
    "    goal=\"Analyze global AI regulations and summarize policies\",\n",
    "    backstory=\"A government policy expert specializing in AI ethics and laws.\",\n",
    "    llm=llm,\n",
    "    verbose=True,\n",
    ")\n",
    "\n",
    "# Writer for the final AI report\n",
    "writer_agent = Agent(\n",
    "    role=\"AI Report Writer\",\n",
    "    goal=\"Write a structured report combining AI breakthroughs and regulations\",\n",
    "    backstory=\"A professional technical writer who crafts AI research reports.\",\n",
    "    llm=llm,\n",
    "    verbose=True,\n",
    ")\n"
   ]
  },
  {
   "cell_type": "code",
   "execution_count": 4,
   "metadata": {},
   "outputs": [],
   "source": [
    "from crewai import Task\n",
    "\n",
    "# Task 1: AI Breakthroughs Research (Asynchronous)\n",
    "research_ai_task = Task(\n",
    "    description=\"Research the latest AI advancements and summarize key breakthroughs.\",\n",
    "    expected_output=\"A structured list of AI breakthroughs.\",\n",
    "    agent=research_agent,\n",
    "    output_pydantic=AIResearchFindings,\n",
    "    async_execution=True  # Runs asynchronously\n",
    ")\n",
    "\n",
    "# Task 2: AI Regulation Analysis (Asynchronous)\n",
    "research_regulation_task = Task(\n",
    "    description=\"Analyze the latest AI regulations worldwide and summarize key policies.\",\n",
    "    expected_output=\"A structured list of AI regulations by region.\",\n",
    "    agent=regulation_agent,\n",
    "    output_pydantic=AIRegulationFindings,\n",
    "    async_execution=True  # Runs asynchronously\n",
    ")\n",
    "\n",
    "# Task 3: Generate AI Research Report (Depends on the first two tasks)\n",
    "generate_report_task = Task(\n",
    "    description=\"Write a structured report summarizing AI breakthroughs and regulations.\",\n",
    "    expected_output=\"A final AI report summarizing both aspects.\",\n",
    "    agent=writer_agent,\n",
    "    output_pydantic=FinalAIReport,\n",
    "    context=[research_ai_task, research_regulation_task]  # Waits for these tasks to complete\n",
    ")\n"
   ]
  },
  {
   "cell_type": "code",
   "execution_count": null,
   "metadata": {},
   "outputs": [],
   "source": [
    "from crewai import Crew\n",
    "\n",
    "ai_research_crew = Crew(\n",
    "    agents=[research_agent, regulation_agent, writer_agent],\n",
    "    tasks=[research_ai_task, research_regulation_task, generate_report_task],\n",
    "    verbose=True\n",
    ")\n",
    "\n",
    "# Execute the workflow\n",
    "result = ai_research_crew.kickoff()\n",
    "\n",
    "# Print the final AI report\n",
    "print(\"\\n=== Generated AI Report ===\")\n",
    "print(result.raw)"
   ]
  }
 ],
 "metadata": {
  "kernelspec": {
   "display_name": "ddods-agents",
   "language": "python",
   "name": "python3"
  },
  "language_info": {
   "codemirror_mode": {
    "name": "ipython",
    "version": 3
   },
   "file_extension": ".py",
   "mimetype": "text/x-python",
   "name": "python",
   "nbconvert_exporter": "python",
   "pygments_lexer": "ipython3",
   "version": "3.10.17"
  }
 },
 "nbformat": 4,
 "nbformat_minor": 2
}

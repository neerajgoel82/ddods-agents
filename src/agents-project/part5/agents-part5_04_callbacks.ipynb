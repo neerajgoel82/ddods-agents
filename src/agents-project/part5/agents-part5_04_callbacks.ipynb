{
 "cells": [
  {
   "cell_type": "code",
   "execution_count": null,
   "metadata": {},
   "outputs": [],
   "source": [
    "import os\n",
    "from dotenv import load_dotenv\n",
    "from crewai import Agent, LLM, Task, Crew, Process\n",
    "\n",
    "# Load environment variables\n",
    "load_dotenv()\n",
    "\n",
    "# Option D: Azure OpenAI\n",
    "openai_api_key = os.getenv(\"AZURE_OPENAI_API_KEY\")\n",
    "openai_endpoint = os.getenv(\"AZURE_OPENAI_ENDPOINT\")\n",
    "openai_api_version = os.getenv(\"AZURE_OPENAI_API_VERSION\")\n",
    "openai_model_name = os.getenv(\"AZURE_OPENAI_MODEL_NAME\")\n",
    "\n",
    "llm = LLM(\n",
    "    model=\"azure/gpt-4o-mini\",\n",
    "    api_key=openai_api_key,\n",
    "    base_url=openai_endpoint,\n",
    "    api_version=openai_api_version,\n",
    "    azure=True\n",
    ")\n",
    "\n",
    "print(\"🚀 Environment configured!\")\n",
    "print(f\"LLM Model: {llm.model}\")"
   ]
  },
  {
   "cell_type": "markdown",
   "metadata": {},
   "source": [
    "## Callbacks"
   ]
  },
  {
   "cell_type": "code",
   "execution_count": 7,
   "metadata": {},
   "outputs": [],
   "source": [
    "from crewai import Agent\n",
    "\n",
    "# AI Researcher Agent\n",
    "research_agent = Agent(\n",
    "    role=\"AI News Researcher\",\n",
    "    goal=\"Find and summarize the latest AI news from trusted sources\",\n",
    "    backstory=\"You are a dedicated AI journalist who follows the latest advancements in artificial intelligence.\",\n",
    "    llm=llm,\n",
    "    verbose=False\n",
    ")\n"
   ]
  },
  {
   "cell_type": "code",
   "execution_count": 8,
   "metadata": {},
   "outputs": [],
   "source": [
    "import os\n",
    "\n",
    "def notify_team(output):\n",
    "\n",
    "    print(f\"\"\"Task Completed!\n",
    "              Task: {output.description}\n",
    "              Output Summary: {output.summary}\"\"\")\n",
    "    \n",
    "    # Create output directory if it doesn't exist\n",
    "    os.makedirs(\"output\", exist_ok=True)\n",
    "\n",
    "    with open(\"output/latest_ai_news.txt\", \"w\") as f:\n",
    "        f.write(f\"Task: {output.description}\\n\")\n",
    "        f.write(f\"Output Summary: {output.summary}\\n\")\n",
    "        f.write(f\"Full Output: {output.raw}\\n\")\n",
    "    \n",
    "    print(\"News summary saved to latest_ai_news.txt\")"
   ]
  },
  {
   "cell_type": "code",
   "execution_count": 9,
   "metadata": {},
   "outputs": [],
   "source": [
    "from crewai import Task\n",
    "\n",
    "research_news_task = Task(\n",
    "    description=\"Find and summarize the latest AI breakthroughs from the last week.\",\n",
    "    expected_output=\"A structured summary of AI news headlines.\",\n",
    "    agent=research_agent,\n",
    "    callback=notify_team  # Calls the function after task completion\n",
    ")\n"
   ]
  },
  {
   "cell_type": "code",
   "execution_count": null,
   "metadata": {},
   "outputs": [],
   "source": [
    "from crewai import Crew\n",
    "\n",
    "ai_news_crew = Crew(\n",
    "    agents=[research_agent],\n",
    "    tasks=[research_news_task],\n",
    "    verbose=False\n",
    ")\n",
    "\n",
    "# Execute the workflow\n",
    "result = ai_news_crew.kickoff()\n"
   ]
  }
 ],
 "metadata": {
  "kernelspec": {
   "display_name": "ddods-agents",
   "language": "python",
   "name": "python3"
  },
  "language_info": {
   "codemirror_mode": {
    "name": "ipython",
    "version": 3
   },
   "file_extension": ".py",
   "mimetype": "text/x-python",
   "name": "python",
   "nbconvert_exporter": "python",
   "pygments_lexer": "ipython3",
   "version": "3.10.17"
  }
 },
 "nbformat": 4,
 "nbformat_minor": 2
}

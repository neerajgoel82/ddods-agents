{
 "cells": [
  {
   "cell_type": "code",
   "execution_count": null,
   "metadata": {},
   "outputs": [],
   "source": [
    "import os\n",
    "from dotenv import load_dotenv\n",
    "from crewai import Agent, LLM, Task, Crew, Process\n",
    "\n",
    "# Load environment variables\n",
    "load_dotenv()\n",
    "\n",
    "# Option D: Azure OpenAI\n",
    "openai_api_key = os.getenv(\"AZURE_OPENAI_API_KEY\")\n",
    "openai_endpoint = os.getenv(\"AZURE_OPENAI_ENDPOINT\")\n",
    "openai_api_version = os.getenv(\"AZURE_OPENAI_API_VERSION\")\n",
    "openai_model_name = os.getenv(\"AZURE_OPENAI_MODEL_NAME\")\n",
    "\n",
    "llm = LLM(\n",
    "    model=\"azure/gpt-4o-mini\",\n",
    "    api_key=openai_api_key,\n",
    "    base_url=openai_endpoint,\n",
    "    api_version=openai_api_version,\n",
    "    azure=True\n",
    ")\n",
    "\n",
    "print(\"🚀 Environment configured!\")\n",
    "print(f\"LLM Model: {llm.model}\")"
   ]
  },
  {
   "cell_type": "markdown",
   "metadata": {},
   "source": [
    "## Hierarchical Process"
   ]
  },
  {
   "cell_type": "code",
   "execution_count": 2,
   "metadata": {},
   "outputs": [],
   "source": [
    "\n",
    "# research a new project idea, do the research on market demand, risk, and potential return on investment.\n",
    "\n",
    "# Define the Manager AI\n",
    "manager_agent = Agent(\n",
    "    role=\"Project Research Manager\",\n",
    "    goal=\"Oversee the project research and ensure timely, high-quality responses.\",\n",
    "    backstory=\"\"\"An experienced project manager responsible for ensuring project research.\n",
    "    When delegating work, provide simple string values for task, context, and coworker.\n",
    "    Do NOT use dictionary formats - just provide plain text strings.\"\"\",\n",
    "    allow_delegation=True,\n",
    "    verbose=True,\n",
    "    llm=llm\n",
    ")\n",
    "\n",
    "# Define the Technical Support AI\n",
    "market_demand_agent = Agent(\n",
    "    role=\"Market Demand Analyst\",\n",
    "    goal=\"Write market demand content.\",\n",
    "    backstory=\"\"\"A skilled market demand analyst who\n",
    "                 writes market demand content.\"\"\",\n",
    "    allow_delegation=False, \n",
    "    verbose=True,\n",
    "    llm=llm\n",
    ")\n",
    "\n",
    "# Define the Fiction Writer AI\n",
    "risk_analysis_agent = Agent(\n",
    "    role=\"Risk Analysis Analyst\",\n",
    "    goal=\"Write risk analysis content.\",\n",
    "    backstory=\"\"\"A risk analysis analyst who\n",
    "                 writes fiction content.\"\"\",\n",
    "    allow_delegation=False, \n",
    "    verbose=True,\n",
    "    llm=llm\n",
    ")\n",
    "\n",
    "# Define the Fiction Writer AI\n",
    "return_on_investment_agent = Agent(\n",
    "    role=\"Return on Investment Analyst\",\n",
    "    goal=\"Write return on investment content.\",\n",
    "    backstory=\"\"\"A return on investment analyst who\n",
    "                writes return on investment content.\"\"\",\n",
    "    allow_delegation=False, \n",
    "    verbose=True,\n",
    "    llm=llm\n",
    ")\n"
   ]
  },
  {
   "cell_type": "code",
   "execution_count": 3,
   "metadata": {},
   "outputs": [],
   "source": [
    "from crewai import Task\n",
    "\n",
    "manager_task = Task(\n",
    "    description=\"\"\"Oversee the project research on {project_title} and ensure timely, high-quality responses.\"\"\",\n",
    "    expected_output=\"A manager-approved response ready to be sent as an article on {project_title}.\",\n",
    "    agent=manager_agent, \n",
    ")\n",
    "\n",
    "market_demand_task = Task(\n",
    "    description=\"\"\"Analyze the market demand for the project title '{project_title}'\"\"\",\n",
    "    expected_output=\"A categorized project title labeled as 'Technical' or 'Fiction'.\",\n",
    "    agent=market_demand_agent, \n",
    ")\n",
    "\n",
    "risk_analysis_task = Task(\n",
    "    description=\"\"\"Analyze the risk of the project title '{project_title}'\"\"\",\n",
    "    expected_output=\"A categorized project title labeled as 'Technical' or 'Fiction'.\",\n",
    "    agent=risk_analysis_agent, \n",
    ")\n",
    "\n",
    "return_on_investment_task = Task(\n",
    "    description=\"\"\"Analyze the return on investment of the project title '{project_title}'\"\"\",\n",
    "    expected_output=\"A categorized project title labeled as 'Technical' or 'Fiction'.\",\n",
    "    agent=return_on_investment_agent, \n",
    ")\n",
    "\n",
    "final_report_task = Task(\n",
    "    description=\"\"\"Review the final responses from the \n",
    "                   market demand, risk analysis, and return on investment agents\n",
    "                   and create a final report.\"\"\",\n",
    "    expected_output=\"\"\"A comprehensive report on the project title '{project_title}'\n",
    "    containing the market demand, risk analysis, and return on investment.\"\"\",\n",
    "    agent=manager_agent,\n",
    ")"
   ]
  },
  {
   "cell_type": "code",
   "execution_count": 4,
   "metadata": {},
   "outputs": [],
   "source": [
    "from crewai import Crew, Process\n",
    "\n",
    "project_research_crew = Crew(\n",
    "    agents=[market_demand_agent, risk_analysis_agent, return_on_investment_agent],\n",
    "    \n",
    "    tasks=[market_demand_task, risk_analysis_task, return_on_investment_task, final_report_task],\n",
    "    \n",
    "    manager_agent=manager_agent,\n",
    "    \n",
    "    process=Process.hierarchical,\n",
    "    \n",
    "    verbose=True,\n",
    ")"
   ]
  },
  {
   "cell_type": "code",
   "execution_count": null,
   "metadata": {},
   "outputs": [],
   "source": [
    "inputs = {\"project_title\": \"Multi-Agent System\"}\n",
    "\n",
    "result = project_research_crew.kickoff(inputs=inputs)"
   ]
  },
  {
   "cell_type": "code",
   "execution_count": null,
   "metadata": {},
   "outputs": [],
   "source": [
    "from IPython.display import Markdown\n",
    "Markdown(result.raw)"
   ]
  }
 ],
 "metadata": {
  "kernelspec": {
   "display_name": "ddods-agents",
   "language": "python",
   "name": "python3"
  },
  "language_info": {
   "codemirror_mode": {
    "name": "ipython",
    "version": 3
   },
   "file_extension": ".py",
   "mimetype": "text/x-python",
   "name": "python",
   "nbconvert_exporter": "python",
   "pygments_lexer": "ipython3",
   "version": "3.10.17"
  }
 },
 "nbformat": 4,
 "nbformat_minor": 2
}

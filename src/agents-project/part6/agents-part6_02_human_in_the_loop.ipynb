{
 "cells": [
  {
   "cell_type": "code",
   "execution_count": null,
   "metadata": {},
   "outputs": [],
   "source": [
    "import os\n",
    "from dotenv import load_dotenv\n",
    "from crewai import Agent, LLM, Task, Crew, Process\n",
    "\n",
    "# Load environment variables\n",
    "load_dotenv()\n",
    "\n",
    "# Option D: Azure OpenAI\n",
    "openai_api_key = os.getenv(\"AZURE_OPENAI_API_KEY\")\n",
    "openai_endpoint = os.getenv(\"AZURE_OPENAI_ENDPOINT\")\n",
    "openai_api_version = os.getenv(\"AZURE_OPENAI_API_VERSION\")\n",
    "openai_model_name = os.getenv(\"AZURE_OPENAI_MODEL_NAME\")\n",
    "\n",
    "llm = LLM(\n",
    "    model=\"azure/gpt-4o-mini\",\n",
    "    api_key=openai_api_key,\n",
    "    base_url=openai_endpoint,\n",
    "    api_version=openai_api_version,\n",
    "    azure=True\n",
    ")\n",
    "\n",
    "print(\"🚀 Environment configured!\")\n",
    "print(f\"LLM Model: {llm.model}\")"
   ]
  },
  {
   "cell_type": "markdown",
   "metadata": {},
   "source": [
    "## Human input"
   ]
  },
  {
   "cell_type": "code",
   "execution_count": 2,
   "metadata": {},
   "outputs": [],
   "source": [
    "\n",
    "# AI Researcher Agent\n",
    "researcher_agent = Agent(\n",
    "    role=\"Senior AI Researcher\",\n",
    "    goal=\"Discover and summarize the latest trends in AI and technology.\",\n",
    "    backstory=\"An expert in AI research who tracks emerging trends and their real-world applications.\",\n",
    "    verbose=True,\n",
    "    allow_delegation=False,\n",
    "    llm=llm\n",
    ")\n",
    "\n",
    "# AI Content Strategist Agent\n",
    "content_strategist_agent = Agent(\n",
    "    role=\"Tech Content Strategist\",\n",
    "    goal=\"Transform AI research insights into compelling blog content.\",\n",
    "    backstory=\"An experienced tech writer who makes AI advancements accessible to a broad audience.\",\n",
    "    verbose=True,\n",
    "    allow_delegation=True,\n",
    "    llm=llm\n",
    ")"
   ]
  },
  {
   "cell_type": "code",
   "execution_count": 3,
   "metadata": {},
   "outputs": [],
   "source": [
    "from crewai import Task\n",
    "\n",
    "# Step 1: AI Research with Human Oversight\n",
    "ai_research_task = Task(\n",
    "    description=(\n",
    "        \"Conduct a deep analysis of AI trends in 2025. Identify key innovations, breakthroughs, and market shifts. \"\n",
    "        \"Before finalizing, ask a human reviewer for feedback to refine the report.\"\n",
    "    ),\n",
    "    expected_output=\"A structured research summary covering AI advancements in 2025.\",\n",
    "    agent=researcher_agent,\n",
    "    human_input=True  # Requires human validation before finalizing the answer\n",
    ")\n",
    "\n",
    "# Step 2: AI-Generated Blog Post with Human Review\n",
    "blog_post_task = Task(\n",
    "    description=(\n",
    "        \"Using insights from the AI Researcher, create an engaging blog post summarizing key AI advancements. \"\n",
    "        \"Ensure the post is informative and accessible. Before finalizing, ask a human reviewer for approval.\"\n",
    "    ),\n",
    "    expected_output=\"A well-structured blog post about AI trends in 2025.\",\n",
    "    agent=content_strategist_agent,\n",
    "    human_input=True  # Requires human approval before publishing\n",
    ")"
   ]
  },
  {
   "cell_type": "code",
   "execution_count": 4,
   "metadata": {},
   "outputs": [],
   "source": [
    "from crewai import Crew\n",
    "\n",
    "ai_research_crew = Crew(\n",
    "    agents=[researcher_agent, content_strategist_agent],  \n",
    "    tasks=[ai_research_task, blog_post_task],  \n",
    "    verbose=True,  \n",
    ")\n"
   ]
  },
  {
   "cell_type": "code",
   "execution_count": null,
   "metadata": {},
   "outputs": [],
   "source": [
    "# Execute the workflow\n",
    "result = ai_research_crew.kickoff()\n",
    "\n",
    "# Display the final validated research output\n",
    "print(\"\\n=== Final AI Research Report ===\")\n",
    "print(result.raw)\n"
   ]
  },
  {
   "cell_type": "code",
   "execution_count": null,
   "metadata": {},
   "outputs": [],
   "source": [
    "from IPython.display import Markdown\n",
    "Markdown(result.raw)"
   ]
  }
 ],
 "metadata": {
  "kernelspec": {
   "display_name": "ddods-agents",
   "language": "python",
   "name": "python3"
  },
  "language_info": {
   "codemirror_mode": {
    "name": "ipython",
    "version": 3
   },
   "file_extension": ".py",
   "mimetype": "text/x-python",
   "name": "python",
   "nbconvert_exporter": "python",
   "pygments_lexer": "ipython3",
   "version": "3.10.17"
  }
 },
 "nbformat": 4,
 "nbformat_minor": 2
}

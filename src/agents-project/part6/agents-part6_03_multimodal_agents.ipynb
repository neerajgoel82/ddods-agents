{
 "cells": [
  {
   "cell_type": "code",
   "execution_count": null,
   "metadata": {},
   "outputs": [],
   "source": [
    "import os\n",
    "from dotenv import load_dotenv\n",
    "from crewai import Agent, LLM, Task, Crew, Process\n",
    "\n",
    "# Load environment variables\n",
    "load_dotenv()\n",
    "\n",
    "# Option D: Azure OpenAI\n",
    "openai_api_key = os.getenv(\"AZURE_OPENAI_API_KEY\")\n",
    "openai_endpoint = os.getenv(\"AZURE_OPENAI_ENDPOINT\")\n",
    "openai_api_version = os.getenv(\"AZURE_OPENAI_API_VERSION\")\n",
    "openai_model_name = os.getenv(\"AZURE_OPENAI_MODEL_NAME\")\n",
    "\n",
    "llm = LLM(\n",
    "    model=\"azure/gpt-4o-mini\",\n",
    "    api_key=openai_api_key,\n",
    "    base_url=openai_endpoint,\n",
    "    api_version=openai_api_version,\n",
    "    azure=True\n",
    ")\n",
    "\n",
    "print(\"🚀 Environment configured!\")\n",
    "print(f\"LLM Model: {llm.model}\")"
   ]
  },
  {
   "cell_type": "markdown",
   "metadata": {},
   "source": [
    "## Multimodal Agents"
   ]
  },
  {
   "cell_type": "code",
   "execution_count": 2,
   "metadata": {},
   "outputs": [],
   "source": [
    "# Define a Multimodal Agent for Product Quality Inspection\n",
    "quality_inspector = Agent(\n",
    "    role=\"Product Quality Inspector\",\n",
    "    goal=\"Analyze and assess the quality of product images\",\n",
    "    backstory=\"An experienced manufacturing quality control expert who specializes in detecting defects and ensuring compliance.\",\n",
    "    multimodal=True,  # Enables multimodal capabilities\n",
    "    verbose=True,\n",
    "    llm=llm\n",
    ")"
   ]
  },
  {
   "cell_type": "code",
   "execution_count": 3,
   "metadata": {},
   "outputs": [],
   "source": [
    "from crewai import Task\n",
    "\n",
    "# Define a Task for Product Image Inspection\n",
    "inspection_task = Task(\n",
    "    description=\"\"\"\n",
    "    Inspect the product image at {image_url}.\n",
    "    Identify any visible defects such as scratches, dents, misalignment, or color inconsistencies.\n",
    "    Provide a structured quality assessment report.\n",
    "    \"\"\",\n",
    "    expected_output=\"A detailed report highlighting detected issues and overall quality score.\",\n",
    "    agent=quality_inspector\n",
    ")\n"
   ]
  },
  {
   "cell_type": "code",
   "execution_count": null,
   "metadata": {},
   "outputs": [],
   "source": [
    "from crewai import Crew\n",
    "\n",
    "# Create a Crew with the Multimodal Agent\n",
    "quality_inspection_crew = Crew(\n",
    "    agents=[quality_inspector],  # Single agent for inspection\n",
    "    tasks=[inspection_task],  # Task to analyze product images\n",
    "    verbose=True\n",
    ")\n",
    "\n",
    "image_url = \"https://s.marketwatch.com/public/resources/images/MW-HT101_nerd_d_ZG_20191010165334.jpg\"\n",
    "# Run the workflow\n",
    "result = quality_inspection_crew.kickoff(inputs={\"image_url\": image_url})\n",
    "\n",
    "# Display the final inspection report\n",
    "print(\"\\n=== Final Product Quality Report ===\")\n",
    "print(result.raw)"
   ]
  },
  {
   "cell_type": "code",
   "execution_count": null,
   "metadata": {},
   "outputs": [],
   "source": [
    "from IPython.display import Markdown\n",
    "Markdown(result.raw)"
   ]
  },
  {
   "cell_type": "markdown",
   "metadata": {},
   "source": [
    "### NG: Note on the output\n",
    "The output seems to wrong and the rationale seems to be that  gpt-4o-mini did not process the image properly. The intent of the tutorial was to show how to use multimodal models in CrewAI which is demonstrated here. Since, the objective is to not to improve the quality of the output, time was not spent to optimize the result quality by replacing the model."
   ]
  },
  {
   "cell_type": "markdown",
   "metadata": {},
   "source": []
  }
 ],
 "metadata": {
  "kernelspec": {
   "display_name": "ddods-agents",
   "language": "python",
   "name": "python3"
  },
  "language_info": {
   "codemirror_mode": {
    "name": "ipython",
    "version": 3
   },
   "file_extension": ".py",
   "mimetype": "text/x-python",
   "name": "python",
   "nbconvert_exporter": "python",
   "pygments_lexer": "ipython3",
   "version": "3.10.17"
  }
 },
 "nbformat": 4,
 "nbformat_minor": 2
}

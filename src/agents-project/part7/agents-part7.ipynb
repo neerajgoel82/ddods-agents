{
 "cells": [
  {
   "cell_type": "markdown",
   "metadata": {},
   "source": [
    "## String knowledge source"
   ]
  },
  {
   "cell_type": "code",
   "execution_count": 3,
   "metadata": {},
   "outputs": [],
   "source": [
    "from crewai.knowledge.source.string_knowledge_source import StringKnowledgeSource\n",
    "\n",
    "# Define the knowledge\n",
    "policy_text = \"\"\"Our return policy allows customers to return any product within 30 days of purchase.\n",
    "                 Refunds will be issued only if the item is unused and in original packaging.\n",
    "                 Customers must provide proof of purchase when requesting a return.\"\"\"\n",
    "\n",
    "# Create a StringKnowledgeSource object\n",
    "return_policy_knowledge = StringKnowledgeSource(content=policy_text)\n"
   ]
  },
  {
   "cell_type": "code",
   "execution_count": null,
   "metadata": {},
   "outputs": [],
   "source": [
    "import os\n",
    "from dotenv import load_dotenv\n",
    "from crewai import Agent, LLM, Task, Crew, Process\n",
    "\n",
    "# Load environment variables\n",
    "load_dotenv()\n",
    "\n",
    "# Option D: Azure OpenAI\n",
    "openai_api_key = os.getenv(\"AZURE_OPENAI_API_KEY\")\n",
    "openai_endpoint = os.getenv(\"AZURE_OPENAI_ENDPOINT\")\n",
    "openai_api_version = os.getenv(\"AZURE_OPENAI_API_VERSION\")\n",
    "openai_model_name = os.getenv(\"AZURE_OPENAI_MODEL_NAME\")\n",
    "\n",
    "llm = LLM(\n",
    "    model=\"azure/gpt-4o-mini\",\n",
    "    api_key=openai_api_key,\n",
    "    base_url=openai_endpoint,\n",
    "    api_version=openai_api_version,\n",
    "    azure=True\n",
    ")\n",
    "\n",
    "print(\"🚀 Environment configured!\")\n",
    "print(f\"LLM Model: {llm.model}\")"
   ]
  },
  {
   "cell_type": "code",
   "execution_count": 5,
   "metadata": {},
   "outputs": [],
   "source": [
    "from crewai import Agent\n",
    "\n",
    "returns_agent = Agent(\n",
    "    role=\"Product Returns Assistant\",\n",
    "    goal=\"Answer customer questions about return policy accurately.\",\n",
    "    backstory=\"You work in customer service and specialize in returns, refunds, and policies.\",\n",
    "    allow_delegation=False,\n",
    "    verbose=True,\n",
    "    llm=llm\n",
    ")\n"
   ]
  },
  {
   "cell_type": "code",
   "execution_count": 6,
   "metadata": {},
   "outputs": [],
   "source": [
    "from crewai import Task\n",
    "\n",
    "returns_task = Task(\n",
    "    description=\"Answer the following customer question about returns: {question}\",\n",
    "    expected_output=\"A concise and accurate answer.\",\n",
    "    agent=returns_agent\n",
    ")\n"
   ]
  },
  {
   "cell_type": "code",
   "execution_count": null,
   "metadata": {},
   "outputs": [],
   "source": [
    "from crewai import Crew, Process\n",
    "\n",
    "crew = Crew(\n",
    "    agents=[returns_agent],\n",
    "    tasks=[returns_task],\n",
    "    process=Process.sequential,\n",
    "    knowledge_sources=[return_policy_knowledge],  # This is key\n",
    "    verbose=True\n",
    ")\n"
   ]
  },
  {
   "cell_type": "code",
   "execution_count": null,
   "metadata": {},
   "outputs": [],
   "source": [
    "result = crew.kickoff(inputs={\n",
    "    \"question\": \"Can I get a refund if I used the item once?\"\n",
    "})\n",
    "\n",
    "from pprint import pprint\n",
    "pprint(result.raw)"
   ]
  },
  {
   "cell_type": "markdown",
   "metadata": {},
   "source": [
    "## Text Knowledge Source"
   ]
  },
  {
   "cell_type": "code",
   "execution_count": 9,
   "metadata": {},
   "outputs": [],
   "source": [
    "from crewai.knowledge.source.text_file_knowledge_source import TextFileKnowledgeSource\n",
    "\n",
    "text_source = TextFileKnowledgeSource(\n",
    "    file_paths=[\"hr_policy.txt\"]\n",
    ")"
   ]
  },
  {
   "cell_type": "code",
   "execution_count": 10,
   "metadata": {},
   "outputs": [],
   "source": [
    "from crewai import Agent, Task, Crew, Process, LLM\n",
    "\n",
    "llm = LLM(model=\"gpt-4o\")\n",
    "\n",
    "hr_agent = Agent(\n",
    "    role=\"HR Policy Assistant\",\n",
    "    goal=\"Answer employee questions about HR policies.\",\n",
    "    backstory=\"You're a reliable HR knowledge assistant.\",\n",
    "    knowledge_sources=[text_source],\n",
    "    llm=llm\n",
    ")\n",
    "\n",
    "task = Task(\n",
    "    description=\"What is the leave policy for new employees?\",\n",
    "    expected_output=\"A clear summary of the leave policy.\",\n",
    "    agent=hr_agent\n",
    ")\n"
   ]
  },
  {
   "cell_type": "code",
   "execution_count": null,
   "metadata": {},
   "outputs": [],
   "source": [
    "crew = Crew(\n",
    "    agents=[hr_agent],\n",
    "    tasks=[task],\n",
    "    process=Process.sequential,\n",
    "    verbose=True\n",
    ")\n",
    "\n",
    "result = crew.kickoff()\n",
    "pprint(result.raw)\n"
   ]
  },
  {
   "cell_type": "markdown",
   "metadata": {},
   "source": [
    "## PDF source"
   ]
  },
  {
   "cell_type": "code",
   "execution_count": 32,
   "metadata": {},
   "outputs": [],
   "source": [
    "from crewai.knowledge.source.pdf_knowledge_source import PDFKnowledgeSource\n",
    "\n",
    "pdf_source = PDFKnowledgeSource(\n",
    "    file_paths=[\"meeting_notes.pdf\"]\n",
    ")"
   ]
  },
  {
   "cell_type": "code",
   "execution_count": 33,
   "metadata": {},
   "outputs": [],
   "source": [
    "meeting_summarizer = Agent(\n",
    "    role=\"Meeting Note Summarizer\",\n",
    "    goal=\"Provide concise summaries of weekly meetings.\",\n",
    "    backstory=\"You help the team stay updated on discussions.\",\n",
    "    knowledge_sources=[pdf_source],\n",
    "    llm=llm\n",
    ")\n",
    "\n",
    "task = Task(\n",
    "    description=\"Summarize the key action items from last week's meeting.\",\n",
    "    expected_output=\"A bullet-point list of action items.\",\n",
    "    agent=meeting_summarizer\n",
    ")\n"
   ]
  },
  {
   "cell_type": "code",
   "execution_count": null,
   "metadata": {},
   "outputs": [],
   "source": [
    "crew = Crew(\n",
    "    agents=[meeting_summarizer],\n",
    "    tasks=[task],\n",
    "    process=Process.sequential,\n",
    "    verbose=True\n",
    ")\n",
    "\n",
    "result = crew.kickoff()\n",
    "pprint(result.raw)\n"
   ]
  },
  {
   "cell_type": "markdown",
   "metadata": {},
   "source": [
    "## CSV source"
   ]
  },
  {
   "cell_type": "code",
   "execution_count": 35,
   "metadata": {},
   "outputs": [],
   "source": [
    "from crewai.knowledge.source.csv_knowledge_source import CSVKnowledgeSource\n",
    "\n",
    "csv_source = CSVKnowledgeSource(\n",
    "    file_paths=[\"feedback.csv\"]\n",
    ")"
   ]
  },
  {
   "cell_type": "code",
   "execution_count": 36,
   "metadata": {},
   "outputs": [],
   "source": [
    "feedback_analyst = Agent(\n",
    "    role=\"User Feedback Analyst\",\n",
    "    goal=\"Identify common themes in user feedback.\",\n",
    "    backstory=\"You specialize in converting raw feedback into insights.\",\n",
    "    knowledge_sources=[csv_source],\n",
    "    llm=llm\n",
    ")\n",
    "\n",
    "task = Task(\n",
    "    description=\"What are the three most common complaints users had last month?\",\n",
    "    expected_output=\"A short list of recurring issues.\",\n",
    "    agent=feedback_analyst\n",
    ")"
   ]
  },
  {
   "cell_type": "code",
   "execution_count": null,
   "metadata": {},
   "outputs": [],
   "source": [
    "crew = Crew(\n",
    "    agents=[feedback_analyst],\n",
    "    tasks=[task],\n",
    "    process=Process.sequential,\n",
    "    verbose=True\n",
    ")\n",
    "\n",
    "result = crew.kickoff()\n",
    "pprint(result.raw)\n"
   ]
  },
  {
   "cell_type": "markdown",
   "metadata": {},
   "source": [
    "## JSON source"
   ]
  },
  {
   "cell_type": "code",
   "execution_count": 11,
   "metadata": {},
   "outputs": [],
   "source": [
    "from crewai.knowledge.source.json_knowledge_source import JSONKnowledgeSource\n",
    "\n",
    "json_source = JSONKnowledgeSource(\n",
    "    file_paths=[\"company_info.json\"]\n",
    ")"
   ]
  },
  {
   "cell_type": "code",
   "execution_count": null,
   "metadata": {},
   "outputs": [],
   "source": [
    "company_expert = Agent(\n",
    "    role=\"Company Info Specialist\",\n",
    "    goal=\"Answer questions about company structure and data.\",\n",
    "    backstory=\"You are an internal data assistant for org-level queries.\",\n",
    "    # knowledge_sources=[json_source],\n",
    "    llm=llm\n",
    ")\n",
    "\n",
    "task = Task(\n",
    "    description=\"How many teams are working on the product and what are their names?\",\n",
    "    expected_output=\"A list of team names and their sizes.\",\n",
    "    agent=company_expert\n",
    ")\n"
   ]
  },
  {
   "cell_type": "code",
   "execution_count": null,
   "metadata": {},
   "outputs": [],
   "source": [
    "crew = Crew(\n",
    "    agents=[company_expert],\n",
    "    tasks=[task],\n",
    "    process=Process.sequential,\n",
    "    verbose=True,\n",
    "    knowledge_sources=[json_source]\n",
    ")\n",
    "\n",
    "result = crew.kickoff()\n",
    "print(result)\n"
   ]
  },
  {
   "cell_type": "markdown",
   "metadata": {},
   "source": [
    "## Custom embedding model"
   ]
  },
  {
   "cell_type": "code",
   "execution_count": 1,
   "metadata": {},
   "outputs": [],
   "source": [
    "ollama_embedder = {\n",
    "    \"provider\": \"ollama\",\n",
    "    \"config\": {\n",
    "        \"model\": \"nomic-embed-text\",  # Must match or be compatible with Ollama's supported embedding models\n",
    "        \"api_url\": \"http://localhost:11434\"\n",
    "    }\n",
    "}"
   ]
  },
  {
   "cell_type": "code",
   "execution_count": 2,
   "metadata": {},
   "outputs": [],
   "source": [
    "from crewai.knowledge.source.string_knowledge_source import StringKnowledgeSource\n",
    "\n",
    "# Internal onboarding FAQ\n",
    "faq_content = \"\"\"\n",
    "- You can access your email via portal.company.com using your employee credentials.\n",
    "- The standard work hours are from 9am to 6pm, Monday to Friday.\n",
    "- All reimbursement requests must be submitted by the 5th of the following month.\n",
    "- For any IT-related issues, contact support@company.com.\n",
    "\"\"\"\n",
    "\n",
    "# Create a string knowledge source\n",
    "faq_knowledge = StringKnowledgeSource(content=faq_content, embedder=ollama_embedder)\n"
   ]
  },
  {
   "cell_type": "code",
   "execution_count": 3,
   "metadata": {},
   "outputs": [],
   "source": [
    "from crewai import Agent\n",
    "\n",
    "hr_faq_agent = Agent(\n",
    "    role=\"HR Assistant\",\n",
    "    goal=\"Answer onboarding-related questions for new hires.\",\n",
    "    backstory=\"You are a helpful assistant who knows everything about internal policies and onboarding processes.\",\n",
    "    allow_delegation=False,\n",
    "    verbose=True,\n",
    "    embedder=ollama_embedder\n",
    ")\n"
   ]
  },
  {
   "cell_type": "code",
   "execution_count": 4,
   "metadata": {},
   "outputs": [],
   "source": [
    "from crewai import Task\n",
    "\n",
    "task = Task(\n",
    "    description=\"Answer this onboarding question: {question}\",\n",
    "    expected_output=\"A short, accurate answer based on internal HR documentation.\",\n",
    "    agent=hr_faq_agent,\n",
    "    embedder=ollama_embedder\n",
    ")\n"
   ]
  },
  {
   "cell_type": "code",
   "execution_count": null,
   "metadata": {},
   "outputs": [],
   "source": [
    "from crewai import Crew, Process\n",
    "\n",
    "crew = Crew(\n",
    "    agents=[hr_faq_agent],\n",
    "    tasks=[task],\n",
    "    knowledge_sources=[faq_knowledge],\n",
    "    embedder=ollama_embedder,\n",
    "    process=Process.sequential,\n",
    "    verbose=True\n",
    ")\n",
    "\n",
    "result = crew.kickoff(inputs={\n",
    "    \"question\": \"What are the working hours and how do I get reimbursed?\"\n",
    "})\n",
    "\n",
    "from pprint import pprint\n",
    "pprint(result.raw)\n"
   ]
  },
  {
   "cell_type": "markdown",
   "metadata": {},
   "source": [
    "# Custom knowledge source"
   ]
  },
  {
   "cell_type": "code",
   "execution_count": 16,
   "metadata": {},
   "outputs": [],
   "source": [
    "from crewai.knowledge.source.base_knowledge_source import BaseKnowledgeSource\n",
    "from typing import Dict, Any\n",
    "from pydantic import Field\n",
    "import requests\n",
    "\n",
    "class WeatherKnowledgeSource(BaseKnowledgeSource):\n",
    "    \"\"\"Knowledge source that fetches weather data from an external API.\"\"\"\n",
    "\n",
    "    city: str = Field(description=\"City for which weather should be fetched\")\n",
    "\n",
    "    def load_content(self) -> Dict[Any, str]:\n",
    "        try:\n",
    "            print(f\"Fetching weather for {self.city}...\")\n",
    "\n",
    "            # Open-Meteo API (no key needed for basic data)\n",
    "            endpoint = \"https://api.open-meteo.com/v1/forecast\"\n",
    "            params = {\n",
    "                \"latitude\": 37.77,  # San Francisco by default\n",
    "                \"longitude\": -122.42,\n",
    "                \"current_weather\": True\n",
    "            }\n",
    "\n",
    "            response = requests.get(endpoint, params=params)\n",
    "            response.raise_for_status()\n",
    "\n",
    "            weather_data = response.json().get(\"current_weather\", {})\n",
    "            formatted = self.validate_content(weather_data)\n",
    "            return {self.city: formatted}\n",
    "\n",
    "        except Exception as e:\n",
    "            raise ValueError(f\"Failed to fetch weather data: {str(e)}\")\n",
    "\n",
    "    def validate_content(self, data: dict) -> str:\n",
    "        if not data:\n",
    "            return \"No weather data available.\"\n",
    "\n",
    "        return (\n",
    "            f\"Current weather in {self.city}:\\n\"\n",
    "            f\"- Temperature: {data.get('temperature')}°C\\n\"\n",
    "            f\"- Wind Speed: {data.get('windspeed')} km/h\\n\"\n",
    "            f\"- Weather Code: {data.get('weathercode')}\\n\"\n",
    "            f\"- Time: {data.get('time')}\"\n",
    "        )\n",
    "\n",
    "    def add(self) -> None:\n",
    "        \"\"\"Process and chunk the content.\"\"\"\n",
    "        content = self.load_content()\n",
    "        for _, text in content.items():\n",
    "            chunks = self._chunk_text(text)\n",
    "            self.chunks.extend(chunks)\n",
    "        self._save_documents()\n"
   ]
  },
  {
   "cell_type": "code",
   "execution_count": null,
   "metadata": {},
   "outputs": [],
   "source": [
    "from crewai import Agent, LLM\n",
    "\n",
    "weather_knowledge = WeatherKnowledgeSource(city=\"San Francisco\")\n",
    "\n",
    "weather_agent = Agent(\n",
    "    role=\"Weather Reporter\",\n",
    "    goal=\"Answer questions about the current weather forecast.\",\n",
    "    backstory=\"You are a friendly meteorologist who provides real-time weather updates.\",\n",
    "    knowledge_sources=[weather_knowledge],\n",
    "    llm=LLM(model=\"gpt-4o\", temperature=0.0),\n",
    "    verbose=True\n",
    ")\n"
   ]
  },
  {
   "cell_type": "code",
   "execution_count": null,
   "metadata": {},
   "outputs": [],
   "source": [
    "from crewai import Task, Crew, Process\n",
    "\n",
    "task = Task(\n",
    "    description=\"What is the current temperature and wind speed in San Francisco?\",\n",
    "    expected_output=\"A concise weather summary for San Francisco.\",\n",
    "    agent=weather_agent\n",
    ")\n",
    "\n",
    "crew = Crew(\n",
    "    agents=[weather_agent],\n",
    "    tasks=[task],\n",
    "    process=Process.sequential,\n",
    "    verbose=True\n",
    ")\n"
   ]
  },
  {
   "cell_type": "code",
   "execution_count": null,
   "metadata": {},
   "outputs": [],
   "source": [
    "result = crew.kickoff()\n",
    "print(result)\n"
   ]
  }
 ],
 "metadata": {
  "kernelspec": {
   "display_name": "ddods-agents",
   "language": "python",
   "name": "python3"
  },
  "language_info": {
   "codemirror_mode": {
    "name": "ipython",
    "version": 3
   },
   "file_extension": ".py",
   "mimetype": "text/x-python",
   "name": "python",
   "nbconvert_exporter": "python",
   "pygments_lexer": "ipython3",
   "version": "3.10.17"
  }
 },
 "nbformat": 4,
 "nbformat_minor": 2
}
